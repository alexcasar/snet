{
 "cells": [
  {
   "cell_type": "code",
   "execution_count": 1,
   "metadata": {},
   "outputs": [
    {
     "name": "stdout",
     "output_type": "stream",
     "text": [
      "/home/obaskov\n",
      "/home/obaskov/tests/test-data/parses/AGI-2018-paper-data-2018-04-22/POC-English-NoAmb-LEFT-WALL+period\n",
      "/home/obaskov/tests/test-data/corpora/poc-english/poc_english_noamb.txt\n",
      "/home/obaskov/tests/test-data/dict/poc-turtle\n",
      "/home/obaskov/tests/test-data/dict\n",
      "/home/obaskov/output/poc-english-noAmb-2018-07-05\n",
      "/home/obaskov/tests/test-data/corpora/poc-english/poc_english_noamb_parse_ideal.txt\n"
     ]
    }
   ],
   "source": [
    "from ull.common import handle_path_string\n",
    "from ull.grammartest import test_grammar\n",
    "from ull.grammartest.optconst import *\n",
    "import os\n",
    "print(os.environ['PWD'])\n",
    "\n",
    "dict_path = handle_path_string(\"tests/test-data/parses/AGI-2018-paper-data-2018-04-22/POC-English-NoAmb-LEFT-WALL+period\")\n",
    "#dict_path = handle_path_string(\"tests/test-data/parses/poc-english-mst\")\n",
    "corpus_path = handle_path_string(\"tests/test-data/corpora/poc-english/poc_english_noamb.txt\")\n",
    "template_path = handle_path_string(\"tests/test-data/dict/poc-turtle\")\n",
    "grammar_path = handle_path_string(\"tests/test-data/dict\")\n",
    "#output_path = handle_path_string(\"tests/test-data/parses/AGI-2018-paper-data-2018-04-22/POC-English-NoAmb-LEFT-WALL+period\")\n",
    "output_path = handle_path_string(\"output/poc-english-noAmb-2018-07-05\")\n",
    "reference_path = handle_path_string(\"tests/test-data/corpora/poc-english/poc_english_noamb_parse_ideal.txt\")\n",
    "#reference_path = handle_path_string(\"tests/test-data/corpora/poc-english/poc-english_noAmb-parses-gold\")\n",
    "\n",
    "print(dict_path, corpus_path, template_path, grammar_path, output_path, reference_path, sep=\"\\n\")\n",
    "\n",
    "linkage_limit = 100\n",
    "options = BIT_SEP_STAT | BIT_LG_EXE | BIT_NO_LWALL | BIT_NO_PERIOD | BIT_STRIP | BIT_RM_DIR | BIT_DPATH_CREATE | BIT_LOC_LANG | BIT_PARSE_QUALITY #| BIT_ULL_IN #| BIT_OUTPUT_DIAGRAM #| BIT_SEP_STAT"
   ]
  },
  {
   "cell_type": "code",
   "execution_count": 2,
   "metadata": {},
   "outputs": [
    {
     "ename": "GrammarTestError",
     "evalue": "GrammarTestError: path '/home/obaskov/tests/test-data/corpora/poc-english/poc_english_noamb.txt' does not exist.",
     "output_type": "error",
     "traceback": [
      "\u001b[0;31m---------------------------------------------------------------------------\u001b[0m",
      "\u001b[0;31mGrammarTestError\u001b[0m                          Traceback (most recent call last)",
      "\u001b[0;32m<ipython-input-2-3595c825043a>\u001b[0m in \u001b[0;36m<module>\u001b[0;34m()\u001b[0m\n\u001b[0;32m----> 1\u001b[0;31m \u001b[0mpa\u001b[0m\u001b[0;34m,\u001b[0m \u001b[0mpq\u001b[0m\u001b[0;34m,\u001b[0m \u001b[0mpqa\u001b[0m \u001b[0;34m=\u001b[0m \u001b[0mtest_grammar\u001b[0m\u001b[0;34m(\u001b[0m\u001b[0mcorpus_path\u001b[0m\u001b[0;34m,\u001b[0m \u001b[0moutput_path\u001b[0m\u001b[0;34m,\u001b[0m \u001b[0mdict_path\u001b[0m\u001b[0;34m,\u001b[0m \u001b[0mgrammar_path\u001b[0m\u001b[0;34m,\u001b[0m \u001b[0mtemplate_path\u001b[0m\u001b[0;34m,\u001b[0m \u001b[0mlinkage_limit\u001b[0m\u001b[0;34m,\u001b[0m \u001b[0moptions\u001b[0m\u001b[0;34m,\u001b[0m \u001b[0mreference_path\u001b[0m\u001b[0;34m)\u001b[0m\u001b[0;34m\u001b[0m\u001b[0m\n\u001b[0m",
      "\u001b[0;32m~/miniconda3/envs/ull/lib/python3.6/site-packages/ull/grammartest/grammartester.py\u001b[0m in \u001b[0;36mtest_grammar\u001b[0;34m(corpus_path, output_path, dict_path, grammar_path, template_path, linkage_limit, options, reference_path)\u001b[0m\n\u001b[1;32m    326\u001b[0m     \u001b[0mgt\u001b[0m \u001b[0;34m=\u001b[0m \u001b[0mGrammarTester\u001b[0m\u001b[0;34m(\u001b[0m\u001b[0mgrammar_path\u001b[0m\u001b[0;34m,\u001b[0m \u001b[0mtemplate_path\u001b[0m\u001b[0;34m,\u001b[0m \u001b[0mlinkage_limit\u001b[0m\u001b[0;34m,\u001b[0m \u001b[0mparser\u001b[0m\u001b[0;34m)\u001b[0m\u001b[0;34m\u001b[0m\u001b[0m\n\u001b[1;32m    327\u001b[0m \u001b[0;34m\u001b[0m\u001b[0m\n\u001b[0;32m--> 328\u001b[0;31m     \u001b[0mpm\u001b[0m\u001b[0;34m,\u001b[0m \u001b[0mpq\u001b[0m \u001b[0;34m=\u001b[0m \u001b[0mgt\u001b[0m\u001b[0;34m.\u001b[0m\u001b[0mtest\u001b[0m\u001b[0;34m(\u001b[0m\u001b[0mdict_path\u001b[0m\u001b[0;34m,\u001b[0m \u001b[0mcorpus_path\u001b[0m\u001b[0;34m,\u001b[0m \u001b[0moutput_path\u001b[0m\u001b[0;34m,\u001b[0m \u001b[0mreference_path\u001b[0m\u001b[0;34m,\u001b[0m \u001b[0moptions\u001b[0m\u001b[0;34m)\u001b[0m\u001b[0;34m\u001b[0m\u001b[0m\n\u001b[0m\u001b[1;32m    329\u001b[0m \u001b[0;34m\u001b[0m\u001b[0m\n\u001b[1;32m    330\u001b[0m     \u001b[0;32mreturn\u001b[0m \u001b[0mpm\u001b[0m\u001b[0;34m.\u001b[0m\u001b[0mparseability\u001b[0m\u001b[0;34m(\u001b[0m\u001b[0mpm\u001b[0m\u001b[0;34m)\u001b[0m\u001b[0;34m,\u001b[0m \u001b[0mpq\u001b[0m\u001b[0;34m.\u001b[0m\u001b[0mparse_quality\u001b[0m\u001b[0;34m(\u001b[0m\u001b[0mpq\u001b[0m\u001b[0;34m)\u001b[0m\u001b[0;34m,\u001b[0m \u001b[0mPQA\u001b[0m\u001b[0;34m(\u001b[0m\u001b[0mpm\u001b[0m\u001b[0;34m,\u001b[0m \u001b[0mpq\u001b[0m\u001b[0;34m)\u001b[0m\u001b[0;34m\u001b[0m\u001b[0m\n",
      "\u001b[0;32m~/miniconda3/envs/ull/lib/python3.6/site-packages/ull/grammartest/grammartester.py\u001b[0m in \u001b[0;36mtest\u001b[0;34m(self, dict_path, corpus_path, output_path, reference_path, options)\u001b[0m\n\u001b[1;32m    258\u001b[0m \u001b[0;34m\u001b[0m\u001b[0m\n\u001b[1;32m    259\u001b[0m         \u001b[0;32mif\u001b[0m \u001b[0;32mnot\u001b[0m \u001b[0;34m(\u001b[0m\u001b[0mos\u001b[0m\u001b[0;34m.\u001b[0m\u001b[0mpath\u001b[0m\u001b[0;34m.\u001b[0m\u001b[0misfile\u001b[0m\u001b[0;34m(\u001b[0m\u001b[0mcorpus_path\u001b[0m\u001b[0;34m)\u001b[0m \u001b[0;32mor\u001b[0m \u001b[0mos\u001b[0m\u001b[0;34m.\u001b[0m\u001b[0mpath\u001b[0m\u001b[0;34m.\u001b[0m\u001b[0misdir\u001b[0m\u001b[0;34m(\u001b[0m\u001b[0mcorpus_path\u001b[0m\u001b[0;34m)\u001b[0m\u001b[0;34m)\u001b[0m\u001b[0;34m:\u001b[0m\u001b[0;34m\u001b[0m\u001b[0m\n\u001b[0;32m--> 260\u001b[0;31m             \u001b[0;32mraise\u001b[0m \u001b[0mGrammarTestError\u001b[0m\u001b[0;34m(\u001b[0m\u001b[0;34m\"GrammarTestError: path '\"\u001b[0m \u001b[0;34m+\u001b[0m \u001b[0mcorpus_path\u001b[0m \u001b[0;34m+\u001b[0m \u001b[0;34m\"' does not exist.\"\u001b[0m\u001b[0;34m)\u001b[0m\u001b[0;34m\u001b[0m\u001b[0m\n\u001b[0m\u001b[1;32m    261\u001b[0m \u001b[0;34m\u001b[0m\u001b[0m\n\u001b[1;32m    262\u001b[0m         \u001b[0;32mif\u001b[0m \u001b[0;32mnot\u001b[0m \u001b[0mos\u001b[0m\u001b[0;34m.\u001b[0m\u001b[0mpath\u001b[0m\u001b[0;34m.\u001b[0m\u001b[0misdir\u001b[0m\u001b[0;34m(\u001b[0m\u001b[0moutput_path\u001b[0m\u001b[0;34m)\u001b[0m\u001b[0;34m:\u001b[0m\u001b[0;34m\u001b[0m\u001b[0m\n",
      "\u001b[0;31mGrammarTestError\u001b[0m: GrammarTestError: path '/home/obaskov/tests/test-data/corpora/poc-english/poc_english_noamb.txt' does not exist."
     ]
    }
   ],
   "source": [
    "pa, pq, pqa = test_grammar(corpus_path, output_path, dict_path, grammar_path, template_path, linkage_limit, options, reference_path) "
   ]
  },
  {
   "cell_type": "code",
   "execution_count": 3,
   "metadata": {},
   "outputs": [
    {
     "ename": "NameError",
     "evalue": "name 'pa' is not defined",
     "output_type": "error",
     "traceback": [
      "\u001b[0;31m---------------------------------------------------------------------------\u001b[0m",
      "\u001b[0;31mNameError\u001b[0m                                 Traceback (most recent call last)",
      "\u001b[0;32m<ipython-input-3-4871d3b51d1f>\u001b[0m in \u001b[0;36m<module>\u001b[0;34m()\u001b[0m\n\u001b[1;32m      1\u001b[0m \u001b[0;31m#print(pa, pq, pqa)\u001b[0m\u001b[0;34m\u001b[0m\u001b[0;34m\u001b[0m\u001b[0m\n\u001b[0;32m----> 2\u001b[0;31m \u001b[0mprint\u001b[0m\u001b[0;34m(\u001b[0m\u001b[0;34m\"Parse ability: {0:5.2f}%\\tParse quality: {1:5.2f}%\\tPQA: {2:5.2f}%\"\u001b[0m\u001b[0;34m.\u001b[0m\u001b[0mformat\u001b[0m\u001b[0;34m(\u001b[0m\u001b[0mpa\u001b[0m\u001b[0;34m,\u001b[0m \u001b[0mpq\u001b[0m\u001b[0;34m,\u001b[0m \u001b[0mpqa\u001b[0m\u001b[0;34m)\u001b[0m\u001b[0;34m)\u001b[0m\u001b[0;34m\u001b[0m\u001b[0m\n\u001b[0m",
      "\u001b[0;31mNameError\u001b[0m: name 'pa' is not defined"
     ]
    }
   ],
   "source": [
    "#print(pa, pq, pqa)\n",
    "print(\"Parse ability: {0:5.2f}%\\tParse quality: {1:5.2f}%\\tPQA: {2:5.2f}%\".format(pa, pq, pqa))"
   ]
  },
  {
   "cell_type": "code",
   "execution_count": 4,
   "metadata": {},
   "outputs": [
    {
     "name": "stdout",
     "output_type": "stream",
     "text": [
      "/home/obaskov/output/POC-English-disAmb-2018-07-05/POC-English-disAmb_LG_ANY_all_parses_connectors-DRK-connectors_no-LEFT-WALL_no-period_no_generalization\n",
      "/home/obaskov/data/POC-English-Amb/poc_english.txt\n",
      "/home/obaskov/tests/test-data/dict/poc-turtle\n",
      "/home/obaskov/tests/test-data/dict\n",
      "/home/obaskov/output/poc-english-disAmb-2018-07-05-test\n",
      "/home/obaskov/data/POC-English-disAmb/poc-english_ex-parses-gold.txt\n"
     ]
    }
   ],
   "source": [
    "dict_path = handle_path_string(\"output/POC-English-disAmb-2018-07-05/POC-English-disAmb_LG_ANY_all_parses_connectors-DRK-connectors_no-LEFT-WALL_no-period_no_generalization\")\n",
    "#corpus_path = handle_path_string(\"tests/test-data/corpora/poc-english/poc_english_noamb.txt\")\n",
    "corpus_path = handle_path_string(\"data/POC-English-Amb/poc_english.txt\")\n",
    "template_path = handle_path_string(\"tests/test-data/dict/poc-turtle\")\n",
    "grammar_path = handle_path_string(\"tests/test-data/dict\")\n",
    "#output_path = handle_path_string(\"tests/test-data/parses/AGI-2018-paper-data-2018-04-22/POC-English-NoAmb-LEFT-WALL+period\")\n",
    "output_path = handle_path_string(\"output/poc-english-disAmb-2018-07-05-test\")\n",
    "#reference_path = handle_path_string(\"tests/test-data/corpora/poc-english/poc_english_noamb_parse_ideal.txt\")\n",
    "reference_path = handle_path_string(\"data/POC-English-disAmb/poc-english_ex-parses-gold.txt\")\n",
    "\n",
    "print(dict_path, corpus_path, template_path, grammar_path, output_path, reference_path, sep=\"\\n\")"
   ]
  },
  {
   "cell_type": "code",
   "execution_count": 5,
   "metadata": {},
   "outputs": [
    {
     "ename": "GrammarTestError",
     "evalue": "GrammarTestError: path '/home/obaskov/data/POC-English-Amb/poc_english.txt' does not exist.",
     "output_type": "error",
     "traceback": [
      "\u001b[0;31m---------------------------------------------------------------------------\u001b[0m",
      "\u001b[0;31mGrammarTestError\u001b[0m                          Traceback (most recent call last)",
      "\u001b[0;32m<ipython-input-5-3595c825043a>\u001b[0m in \u001b[0;36m<module>\u001b[0;34m()\u001b[0m\n\u001b[0;32m----> 1\u001b[0;31m \u001b[0mpa\u001b[0m\u001b[0;34m,\u001b[0m \u001b[0mpq\u001b[0m\u001b[0;34m,\u001b[0m \u001b[0mpqa\u001b[0m \u001b[0;34m=\u001b[0m \u001b[0mtest_grammar\u001b[0m\u001b[0;34m(\u001b[0m\u001b[0mcorpus_path\u001b[0m\u001b[0;34m,\u001b[0m \u001b[0moutput_path\u001b[0m\u001b[0;34m,\u001b[0m \u001b[0mdict_path\u001b[0m\u001b[0;34m,\u001b[0m \u001b[0mgrammar_path\u001b[0m\u001b[0;34m,\u001b[0m \u001b[0mtemplate_path\u001b[0m\u001b[0;34m,\u001b[0m \u001b[0mlinkage_limit\u001b[0m\u001b[0;34m,\u001b[0m \u001b[0moptions\u001b[0m\u001b[0;34m,\u001b[0m \u001b[0mreference_path\u001b[0m\u001b[0;34m)\u001b[0m\u001b[0;34m\u001b[0m\u001b[0m\n\u001b[0m",
      "\u001b[0;32m~/miniconda3/envs/ull/lib/python3.6/site-packages/ull/grammartest/grammartester.py\u001b[0m in \u001b[0;36mtest_grammar\u001b[0;34m(corpus_path, output_path, dict_path, grammar_path, template_path, linkage_limit, options, reference_path)\u001b[0m\n\u001b[1;32m    326\u001b[0m     \u001b[0mgt\u001b[0m \u001b[0;34m=\u001b[0m \u001b[0mGrammarTester\u001b[0m\u001b[0;34m(\u001b[0m\u001b[0mgrammar_path\u001b[0m\u001b[0;34m,\u001b[0m \u001b[0mtemplate_path\u001b[0m\u001b[0;34m,\u001b[0m \u001b[0mlinkage_limit\u001b[0m\u001b[0;34m,\u001b[0m \u001b[0mparser\u001b[0m\u001b[0;34m)\u001b[0m\u001b[0;34m\u001b[0m\u001b[0m\n\u001b[1;32m    327\u001b[0m \u001b[0;34m\u001b[0m\u001b[0m\n\u001b[0;32m--> 328\u001b[0;31m     \u001b[0mpm\u001b[0m\u001b[0;34m,\u001b[0m \u001b[0mpq\u001b[0m \u001b[0;34m=\u001b[0m \u001b[0mgt\u001b[0m\u001b[0;34m.\u001b[0m\u001b[0mtest\u001b[0m\u001b[0;34m(\u001b[0m\u001b[0mdict_path\u001b[0m\u001b[0;34m,\u001b[0m \u001b[0mcorpus_path\u001b[0m\u001b[0;34m,\u001b[0m \u001b[0moutput_path\u001b[0m\u001b[0;34m,\u001b[0m \u001b[0mreference_path\u001b[0m\u001b[0;34m,\u001b[0m \u001b[0moptions\u001b[0m\u001b[0;34m)\u001b[0m\u001b[0;34m\u001b[0m\u001b[0m\n\u001b[0m\u001b[1;32m    329\u001b[0m \u001b[0;34m\u001b[0m\u001b[0m\n\u001b[1;32m    330\u001b[0m     \u001b[0;32mreturn\u001b[0m \u001b[0mpm\u001b[0m\u001b[0;34m.\u001b[0m\u001b[0mparseability\u001b[0m\u001b[0;34m(\u001b[0m\u001b[0mpm\u001b[0m\u001b[0;34m)\u001b[0m\u001b[0;34m,\u001b[0m \u001b[0mpq\u001b[0m\u001b[0;34m.\u001b[0m\u001b[0mparse_quality\u001b[0m\u001b[0;34m(\u001b[0m\u001b[0mpq\u001b[0m\u001b[0;34m)\u001b[0m\u001b[0;34m,\u001b[0m \u001b[0mPQA\u001b[0m\u001b[0;34m(\u001b[0m\u001b[0mpm\u001b[0m\u001b[0;34m,\u001b[0m \u001b[0mpq\u001b[0m\u001b[0;34m)\u001b[0m\u001b[0;34m\u001b[0m\u001b[0m\n",
      "\u001b[0;32m~/miniconda3/envs/ull/lib/python3.6/site-packages/ull/grammartest/grammartester.py\u001b[0m in \u001b[0;36mtest\u001b[0;34m(self, dict_path, corpus_path, output_path, reference_path, options)\u001b[0m\n\u001b[1;32m    258\u001b[0m \u001b[0;34m\u001b[0m\u001b[0m\n\u001b[1;32m    259\u001b[0m         \u001b[0;32mif\u001b[0m \u001b[0;32mnot\u001b[0m \u001b[0;34m(\u001b[0m\u001b[0mos\u001b[0m\u001b[0;34m.\u001b[0m\u001b[0mpath\u001b[0m\u001b[0;34m.\u001b[0m\u001b[0misfile\u001b[0m\u001b[0;34m(\u001b[0m\u001b[0mcorpus_path\u001b[0m\u001b[0;34m)\u001b[0m \u001b[0;32mor\u001b[0m \u001b[0mos\u001b[0m\u001b[0;34m.\u001b[0m\u001b[0mpath\u001b[0m\u001b[0;34m.\u001b[0m\u001b[0misdir\u001b[0m\u001b[0;34m(\u001b[0m\u001b[0mcorpus_path\u001b[0m\u001b[0;34m)\u001b[0m\u001b[0;34m)\u001b[0m\u001b[0;34m:\u001b[0m\u001b[0;34m\u001b[0m\u001b[0m\n\u001b[0;32m--> 260\u001b[0;31m             \u001b[0;32mraise\u001b[0m \u001b[0mGrammarTestError\u001b[0m\u001b[0;34m(\u001b[0m\u001b[0;34m\"GrammarTestError: path '\"\u001b[0m \u001b[0;34m+\u001b[0m \u001b[0mcorpus_path\u001b[0m \u001b[0;34m+\u001b[0m \u001b[0;34m\"' does not exist.\"\u001b[0m\u001b[0;34m)\u001b[0m\u001b[0;34m\u001b[0m\u001b[0m\n\u001b[0m\u001b[1;32m    261\u001b[0m \u001b[0;34m\u001b[0m\u001b[0m\n\u001b[1;32m    262\u001b[0m         \u001b[0;32mif\u001b[0m \u001b[0;32mnot\u001b[0m \u001b[0mos\u001b[0m\u001b[0;34m.\u001b[0m\u001b[0mpath\u001b[0m\u001b[0;34m.\u001b[0m\u001b[0misdir\u001b[0m\u001b[0;34m(\u001b[0m\u001b[0moutput_path\u001b[0m\u001b[0;34m)\u001b[0m\u001b[0;34m:\u001b[0m\u001b[0;34m\u001b[0m\u001b[0m\n",
      "\u001b[0;31mGrammarTestError\u001b[0m: GrammarTestError: path '/home/obaskov/data/POC-English-Amb/poc_english.txt' does not exist."
     ]
    }
   ],
   "source": [
    "pa, pq, pqa = test_grammar(corpus_path, output_path, dict_path, grammar_path, template_path, linkage_limit, options, reference_path) "
   ]
  },
  {
   "cell_type": "code",
   "execution_count": null,
   "metadata": {},
   "outputs": [],
   "source": [
    "print(\"Parse ability: {0:5.2f}%\\tParse quality: {1:5.2f}%\\tPQA: {2:5.2f}%\".format(pa, pq, pqa))"
   ]
  },
  {
   "cell_type": "code",
   "execution_count": null,
   "metadata": {},
   "outputs": [],
   "source": []
  }
 ],
 "metadata": {
  "kernelspec": {
   "display_name": "Python [default]",
   "language": "python",
   "name": "python3"
  },
  "language_info": {
   "codemirror_mode": {
    "name": "ipython",
    "version": 3
   },
   "file_extension": ".py",
   "mimetype": "text/x-python",
   "name": "python",
   "nbconvert_exporter": "python",
   "pygments_lexer": "ipython3",
   "version": "3.6.6"
  }
 },
 "nbformat": 4,
 "nbformat_minor": 1
}
