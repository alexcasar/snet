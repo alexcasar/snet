{
 "cells": [
  {
   "cell_type": "markdown",
   "metadata": {},
   "source": [
    "# Agglomerative clustering: varying parameters `2018-11-16`\n",
    "\n",
    "Link Grammar 5.4.4, `test_grammar` updated 2018-10-19.  \n",
    "This notebook is shared as static [Agglomerative-Clustering-2018-11-16.html](http://langlearn.singularitynet.io/data/clustering_2018/html/Agglomerative-Clustering-2018-11-16.html)  "
   ]
  },
  {
   "cell_type": "markdown",
   "metadata": {},
   "source": [
    "## Basic settings"
   ]
  },
  {
   "cell_type": "code",
   "execution_count": 1,
   "metadata": {
    "ExecuteTime": {
     "end_time": "2018-11-16T20:01:56.546997Z",
     "start_time": "2018-11-16T20:01:55.821629Z"
    }
   },
   "outputs": [
    {
     "name": "stdout",
     "output_type": "stream",
     "text": [
      "2018-11-16 20:01:56 UTC :: module_path = /home/obaskov/94/language-learning\n"
     ]
    }
   ],
   "source": [
    "import os, sys, time\n",
    "module_path = os.path.abspath(os.path.join('..'))\n",
    "if module_path not in sys.path: sys.path.append(module_path)\n",
    "from src.grammar_learner.utl import UTC\n",
    "from src.grammar_learner.read_files import check_dir\n",
    "from src.grammar_learner.write_files import list2file\n",
    "from src.grammar_learner.widgets import html_table\n",
    "from src.grammar_learner.pqa_table import table_rows, wide_rows\n",
    "tmpath = module_path + '/tmp/'\n",
    "check_dir(tmpath, True, 'none')\n",
    "table = []\n",
    "start = time.time()\n",
    "print(UTC(), ':: module_path =', module_path)"
   ]
  },
  {
   "cell_type": "markdown",
   "metadata": {},
   "source": [
    "## Corpus test settings"
   ]
  },
  {
   "cell_type": "code",
   "execution_count": 2,
   "metadata": {
    "ExecuteTime": {
     "end_time": "2018-11-16T20:01:56.553211Z",
     "start_time": "2018-11-16T20:01:56.548420Z"
    }
   },
   "outputs": [],
   "source": [
    "out_dir = module_path + '/output/Agglomerative-Clustering-' + str(UTC())[:10]\n",
    "corpus = 'CDS-caps-br-text+brent9mos'\n",
    "corpus = 'CDS-caps-br-text'\n",
    "dataset = 'LG-English'\n",
    "dataset = 'LG-English-clean-clean'  # 2018-10-29: only 100% parsed \n",
    "runs = (1,1)\n",
    "kwargs = {\n",
    "    'left_wall'     :   ''          ,\n",
    "    'period'        :   False       ,\n",
    "    'context'       :   2           ,\n",
    "    'word_space'    :   'sparse'    ,\n",
    "    'clustering'    :   ['agglomerative', 'ward'],\n",
    "    'cluster_range' :   200         ,\n",
    "    'clustering_metric' : ['silhouette', 'cosine'],\n",
    "    'grammar_rules' :   2           ,\n",
    "    'tmpath'        :   tmpath      , \n",
    "    'verbose'       :   'min'       ,\n",
    "    'template_path' :   'poc-turtle',\n",
    "    'linkage_limit' :   1000        }\n",
    "lines = [[33, corpus, 'LG-English' , 0, 0, 'none'], \n",
    "         [34, corpus, 'LG-English' , 0, 0, 'rules']] \n",
    "rp = module_path + '/data/CDS-caps-br-text+brent9mos/LG-English'\n",
    "rp = module_path + '/data/CDS-caps-br-text/LG-English'  # shorter test\n",
    "rp = module_path + '/data/CDS-caps-br-text/LG-English-clean-clean'\n",
    "cp = rp  # corpus path = reference_path :: use 'gold' parses as test corpus"
   ]
  },
  {
   "cell_type": "markdown",
   "metadata": {},
   "source": [
    "## Linkage = \"ward\", affinity = \"euclidean\" (the only choice)"
   ]
  },
  {
   "cell_type": "code",
   "execution_count": 3,
   "metadata": {
    "ExecuteTime": {
     "end_time": "2018-11-16T20:02:16.601481Z",
     "start_time": "2018-11-16T20:01:56.554522Z"
    }
   },
   "outputs": [],
   "source": [
    "%%capture\n",
    "line = [lines[0]]\n",
    "a, _, header, log = wide_rows(lines, out_dir, cp, rp, runs, **kwargs)\n",
    "display(html_table([header] + a))"
   ]
  },
  {
   "cell_type": "code",
   "execution_count": 4,
   "metadata": {
    "ExecuteTime": {
     "end_time": "2018-11-16T20:02:16.606366Z",
     "start_time": "2018-11-16T20:02:16.603349Z"
    }
   },
   "outputs": [
    {
     "data": {
      "text/html": [
       "<table><tr><td>Line</td><td>Corpus</td><td>Parsing</td><td>Space</td><td>Linkage</td><td>Affinity</td><td>Gen.</td><td>Rules</td><td>NN</td><td>SI</td><td>PA</td><td>PQ</td><td>F1</td><td>Top 5 cluster sizes</td></tr><tr><td>33</td><td>CDS-caps-br-text</td><td>LG-English</td><td>dALWEd</td><td>ward</td><td>euclidean</td><td>none</td><td>200</td><td>---</td><td> --- </td><td>99%</td><td>98%</td><td>0.98</td><td>[726, 44, 36, 30, 29]</td></tr><tr><td>34</td><td>CDS-caps-br-text</td><td>LG-English</td><td>dALWEd</td><td>ward</td><td>euclidean</td><td>rules</td><td>182</td><td>---</td><td> --- </td><td>99%</td><td>97%</td><td>0.97</td><td>[726, 44, 36, 30, 29]</td></tr></table>"
      ],
      "text/plain": [
       "<IPython.core.display.HTML object>"
      ]
     },
     "metadata": {},
     "output_type": "display_data"
    }
   ],
   "source": [
    "display(html_table([header] + a))"
   ]
  },
  {
   "cell_type": "markdown",
   "metadata": {},
   "source": [
    "## The same test with basic (not-cleaned) corpus"
   ]
  },
  {
   "cell_type": "code",
   "execution_count": 5,
   "metadata": {
    "ExecuteTime": {
     "end_time": "2018-11-16T20:02:37.063855Z",
     "start_time": "2018-11-16T20:02:16.607722Z"
    }
   },
   "outputs": [],
   "source": [
    "%%capture\n",
    "corpus = 'CDS-caps-br-text+brent9mos'\n",
    "a2, _, header, log = wide_rows(lines, out_dir, cp, rp, runs, **kwargs)\n",
    "corpus = 'CDS-caps-br-text'"
   ]
  },
  {
   "cell_type": "code",
   "execution_count": 6,
   "metadata": {
    "ExecuteTime": {
     "end_time": "2018-11-16T20:02:37.068969Z",
     "start_time": "2018-11-16T20:02:37.065736Z"
    }
   },
   "outputs": [
    {
     "data": {
      "text/html": [
       "<table><tr><td>Line</td><td>Corpus</td><td>Parsing</td><td>Space</td><td>Linkage</td><td>Affinity</td><td>Gen.</td><td>Rules</td><td>NN</td><td>SI</td><td>PA</td><td>PQ</td><td>F1</td><td>Top 5 cluster sizes</td></tr><tr><td>33</td><td>CDS-caps-br-text</td><td>LG-English</td><td>dALWEd</td><td>ward</td><td>euclidean</td><td>none</td><td>200</td><td>---</td><td> --- </td><td>99%</td><td>98%</td><td>0.98</td><td>[726, 44, 36, 30, 29]</td></tr><tr><td>34</td><td>CDS-caps-br-text</td><td>LG-English</td><td>dALWEd</td><td>ward</td><td>euclidean</td><td>rules</td><td>182</td><td>---</td><td> --- </td><td>99%</td><td>97%</td><td>0.97</td><td>[726, 44, 36, 30, 29]</td></tr></table>"
      ],
      "text/plain": [
       "<IPython.core.display.HTML object>"
      ]
     },
     "metadata": {},
     "output_type": "display_data"
    }
   ],
   "source": [
    "display(html_table([header] + a2))"
   ]
  },
  {
   "cell_type": "markdown",
   "metadata": {},
   "source": [
    "# Varying agglomerative clustering parameters"
   ]
  },
  {
   "cell_type": "markdown",
   "metadata": {},
   "source": [
    "## Varying linkage, affinity, rules generalization"
   ]
  },
  {
   "cell_type": "code",
   "execution_count": 7,
   "metadata": {
    "ExecuteTime": {
     "end_time": "2018-11-16T20:05:44.071882Z",
     "start_time": "2018-11-16T20:02:37.070340Z"
    }
   },
   "outputs": [],
   "source": [
    "%%capture\n",
    "t1 = []\n",
    "n = 0\n",
    "for linkage in ['ward', 'complete', 'average']:\n",
    "    n += 1\n",
    "    m = 0\n",
    "    for affinity in ['euclidean', 'manhattan', 'cosine']:\n",
    "        if linkage == 'ward' and affinity != 'euclidean': continue\n",
    "        m += 1\n",
    "        lines[0][0] = round(n + 0.1*m, 1)\n",
    "        m += 1\n",
    "        lines[1][0] = round(n + 0.1*m, 1)\n",
    "        kwargs['clustering'] = ['agglomerative', linkage, affinity]\n",
    "        a, _, header, log = wide_rows(lines, out_dir, cp, rp, runs, **kwargs)\n",
    "        t1.extend(a)\n",
    "        table.extend(a)"
   ]
  },
  {
   "cell_type": "code",
   "execution_count": 8,
   "metadata": {
    "ExecuteTime": {
     "end_time": "2018-11-16T20:05:44.078381Z",
     "start_time": "2018-11-16T20:05:44.073742Z"
    }
   },
   "outputs": [
    {
     "data": {
      "text/html": [
       "<table><tr><td>Line</td><td>Corpus</td><td>Parsing</td><td>Space</td><td>Linkage</td><td>Affinity</td><td>Gen.</td><td>Rules</td><td>NN</td><td>SI</td><td>PA</td><td>PQ</td><td>F1</td><td>Top 5 cluster sizes</td></tr><tr><td>1.1</td><td>CDS-caps-br-text</td><td>LG-English</td><td>dALWEd</td><td>ward</td><td>euclidean</td><td>none</td><td>200</td><td>---</td><td> --- </td><td>99%</td><td>98%</td><td>0.98</td><td>[726, 44, 36, 30, 29]</td></tr><tr><td>1.2</td><td>CDS-caps-br-text</td><td>LG-English</td><td>dALWEd</td><td>ward</td><td>euclidean</td><td>rules</td><td>182</td><td>---</td><td> --- </td><td>99%</td><td>97%</td><td>0.97</td><td>[726, 44, 36, 30, 29]</td></tr><tr><td>2.1</td><td>CDS-caps-br-text</td><td>LG-English</td><td>dALCEd</td><td>complete</td><td>euclidean</td><td>none</td><td>200</td><td>---</td><td> --- </td><td>99%</td><td>96%</td><td>0.97</td><td>[975, 19, 12, 4, 2]</td></tr><tr><td>2.2</td><td>CDS-caps-br-text</td><td>LG-English</td><td>dALCEd</td><td>complete</td><td>euclidean</td><td>rules</td><td>182</td><td>---</td><td> --- </td><td>99%</td><td>95%</td><td>0.96</td><td>[975, 19, 12, 4, 2]</td></tr><tr><td>2.3</td><td>CDS-caps-br-text</td><td>LG-English</td><td>dALCMd</td><td>complete</td><td>manhattan</td><td>none</td><td>200</td><td>---</td><td> --- </td><td>99%</td><td>96%</td><td>0.97</td><td>[975, 19, 12, 4, 2]</td></tr><tr><td>2.4</td><td>CDS-caps-br-text</td><td>LG-English</td><td>dALCMd</td><td>complete</td><td>manhattan</td><td>rules</td><td>182</td><td>---</td><td> --- </td><td>99%</td><td>95%</td><td>0.96</td><td>[975, 19, 12, 4, 2]</td></tr><tr><td>2.5</td><td>CDS-caps-br-text</td><td>LG-English</td><td>dALCCd</td><td>complete</td><td>cosine</td><td>none</td><td>200</td><td>---</td><td> --- </td><td>99%</td><td>80%</td><td>0.81</td><td>[637, 42, 38, 21, 15]</td></tr><tr><td>2.6</td><td>CDS-caps-br-text</td><td>LG-English</td><td>dALCCd</td><td>complete</td><td>cosine</td><td>rules</td><td>200</td><td>---</td><td> --- </td><td>99%</td><td>79%</td><td>0.81</td><td>[637, 42, 38, 21, 15]</td></tr><tr><td>3.1</td><td>CDS-caps-br-text</td><td>LG-English</td><td>dALAEd</td><td>average</td><td>euclidean</td><td>none</td><td>200</td><td>---</td><td> --- </td><td>99%</td><td>96%</td><td>0.96</td><td>[1023, 1]</td></tr><tr><td>3.2</td><td>CDS-caps-br-text</td><td>LG-English</td><td>dALAEd</td><td>average</td><td>euclidean</td><td>rules</td><td>177</td><td>---</td><td> --- </td><td>99%</td><td>94%</td><td>0.95</td><td>[1023, 1]</td></tr><tr><td>3.3</td><td>CDS-caps-br-text</td><td>LG-English</td><td>dALAMd</td><td>average</td><td>manhattan</td><td>none</td><td>200</td><td>---</td><td> --- </td><td>99%</td><td>96%</td><td>0.96</td><td>[1023, 1]</td></tr><tr><td>3.4</td><td>CDS-caps-br-text</td><td>LG-English</td><td>dALAMd</td><td>average</td><td>manhattan</td><td>rules</td><td>177</td><td>---</td><td> --- </td><td>99%</td><td>94%</td><td>0.95</td><td>[1023, 1]</td></tr><tr><td>3.5</td><td>CDS-caps-br-text</td><td>LG-English</td><td>dALACd</td><td>average</td><td>cosine</td><td>none</td><td>200</td><td>---</td><td> --- </td><td>99%</td><td>72%</td><td>0.73</td><td>[1009, 13, 2, 1]</td></tr><tr><td>3.6</td><td>CDS-caps-br-text</td><td>LG-English</td><td>dALACd</td><td>average</td><td>cosine</td><td>rules</td><td>200</td><td>---</td><td> --- </td><td>99%</td><td>72%</td><td>0.73</td><td>[1009, 13, 2, 1]</td></tr></table>"
      ],
      "text/plain": [
       "<IPython.core.display.HTML object>"
      ]
     },
     "metadata": {},
     "output_type": "display_data"
    }
   ],
   "source": [
    "display(html_table([header] + t1))"
   ]
  },
  {
   "cell_type": "markdown",
   "metadata": {},
   "source": [
    "## Varying number of clusters"
   ]
  },
  {
   "cell_type": "code",
   "execution_count": 9,
   "metadata": {
    "ExecuteTime": {
     "end_time": "2018-11-16T20:10:15.570367Z",
     "start_time": "2018-11-16T20:05:44.081184Z"
    }
   },
   "outputs": [],
   "source": [
    "%%capture\n",
    "t3 = []\n",
    "for linkage in ['ward', 'average', 'complete']:\n",
    "    n += 1\n",
    "    m = 0\n",
    "    for affinity in ['euclidean', 'manhattan', 'cosine']:\n",
    "        for kwargs['cluster_range'] in [300, 400, 500]:\n",
    "            if linkage == 'ward' and affinity != 'euclidean': continue\n",
    "            m += 1\n",
    "            line[0][0] = round((n + 0.1*m), 1)\n",
    "            kwargs['clustering'] = ['agglomerative', linkage, affinity]\n",
    "            a, _, header, log = wide_rows(line, out_dir, cp, rp, runs, **kwargs)\n",
    "            t3.extend(a)\n",
    "            table.extend(a)"
   ]
  },
  {
   "cell_type": "code",
   "execution_count": 10,
   "metadata": {
    "ExecuteTime": {
     "end_time": "2018-11-16T20:10:15.583740Z",
     "start_time": "2018-11-16T20:10:15.574749Z"
    },
    "scrolled": true
   },
   "outputs": [
    {
     "data": {
      "text/html": [
       "<table><tr><td>Line</td><td>Corpus</td><td>Parsing</td><td>Space</td><td>Linkage</td><td>Affinity</td><td>Gen.</td><td>Rules</td><td>NN</td><td>SI</td><td>PA</td><td>PQ</td><td>F1</td><td>Top 5 cluster sizes</td></tr><tr><td>4.1</td><td>CDS-caps-br-text</td><td>LG-English</td><td>dALWEd</td><td>ward</td><td>euclidean</td><td>none</td><td>300</td><td>---</td><td> --- </td><td>99%</td><td>98%</td><td>0.98</td><td>[566, 41, 23, 22, 19]</td></tr><tr><td>4.2</td><td>CDS-caps-br-text</td><td>LG-English</td><td>dALWEd</td><td>ward</td><td>euclidean</td><td>none</td><td>400</td><td>---</td><td> --- </td><td>99%</td><td>97%</td><td>0.98</td><td>[484, 39, 23, 13, 12]</td></tr><tr><td>4.3</td><td>CDS-caps-br-text</td><td>LG-English</td><td>dALWEd</td><td>ward</td><td>euclidean</td><td>none</td><td>500</td><td>---</td><td> --- </td><td>99%</td><td>98%</td><td>0.98</td><td>[408, 29, 20, 12, 11]</td></tr><tr><td>5.1</td><td>CDS-caps-br-text</td><td>LG-English</td><td>dALAEd</td><td>average</td><td>euclidean</td><td>none</td><td>300</td><td>---</td><td> --- </td><td>99%</td><td>96%</td><td>0.97</td><td>[921, 2, 1]</td></tr><tr><td>5.2</td><td>CDS-caps-br-text</td><td>LG-English</td><td>dALAEd</td><td>average</td><td>euclidean</td><td>none</td><td>400</td><td>---</td><td> --- </td><td>99%</td><td>96%</td><td>0.97</td><td>[822, 2, 1]</td></tr><tr><td>5.3</td><td>CDS-caps-br-text</td><td>LG-English</td><td>dALAEd</td><td>average</td><td>euclidean</td><td>none</td><td>500</td><td>---</td><td> --- </td><td>99%</td><td>96%</td><td>0.97</td><td>[713, 4, 3, 2, 1]</td></tr><tr><td>5.4</td><td>CDS-caps-br-text</td><td>LG-English</td><td>dALAMd</td><td>average</td><td>manhattan</td><td>none</td><td>300</td><td>---</td><td> --- </td><td>99%</td><td>96%</td><td>0.97</td><td>[921, 2, 1]</td></tr><tr><td>5.5</td><td>CDS-caps-br-text</td><td>LG-English</td><td>dALAMd</td><td>average</td><td>manhattan</td><td>none</td><td>400</td><td>---</td><td> --- </td><td>99%</td><td>96%</td><td>0.97</td><td>[822, 2, 1]</td></tr><tr><td>5.6</td><td>CDS-caps-br-text</td><td>LG-English</td><td>dALAMd</td><td>average</td><td>manhattan</td><td>none</td><td>500</td><td>---</td><td> --- </td><td>99%</td><td>96%</td><td>0.97</td><td>[712, 4, 3, 2, 1]</td></tr><tr><td>5.7</td><td>CDS-caps-br-text</td><td>LG-English</td><td>dALACd</td><td>average</td><td>cosine</td><td>none</td><td>300</td><td>---</td><td> --- </td><td>99%</td><td>78%</td><td>0.79</td><td>[394, 243, 48, 41, 25]</td></tr><tr><td>5.8</td><td>CDS-caps-br-text</td><td>LG-English</td><td>dALACd</td><td>average</td><td>cosine</td><td>none</td><td>400</td><td>---</td><td> --- </td><td>99%</td><td>96%</td><td>0.96</td><td>[117, 115, 41, 34, 24]</td></tr><tr><td>5.9</td><td>CDS-caps-br-text</td><td>LG-English</td><td>dALACd</td><td>average</td><td>cosine</td><td>none</td><td>500</td><td>---</td><td> --- </td><td>99%</td><td>97%</td><td>0.97</td><td>[82, 69, 24, 23, 19]</td></tr><tr><td>6.1</td><td>CDS-caps-br-text</td><td>LG-English</td><td>dALCEd</td><td>complete</td><td>euclidean</td><td>none</td><td>300</td><td>---</td><td> --- </td><td>99%</td><td>96%</td><td>0.97</td><td>[807, 38, 29, 18, 14]</td></tr><tr><td>6.2</td><td>CDS-caps-br-text</td><td>LG-English</td><td>dALCEd</td><td>complete</td><td>euclidean</td><td>none</td><td>400</td><td>---</td><td> --- </td><td>99%</td><td>96%</td><td>0.97</td><td>[698, 25, 16, 15, 14]</td></tr><tr><td>6.3</td><td>CDS-caps-br-text</td><td>LG-English</td><td>dALCEd</td><td>complete</td><td>euclidean</td><td>none</td><td>500</td><td>---</td><td> --- </td><td>99%</td><td>96%</td><td>0.97</td><td>[498, 89, 13, 12, 11]</td></tr><tr><td>6.4</td><td>CDS-caps-br-text</td><td>LG-English</td><td>dALCMd</td><td>complete</td><td>manhattan</td><td>none</td><td>300</td><td>---</td><td> --- </td><td>99%</td><td>96%</td><td>0.97</td><td>[807, 38, 29, 18, 14]</td></tr><tr><td>6.5</td><td>CDS-caps-br-text</td><td>LG-English</td><td>dALCMd</td><td>complete</td><td>manhattan</td><td>none</td><td>400</td><td>---</td><td> --- </td><td>99%</td><td>96%</td><td>0.97</td><td>[698, 25, 16, 15, 14]</td></tr><tr><td>6.6</td><td>CDS-caps-br-text</td><td>LG-English</td><td>dALCMd</td><td>complete</td><td>manhattan</td><td>none</td><td>500</td><td>---</td><td> --- </td><td>99%</td><td>96%</td><td>0.97</td><td>[498, 89, 13, 12, 11]</td></tr><tr><td>6.7</td><td>CDS-caps-br-text</td><td>LG-English</td><td>dALCCd</td><td>complete</td><td>cosine</td><td>none</td><td>300</td><td>---</td><td> --- </td><td>99%</td><td>86%</td><td>0.87</td><td>[403, 42, 38, 28, 21]</td></tr><tr><td>6.8</td><td>CDS-caps-br-text</td><td>LG-English</td><td>dALCCd</td><td>complete</td><td>cosine</td><td>none</td><td>400</td><td>---</td><td> --- </td><td>99%</td><td>91%</td><td>0.92</td><td>[217, 42, 38, 28, 21]</td></tr><tr><td>6.9</td><td>CDS-caps-br-text</td><td>LG-English</td><td>dALCCd</td><td>complete</td><td>cosine</td><td>none</td><td>500</td><td>---</td><td> --- </td><td>99%</td><td>95%</td><td>0.96</td><td>[50, 42, 38, 28, 21]</td></tr></table>"
      ],
      "text/plain": [
       "<IPython.core.display.HTML object>"
      ]
     },
     "metadata": {},
     "output_type": "display_data"
    }
   ],
   "source": [
    "display(html_table([header] + t3))"
   ]
  },
  {
   "cell_type": "markdown",
   "metadata": {},
   "source": [
    "⇒ NEXT: `complete/average` linkage, `cosine` affinity, 400-500 clusters"
   ]
  },
  {
   "cell_type": "markdown",
   "metadata": {},
   "source": [
    "## Learning connectivity matrix with various nearest neighbors"
   ]
  },
  {
   "cell_type": "code",
   "execution_count": 11,
   "metadata": {
    "ExecuteTime": {
     "end_time": "2018-11-16T20:24:15.234363Z",
     "start_time": "2018-11-16T20:10:15.587726Z"
    }
   },
   "outputs": [],
   "source": [
    "%%capture\n",
    "affinity = 'cosine'\n",
    "t4 = []\n",
    "for kwargs['cluster_range'] in [500,400,300]:\n",
    "    n += 1\n",
    "    m = 0\n",
    "    for linkage in ['complete', 'average']:\n",
    "        for knn in [None, 50, 20, 10]:\n",
    "            if linkage == 'ward' and affinity != 'euclidean': continue\n",
    "            m += 1\n",
    "            line[0][0] = round((n + m* 0.1), 1)\n",
    "            kwargs['clustering'] = ['agglomerative', linkage, affinity, knn]\n",
    "            a, _, header, log = wide_rows(line, out_dir, cp, rp, runs, **kwargs)\n",
    "            t4.extend(a)\n",
    "            table.extend(a)"
   ]
  },
  {
   "cell_type": "code",
   "execution_count": 12,
   "metadata": {
    "ExecuteTime": {
     "end_time": "2018-11-16T20:24:15.249771Z",
     "start_time": "2018-11-16T20:24:15.239540Z"
    }
   },
   "outputs": [
    {
     "data": {
      "text/html": [
       "<table><tr><td>Line</td><td>Corpus</td><td>Parsing</td><td>Space</td><td>Linkage</td><td>Affinity</td><td>Gen.</td><td>Rules</td><td>NN</td><td>SI</td><td>PA</td><td>PQ</td><td>F1</td><td>Top 5 cluster sizes</td></tr><tr><td>7.1</td><td>CDS-caps-br-text</td><td>LG-English</td><td>dALCCd</td><td>complete</td><td>cosine</td><td>none</td><td>500</td><td>---</td><td> --- </td><td>99%</td><td>95%</td><td>0.96</td><td>[50, 42, 38, 28, 21]</td></tr><tr><td>7.2</td><td>CDS-caps-br-text</td><td>LG-English</td><td>dALCCd</td><td>complete</td><td>cosine</td><td>none</td><td>500</td><td>50</td><td> --- </td><td>99%</td><td>98%</td><td>0.98</td><td>[75, 43, 39, 34, 33]</td></tr><tr><td>7.3</td><td>CDS-caps-br-text</td><td>LG-English</td><td>dALCCd</td><td>complete</td><td>cosine</td><td>none</td><td>500</td><td>20</td><td> --- </td><td>99%</td><td>98%</td><td>0.98</td><td>[109, 105, 79, 73, 53]</td></tr><tr><td>7.4</td><td>CDS-caps-br-text</td><td>LG-English</td><td>dALCCd</td><td>complete</td><td>cosine</td><td>none</td><td>500</td><td>10</td><td> --- </td><td>99%</td><td>97%</td><td>0.97</td><td>[231, 113, 100, 57, 47]</td></tr><tr><td>7.5</td><td>CDS-caps-br-text</td><td>LG-English</td><td>dALACd</td><td>average</td><td>cosine</td><td>none</td><td>500</td><td>---</td><td> --- </td><td>99%</td><td>97%</td><td>0.97</td><td>[82, 69, 24, 23, 19]</td></tr><tr><td>7.6</td><td>CDS-caps-br-text</td><td>LG-English</td><td>dALACd</td><td>average</td><td>cosine</td><td>none</td><td>500</td><td>50</td><td> --- </td><td>99%</td><td>98%</td><td>0.98</td><td>[68, 56, 54, 51, 44]</td></tr><tr><td>7.7</td><td>CDS-caps-br-text</td><td>LG-English</td><td>dALACd</td><td>average</td><td>cosine</td><td>none</td><td>500</td><td>20</td><td> --- </td><td>99%</td><td>98%</td><td>0.98</td><td>[144, 121, 97, 91, 38]</td></tr><tr><td>7.8</td><td>CDS-caps-br-text</td><td>LG-English</td><td>dALACd</td><td>average</td><td>cosine</td><td>none</td><td>500</td><td>10</td><td> --- </td><td>99%</td><td>96%</td><td>0.96</td><td>[364, 183, 47, 18, 9]</td></tr><tr><td>8.1</td><td>CDS-caps-br-text</td><td>LG-English</td><td>dALCCd</td><td>complete</td><td>cosine</td><td>none</td><td>400</td><td>---</td><td> --- </td><td>99%</td><td>91%</td><td>0.92</td><td>[217, 42, 38, 28, 21]</td></tr><tr><td>8.2</td><td>CDS-caps-br-text</td><td>LG-English</td><td>dALCCd</td><td>complete</td><td>cosine</td><td>none</td><td>400</td><td>50</td><td> --- </td><td>99%</td><td>88%</td><td>0.93</td><td>[84, 55, 45, 44, 42]</td></tr><tr><td>8.3</td><td>CDS-caps-br-text</td><td>LG-English</td><td>dALCCd</td><td>complete</td><td>cosine</td><td>none</td><td>400</td><td>20</td><td> --- </td><td>99%</td><td>97%</td><td>0.98</td><td>[124, 113, 87, 77, 59]</td></tr><tr><td>8.4</td><td>CDS-caps-br-text</td><td>LG-English</td><td>dALCCd</td><td>complete</td><td>cosine</td><td>none</td><td>400</td><td>10</td><td> --- </td><td>99%</td><td>91%</td><td>0.92</td><td>[265, 138, 124, 73, 57]</td></tr><tr><td>8.5</td><td>CDS-caps-br-text</td><td>LG-English</td><td>dALACd</td><td>average</td><td>cosine</td><td>none</td><td>400</td><td>---</td><td> --- </td><td>99%</td><td>96%</td><td>0.96</td><td>[117, 115, 41, 34, 24]</td></tr><tr><td>8.6</td><td>CDS-caps-br-text</td><td>LG-English</td><td>dALACd</td><td>average</td><td>cosine</td><td>none</td><td>400</td><td>50</td><td> --- </td><td>99%</td><td>96%</td><td>0.96</td><td>[116, 102, 82, 65, 56]</td></tr><tr><td>8.7</td><td>CDS-caps-br-text</td><td>LG-English</td><td>dALACd</td><td>average</td><td>cosine</td><td>none</td><td>400</td><td>20</td><td> --- </td><td>99%</td><td>95%</td><td>0.96</td><td>[256, 187, 101, 53, 35]</td></tr><tr><td>8.8</td><td>CDS-caps-br-text</td><td>LG-English</td><td>dALACd</td><td>average</td><td>cosine</td><td>none</td><td>400</td><td>10</td><td> --- </td><td>99%</td><td>90%</td><td>0.91</td><td>[601, 72, 19, 18, 14]</td></tr><tr><td>9.1</td><td>CDS-caps-br-text</td><td>LG-English</td><td>dALCCd</td><td>complete</td><td>cosine</td><td>none</td><td>300</td><td>---</td><td> --- </td><td>99%</td><td>86%</td><td>0.87</td><td>[403, 42, 38, 28, 21]</td></tr><tr><td>9.2</td><td>CDS-caps-br-text</td><td>LG-English</td><td>dALCCd</td><td>complete</td><td>cosine</td><td>none</td><td>300</td><td>50</td><td> --- </td><td>99%</td><td>95%</td><td>0.95</td><td>[87, 63, 46, 45, 44]</td></tr><tr><td>9.3</td><td>CDS-caps-br-text</td><td>LG-English</td><td>dALCCd</td><td>complete</td><td>cosine</td><td>none</td><td>300</td><td>20</td><td> --- </td><td>99%</td><td>91%</td><td>0.91</td><td>[136, 115, 93, 86, 75]</td></tr><tr><td>9.4</td><td>CDS-caps-br-text</td><td>LG-English</td><td>dALCCd</td><td>complete</td><td>cosine</td><td>none</td><td>300</td><td>10</td><td> --- </td><td>99%</td><td>78%</td><td>0.79</td><td>[285, 154, 136, 88, 71]</td></tr><tr><td>9.5</td><td>CDS-caps-br-text</td><td>LG-English</td><td>dALACd</td><td>average</td><td>cosine</td><td>none</td><td>300</td><td>---</td><td> --- </td><td>99%</td><td>78%</td><td>0.79</td><td>[394, 243, 48, 41, 25]</td></tr><tr><td>9.6</td><td>CDS-caps-br-text</td><td>LG-English</td><td>dALACd</td><td>average</td><td>cosine</td><td>none</td><td>300</td><td>50</td><td> --- </td><td>99%</td><td>73%</td><td>0.74</td><td>[906, 5, 4, 3, 2]</td></tr><tr><td>9.7</td><td>CDS-caps-br-text</td><td>LG-English</td><td>dALACd</td><td>average</td><td>cosine</td><td>none</td><td>300</td><td>20</td><td> --- </td><td>99%</td><td>73%</td><td>0.74</td><td>[911, 3, 2, 1]</td></tr><tr><td>9.8</td><td>CDS-caps-br-text</td><td>LG-English</td><td>dALACd</td><td>average</td><td>cosine</td><td>none</td><td>300</td><td>10</td><td> --- </td><td>99%</td><td>73%</td><td>0.74</td><td>[909, 3, 2, 1]</td></tr></table>"
      ],
      "text/plain": [
       "<IPython.core.display.HTML object>"
      ]
     },
     "metadata": {},
     "output_type": "display_data"
    }
   ],
   "source": [
    "display(html_table([header] + t4))"
   ]
  },
  {
   "cell_type": "markdown",
   "metadata": {},
   "source": [
    "# All tests"
   ]
  },
  {
   "cell_type": "code",
   "execution_count": 13,
   "metadata": {
    "ExecuteTime": {
     "end_time": "2018-11-16T20:24:15.323640Z",
     "start_time": "2018-11-16T20:24:15.254079Z"
    }
   },
   "outputs": [
    {
     "data": {
      "text/html": [
       "<table><tr><td>Line</td><td>Corpus</td><td>Parsing</td><td>Space</td><td>Linkage</td><td>Affinity</td><td>Gen.</td><td>Rules</td><td>NN</td><td>SI</td><td>PA</td><td>PQ</td><td>F1</td><td>Top 5 cluster sizes</td></tr><tr><td>1.1</td><td>CDS-caps-br-text</td><td>LG-English</td><td>dALWEd</td><td>ward</td><td>euclidean</td><td>none</td><td>200</td><td>---</td><td> --- </td><td>99%</td><td>98%</td><td>0.98</td><td>[726, 44, 36, 30, 29]</td></tr><tr><td>1.2</td><td>CDS-caps-br-text</td><td>LG-English</td><td>dALWEd</td><td>ward</td><td>euclidean</td><td>rules</td><td>182</td><td>---</td><td> --- </td><td>99%</td><td>97%</td><td>0.97</td><td>[726, 44, 36, 30, 29]</td></tr><tr><td>2.1</td><td>CDS-caps-br-text</td><td>LG-English</td><td>dALCEd</td><td>complete</td><td>euclidean</td><td>none</td><td>200</td><td>---</td><td> --- </td><td>99%</td><td>96%</td><td>0.97</td><td>[975, 19, 12, 4, 2]</td></tr><tr><td>2.2</td><td>CDS-caps-br-text</td><td>LG-English</td><td>dALCEd</td><td>complete</td><td>euclidean</td><td>rules</td><td>182</td><td>---</td><td> --- </td><td>99%</td><td>95%</td><td>0.96</td><td>[975, 19, 12, 4, 2]</td></tr><tr><td>2.3</td><td>CDS-caps-br-text</td><td>LG-English</td><td>dALCMd</td><td>complete</td><td>manhattan</td><td>none</td><td>200</td><td>---</td><td> --- </td><td>99%</td><td>96%</td><td>0.97</td><td>[975, 19, 12, 4, 2]</td></tr><tr><td>2.4</td><td>CDS-caps-br-text</td><td>LG-English</td><td>dALCMd</td><td>complete</td><td>manhattan</td><td>rules</td><td>182</td><td>---</td><td> --- </td><td>99%</td><td>95%</td><td>0.96</td><td>[975, 19, 12, 4, 2]</td></tr><tr><td>2.5</td><td>CDS-caps-br-text</td><td>LG-English</td><td>dALCCd</td><td>complete</td><td>cosine</td><td>none</td><td>200</td><td>---</td><td> --- </td><td>99%</td><td>80%</td><td>0.81</td><td>[637, 42, 38, 21, 15]</td></tr><tr><td>2.6</td><td>CDS-caps-br-text</td><td>LG-English</td><td>dALCCd</td><td>complete</td><td>cosine</td><td>rules</td><td>200</td><td>---</td><td> --- </td><td>99%</td><td>79%</td><td>0.81</td><td>[637, 42, 38, 21, 15]</td></tr><tr><td>3.1</td><td>CDS-caps-br-text</td><td>LG-English</td><td>dALAEd</td><td>average</td><td>euclidean</td><td>none</td><td>200</td><td>---</td><td> --- </td><td>99%</td><td>96%</td><td>0.96</td><td>[1023, 1]</td></tr><tr><td>3.2</td><td>CDS-caps-br-text</td><td>LG-English</td><td>dALAEd</td><td>average</td><td>euclidean</td><td>rules</td><td>177</td><td>---</td><td> --- </td><td>99%</td><td>94%</td><td>0.95</td><td>[1023, 1]</td></tr><tr><td>3.3</td><td>CDS-caps-br-text</td><td>LG-English</td><td>dALAMd</td><td>average</td><td>manhattan</td><td>none</td><td>200</td><td>---</td><td> --- </td><td>99%</td><td>96%</td><td>0.96</td><td>[1023, 1]</td></tr><tr><td>3.4</td><td>CDS-caps-br-text</td><td>LG-English</td><td>dALAMd</td><td>average</td><td>manhattan</td><td>rules</td><td>177</td><td>---</td><td> --- </td><td>99%</td><td>94%</td><td>0.95</td><td>[1023, 1]</td></tr><tr><td>3.5</td><td>CDS-caps-br-text</td><td>LG-English</td><td>dALACd</td><td>average</td><td>cosine</td><td>none</td><td>200</td><td>---</td><td> --- </td><td>99%</td><td>72%</td><td>0.73</td><td>[1009, 13, 2, 1]</td></tr><tr><td>3.6</td><td>CDS-caps-br-text</td><td>LG-English</td><td>dALACd</td><td>average</td><td>cosine</td><td>rules</td><td>200</td><td>---</td><td> --- </td><td>99%</td><td>72%</td><td>0.73</td><td>[1009, 13, 2, 1]</td></tr><tr><td>4.1</td><td>CDS-caps-br-text</td><td>LG-English</td><td>dALWEd</td><td>ward</td><td>euclidean</td><td>none</td><td>300</td><td>---</td><td> --- </td><td>99%</td><td>98%</td><td>0.98</td><td>[566, 41, 23, 22, 19]</td></tr><tr><td>4.2</td><td>CDS-caps-br-text</td><td>LG-English</td><td>dALWEd</td><td>ward</td><td>euclidean</td><td>none</td><td>400</td><td>---</td><td> --- </td><td>99%</td><td>97%</td><td>0.98</td><td>[484, 39, 23, 13, 12]</td></tr><tr><td>4.3</td><td>CDS-caps-br-text</td><td>LG-English</td><td>dALWEd</td><td>ward</td><td>euclidean</td><td>none</td><td>500</td><td>---</td><td> --- </td><td>99%</td><td>98%</td><td>0.98</td><td>[408, 29, 20, 12, 11]</td></tr><tr><td>5.1</td><td>CDS-caps-br-text</td><td>LG-English</td><td>dALAEd</td><td>average</td><td>euclidean</td><td>none</td><td>300</td><td>---</td><td> --- </td><td>99%</td><td>96%</td><td>0.97</td><td>[921, 2, 1]</td></tr><tr><td>5.2</td><td>CDS-caps-br-text</td><td>LG-English</td><td>dALAEd</td><td>average</td><td>euclidean</td><td>none</td><td>400</td><td>---</td><td> --- </td><td>99%</td><td>96%</td><td>0.97</td><td>[822, 2, 1]</td></tr><tr><td>5.3</td><td>CDS-caps-br-text</td><td>LG-English</td><td>dALAEd</td><td>average</td><td>euclidean</td><td>none</td><td>500</td><td>---</td><td> --- </td><td>99%</td><td>96%</td><td>0.97</td><td>[713, 4, 3, 2, 1]</td></tr><tr><td>5.4</td><td>CDS-caps-br-text</td><td>LG-English</td><td>dALAMd</td><td>average</td><td>manhattan</td><td>none</td><td>300</td><td>---</td><td> --- </td><td>99%</td><td>96%</td><td>0.97</td><td>[921, 2, 1]</td></tr><tr><td>5.5</td><td>CDS-caps-br-text</td><td>LG-English</td><td>dALAMd</td><td>average</td><td>manhattan</td><td>none</td><td>400</td><td>---</td><td> --- </td><td>99%</td><td>96%</td><td>0.97</td><td>[822, 2, 1]</td></tr><tr><td>5.6</td><td>CDS-caps-br-text</td><td>LG-English</td><td>dALAMd</td><td>average</td><td>manhattan</td><td>none</td><td>500</td><td>---</td><td> --- </td><td>99%</td><td>96%</td><td>0.97</td><td>[712, 4, 3, 2, 1]</td></tr><tr><td>5.7</td><td>CDS-caps-br-text</td><td>LG-English</td><td>dALACd</td><td>average</td><td>cosine</td><td>none</td><td>300</td><td>---</td><td> --- </td><td>99%</td><td>78%</td><td>0.79</td><td>[394, 243, 48, 41, 25]</td></tr><tr><td>5.8</td><td>CDS-caps-br-text</td><td>LG-English</td><td>dALACd</td><td>average</td><td>cosine</td><td>none</td><td>400</td><td>---</td><td> --- </td><td>99%</td><td>96%</td><td>0.96</td><td>[117, 115, 41, 34, 24]</td></tr><tr><td>5.9</td><td>CDS-caps-br-text</td><td>LG-English</td><td>dALACd</td><td>average</td><td>cosine</td><td>none</td><td>500</td><td>---</td><td> --- </td><td>99%</td><td>97%</td><td>0.97</td><td>[82, 69, 24, 23, 19]</td></tr><tr><td>6.1</td><td>CDS-caps-br-text</td><td>LG-English</td><td>dALCEd</td><td>complete</td><td>euclidean</td><td>none</td><td>300</td><td>---</td><td> --- </td><td>99%</td><td>96%</td><td>0.97</td><td>[807, 38, 29, 18, 14]</td></tr><tr><td>6.2</td><td>CDS-caps-br-text</td><td>LG-English</td><td>dALCEd</td><td>complete</td><td>euclidean</td><td>none</td><td>400</td><td>---</td><td> --- </td><td>99%</td><td>96%</td><td>0.97</td><td>[698, 25, 16, 15, 14]</td></tr><tr><td>6.3</td><td>CDS-caps-br-text</td><td>LG-English</td><td>dALCEd</td><td>complete</td><td>euclidean</td><td>none</td><td>500</td><td>---</td><td> --- </td><td>99%</td><td>96%</td><td>0.97</td><td>[498, 89, 13, 12, 11]</td></tr><tr><td>6.4</td><td>CDS-caps-br-text</td><td>LG-English</td><td>dALCMd</td><td>complete</td><td>manhattan</td><td>none</td><td>300</td><td>---</td><td> --- </td><td>99%</td><td>96%</td><td>0.97</td><td>[807, 38, 29, 18, 14]</td></tr><tr><td>6.5</td><td>CDS-caps-br-text</td><td>LG-English</td><td>dALCMd</td><td>complete</td><td>manhattan</td><td>none</td><td>400</td><td>---</td><td> --- </td><td>99%</td><td>96%</td><td>0.97</td><td>[698, 25, 16, 15, 14]</td></tr><tr><td>6.6</td><td>CDS-caps-br-text</td><td>LG-English</td><td>dALCMd</td><td>complete</td><td>manhattan</td><td>none</td><td>500</td><td>---</td><td> --- </td><td>99%</td><td>96%</td><td>0.97</td><td>[498, 89, 13, 12, 11]</td></tr><tr><td>6.7</td><td>CDS-caps-br-text</td><td>LG-English</td><td>dALCCd</td><td>complete</td><td>cosine</td><td>none</td><td>300</td><td>---</td><td> --- </td><td>99%</td><td>86%</td><td>0.87</td><td>[403, 42, 38, 28, 21]</td></tr><tr><td>6.8</td><td>CDS-caps-br-text</td><td>LG-English</td><td>dALCCd</td><td>complete</td><td>cosine</td><td>none</td><td>400</td><td>---</td><td> --- </td><td>99%</td><td>91%</td><td>0.92</td><td>[217, 42, 38, 28, 21]</td></tr><tr><td>6.9</td><td>CDS-caps-br-text</td><td>LG-English</td><td>dALCCd</td><td>complete</td><td>cosine</td><td>none</td><td>500</td><td>---</td><td> --- </td><td>99%</td><td>95%</td><td>0.96</td><td>[50, 42, 38, 28, 21]</td></tr><tr><td>7.1</td><td>CDS-caps-br-text</td><td>LG-English</td><td>dALCCd</td><td>complete</td><td>cosine</td><td>none</td><td>500</td><td>---</td><td> --- </td><td>99%</td><td>95%</td><td>0.96</td><td>[50, 42, 38, 28, 21]</td></tr><tr><td>7.2</td><td>CDS-caps-br-text</td><td>LG-English</td><td>dALCCd</td><td>complete</td><td>cosine</td><td>none</td><td>500</td><td>50</td><td> --- </td><td>99%</td><td>98%</td><td>0.98</td><td>[75, 43, 39, 34, 33]</td></tr><tr><td>7.3</td><td>CDS-caps-br-text</td><td>LG-English</td><td>dALCCd</td><td>complete</td><td>cosine</td><td>none</td><td>500</td><td>20</td><td> --- </td><td>99%</td><td>98%</td><td>0.98</td><td>[109, 105, 79, 73, 53]</td></tr><tr><td>7.4</td><td>CDS-caps-br-text</td><td>LG-English</td><td>dALCCd</td><td>complete</td><td>cosine</td><td>none</td><td>500</td><td>10</td><td> --- </td><td>99%</td><td>97%</td><td>0.97</td><td>[231, 113, 100, 57, 47]</td></tr><tr><td>7.5</td><td>CDS-caps-br-text</td><td>LG-English</td><td>dALACd</td><td>average</td><td>cosine</td><td>none</td><td>500</td><td>---</td><td> --- </td><td>99%</td><td>97%</td><td>0.97</td><td>[82, 69, 24, 23, 19]</td></tr><tr><td>7.6</td><td>CDS-caps-br-text</td><td>LG-English</td><td>dALACd</td><td>average</td><td>cosine</td><td>none</td><td>500</td><td>50</td><td> --- </td><td>99%</td><td>98%</td><td>0.98</td><td>[68, 56, 54, 51, 44]</td></tr><tr><td>7.7</td><td>CDS-caps-br-text</td><td>LG-English</td><td>dALACd</td><td>average</td><td>cosine</td><td>none</td><td>500</td><td>20</td><td> --- </td><td>99%</td><td>98%</td><td>0.98</td><td>[144, 121, 97, 91, 38]</td></tr><tr><td>7.8</td><td>CDS-caps-br-text</td><td>LG-English</td><td>dALACd</td><td>average</td><td>cosine</td><td>none</td><td>500</td><td>10</td><td> --- </td><td>99%</td><td>96%</td><td>0.96</td><td>[364, 183, 47, 18, 9]</td></tr><tr><td>8.1</td><td>CDS-caps-br-text</td><td>LG-English</td><td>dALCCd</td><td>complete</td><td>cosine</td><td>none</td><td>400</td><td>---</td><td> --- </td><td>99%</td><td>91%</td><td>0.92</td><td>[217, 42, 38, 28, 21]</td></tr><tr><td>8.2</td><td>CDS-caps-br-text</td><td>LG-English</td><td>dALCCd</td><td>complete</td><td>cosine</td><td>none</td><td>400</td><td>50</td><td> --- </td><td>99%</td><td>88%</td><td>0.93</td><td>[84, 55, 45, 44, 42]</td></tr><tr><td>8.3</td><td>CDS-caps-br-text</td><td>LG-English</td><td>dALCCd</td><td>complete</td><td>cosine</td><td>none</td><td>400</td><td>20</td><td> --- </td><td>99%</td><td>97%</td><td>0.98</td><td>[124, 113, 87, 77, 59]</td></tr><tr><td>8.4</td><td>CDS-caps-br-text</td><td>LG-English</td><td>dALCCd</td><td>complete</td><td>cosine</td><td>none</td><td>400</td><td>10</td><td> --- </td><td>99%</td><td>91%</td><td>0.92</td><td>[265, 138, 124, 73, 57]</td></tr><tr><td>8.5</td><td>CDS-caps-br-text</td><td>LG-English</td><td>dALACd</td><td>average</td><td>cosine</td><td>none</td><td>400</td><td>---</td><td> --- </td><td>99%</td><td>96%</td><td>0.96</td><td>[117, 115, 41, 34, 24]</td></tr><tr><td>8.6</td><td>CDS-caps-br-text</td><td>LG-English</td><td>dALACd</td><td>average</td><td>cosine</td><td>none</td><td>400</td><td>50</td><td> --- </td><td>99%</td><td>96%</td><td>0.96</td><td>[116, 102, 82, 65, 56]</td></tr><tr><td>8.7</td><td>CDS-caps-br-text</td><td>LG-English</td><td>dALACd</td><td>average</td><td>cosine</td><td>none</td><td>400</td><td>20</td><td> --- </td><td>99%</td><td>95%</td><td>0.96</td><td>[256, 187, 101, 53, 35]</td></tr><tr><td>8.8</td><td>CDS-caps-br-text</td><td>LG-English</td><td>dALACd</td><td>average</td><td>cosine</td><td>none</td><td>400</td><td>10</td><td> --- </td><td>99%</td><td>90%</td><td>0.91</td><td>[601, 72, 19, 18, 14]</td></tr><tr><td>9.1</td><td>CDS-caps-br-text</td><td>LG-English</td><td>dALCCd</td><td>complete</td><td>cosine</td><td>none</td><td>300</td><td>---</td><td> --- </td><td>99%</td><td>86%</td><td>0.87</td><td>[403, 42, 38, 28, 21]</td></tr><tr><td>9.2</td><td>CDS-caps-br-text</td><td>LG-English</td><td>dALCCd</td><td>complete</td><td>cosine</td><td>none</td><td>300</td><td>50</td><td> --- </td><td>99%</td><td>95%</td><td>0.95</td><td>[87, 63, 46, 45, 44]</td></tr><tr><td>9.3</td><td>CDS-caps-br-text</td><td>LG-English</td><td>dALCCd</td><td>complete</td><td>cosine</td><td>none</td><td>300</td><td>20</td><td> --- </td><td>99%</td><td>91%</td><td>0.91</td><td>[136, 115, 93, 86, 75]</td></tr><tr><td>9.4</td><td>CDS-caps-br-text</td><td>LG-English</td><td>dALCCd</td><td>complete</td><td>cosine</td><td>none</td><td>300</td><td>10</td><td> --- </td><td>99%</td><td>78%</td><td>0.79</td><td>[285, 154, 136, 88, 71]</td></tr><tr><td>9.5</td><td>CDS-caps-br-text</td><td>LG-English</td><td>dALACd</td><td>average</td><td>cosine</td><td>none</td><td>300</td><td>---</td><td> --- </td><td>99%</td><td>78%</td><td>0.79</td><td>[394, 243, 48, 41, 25]</td></tr><tr><td>9.6</td><td>CDS-caps-br-text</td><td>LG-English</td><td>dALACd</td><td>average</td><td>cosine</td><td>none</td><td>300</td><td>50</td><td> --- </td><td>99%</td><td>73%</td><td>0.74</td><td>[906, 5, 4, 3, 2]</td></tr><tr><td>9.7</td><td>CDS-caps-br-text</td><td>LG-English</td><td>dALACd</td><td>average</td><td>cosine</td><td>none</td><td>300</td><td>20</td><td> --- </td><td>99%</td><td>73%</td><td>0.74</td><td>[911, 3, 2, 1]</td></tr><tr><td>9.8</td><td>CDS-caps-br-text</td><td>LG-English</td><td>dALACd</td><td>average</td><td>cosine</td><td>none</td><td>300</td><td>10</td><td> --- </td><td>99%</td><td>73%</td><td>0.74</td><td>[909, 3, 2, 1]</td></tr></table>"
      ],
      "text/plain": [
       "<IPython.core.display.HTML object>"
      ]
     },
     "metadata": {},
     "output_type": "display_data"
    }
   ],
   "source": [
    "display(html_table([header] + table))"
   ]
  },
  {
   "cell_type": "code",
   "execution_count": 14,
   "metadata": {
    "ExecuteTime": {
     "end_time": "2018-11-16T20:24:15.391036Z",
     "start_time": "2018-11-16T20:24:15.326704Z"
    }
   },
   "outputs": [
    {
     "name": "stdout",
     "output_type": "stream",
     "text": [
      "2018-11-16 20:24:15 UTC :: finished, elapsed 0.4 hours\n",
      "Results saved to /home/obaskov/94/language-learning/output/Agglomerative-Clustering-2018-11-16/table.txt\n"
     ]
    }
   ],
   "source": [
    "print(UTC(), ':: finished, elapsed', str(round((time.time()-start)/3600.0, 1)), 'hours')\n",
    "table_str = list2file(table, out_dir + '/table.txt')\n",
    "print('Results saved to', out_dir + '/table.txt')"
   ]
  },
  {
   "cell_type": "code",
   "execution_count": null,
   "metadata": {},
   "outputs": [],
   "source": []
  }
 ],
 "metadata": {
  "kernelspec": {
   "display_name": "Python [default]",
   "language": "python",
   "name": "python3"
  },
  "language_info": {
   "codemirror_mode": {
    "name": "ipython",
    "version": 3
   },
   "file_extension": ".py",
   "mimetype": "text/x-python",
   "name": "python",
   "nbconvert_exporter": "python",
   "pygments_lexer": "ipython3",
   "version": "3.6.6"
  },
  "toc": {
   "base_numbering": 1,
   "nav_menu": {},
   "number_sections": true,
   "sideBar": true,
   "skip_h1_title": false,
   "title_cell": "Table of Contents",
   "title_sidebar": "Contents",
   "toc_cell": false,
   "toc_position": {},
   "toc_section_display": true,
   "toc_window_display": false
  }
 },
 "nbformat": 4,
 "nbformat_minor": 2
}
