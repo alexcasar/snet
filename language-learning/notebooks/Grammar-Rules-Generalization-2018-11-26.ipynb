{
 "cells": [
  {
   "cell_type": "markdown",
   "metadata": {},
   "source": [
    "# Grammar rules generalization `2018-11-26`\n",
    "\n",
    "Updated [Grammar-Rules-Generalization-2018-11-23_.html](http://langlearn.singularitynet.io/data/clustering_2018/html/Grammar-Rules-Generalization-2018-11-23_.html) -- improved cells 16, 18.  \n",
    "Link Grammar 5.4.4, `test_grammar` updated 2018-10-19. generalization updated 2018-11-26.  \n",
    "This notebook is shared as static [Grammar-Rules-Generalization-2018-11-26.html](http://langlearn.singularitynet.io/data/clustering_2018/html/Grammar-Rules-Generalization-2018-11-26.html).  \n",
    "Data -- [clustering_2018/Grammar-Rules-Generalization-2018-11-26](http://langlearn.singularitynet.io/data/clustering_2018/Grammar-Rules-Generalization-2018-11-26) folder."
   ]
  },
  {
   "cell_type": "markdown",
   "metadata": {},
   "source": [
    "## Basic settings"
   ]
  },
  {
   "cell_type": "code",
   "execution_count": 1,
   "metadata": {
    "ExecuteTime": {
     "end_time": "2018-11-26T10:53:04.743928Z",
     "start_time": "2018-11-26T10:53:03.927545Z"
    }
   },
   "outputs": [
    {
     "name": "stdout",
     "output_type": "stream",
     "text": [
      "2018-11-26 10:53:04 UTC :: module_path = /home/obaskov/94/language-learning\n"
     ]
    }
   ],
   "source": [
    "import os, sys, time\n",
    "from collections import OrderedDict, Counter\n",
    "module_path = os.path.abspath(os.path.join('..'))\n",
    "if module_path not in sys.path: sys.path.append(module_path)\n",
    "from src.grammar_learner.utl import UTC\n",
    "from src.grammar_learner.read_files import check_dir\n",
    "from src.grammar_learner.write_files import list2file\n",
    "from src.grammar_learner.widgets import html_table\n",
    "from src.grammar_learner.pqa_table import table_rows, wide_rows\n",
    "tmpath = module_path + '/tmp/'\n",
    "check_dir(tmpath, True, 'none')\n",
    "table = []\n",
    "start = time.time()\n",
    "print(UTC(), ':: module_path =', module_path)"
   ]
  },
  {
   "cell_type": "markdown",
   "metadata": {},
   "source": [
    "## Corpus test settings"
   ]
  },
  {
   "cell_type": "code",
   "execution_count": 2,
   "metadata": {
    "ExecuteTime": {
     "end_time": "2018-11-26T10:53:04.753894Z",
     "start_time": "2018-11-26T10:53:04.746062Z"
    }
   },
   "outputs": [],
   "source": [
    "out_dir = module_path + '/output/Grammar-Rules-Generalization-' + str(UTC())[:10]\n",
    "corpus = 'CDS-br-text'  # 'CDS-caps-br-text'  # 2018-11-22 shorter names\n",
    "dataset = 'LG-E-clean'  # 2018-10-29: only 100% parsed, shorter names: \n",
    "lines = [[0, corpus, dataset, 0, 0, 'none'], \n",
    "         [1, corpus, dataset, 0, 0, 'rules'],\n",
    "         [2, corpus, dataset, 0, 0, 'updated'],\n",
    "         [3, corpus, dataset, 0, 0, 'new']] \n",
    "rp = module_path + '/data/CDS-br-text/LG-E-clean'  # \"clean-clean\" renamed\n",
    "cp = rp  # corpus path = reference_path :: use 'gold' parses as test corpus\n",
    "runs = (1,1)\n",
    "kwargs = {\n",
    "    'left_wall'     :   ''          ,\n",
    "    'period'        :   False       ,\n",
    "    'context'       :   2           ,\n",
    "    'word_space'    :   'sparse'    ,\n",
    "    'clustering'    :   ['agglomerative', 'ward', 'euclidean'],\n",
    "    'cluster_range' :   400         ,\n",
    "    'clustering_metric' : ['silhouette', 'cosine'],\n",
    "    'grammar_rules' :   2           ,\n",
    "    'rules_merge'       :   0.8     , # grammar rules merge threshold\n",
    "    'rules_aggregation' :   0.2     , # grammar rules aggregation threshold\n",
    "    'top_level'         :   0.1     , # top-level rules generalization threshold\n",
    "    'tmpath'        :   tmpath      , \n",
    "    'verbose'       :   'min'       ,\n",
    "    'template_path' :   'poc-turtle',\n",
    "    'linkage_limit' :   1000        }"
   ]
  },
  {
   "cell_type": "markdown",
   "metadata": {},
   "source": [
    "## 1 line test"
   ]
  },
  {
   "cell_type": "code",
   "execution_count": 3,
   "metadata": {
    "ExecuteTime": {
     "end_time": "2018-11-26T10:53:29.543339Z",
     "start_time": "2018-11-26T10:53:04.755722Z"
    },
    "scrolled": true
   },
   "outputs": [],
   "source": [
    "%%capture\n",
    "kwargs['clustering'] = ['agglomerative', 'ward', 'euclidean']\n",
    "kwargs['cluster_range'] = 400\n",
    "kwargs['rules_aggregation'] = 0.1  # default 0.2\n",
    "#a0, _, header, log0, rules0 = wide_rows(lines, out_dir, cp, rp, runs, **kwargs)\n",
    "a0, _, header, log0, rules0 = wide_rows([lines[0], lines[3]], out_dir, cp, rp, runs, **kwargs)\n",
    "display(html_table([header] + a0))"
   ]
  },
  {
   "cell_type": "code",
   "execution_count": 4,
   "metadata": {
    "ExecuteTime": {
     "end_time": "2018-11-26T10:53:29.553459Z",
     "start_time": "2018-11-26T10:53:29.547515Z"
    },
    "scrolled": true
   },
   "outputs": [
    {
     "data": {
      "text/html": [
       "<table><tr><td>Line</td><td>Corpus</td><td>Parsing</td><td>Space</td><td>Linkage</td><td>Affinity</td><td>G12n</td><td>Threshold</td><td>Rules</td><td>NN</td><td>SI</td><td>PA</td><td>PQ</td><td>F1</td><td>Top 5 cluster sizes</td></tr><tr><td>0</td><td>CDS-br-text</td><td>LG-E-clean</td><td>dALWEd</td><td>ward</td><td>euclidean</td><td>none</td><td>---</td><td>400</td><td>---</td><td>0.0</td><td>99%</td><td>96%</td><td>0.97</td><td>[359, 30, 25, 14, 11]</td></tr><tr><td>3</td><td>CDS-br-text</td><td>LG-E-clean</td><td>dALWEd</td><td>ward</td><td>euclidean</td><td>new</td><td>0.1</td><td>198</td><td>---</td><td>0.0</td><td>99%</td><td>89%</td><td>0.90</td><td>[364, 359, 30, 11, 9]</td></tr></table>"
      ],
      "text/plain": [
       "<IPython.core.display.HTML object>"
      ]
     },
     "metadata": {},
     "output_type": "display_data"
    }
   ],
   "source": [
    "display(html_table([header] + a0))"
   ]
  },
  {
   "cell_type": "markdown",
   "metadata": {},
   "source": [
    "# 3 versions of gramar rules generalization:\n",
    "3 levels of generalization:  \n",
    "1. Top-level hierarchy of \"abstract\" categories joining multipble grammar rules (categories)  \n",
    "2. Grammar categories forming Ling Grammar rules, indexed AA...ZZ\n",
    "3. Sub-categories of grammar categories.  \n",
    "\n",
    "Column \"G12n\" (Generalization) describes levels 2,3 agglomeration:\n",
    "- none -- no generalization,  \n",
    "- rules -- legacy version of jaccard index based generalization (~June 2018),  \n",
    "- updated -- enhanced hierarchical generalization,  \n",
    "- new -- fast iterative generalization providing almost flat sub-category level."
   ]
  },
  {
   "cell_type": "markdown",
   "metadata": {},
   "source": [
    "## Linkage = \"ward\", affinity = \"euclidean\" (the only choice)"
   ]
  },
  {
   "cell_type": "code",
   "execution_count": 5,
   "metadata": {
    "ExecuteTime": {
     "end_time": "2018-11-26T10:54:22.328931Z",
     "start_time": "2018-11-26T10:53:29.556354Z"
    }
   },
   "outputs": [],
   "source": [
    "%%capture\n",
    "kwargs['clustering'] = ['agglomerative', 'ward', 'euclidean']\n",
    "kwargs['rules_aggregation'] = 0.1  # default 0.2\n",
    "a1, _, header, log1, rules1 = wide_rows(lines, out_dir, cp, rp, runs, **kwargs)"
   ]
  },
  {
   "cell_type": "code",
   "execution_count": 6,
   "metadata": {
    "ExecuteTime": {
     "end_time": "2018-11-26T10:54:22.340622Z",
     "start_time": "2018-11-26T10:54:22.333168Z"
    }
   },
   "outputs": [
    {
     "data": {
      "text/html": [
       "<table><tr><td>Line</td><td>Corpus</td><td>Parsing</td><td>Space</td><td>Linkage</td><td>Affinity</td><td>G12n</td><td>Threshold</td><td>Rules</td><td>NN</td><td>SI</td><td>PA</td><td>PQ</td><td>F1</td><td>Top 5 cluster sizes</td></tr><tr><td>0</td><td>CDS-br-text</td><td>LG-E-clean</td><td>dALWEd</td><td>ward</td><td>euclidean</td><td>none</td><td>---</td><td>400</td><td>---</td><td>0.0</td><td>99%</td><td>96%</td><td>0.97</td><td>[359, 30, 25, 14, 11]</td></tr><tr><td>1</td><td>CDS-br-text</td><td>LG-E-clean</td><td>dALWEd</td><td>ward</td><td>euclidean</td><td>rules</td><td>0.1</td><td>249</td><td>---</td><td>0.0</td><td>99%</td><td>98%</td><td>0.98</td><td>[359, 51, 30, 28, 27]</td></tr><tr><td>2</td><td>CDS-br-text</td><td>LG-E-clean</td><td>dALWEd</td><td>ward</td><td>euclidean</td><td>updated</td><td>0.1</td><td>215</td><td>---</td><td>0.0</td><td>99%</td><td>97%</td><td>0.98</td><td>[359, 48, 39, 30, 25]</td></tr><tr><td>3</td><td>CDS-br-text</td><td>LG-E-clean</td><td>dALWEd</td><td>ward</td><td>euclidean</td><td>new</td><td>0.1</td><td>198</td><td>---</td><td>0.0</td><td>99%</td><td>89%</td><td>0.90</td><td>[364, 359, 30, 11, 9]</td></tr></table>"
      ],
      "text/plain": [
       "<IPython.core.display.HTML object>"
      ]
     },
     "metadata": {},
     "output_type": "display_data"
    }
   ],
   "source": [
    "display(html_table([header] + a1))"
   ]
  },
  {
   "cell_type": "markdown",
   "metadata": {},
   "source": [
    "## \"Complete\" linkage, \"manhattan\" affinity"
   ]
  },
  {
   "cell_type": "code",
   "execution_count": 7,
   "metadata": {
    "ExecuteTime": {
     "end_time": "2018-11-26T10:55:16.546422Z",
     "start_time": "2018-11-26T10:54:22.344536Z"
    }
   },
   "outputs": [],
   "source": [
    "%%capture\n",
    "kwargs['clustering'] = ['agglomerative', 'complete', 'manhattan']\n",
    "a2, _, header, log2, rules2 = wide_rows(lines, out_dir, cp, rp, runs, **kwargs)"
   ]
  },
  {
   "cell_type": "code",
   "execution_count": 8,
   "metadata": {
    "ExecuteTime": {
     "end_time": "2018-11-26T10:55:16.551485Z",
     "start_time": "2018-11-26T10:55:16.548101Z"
    }
   },
   "outputs": [
    {
     "data": {
      "text/html": [
       "<table><tr><td>Line</td><td>Corpus</td><td>Parsing</td><td>Space</td><td>Linkage</td><td>Affinity</td><td>G12n</td><td>Threshold</td><td>Rules</td><td>NN</td><td>SI</td><td>PA</td><td>PQ</td><td>F1</td><td>Top 5 cluster sizes</td></tr><tr><td>0</td><td>CDS-br-text</td><td>LG-E-clean</td><td>dALCMd</td><td>complete</td><td>manhattan</td><td>none</td><td>---</td><td>400</td><td>---</td><td>0.0</td><td>99%</td><td>96%</td><td>0.97</td><td>[466, 37, 11, 9, 8]</td></tr><tr><td>1</td><td>CDS-br-text</td><td>LG-E-clean</td><td>dALCMd</td><td>complete</td><td>manhattan</td><td>rules</td><td>0.1</td><td>252</td><td>---</td><td>0.0</td><td>99%</td><td>97%</td><td>0.98</td><td>[466, 37, 34, 23, 17]</td></tr><tr><td>2</td><td>CDS-br-text</td><td>LG-E-clean</td><td>dALCMd</td><td>complete</td><td>manhattan</td><td>updated</td><td>0.1</td><td>218</td><td>---</td><td>0.0</td><td>99%</td><td>97%</td><td>0.98</td><td>[466, 37, 33, 31, 23]</td></tr><tr><td>3</td><td>CDS-br-text</td><td>LG-E-clean</td><td>dALCMd</td><td>complete</td><td>manhattan</td><td>new</td><td>0.1</td><td>194</td><td>---</td><td>0.0</td><td>99%</td><td>89%</td><td>0.90</td><td>[466, 283, 37, 11, 9]</td></tr></table>"
      ],
      "text/plain": [
       "<IPython.core.display.HTML object>"
      ]
     },
     "metadata": {},
     "output_type": "display_data"
    }
   ],
   "source": [
    "display(html_table([header] + a2))"
   ]
  },
  {
   "cell_type": "markdown",
   "metadata": {},
   "source": [
    "## \"Complete\" linkage, \"cosine\" affinity"
   ]
  },
  {
   "cell_type": "code",
   "execution_count": 9,
   "metadata": {
    "ExecuteTime": {
     "end_time": "2018-11-26T10:56:16.288893Z",
     "start_time": "2018-11-26T10:55:16.552741Z"
    },
    "scrolled": true
   },
   "outputs": [],
   "source": [
    "%%capture\n",
    "kwargs['rules_aggregation'] = 0.1\n",
    "kwargs['clustering'] = ['agglomerative', 'complete', 'cosine']\n",
    "a3, _, header, log3, rules3 = wide_rows(lines, out_dir, cp, rp, runs, **kwargs)"
   ]
  },
  {
   "cell_type": "code",
   "execution_count": 10,
   "metadata": {
    "ExecuteTime": {
     "end_time": "2018-11-26T10:56:16.298834Z",
     "start_time": "2018-11-26T10:56:16.292672Z"
    }
   },
   "outputs": [
    {
     "data": {
      "text/html": [
       "<table><tr><td>Line</td><td>Corpus</td><td>Parsing</td><td>Space</td><td>Linkage</td><td>Affinity</td><td>G12n</td><td>Threshold</td><td>Rules</td><td>NN</td><td>SI</td><td>PA</td><td>PQ</td><td>F1</td><td>Top 5 cluster sizes</td></tr><tr><td>0</td><td>CDS-br-text</td><td>LG-E-clean</td><td>dALCCd</td><td>complete</td><td>cosine</td><td>none</td><td>---</td><td>400</td><td>---</td><td>0.0</td><td>99%</td><td>89%</td><td>0.90</td><td>[124, 53, 43, 21, 14]</td></tr><tr><td>1</td><td>CDS-br-text</td><td>LG-E-clean</td><td>dALCCd</td><td>complete</td><td>cosine</td><td>rules</td><td>0.1</td><td>244</td><td>---</td><td>0.0</td><td>99%</td><td>85%</td><td>0.86</td><td>[338, 124, 21, 17, 14]</td></tr><tr><td>2</td><td>CDS-br-text</td><td>LG-E-clean</td><td>dALCCd</td><td>complete</td><td>cosine</td><td>updated</td><td>0.1</td><td>207</td><td>---</td><td>0.0</td><td>99%</td><td>83%</td><td>0.84</td><td>[338, 124, 67, 26, 20]</td></tr><tr><td>3</td><td>CDS-br-text</td><td>LG-E-clean</td><td>dALCCd</td><td>complete</td><td>cosine</td><td>new</td><td>0.1</td><td>370</td><td>---</td><td>0.0</td><td>99%</td><td>89%</td><td>0.90</td><td>[124, 59, 53, 29, 21]</td></tr></table>"
      ],
      "text/plain": [
       "<IPython.core.display.HTML object>"
      ]
     },
     "metadata": {},
     "output_type": "display_data"
    }
   ],
   "source": [
    "display(html_table([header] + a3))"
   ]
  },
  {
   "cell_type": "markdown",
   "metadata": {},
   "source": [
    "## \"Average\" linkage, \"cosine\" affinity -- similarities less 0.1"
   ]
  },
  {
   "cell_type": "code",
   "execution_count": 11,
   "metadata": {
    "ExecuteTime": {
     "end_time": "2018-11-26T10:57:08.210882Z",
     "start_time": "2018-11-26T10:56:16.301695Z"
    }
   },
   "outputs": [],
   "source": [
    "%%capture\n",
    "kwargs['rules_aggregation'] = 0.05   # no generalization wiht 0.1 similarity!\n",
    "kwargs['clustering'] = ['agglomerative', 'average', 'cosine']\n",
    "a4, _, header, log4, rules4 = wide_rows(lines, out_dir, cp, rp, runs, **kwargs)"
   ]
  },
  {
   "cell_type": "code",
   "execution_count": 12,
   "metadata": {
    "ExecuteTime": {
     "end_time": "2018-11-26T10:57:08.221161Z",
     "start_time": "2018-11-26T10:57:08.214931Z"
    },
    "scrolled": true
   },
   "outputs": [
    {
     "data": {
      "text/html": [
       "<table><tr><td>Line</td><td>Corpus</td><td>Parsing</td><td>Space</td><td>Linkage</td><td>Affinity</td><td>G12n</td><td>Threshold</td><td>Rules</td><td>NN</td><td>SI</td><td>PA</td><td>PQ</td><td>F1</td><td>Top 5 cluster sizes</td></tr><tr><td>0</td><td>CDS-br-text</td><td>LG-E-clean</td><td>dALACd</td><td>average</td><td>cosine</td><td>none</td><td>---</td><td>400</td><td>---</td><td>0.0</td><td>99%</td><td>97%</td><td>0.98</td><td>[98, 95, 25, 24, 17]</td></tr><tr><td>1</td><td>CDS-br-text</td><td>LG-E-clean</td><td>dALACd</td><td>average</td><td>cosine</td><td>rules</td><td>0.05</td><td>291</td><td>---</td><td>0.0</td><td>99%</td><td>83%</td><td>0.84</td><td>[476, 54, 26, 15, 12]</td></tr><tr><td>2</td><td>CDS-br-text</td><td>LG-E-clean</td><td>dALACd</td><td>average</td><td>cosine</td><td>updated</td><td>0.05</td><td>283</td><td>---</td><td>0.0</td><td>99%</td><td>83%</td><td>0.84</td><td>[476, 56, 26, 21, 15]</td></tr><tr><td>3</td><td>CDS-br-text</td><td>LG-E-clean</td><td>dALACd</td><td>average</td><td>cosine</td><td>new</td><td>0.05</td><td>359</td><td>---</td><td>0.0</td><td>99%</td><td>89%</td><td>0.89</td><td>[315, 98, 58, 24, 13]</td></tr></table>"
      ],
      "text/plain": [
       "<IPython.core.display.HTML object>"
      ]
     },
     "metadata": {},
     "output_type": "display_data"
    }
   ],
   "source": [
    "display(html_table([header] + a4))"
   ]
  },
  {
   "cell_type": "markdown",
   "metadata": {},
   "source": [
    "# Varying rules aggregation parameters"
   ]
  },
  {
   "cell_type": "markdown",
   "metadata": {},
   "source": [
    "## Rules generalization merge threshold = 0.1"
   ]
  },
  {
   "cell_type": "code",
   "execution_count": 13,
   "metadata": {
    "ExecuteTime": {
     "end_time": "2018-11-26T11:03:23.535819Z",
     "start_time": "2018-11-26T10:57:08.224059Z"
    }
   },
   "outputs": [],
   "source": [
    "%%capture\n",
    "kwargs['rules_aggregation'] = 0.1\n",
    "t1 = []\n",
    "n = 0\n",
    "for linkage in ['ward', 'complete', 'average']:\n",
    "    n += 1\n",
    "    m = 0\n",
    "    for affinity in ['euclidean', 'manhattan', 'cosine']:\n",
    "        if linkage == 'ward' and affinity != 'euclidean': continue\n",
    "        # m += 1\n",
    "        # lines[0][0] = round(n + 0.1*m, 1)\n",
    "        lines[0][0] = ''\n",
    "        m += 1\n",
    "        lines[1][0] = round(n + 0.1*m, 1)\n",
    "        m += 1\n",
    "        lines[2][0] = round(n + 0.1*m, 1)\n",
    "        m += 1\n",
    "        lines[3][0] = round(n + 0.1*m, 1)\n",
    "        kwargs['clustering'] = ['agglomerative', linkage, affinity]\n",
    "        a, _, header, log, _ = wide_rows(lines, out_dir, cp, rp, runs, **kwargs)\n",
    "        t1.extend(a)\n",
    "        table.extend(a)"
   ]
  },
  {
   "cell_type": "code",
   "execution_count": 14,
   "metadata": {
    "ExecuteTime": {
     "end_time": "2018-11-26T11:03:23.546975Z",
     "start_time": "2018-11-26T11:03:23.539912Z"
    },
    "scrolled": true
   },
   "outputs": [
    {
     "data": {
      "text/html": [
       "<table><tr><td>Line</td><td>Corpus</td><td>Parsing</td><td>Space</td><td>Linkage</td><td>Affinity</td><td>G12n</td><td>Threshold</td><td>Rules</td><td>NN</td><td>SI</td><td>PA</td><td>PQ</td><td>F1</td><td>Top 5 cluster sizes</td></tr><tr><td></td><td>CDS-br-text</td><td>LG-E-clean</td><td>dALWEd</td><td>ward</td><td>euclidean</td><td>none</td><td>---</td><td>400</td><td>---</td><td>0.0</td><td>99%</td><td>96%</td><td>0.97</td><td>[359, 30, 25, 14, 11]</td></tr><tr><td>1.1</td><td>CDS-br-text</td><td>LG-E-clean</td><td>dALWEd</td><td>ward</td><td>euclidean</td><td>rules</td><td>0.1</td><td>249</td><td>---</td><td>0.0</td><td>99%</td><td>98%</td><td>0.98</td><td>[359, 51, 30, 28, 27]</td></tr><tr><td>1.2</td><td>CDS-br-text</td><td>LG-E-clean</td><td>dALWEd</td><td>ward</td><td>euclidean</td><td>updated</td><td>0.1</td><td>215</td><td>---</td><td>0.0</td><td>99%</td><td>97%</td><td>0.98</td><td>[359, 48, 39, 30, 25]</td></tr><tr><td>1.3</td><td>CDS-br-text</td><td>LG-E-clean</td><td>dALWEd</td><td>ward</td><td>euclidean</td><td>new</td><td>0.1</td><td>198</td><td>---</td><td>0.0</td><td>99%</td><td>89%</td><td>0.90</td><td>[364, 359, 30, 11, 9]</td></tr><tr><td></td><td>CDS-br-text</td><td>LG-E-clean</td><td>dALCEd</td><td>complete</td><td>euclidean</td><td>none</td><td>---</td><td>400</td><td>---</td><td>0.0</td><td>99%</td><td>96%</td><td>0.97</td><td>[466, 37, 11, 9, 8]</td></tr><tr><td>2.1</td><td>CDS-br-text</td><td>LG-E-clean</td><td>dALCEd</td><td>complete</td><td>euclidean</td><td>rules</td><td>0.1</td><td>252</td><td>---</td><td>0.0</td><td>99%</td><td>97%</td><td>0.98</td><td>[466, 37, 34, 23, 17]</td></tr><tr><td>2.2</td><td>CDS-br-text</td><td>LG-E-clean</td><td>dALCEd</td><td>complete</td><td>euclidean</td><td>updated</td><td>0.1</td><td>218</td><td>---</td><td>0.0</td><td>99%</td><td>97%</td><td>0.98</td><td>[466, 37, 33, 31, 23]</td></tr><tr><td>2.3</td><td>CDS-br-text</td><td>LG-E-clean</td><td>dALCEd</td><td>complete</td><td>euclidean</td><td>new</td><td>0.1</td><td>194</td><td>---</td><td>0.0</td><td>99%</td><td>89%</td><td>0.90</td><td>[466, 283, 37, 11, 9]</td></tr><tr><td></td><td>CDS-br-text</td><td>LG-E-clean</td><td>dALCMd</td><td>complete</td><td>manhattan</td><td>none</td><td>---</td><td>400</td><td>---</td><td>0.0</td><td>99%</td><td>96%</td><td>0.97</td><td>[466, 37, 11, 9, 8]</td></tr><tr><td>2.4</td><td>CDS-br-text</td><td>LG-E-clean</td><td>dALCMd</td><td>complete</td><td>manhattan</td><td>rules</td><td>0.1</td><td>252</td><td>---</td><td>0.0</td><td>99%</td><td>97%</td><td>0.98</td><td>[466, 37, 34, 23, 17]</td></tr><tr><td>2.5</td><td>CDS-br-text</td><td>LG-E-clean</td><td>dALCMd</td><td>complete</td><td>manhattan</td><td>updated</td><td>0.1</td><td>218</td><td>---</td><td>0.0</td><td>99%</td><td>97%</td><td>0.98</td><td>[466, 37, 33, 31, 23]</td></tr><tr><td>2.6</td><td>CDS-br-text</td><td>LG-E-clean</td><td>dALCMd</td><td>complete</td><td>manhattan</td><td>new</td><td>0.1</td><td>194</td><td>---</td><td>0.0</td><td>99%</td><td>89%</td><td>0.90</td><td>[466, 283, 37, 11, 9]</td></tr><tr><td></td><td>CDS-br-text</td><td>LG-E-clean</td><td>dALCCd</td><td>complete</td><td>cosine</td><td>none</td><td>---</td><td>400</td><td>---</td><td>0.0</td><td>99%</td><td>89%</td><td>0.90</td><td>[124, 53, 43, 21, 14]</td></tr><tr><td>2.7</td><td>CDS-br-text</td><td>LG-E-clean</td><td>dALCCd</td><td>complete</td><td>cosine</td><td>rules</td><td>0.1</td><td>244</td><td>---</td><td>0.0</td><td>99%</td><td>85%</td><td>0.86</td><td>[338, 124, 21, 17, 14]</td></tr><tr><td>2.8</td><td>CDS-br-text</td><td>LG-E-clean</td><td>dALCCd</td><td>complete</td><td>cosine</td><td>updated</td><td>0.1</td><td>207</td><td>---</td><td>0.0</td><td>99%</td><td>83%</td><td>0.84</td><td>[338, 124, 67, 26, 20]</td></tr><tr><td>2.9</td><td>CDS-br-text</td><td>LG-E-clean</td><td>dALCCd</td><td>complete</td><td>cosine</td><td>new</td><td>0.1</td><td>370</td><td>---</td><td>0.0</td><td>99%</td><td>89%</td><td>0.90</td><td>[124, 59, 53, 29, 21]</td></tr><tr><td></td><td>CDS-br-text</td><td>LG-E-clean</td><td>dALAEd</td><td>average</td><td>euclidean</td><td>none</td><td>---</td><td>400</td><td>---</td><td>0.0</td><td>99%</td><td>96%</td><td>0.97</td><td>[627, 3, 2, 1, 0]</td></tr><tr><td>3.1</td><td>CDS-br-text</td><td>LG-E-clean</td><td>dALAEd</td><td>average</td><td>euclidean</td><td>rules</td><td>0.1</td><td>247</td><td>---</td><td>0.0</td><td>99%</td><td>97%</td><td>0.98</td><td>[627, 20, 16, 11, 9]</td></tr><tr><td>3.2</td><td>CDS-br-text</td><td>LG-E-clean</td><td>dALAEd</td><td>average</td><td>euclidean</td><td>updated</td><td>0.1</td><td>197</td><td>---</td><td>0.0</td><td>99%</td><td>94%</td><td>0.95</td><td>[643, 46, 35, 11, 10]</td></tr><tr><td>3.3</td><td>CDS-br-text</td><td>LG-E-clean</td><td>dALAEd</td><td>average</td><td>euclidean</td><td>new</td><td>0.1</td><td>192</td><td>---</td><td>0.0</td><td>99%</td><td>89%</td><td>0.90</td><td>[627, 202, 4, 3, 2]</td></tr><tr><td></td><td>CDS-br-text</td><td>LG-E-clean</td><td>dALAMd</td><td>average</td><td>manhattan</td><td>none</td><td>---</td><td>400</td><td>---</td><td>0.0</td><td>99%</td><td>96%</td><td>0.98</td><td>[626, 3, 2, 1, 0]</td></tr><tr><td>3.4</td><td>CDS-br-text</td><td>LG-E-clean</td><td>dALAMd</td><td>average</td><td>manhattan</td><td>rules</td><td>0.1</td><td>247</td><td>---</td><td>0.0</td><td>99%</td><td>97%</td><td>0.98</td><td>[626, 20, 17, 11, 9]</td></tr><tr><td>3.5</td><td>CDS-br-text</td><td>LG-E-clean</td><td>dALAMd</td><td>average</td><td>manhattan</td><td>updated</td><td>0.1</td><td>192</td><td>---</td><td>0.0</td><td>99%</td><td>97%</td><td>0.97</td><td>[638, 48, 46, 9, 7]</td></tr><tr><td>3.6</td><td>CDS-br-text</td><td>LG-E-clean</td><td>dALAMd</td><td>average</td><td>manhattan</td><td>new</td><td>0.1</td><td>193</td><td>---</td><td>0.0</td><td>99%</td><td>89%</td><td>0.90</td><td>[626, 201, 4, 3, 2]</td></tr><tr><td></td><td>CDS-br-text</td><td>LG-E-clean</td><td>dALACd</td><td>average</td><td>cosine</td><td>none</td><td>---</td><td>400</td><td>---</td><td>0.0</td><td>99%</td><td>97%</td><td>0.98</td><td>[98, 95, 25, 24, 17]</td></tr><tr><td>3.7</td><td>CDS-br-text</td><td>LG-E-clean</td><td>dALACd</td><td>average</td><td>cosine</td><td>rules</td><td>0.1</td><td>400</td><td>---</td><td>0.0</td><td>99%</td><td>97%</td><td>0.97</td><td>[98, 95, 25, 24, 17]</td></tr><tr><td>3.8</td><td>CDS-br-text</td><td>LG-E-clean</td><td>dALACd</td><td>average</td><td>cosine</td><td>updated</td><td>0.1</td><td>400</td><td>---</td><td>0.0</td><td>99%</td><td>97%</td><td>0.97</td><td>[98, 95, 25, 24, 17]</td></tr><tr><td>3.9</td><td>CDS-br-text</td><td>LG-E-clean</td><td>dALACd</td><td>average</td><td>cosine</td><td>new</td><td>0.1</td><td>400</td><td>---</td><td>0.0</td><td>99%</td><td>97%</td><td>0.97</td><td>[98, 95, 25, 24, 17]</td></tr></table>"
      ],
      "text/plain": [
       "<IPython.core.display.HTML object>"
      ]
     },
     "metadata": {},
     "output_type": "display_data"
    }
   ],
   "source": [
    "display(html_table([header] + t1))"
   ]
  },
  {
   "cell_type": "markdown",
   "metadata": {},
   "source": [
    "## Rules generalization merge threshold = 0.05"
   ]
  },
  {
   "cell_type": "code",
   "execution_count": 15,
   "metadata": {
    "ExecuteTime": {
     "end_time": "2018-11-26T11:22:27.013599Z",
     "start_time": "2018-11-26T11:03:23.550024Z"
    }
   },
   "outputs": [],
   "source": [
    "%%capture\n",
    "kwargs['rules_aggregation'] = 0.05\n",
    "t2 = []\n",
    "for linkage in ['ward', 'complete', 'average']:\n",
    "    n += 1\n",
    "    m = 0\n",
    "    for affinity in ['euclidean', 'manhattan', 'cosine']:\n",
    "        if linkage == 'ward' and affinity != 'euclidean': continue\n",
    "        # m += 1\n",
    "        # lines[0][0] = round(n + 0.1*m, 1)\n",
    "        lines[0][0] = ''\n",
    "        m += 1\n",
    "        lines[1][0] = round(n + 0.1*m, 1)\n",
    "        m += 1\n",
    "        lines[2][0] = round(n + 0.1*m, 1)\n",
    "        m += 1\n",
    "        lines[3][0] = round(n + 0.1*m, 1)\n",
    "        kwargs['clustering'] = ['agglomerative', linkage, affinity]\n",
    "        a, _, header, log, _ = wide_rows(lines, out_dir, cp, rp, runs, **kwargs)\n",
    "        t2.extend(a)\n",
    "        table.extend(a)"
   ]
  },
  {
   "cell_type": "code",
   "execution_count": 16,
   "metadata": {
    "ExecuteTime": {
     "end_time": "2018-11-26T11:22:27.023312Z",
     "start_time": "2018-11-26T11:22:27.017238Z"
    }
   },
   "outputs": [
    {
     "data": {
      "text/html": [
       "<table><tr><td>Line</td><td>Corpus</td><td>Parsing</td><td>Space</td><td>Linkage</td><td>Affinity</td><td>G12n</td><td>Threshold</td><td>Rules</td><td>NN</td><td>SI</td><td>PA</td><td>PQ</td><td>F1</td><td>Top 5 cluster sizes</td></tr><tr><td></td><td>CDS-br-text</td><td>LG-E-clean</td><td>dALWEd</td><td>ward</td><td>euclidean</td><td>none</td><td>---</td><td>400</td><td>---</td><td>0.0</td><td>99%</td><td>96%</td><td>0.97</td><td>[359, 30, 25, 14, 11]</td></tr><tr><td>4.1</td><td>CDS-br-text</td><td>LG-E-clean</td><td>dALWEd</td><td>ward</td><td>euclidean</td><td>rules</td><td>0.05</td><td>149</td><td>---</td><td>0.0</td><td>99%</td><td>90%</td><td>0.91</td><td>[413, 193, 32, 30, 26]</td></tr><tr><td>4.2</td><td>CDS-br-text</td><td>LG-E-clean</td><td>dALWEd</td><td>ward</td><td>euclidean</td><td>updated</td><td>0.05</td><td>68</td><td>---</td><td>0.0</td><td>99%</td><td>80%</td><td>0.81</td><td>[672, 174, 21, 19, 14]</td></tr><tr><td>4.3</td><td>CDS-br-text</td><td>LG-E-clean</td><td>dALWEd</td><td>ward</td><td>euclidean</td><td>new</td><td>0.05</td><td>81</td><td>---</td><td>0.0</td><td>99%</td><td>76%</td><td>0.77</td><td>[585, 359, 6, 2, 1]</td></tr><tr><td></td><td>CDS-br-text</td><td>LG-E-clean</td><td>dALCEd</td><td>complete</td><td>euclidean</td><td>none</td><td>---</td><td>400</td><td>---</td><td>0.0</td><td>99%</td><td>96%</td><td>0.97</td><td>[466, 37, 11, 9, 8]</td></tr><tr><td>5.1</td><td>CDS-br-text</td><td>LG-E-clean</td><td>dALCEd</td><td>complete</td><td>euclidean</td><td>rules</td><td>0.05</td><td>146</td><td>---</td><td>0.0</td><td>99%</td><td>90%</td><td>0.90</td><td>[549, 117, 68, 37, 13]</td></tr><tr><td>5.2</td><td>CDS-br-text</td><td>LG-E-clean</td><td>dALCEd</td><td>complete</td><td>euclidean</td><td>updated</td><td>0.05</td><td>46</td><td>---</td><td>0.0</td><td>99%</td><td>76%</td><td>0.77</td><td>[716, 245, 10, 5, 4]</td></tr><tr><td>5.3</td><td>CDS-br-text</td><td>LG-E-clean</td><td>dALCEd</td><td>complete</td><td>euclidean</td><td>new</td><td>0.05</td><td>85</td><td>---</td><td>0.0</td><td>99%</td><td>77%</td><td>0.78</td><td>[466, 438, 37, 6, 2]</td></tr><tr><td></td><td>CDS-br-text</td><td>LG-E-clean</td><td>dALCMd</td><td>complete</td><td>manhattan</td><td>none</td><td>---</td><td>400</td><td>---</td><td>0.0</td><td>99%</td><td>96%</td><td>0.97</td><td>[466, 37, 11, 9, 8]</td></tr><tr><td>5.4</td><td>CDS-br-text</td><td>LG-E-clean</td><td>dALCMd</td><td>complete</td><td>manhattan</td><td>rules</td><td>0.05</td><td>146</td><td>---</td><td>0.0</td><td>99%</td><td>90%</td><td>0.90</td><td>[549, 117, 68, 37, 13]</td></tr><tr><td>5.5</td><td>CDS-br-text</td><td>LG-E-clean</td><td>dALCMd</td><td>complete</td><td>manhattan</td><td>updated</td><td>0.05</td><td>46</td><td>---</td><td>0.0</td><td>99%</td><td>76%</td><td>0.77</td><td>[716, 245, 10, 5, 4]</td></tr><tr><td>5.6</td><td>CDS-br-text</td><td>LG-E-clean</td><td>dALCMd</td><td>complete</td><td>manhattan</td><td>new</td><td>0.05</td><td>85</td><td>---</td><td>0.0</td><td>99%</td><td>77%</td><td>0.78</td><td>[466, 438, 37, 6, 2]</td></tr><tr><td></td><td>CDS-br-text</td><td>LG-E-clean</td><td>dALCCd</td><td>complete</td><td>cosine</td><td>none</td><td>---</td><td>400</td><td>---</td><td>0.0</td><td>99%</td><td>89%</td><td>0.90</td><td>[124, 53, 43, 21, 14]</td></tr><tr><td>5.7</td><td>CDS-br-text</td><td>LG-E-clean</td><td>dALCCd</td><td>complete</td><td>cosine</td><td>rules</td><td>0.05</td><td>192</td><td>---</td><td>0.0</td><td>99%</td><td>75%</td><td>0.76</td><td>[700, 31, 12, 9, 8]</td></tr><tr><td>5.8</td><td>CDS-br-text</td><td>LG-E-clean</td><td>dALCCd</td><td>complete</td><td>cosine</td><td>updated</td><td>0.05</td><td>116</td><td>---</td><td>0.0</td><td>99%</td><td>72%</td><td>0.73</td><td>[774, 96, 23, 4, 3]</td></tr><tr><td>5.9</td><td>CDS-br-text</td><td>LG-E-clean</td><td>dALCCd</td><td>complete</td><td>cosine</td><td>new</td><td>0.05</td><td>278</td><td>---</td><td>0.0</td><td>99%</td><td>79%</td><td>0.80</td><td>[525, 124, 10, 9, 6]</td></tr><tr><td></td><td>CDS-br-text</td><td>LG-E-clean</td><td>dALAEd</td><td>average</td><td>euclidean</td><td>none</td><td>---</td><td>400</td><td>---</td><td>0.0</td><td>99%</td><td>96%</td><td>0.97</td><td>[627, 3, 2, 1, 0]</td></tr><tr><td>6.1</td><td>CDS-br-text</td><td>LG-E-clean</td><td>dALAEd</td><td>average</td><td>euclidean</td><td>rules</td><td>0.05</td><td>138</td><td>---</td><td>0.0</td><td>99%</td><td>90%</td><td>0.91</td><td>[687, 60, 31, 30, 14]</td></tr><tr><td>6.2</td><td>CDS-br-text</td><td>LG-E-clean</td><td>dALAEd</td><td>average</td><td>euclidean</td><td>updated</td><td>0.05</td><td>52</td><td>---</td><td>0.0</td><td>99%</td><td>76%</td><td>0.77</td><td>[786, 172, 6, 4, 3]</td></tr><tr><td>6.3</td><td>CDS-br-text</td><td>LG-E-clean</td><td>dALAEd</td><td>average</td><td>euclidean</td><td>new</td><td>0.05</td><td>89</td><td>---</td><td>0.0</td><td>99%</td><td>77%</td><td>0.78</td><td>[927, 9, 5, 2, 1]</td></tr><tr><td></td><td>CDS-br-text</td><td>LG-E-clean</td><td>dALAMd</td><td>average</td><td>manhattan</td><td>none</td><td>---</td><td>400</td><td>---</td><td>0.0</td><td>99%</td><td>96%</td><td>0.98</td><td>[626, 3, 2, 1, 0]</td></tr><tr><td>6.4</td><td>CDS-br-text</td><td>LG-E-clean</td><td>dALAMd</td><td>average</td><td>manhattan</td><td>rules</td><td>0.05</td><td>142</td><td>---</td><td>0.0</td><td>99%</td><td>89%</td><td>0.90</td><td>[699, 59, 30, 15, 14]</td></tr><tr><td>6.5</td><td>CDS-br-text</td><td>LG-E-clean</td><td>dALAMd</td><td>average</td><td>manhattan</td><td>updated</td><td>0.05</td><td>69</td><td>---</td><td>0.0</td><td>99%</td><td>78%</td><td>0.79</td><td>[824, 90, 10, 7, 5]</td></tr><tr><td>6.6</td><td>CDS-br-text</td><td>LG-E-clean</td><td>dALAMd</td><td>average</td><td>manhattan</td><td>new</td><td>0.05</td><td>90</td><td>---</td><td>0.0</td><td>99%</td><td>77%</td><td>0.78</td><td>[926, 9, 5, 2, 1]</td></tr><tr><td></td><td>CDS-br-text</td><td>LG-E-clean</td><td>dALACd</td><td>average</td><td>cosine</td><td>none</td><td>---</td><td>400</td><td>---</td><td>0.0</td><td>99%</td><td>97%</td><td>0.98</td><td>[98, 95, 25, 24, 17]</td></tr><tr><td>6.7</td><td>CDS-br-text</td><td>LG-E-clean</td><td>dALACd</td><td>average</td><td>cosine</td><td>rules</td><td>0.05</td><td>291</td><td>---</td><td>0.0</td><td>99%</td><td>83%</td><td>0.84</td><td>[476, 54, 26, 15, 12]</td></tr><tr><td>6.8</td><td>CDS-br-text</td><td>LG-E-clean</td><td>dALACd</td><td>average</td><td>cosine</td><td>updated</td><td>0.05</td><td>283</td><td>---</td><td>0.0</td><td>99%</td><td>83%</td><td>0.84</td><td>[476, 56, 26, 21, 15]</td></tr><tr><td>6.9</td><td>CDS-br-text</td><td>LG-E-clean</td><td>dALACd</td><td>average</td><td>cosine</td><td>new</td><td>0.05</td><td>359</td><td>---</td><td>0.0</td><td>99%</td><td>89%</td><td>0.89</td><td>[315, 98, 58, 24, 13]</td></tr></table>"
      ],
      "text/plain": [
       "<IPython.core.display.HTML object>"
      ]
     },
     "metadata": {},
     "output_type": "display_data"
    }
   ],
   "source": [
    "display(html_table([header] + t2))"
   ]
  },
  {
   "cell_type": "markdown",
   "metadata": {},
   "source": [
    "## Start with 300 clusters, merge threshold = 0.05"
   ]
  },
  {
   "cell_type": "code",
   "execution_count": 17,
   "metadata": {
    "ExecuteTime": {
     "end_time": "2018-11-26T11:30:54.636710Z",
     "start_time": "2018-11-26T11:22:27.025963Z"
    }
   },
   "outputs": [],
   "source": [
    "%%capture\n",
    "kwargs['cluster_range'] = 300\n",
    "kwargs['rules_aggregation'] = 0.05\n",
    "t3 = []\n",
    "for linkage in ['ward', 'complete', 'average']:\n",
    "    n += 1\n",
    "    m = 0\n",
    "    for affinity in ['euclidean', 'manhattan', 'cosine']:\n",
    "        if linkage == 'ward' and affinity != 'euclidean': continue\n",
    "        lines[0][0] = ''\n",
    "        m += 1\n",
    "        lines[1][0] = round(n + 0.1*m, 1)\n",
    "        m += 1\n",
    "        lines[2][0] = round(n + 0.1*m, 1)\n",
    "        m += 1\n",
    "        lines[3][0] = round(n + 0.1*m, 1)\n",
    "        kwargs['clustering'] = ['agglomerative', linkage, affinity]\n",
    "        a, _, header, log, _ = wide_rows(lines, out_dir, cp, rp, runs, **kwargs)\n",
    "        t3.extend(a)\n",
    "        table.extend(a)"
   ]
  },
  {
   "cell_type": "code",
   "execution_count": 18,
   "metadata": {
    "ExecuteTime": {
     "end_time": "2018-11-26T11:30:54.648912Z",
     "start_time": "2018-11-26T11:30:54.641174Z"
    }
   },
   "outputs": [
    {
     "data": {
      "text/html": [
       "<table><tr><td>Line</td><td>Corpus</td><td>Parsing</td><td>Space</td><td>Linkage</td><td>Affinity</td><td>G12n</td><td>Threshold</td><td>Rules</td><td>NN</td><td>SI</td><td>PA</td><td>PQ</td><td>F1</td><td>Top 5 cluster sizes</td></tr><tr><td></td><td>CDS-br-text</td><td>LG-E-clean</td><td>dALWEd</td><td>ward</td><td>euclidean</td><td>none</td><td>---</td><td>300</td><td>---</td><td>0.0</td><td>99%</td><td>97%</td><td>0.98</td><td>[437, 34, 29, 17, 15]</td></tr><tr><td>7.1</td><td>CDS-br-text</td><td>LG-E-clean</td><td>dALWEd</td><td>ward</td><td>euclidean</td><td>rules</td><td>0.05</td><td>107</td><td>---</td><td>0.0</td><td>99%</td><td>83%</td><td>0.83</td><td>[748, 35, 22, 17, 11]</td></tr><tr><td>7.2</td><td>CDS-br-text</td><td>LG-E-clean</td><td>dALWEd</td><td>ward</td><td>euclidean</td><td>updated</td><td>0.05</td><td>36</td><td>---</td><td>0.0</td><td>99%</td><td>74%</td><td>0.75</td><td>[961, 16, 9, 5, 4]</td></tr><tr><td>7.3</td><td>CDS-br-text</td><td>LG-E-clean</td><td>dALWEd</td><td>ward</td><td>euclidean</td><td>new</td><td>0.05</td><td>73</td><td>---</td><td>0.0</td><td>99%</td><td>78%</td><td>0.79</td><td>[514, 437, 8, 2, 1]</td></tr><tr><td></td><td>CDS-br-text</td><td>LG-E-clean</td><td>dALCEd</td><td>complete</td><td>euclidean</td><td>none</td><td>---</td><td>300</td><td>---</td><td>0.0</td><td>99%</td><td>96%</td><td>0.97</td><td>[607, 23, 12, 11, 10]</td></tr><tr><td>8.1</td><td>CDS-br-text</td><td>LG-E-clean</td><td>dALCEd</td><td>complete</td><td>euclidean</td><td>rules</td><td>0.05</td><td>112</td><td>---</td><td>0.0</td><td>99%</td><td>87%</td><td>0.88</td><td>[742, 32, 25, 20, 19]</td></tr><tr><td>8.2</td><td>CDS-br-text</td><td>LG-E-clean</td><td>dALCEd</td><td>complete</td><td>euclidean</td><td>updated</td><td>0.05</td><td>19</td><td>---</td><td>0.0</td><td>99%</td><td>72%</td><td>0.73</td><td>[1014, 2, 1, 0]</td></tr><tr><td>8.3</td><td>CDS-br-text</td><td>LG-E-clean</td><td>dALCEd</td><td>complete</td><td>euclidean</td><td>new</td><td>0.05</td><td>76</td><td>---</td><td>0.0</td><td>99%</td><td>79%</td><td>0.80</td><td>[607, 332, 8, 7, 3]</td></tr><tr><td></td><td>CDS-br-text</td><td>LG-E-clean</td><td>dALCMd</td><td>complete</td><td>manhattan</td><td>none</td><td>---</td><td>300</td><td>---</td><td>0.0</td><td>99%</td><td>96%</td><td>0.97</td><td>[607, 23, 12, 11, 10]</td></tr><tr><td>8.4</td><td>CDS-br-text</td><td>LG-E-clean</td><td>dALCMd</td><td>complete</td><td>manhattan</td><td>rules</td><td>0.05</td><td>112</td><td>---</td><td>0.0</td><td>99%</td><td>87%</td><td>0.88</td><td>[742, 32, 25, 20, 19]</td></tr><tr><td>8.5</td><td>CDS-br-text</td><td>LG-E-clean</td><td>dALCMd</td><td>complete</td><td>manhattan</td><td>updated</td><td>0.05</td><td>19</td><td>---</td><td>0.0</td><td>99%</td><td>72%</td><td>0.73</td><td>[1014, 2, 1, 0]</td></tr><tr><td>8.6</td><td>CDS-br-text</td><td>LG-E-clean</td><td>dALCMd</td><td>complete</td><td>manhattan</td><td>new</td><td>0.05</td><td>76</td><td>---</td><td>0.0</td><td>99%</td><td>79%</td><td>0.80</td><td>[607, 332, 8, 7, 3]</td></tr><tr><td></td><td>CDS-br-text</td><td>LG-E-clean</td><td>dALCCd</td><td>complete</td><td>cosine</td><td>none</td><td>---</td><td>300</td><td>---</td><td>0.0</td><td>99%</td><td>84%</td><td>0.84</td><td>[295, 53, 43, 21, 14]</td></tr><tr><td>8.7</td><td>CDS-br-text</td><td>LG-E-clean</td><td>dALCCd</td><td>complete</td><td>cosine</td><td>rules</td><td>0.05</td><td>124</td><td>---</td><td>0.0</td><td>99%</td><td>73%</td><td>0.74</td><td>[822, 42, 8, 6, 5]</td></tr><tr><td>8.8</td><td>CDS-br-text</td><td>LG-E-clean</td><td>dALCCd</td><td>complete</td><td>cosine</td><td>updated</td><td>0.05</td><td>45</td><td>---</td><td>0.0</td><td>99%</td><td>71%</td><td>0.72</td><td>[981, 3, 2, 1, 0]</td></tr><tr><td>8.9</td><td>CDS-br-text</td><td>LG-E-clean</td><td>dALCCd</td><td>complete</td><td>cosine</td><td>new</td><td>0.05</td><td>215</td><td>---</td><td>0.0</td><td>99%</td><td>77%</td><td>0.78</td><td>[429, 295, 12, 10, 7]</td></tr><tr><td></td><td>CDS-br-text</td><td>LG-E-clean</td><td>dALAEd</td><td>average</td><td>euclidean</td><td>none</td><td>---</td><td>300</td><td>---</td><td>0.0</td><td>99%</td><td>96%</td><td>0.97</td><td>[733, 3, 1, 0]</td></tr><tr><td>9.1</td><td>CDS-br-text</td><td>LG-E-clean</td><td>dALAEd</td><td>average</td><td>euclidean</td><td>rules</td><td>0.05</td><td>112</td><td>---</td><td>0.0</td><td>99%</td><td>87%</td><td>0.88</td><td>[801, 33, 22, 6, 5]</td></tr><tr><td>9.2</td><td>CDS-br-text</td><td>LG-E-clean</td><td>dALAEd</td><td>average</td><td>euclidean</td><td>updated</td><td>0.05</td><td>27</td><td>---</td><td>0.0</td><td>99%</td><td>72%</td><td>0.73</td><td>[991, 5, 4, 3, 2]</td></tr><tr><td>9.3</td><td>CDS-br-text</td><td>LG-E-clean</td><td>dALAEd</td><td>average</td><td>euclidean</td><td>new</td><td>0.05</td><td>76</td><td>---</td><td>0.0</td><td>99%</td><td>79%</td><td>0.80</td><td>[733, 212, 8, 3, 2]</td></tr><tr><td></td><td>CDS-br-text</td><td>LG-E-clean</td><td>dALAMd</td><td>average</td><td>manhattan</td><td>none</td><td>---</td><td>300</td><td>---</td><td>0.0</td><td>99%</td><td>96%</td><td>0.97</td><td>[733, 3, 1, 0]</td></tr><tr><td>9.4</td><td>CDS-br-text</td><td>LG-E-clean</td><td>dALAMd</td><td>average</td><td>manhattan</td><td>rules</td><td>0.05</td><td>112</td><td>---</td><td>0.0</td><td>99%</td><td>87%</td><td>0.88</td><td>[801, 33, 22, 6, 5]</td></tr><tr><td>9.5</td><td>CDS-br-text</td><td>LG-E-clean</td><td>dALAMd</td><td>average</td><td>manhattan</td><td>updated</td><td>0.05</td><td>27</td><td>---</td><td>0.0</td><td>99%</td><td>72%</td><td>0.73</td><td>[991, 5, 4, 3, 2]</td></tr><tr><td>9.6</td><td>CDS-br-text</td><td>LG-E-clean</td><td>dALAMd</td><td>average</td><td>manhattan</td><td>new</td><td>0.05</td><td>76</td><td>---</td><td>0.0</td><td>99%</td><td>79%</td><td>0.80</td><td>[733, 212, 8, 3, 2]</td></tr><tr><td></td><td>CDS-br-text</td><td>LG-E-clean</td><td>dALACd</td><td>average</td><td>cosine</td><td>none</td><td>---</td><td>300</td><td>---</td><td>0.0</td><td>99%</td><td>83%</td><td>0.84</td><td>[298, 188, 26, 25, 21]</td></tr><tr><td>9.7</td><td>CDS-br-text</td><td>LG-E-clean</td><td>dALACd</td><td>average</td><td>cosine</td><td>rules</td><td>0.05</td><td>300</td><td>---</td><td>0.0</td><td>99%</td><td>84%</td><td>0.84</td><td>[298, 188, 26, 25, 21]</td></tr><tr><td>9.8</td><td>CDS-br-text</td><td>LG-E-clean</td><td>dALACd</td><td>average</td><td>cosine</td><td>updated</td><td>0.05</td><td>300</td><td>---</td><td>0.0</td><td>99%</td><td>84%</td><td>0.84</td><td>[298, 188, 26, 25, 21]</td></tr><tr><td>9.9</td><td>CDS-br-text</td><td>LG-E-clean</td><td>dALACd</td><td>average</td><td>cosine</td><td>new</td><td>0.05</td><td>299</td><td>---</td><td>0.0</td><td>99%</td><td>82%</td><td>0.83</td><td>[486, 26, 25, 21, 20]</td></tr></table>"
      ],
      "text/plain": [
       "<IPython.core.display.HTML object>"
      ]
     },
     "metadata": {},
     "output_type": "display_data"
    }
   ],
   "source": [
    "display(html_table([header] + t3))"
   ]
  },
  {
   "cell_type": "markdown",
   "metadata": {},
   "source": [
    "## Start with 200 clusters, merge threshold = 0.1"
   ]
  },
  {
   "cell_type": "code",
   "execution_count": 19,
   "metadata": {
    "ExecuteTime": {
     "end_time": "2018-11-26T11:36:11.728757Z",
     "start_time": "2018-11-26T11:30:54.652769Z"
    }
   },
   "outputs": [],
   "source": [
    "%%capture\n",
    "kwargs['cluster_range'] = 200\n",
    "kwargs['rules_aggregation'] = 0.1\n",
    "t4 = []\n",
    "for linkage in ['ward', 'complete', 'average']:\n",
    "    n += 1\n",
    "    m = 0\n",
    "    for affinity in ['euclidean', 'manhattan', 'cosine']:\n",
    "        if linkage == 'ward' and affinity != 'euclidean': continue\n",
    "        lines[0][0] = ''\n",
    "        m += 1\n",
    "        lines[1][0] = round(n + 0.1*m, 1)\n",
    "        m += 1\n",
    "        lines[2][0] = round(n + 0.1*m, 1)\n",
    "        m += 1\n",
    "        lines[3][0] = round(n + 0.1*m, 1)\n",
    "        kwargs['clustering'] = ['agglomerative', linkage, affinity]\n",
    "        a, _, header, log, _ = wide_rows(lines, out_dir, cp, rp, runs, **kwargs)\n",
    "        t4.extend(a)\n",
    "        table.extend(a)"
   ]
  },
  {
   "cell_type": "code",
   "execution_count": 20,
   "metadata": {
    "ExecuteTime": {
     "end_time": "2018-11-26T11:36:11.738626Z",
     "start_time": "2018-11-26T11:36:11.732266Z"
    }
   },
   "outputs": [
    {
     "data": {
      "text/html": [
       "<table><tr><td>Line</td><td>Corpus</td><td>Parsing</td><td>Space</td><td>Linkage</td><td>Affinity</td><td>G12n</td><td>Threshold</td><td>Rules</td><td>NN</td><td>SI</td><td>PA</td><td>PQ</td><td>F1</td><td>Top 5 cluster sizes</td></tr><tr><td></td><td>CDS-br-text</td><td>LG-E-clean</td><td>dALWEd</td><td>ward</td><td>euclidean</td><td>none</td><td>---</td><td>200</td><td>---</td><td>0.0</td><td>99%</td><td>98%</td><td>0.98</td><td>[569, 34, 32, 26, 20]</td></tr><tr><td>10.1</td><td>CDS-br-text</td><td>LG-E-clean</td><td>dALWEd</td><td>ward</td><td>euclidean</td><td>rules</td><td>0.1</td><td>128</td><td>---</td><td>0.0</td><td>99%</td><td>96%</td><td>0.96</td><td>[569, 38, 34, 32, 27]</td></tr><tr><td>10.2</td><td>CDS-br-text</td><td>LG-E-clean</td><td>dALWEd</td><td>ward</td><td>euclidean</td><td>updated</td><td>0.1</td><td>108</td><td>---</td><td>0.0</td><td>99%</td><td>95%</td><td>0.95</td><td>[569, 104, 57, 34, 32]</td></tr><tr><td>10.3</td><td>CDS-br-text</td><td>LG-E-clean</td><td>dALWEd</td><td>ward</td><td>euclidean</td><td>new</td><td>0.1</td><td>130</td><td>---</td><td>0.0</td><td>99%</td><td>96%</td><td>0.96</td><td>[569, 66, 34, 32, 26]</td></tr><tr><td></td><td>CDS-br-text</td><td>LG-E-clean</td><td>dALCEd</td><td>complete</td><td>euclidean</td><td>none</td><td>---</td><td>200</td><td>---</td><td>0.0</td><td>99%</td><td>96%</td><td>0.97</td><td>[817, 4, 3, 2, 1]</td></tr><tr><td>11.1</td><td>CDS-br-text</td><td>LG-E-clean</td><td>dALCEd</td><td>complete</td><td>euclidean</td><td>rules</td><td>0.1</td><td>124</td><td>---</td><td>0.0</td><td>99%</td><td>93%</td><td>0.93</td><td>[817, 38, 17, 7, 6]</td></tr><tr><td>11.2</td><td>CDS-br-text</td><td>LG-E-clean</td><td>dALCEd</td><td>complete</td><td>euclidean</td><td>updated</td><td>0.1</td><td>102</td><td>---</td><td>0.0</td><td>99%</td><td>91%</td><td>0.92</td><td>[817, 58, 36, 6, 5]</td></tr><tr><td>11.3</td><td>CDS-br-text</td><td>LG-E-clean</td><td>dALCEd</td><td>complete</td><td>euclidean</td><td>new</td><td>0.1</td><td>131</td><td>---</td><td>0.0</td><td>99%</td><td>92%</td><td>0.93</td><td>[817, 33, 24, 11, 4]</td></tr><tr><td></td><td>CDS-br-text</td><td>LG-E-clean</td><td>dALCMd</td><td>complete</td><td>manhattan</td><td>none</td><td>---</td><td>200</td><td>---</td><td>0.0</td><td>99%</td><td>96%</td><td>0.97</td><td>[817, 4, 3, 2, 1]</td></tr><tr><td>11.4</td><td>CDS-br-text</td><td>LG-E-clean</td><td>dALCMd</td><td>complete</td><td>manhattan</td><td>rules</td><td>0.1</td><td>124</td><td>---</td><td>0.0</td><td>99%</td><td>93%</td><td>0.93</td><td>[817, 38, 17, 7, 6]</td></tr><tr><td>11.5</td><td>CDS-br-text</td><td>LG-E-clean</td><td>dALCMd</td><td>complete</td><td>manhattan</td><td>updated</td><td>0.1</td><td>102</td><td>---</td><td>0.0</td><td>99%</td><td>91%</td><td>0.92</td><td>[817, 58, 36, 6, 5]</td></tr><tr><td>11.6</td><td>CDS-br-text</td><td>LG-E-clean</td><td>dALCMd</td><td>complete</td><td>manhattan</td><td>new</td><td>0.1</td><td>131</td><td>---</td><td>0.0</td><td>99%</td><td>92%</td><td>0.93</td><td>[817, 33, 24, 11, 4]</td></tr><tr><td></td><td>CDS-br-text</td><td>LG-E-clean</td><td>dALCCd</td><td>complete</td><td>cosine</td><td>none</td><td>---</td><td>200</td><td>---</td><td>0.0</td><td>99%</td><td>79%</td><td>0.80</td><td>[452, 53, 43, 21, 14]</td></tr><tr><td>11.7</td><td>CDS-br-text</td><td>LG-E-clean</td><td>dALCCd</td><td>complete</td><td>cosine</td><td>rules</td><td>0.1</td><td>69</td><td>---</td><td>0.0</td><td>99%</td><td>73%</td><td>0.74</td><td>[859, 43, 37, 5, 4]</td></tr><tr><td>11.8</td><td>CDS-br-text</td><td>LG-E-clean</td><td>dALCCd</td><td>complete</td><td>cosine</td><td>updated</td><td>0.1</td><td>41</td><td>---</td><td>0.0</td><td>99%</td><td>71%</td><td>0.72</td><td>[967, 20, 3, 2, 1]</td></tr><tr><td>11.9</td><td>CDS-br-text</td><td>LG-E-clean</td><td>dALCCd</td><td>complete</td><td>cosine</td><td>new</td><td>0.1</td><td>188</td><td>---</td><td>0.0</td><td>99%</td><td>78%</td><td>0.79</td><td>[452, 53, 43, 21, 14]</td></tr><tr><td></td><td>CDS-br-text</td><td>LG-E-clean</td><td>dALAEd</td><td>average</td><td>euclidean</td><td>none</td><td>---</td><td>200</td><td>---</td><td>0.0</td><td>99%</td><td>96%</td><td>0.97</td><td>[835, 1, 0]</td></tr><tr><td>12.1</td><td>CDS-br-text</td><td>LG-E-clean</td><td>dALAEd</td><td>average</td><td>euclidean</td><td>rules</td><td>0.1</td><td>121</td><td>---</td><td>0.0</td><td>99%</td><td>93%</td><td>0.93</td><td>[835, 39, 12, 5, 4]</td></tr><tr><td>12.2</td><td>CDS-br-text</td><td>LG-E-clean</td><td>dALAEd</td><td>average</td><td>euclidean</td><td>updated</td><td>0.1</td><td>108</td><td>---</td><td>0.0</td><td>99%</td><td>93%</td><td>0.94</td><td>[835, 23, 21, 9, 7]</td></tr><tr><td>12.3</td><td>CDS-br-text</td><td>LG-E-clean</td><td>dALAEd</td><td>average</td><td>euclidean</td><td>new</td><td>0.1</td><td>126</td><td>---</td><td>0.0</td><td>99%</td><td>93%</td><td>0.93</td><td>[835, 30, 24, 8, 6]</td></tr><tr><td></td><td>CDS-br-text</td><td>LG-E-clean</td><td>dALAMd</td><td>average</td><td>manhattan</td><td>none</td><td>---</td><td>200</td><td>---</td><td>0.0</td><td>99%</td><td>96%</td><td>0.97</td><td>[835, 1, 0]</td></tr><tr><td>12.4</td><td>CDS-br-text</td><td>LG-E-clean</td><td>dALAMd</td><td>average</td><td>manhattan</td><td>rules</td><td>0.1</td><td>121</td><td>---</td><td>0.0</td><td>99%</td><td>93%</td><td>0.93</td><td>[835, 39, 12, 5, 4]</td></tr><tr><td>12.5</td><td>CDS-br-text</td><td>LG-E-clean</td><td>dALAMd</td><td>average</td><td>manhattan</td><td>updated</td><td>0.1</td><td>108</td><td>---</td><td>0.0</td><td>99%</td><td>93%</td><td>0.94</td><td>[835, 23, 21, 9, 7]</td></tr><tr><td>12.6</td><td>CDS-br-text</td><td>LG-E-clean</td><td>dALAMd</td><td>average</td><td>manhattan</td><td>new</td><td>0.1</td><td>126</td><td>---</td><td>0.0</td><td>99%</td><td>93%</td><td>0.93</td><td>[835, 30, 24, 8, 6]</td></tr><tr><td></td><td>CDS-br-text</td><td>LG-E-clean</td><td>dALACd</td><td>average</td><td>cosine</td><td>none</td><td>---</td><td>200</td><td>---</td><td>0.0</td><td>99%</td><td>72%</td><td>0.73</td><td>[821, 10, 2, 1, 0]</td></tr><tr><td>12.7</td><td>CDS-br-text</td><td>LG-E-clean</td><td>dALACd</td><td>average</td><td>cosine</td><td>rules</td><td>0.1</td><td>200</td><td>---</td><td>0.0</td><td>99%</td><td>73%</td><td>0.74</td><td>[821, 10, 2, 1, 0]</td></tr><tr><td>12.8</td><td>CDS-br-text</td><td>LG-E-clean</td><td>dALACd</td><td>average</td><td>cosine</td><td>updated</td><td>0.1</td><td>200</td><td>---</td><td>0.0</td><td>99%</td><td>73%</td><td>0.74</td><td>[821, 10, 2, 1, 0]</td></tr><tr><td>12.9</td><td>CDS-br-text</td><td>LG-E-clean</td><td>dALACd</td><td>average</td><td>cosine</td><td>new</td><td>0.1</td><td>200</td><td>---</td><td>0.0</td><td>99%</td><td>73%</td><td>0.74</td><td>[821, 10, 2, 1, 0]</td></tr></table>"
      ],
      "text/plain": [
       "<IPython.core.display.HTML object>"
      ]
     },
     "metadata": {},
     "output_type": "display_data"
    }
   ],
   "source": [
    "display(html_table([header] + t4))"
   ]
  },
  {
   "cell_type": "markdown",
   "metadata": {},
   "source": [
    "# All tests"
   ]
  },
  {
   "cell_type": "code",
   "execution_count": 21,
   "metadata": {
    "ExecuteTime": {
     "end_time": "2018-11-26T11:36:11.845097Z",
     "start_time": "2018-11-26T11:36:11.741517Z"
    }
   },
   "outputs": [
    {
     "data": {
      "text/html": [
       "<table><tr><td>Line</td><td>Corpus</td><td>Parsing</td><td>Space</td><td>Linkage</td><td>Affinity</td><td>G12n</td><td>Threshold</td><td>Rules</td><td>NN</td><td>SI</td><td>PA</td><td>PQ</td><td>F1</td><td>Top 5 cluster sizes</td></tr><tr><td></td><td>CDS-br-text</td><td>LG-E-clean</td><td>dALWEd</td><td>ward</td><td>euclidean</td><td>none</td><td>---</td><td>400</td><td>---</td><td>0.0</td><td>99%</td><td>96%</td><td>0.97</td><td>[359, 30, 25, 14, 11]</td></tr><tr><td>1.1</td><td>CDS-br-text</td><td>LG-E-clean</td><td>dALWEd</td><td>ward</td><td>euclidean</td><td>rules</td><td>0.1</td><td>249</td><td>---</td><td>0.0</td><td>99%</td><td>98%</td><td>0.98</td><td>[359, 51, 30, 28, 27]</td></tr><tr><td>1.2</td><td>CDS-br-text</td><td>LG-E-clean</td><td>dALWEd</td><td>ward</td><td>euclidean</td><td>updated</td><td>0.1</td><td>215</td><td>---</td><td>0.0</td><td>99%</td><td>97%</td><td>0.98</td><td>[359, 48, 39, 30, 25]</td></tr><tr><td>1.3</td><td>CDS-br-text</td><td>LG-E-clean</td><td>dALWEd</td><td>ward</td><td>euclidean</td><td>new</td><td>0.1</td><td>198</td><td>---</td><td>0.0</td><td>99%</td><td>89%</td><td>0.90</td><td>[364, 359, 30, 11, 9]</td></tr><tr><td></td><td>CDS-br-text</td><td>LG-E-clean</td><td>dALCEd</td><td>complete</td><td>euclidean</td><td>none</td><td>---</td><td>400</td><td>---</td><td>0.0</td><td>99%</td><td>96%</td><td>0.97</td><td>[466, 37, 11, 9, 8]</td></tr><tr><td>2.1</td><td>CDS-br-text</td><td>LG-E-clean</td><td>dALCEd</td><td>complete</td><td>euclidean</td><td>rules</td><td>0.1</td><td>252</td><td>---</td><td>0.0</td><td>99%</td><td>97%</td><td>0.98</td><td>[466, 37, 34, 23, 17]</td></tr><tr><td>2.2</td><td>CDS-br-text</td><td>LG-E-clean</td><td>dALCEd</td><td>complete</td><td>euclidean</td><td>updated</td><td>0.1</td><td>218</td><td>---</td><td>0.0</td><td>99%</td><td>97%</td><td>0.98</td><td>[466, 37, 33, 31, 23]</td></tr><tr><td>2.3</td><td>CDS-br-text</td><td>LG-E-clean</td><td>dALCEd</td><td>complete</td><td>euclidean</td><td>new</td><td>0.1</td><td>194</td><td>---</td><td>0.0</td><td>99%</td><td>89%</td><td>0.90</td><td>[466, 283, 37, 11, 9]</td></tr><tr><td></td><td>CDS-br-text</td><td>LG-E-clean</td><td>dALCMd</td><td>complete</td><td>manhattan</td><td>none</td><td>---</td><td>400</td><td>---</td><td>0.0</td><td>99%</td><td>96%</td><td>0.97</td><td>[466, 37, 11, 9, 8]</td></tr><tr><td>2.4</td><td>CDS-br-text</td><td>LG-E-clean</td><td>dALCMd</td><td>complete</td><td>manhattan</td><td>rules</td><td>0.1</td><td>252</td><td>---</td><td>0.0</td><td>99%</td><td>97%</td><td>0.98</td><td>[466, 37, 34, 23, 17]</td></tr><tr><td>2.5</td><td>CDS-br-text</td><td>LG-E-clean</td><td>dALCMd</td><td>complete</td><td>manhattan</td><td>updated</td><td>0.1</td><td>218</td><td>---</td><td>0.0</td><td>99%</td><td>97%</td><td>0.98</td><td>[466, 37, 33, 31, 23]</td></tr><tr><td>2.6</td><td>CDS-br-text</td><td>LG-E-clean</td><td>dALCMd</td><td>complete</td><td>manhattan</td><td>new</td><td>0.1</td><td>194</td><td>---</td><td>0.0</td><td>99%</td><td>89%</td><td>0.90</td><td>[466, 283, 37, 11, 9]</td></tr><tr><td></td><td>CDS-br-text</td><td>LG-E-clean</td><td>dALCCd</td><td>complete</td><td>cosine</td><td>none</td><td>---</td><td>400</td><td>---</td><td>0.0</td><td>99%</td><td>89%</td><td>0.90</td><td>[124, 53, 43, 21, 14]</td></tr><tr><td>2.7</td><td>CDS-br-text</td><td>LG-E-clean</td><td>dALCCd</td><td>complete</td><td>cosine</td><td>rules</td><td>0.1</td><td>244</td><td>---</td><td>0.0</td><td>99%</td><td>85%</td><td>0.86</td><td>[338, 124, 21, 17, 14]</td></tr><tr><td>2.8</td><td>CDS-br-text</td><td>LG-E-clean</td><td>dALCCd</td><td>complete</td><td>cosine</td><td>updated</td><td>0.1</td><td>207</td><td>---</td><td>0.0</td><td>99%</td><td>83%</td><td>0.84</td><td>[338, 124, 67, 26, 20]</td></tr><tr><td>2.9</td><td>CDS-br-text</td><td>LG-E-clean</td><td>dALCCd</td><td>complete</td><td>cosine</td><td>new</td><td>0.1</td><td>370</td><td>---</td><td>0.0</td><td>99%</td><td>89%</td><td>0.90</td><td>[124, 59, 53, 29, 21]</td></tr><tr><td></td><td>CDS-br-text</td><td>LG-E-clean</td><td>dALAEd</td><td>average</td><td>euclidean</td><td>none</td><td>---</td><td>400</td><td>---</td><td>0.0</td><td>99%</td><td>96%</td><td>0.97</td><td>[627, 3, 2, 1, 0]</td></tr><tr><td>3.1</td><td>CDS-br-text</td><td>LG-E-clean</td><td>dALAEd</td><td>average</td><td>euclidean</td><td>rules</td><td>0.1</td><td>247</td><td>---</td><td>0.0</td><td>99%</td><td>97%</td><td>0.98</td><td>[627, 20, 16, 11, 9]</td></tr><tr><td>3.2</td><td>CDS-br-text</td><td>LG-E-clean</td><td>dALAEd</td><td>average</td><td>euclidean</td><td>updated</td><td>0.1</td><td>197</td><td>---</td><td>0.0</td><td>99%</td><td>94%</td><td>0.95</td><td>[643, 46, 35, 11, 10]</td></tr><tr><td>3.3</td><td>CDS-br-text</td><td>LG-E-clean</td><td>dALAEd</td><td>average</td><td>euclidean</td><td>new</td><td>0.1</td><td>192</td><td>---</td><td>0.0</td><td>99%</td><td>89%</td><td>0.90</td><td>[627, 202, 4, 3, 2]</td></tr><tr><td></td><td>CDS-br-text</td><td>LG-E-clean</td><td>dALAMd</td><td>average</td><td>manhattan</td><td>none</td><td>---</td><td>400</td><td>---</td><td>0.0</td><td>99%</td><td>96%</td><td>0.98</td><td>[626, 3, 2, 1, 0]</td></tr><tr><td>3.4</td><td>CDS-br-text</td><td>LG-E-clean</td><td>dALAMd</td><td>average</td><td>manhattan</td><td>rules</td><td>0.1</td><td>247</td><td>---</td><td>0.0</td><td>99%</td><td>97%</td><td>0.98</td><td>[626, 20, 17, 11, 9]</td></tr><tr><td>3.5</td><td>CDS-br-text</td><td>LG-E-clean</td><td>dALAMd</td><td>average</td><td>manhattan</td><td>updated</td><td>0.1</td><td>192</td><td>---</td><td>0.0</td><td>99%</td><td>97%</td><td>0.97</td><td>[638, 48, 46, 9, 7]</td></tr><tr><td>3.6</td><td>CDS-br-text</td><td>LG-E-clean</td><td>dALAMd</td><td>average</td><td>manhattan</td><td>new</td><td>0.1</td><td>193</td><td>---</td><td>0.0</td><td>99%</td><td>89%</td><td>0.90</td><td>[626, 201, 4, 3, 2]</td></tr><tr><td></td><td>CDS-br-text</td><td>LG-E-clean</td><td>dALACd</td><td>average</td><td>cosine</td><td>none</td><td>---</td><td>400</td><td>---</td><td>0.0</td><td>99%</td><td>97%</td><td>0.98</td><td>[98, 95, 25, 24, 17]</td></tr><tr><td>3.7</td><td>CDS-br-text</td><td>LG-E-clean</td><td>dALACd</td><td>average</td><td>cosine</td><td>rules</td><td>0.1</td><td>400</td><td>---</td><td>0.0</td><td>99%</td><td>97%</td><td>0.97</td><td>[98, 95, 25, 24, 17]</td></tr><tr><td>3.8</td><td>CDS-br-text</td><td>LG-E-clean</td><td>dALACd</td><td>average</td><td>cosine</td><td>updated</td><td>0.1</td><td>400</td><td>---</td><td>0.0</td><td>99%</td><td>97%</td><td>0.97</td><td>[98, 95, 25, 24, 17]</td></tr><tr><td>3.9</td><td>CDS-br-text</td><td>LG-E-clean</td><td>dALACd</td><td>average</td><td>cosine</td><td>new</td><td>0.1</td><td>400</td><td>---</td><td>0.0</td><td>99%</td><td>97%</td><td>0.97</td><td>[98, 95, 25, 24, 17]</td></tr><tr><td></td><td>CDS-br-text</td><td>LG-E-clean</td><td>dALWEd</td><td>ward</td><td>euclidean</td><td>none</td><td>---</td><td>400</td><td>---</td><td>0.0</td><td>99%</td><td>96%</td><td>0.97</td><td>[359, 30, 25, 14, 11]</td></tr><tr><td>4.1</td><td>CDS-br-text</td><td>LG-E-clean</td><td>dALWEd</td><td>ward</td><td>euclidean</td><td>rules</td><td>0.05</td><td>149</td><td>---</td><td>0.0</td><td>99%</td><td>90%</td><td>0.91</td><td>[413, 193, 32, 30, 26]</td></tr><tr><td>4.2</td><td>CDS-br-text</td><td>LG-E-clean</td><td>dALWEd</td><td>ward</td><td>euclidean</td><td>updated</td><td>0.05</td><td>68</td><td>---</td><td>0.0</td><td>99%</td><td>80%</td><td>0.81</td><td>[672, 174, 21, 19, 14]</td></tr><tr><td>4.3</td><td>CDS-br-text</td><td>LG-E-clean</td><td>dALWEd</td><td>ward</td><td>euclidean</td><td>new</td><td>0.05</td><td>81</td><td>---</td><td>0.0</td><td>99%</td><td>76%</td><td>0.77</td><td>[585, 359, 6, 2, 1]</td></tr><tr><td></td><td>CDS-br-text</td><td>LG-E-clean</td><td>dALCEd</td><td>complete</td><td>euclidean</td><td>none</td><td>---</td><td>400</td><td>---</td><td>0.0</td><td>99%</td><td>96%</td><td>0.97</td><td>[466, 37, 11, 9, 8]</td></tr><tr><td>5.1</td><td>CDS-br-text</td><td>LG-E-clean</td><td>dALCEd</td><td>complete</td><td>euclidean</td><td>rules</td><td>0.05</td><td>146</td><td>---</td><td>0.0</td><td>99%</td><td>90%</td><td>0.90</td><td>[549, 117, 68, 37, 13]</td></tr><tr><td>5.2</td><td>CDS-br-text</td><td>LG-E-clean</td><td>dALCEd</td><td>complete</td><td>euclidean</td><td>updated</td><td>0.05</td><td>46</td><td>---</td><td>0.0</td><td>99%</td><td>76%</td><td>0.77</td><td>[716, 245, 10, 5, 4]</td></tr><tr><td>5.3</td><td>CDS-br-text</td><td>LG-E-clean</td><td>dALCEd</td><td>complete</td><td>euclidean</td><td>new</td><td>0.05</td><td>85</td><td>---</td><td>0.0</td><td>99%</td><td>77%</td><td>0.78</td><td>[466, 438, 37, 6, 2]</td></tr><tr><td></td><td>CDS-br-text</td><td>LG-E-clean</td><td>dALCMd</td><td>complete</td><td>manhattan</td><td>none</td><td>---</td><td>400</td><td>---</td><td>0.0</td><td>99%</td><td>96%</td><td>0.97</td><td>[466, 37, 11, 9, 8]</td></tr><tr><td>5.4</td><td>CDS-br-text</td><td>LG-E-clean</td><td>dALCMd</td><td>complete</td><td>manhattan</td><td>rules</td><td>0.05</td><td>146</td><td>---</td><td>0.0</td><td>99%</td><td>90%</td><td>0.90</td><td>[549, 117, 68, 37, 13]</td></tr><tr><td>5.5</td><td>CDS-br-text</td><td>LG-E-clean</td><td>dALCMd</td><td>complete</td><td>manhattan</td><td>updated</td><td>0.05</td><td>46</td><td>---</td><td>0.0</td><td>99%</td><td>76%</td><td>0.77</td><td>[716, 245, 10, 5, 4]</td></tr><tr><td>5.6</td><td>CDS-br-text</td><td>LG-E-clean</td><td>dALCMd</td><td>complete</td><td>manhattan</td><td>new</td><td>0.05</td><td>85</td><td>---</td><td>0.0</td><td>99%</td><td>77%</td><td>0.78</td><td>[466, 438, 37, 6, 2]</td></tr><tr><td></td><td>CDS-br-text</td><td>LG-E-clean</td><td>dALCCd</td><td>complete</td><td>cosine</td><td>none</td><td>---</td><td>400</td><td>---</td><td>0.0</td><td>99%</td><td>89%</td><td>0.90</td><td>[124, 53, 43, 21, 14]</td></tr><tr><td>5.7</td><td>CDS-br-text</td><td>LG-E-clean</td><td>dALCCd</td><td>complete</td><td>cosine</td><td>rules</td><td>0.05</td><td>192</td><td>---</td><td>0.0</td><td>99%</td><td>75%</td><td>0.76</td><td>[700, 31, 12, 9, 8]</td></tr><tr><td>5.8</td><td>CDS-br-text</td><td>LG-E-clean</td><td>dALCCd</td><td>complete</td><td>cosine</td><td>updated</td><td>0.05</td><td>116</td><td>---</td><td>0.0</td><td>99%</td><td>72%</td><td>0.73</td><td>[774, 96, 23, 4, 3]</td></tr><tr><td>5.9</td><td>CDS-br-text</td><td>LG-E-clean</td><td>dALCCd</td><td>complete</td><td>cosine</td><td>new</td><td>0.05</td><td>278</td><td>---</td><td>0.0</td><td>99%</td><td>79%</td><td>0.80</td><td>[525, 124, 10, 9, 6]</td></tr><tr><td></td><td>CDS-br-text</td><td>LG-E-clean</td><td>dALAEd</td><td>average</td><td>euclidean</td><td>none</td><td>---</td><td>400</td><td>---</td><td>0.0</td><td>99%</td><td>96%</td><td>0.97</td><td>[627, 3, 2, 1, 0]</td></tr><tr><td>6.1</td><td>CDS-br-text</td><td>LG-E-clean</td><td>dALAEd</td><td>average</td><td>euclidean</td><td>rules</td><td>0.05</td><td>138</td><td>---</td><td>0.0</td><td>99%</td><td>90%</td><td>0.91</td><td>[687, 60, 31, 30, 14]</td></tr><tr><td>6.2</td><td>CDS-br-text</td><td>LG-E-clean</td><td>dALAEd</td><td>average</td><td>euclidean</td><td>updated</td><td>0.05</td><td>52</td><td>---</td><td>0.0</td><td>99%</td><td>76%</td><td>0.77</td><td>[786, 172, 6, 4, 3]</td></tr><tr><td>6.3</td><td>CDS-br-text</td><td>LG-E-clean</td><td>dALAEd</td><td>average</td><td>euclidean</td><td>new</td><td>0.05</td><td>89</td><td>---</td><td>0.0</td><td>99%</td><td>77%</td><td>0.78</td><td>[927, 9, 5, 2, 1]</td></tr><tr><td></td><td>CDS-br-text</td><td>LG-E-clean</td><td>dALAMd</td><td>average</td><td>manhattan</td><td>none</td><td>---</td><td>400</td><td>---</td><td>0.0</td><td>99%</td><td>96%</td><td>0.98</td><td>[626, 3, 2, 1, 0]</td></tr><tr><td>6.4</td><td>CDS-br-text</td><td>LG-E-clean</td><td>dALAMd</td><td>average</td><td>manhattan</td><td>rules</td><td>0.05</td><td>142</td><td>---</td><td>0.0</td><td>99%</td><td>89%</td><td>0.90</td><td>[699, 59, 30, 15, 14]</td></tr><tr><td>6.5</td><td>CDS-br-text</td><td>LG-E-clean</td><td>dALAMd</td><td>average</td><td>manhattan</td><td>updated</td><td>0.05</td><td>69</td><td>---</td><td>0.0</td><td>99%</td><td>78%</td><td>0.79</td><td>[824, 90, 10, 7, 5]</td></tr><tr><td>6.6</td><td>CDS-br-text</td><td>LG-E-clean</td><td>dALAMd</td><td>average</td><td>manhattan</td><td>new</td><td>0.05</td><td>90</td><td>---</td><td>0.0</td><td>99%</td><td>77%</td><td>0.78</td><td>[926, 9, 5, 2, 1]</td></tr><tr><td></td><td>CDS-br-text</td><td>LG-E-clean</td><td>dALACd</td><td>average</td><td>cosine</td><td>none</td><td>---</td><td>400</td><td>---</td><td>0.0</td><td>99%</td><td>97%</td><td>0.98</td><td>[98, 95, 25, 24, 17]</td></tr><tr><td>6.7</td><td>CDS-br-text</td><td>LG-E-clean</td><td>dALACd</td><td>average</td><td>cosine</td><td>rules</td><td>0.05</td><td>291</td><td>---</td><td>0.0</td><td>99%</td><td>83%</td><td>0.84</td><td>[476, 54, 26, 15, 12]</td></tr><tr><td>6.8</td><td>CDS-br-text</td><td>LG-E-clean</td><td>dALACd</td><td>average</td><td>cosine</td><td>updated</td><td>0.05</td><td>283</td><td>---</td><td>0.0</td><td>99%</td><td>83%</td><td>0.84</td><td>[476, 56, 26, 21, 15]</td></tr><tr><td>6.9</td><td>CDS-br-text</td><td>LG-E-clean</td><td>dALACd</td><td>average</td><td>cosine</td><td>new</td><td>0.05</td><td>359</td><td>---</td><td>0.0</td><td>99%</td><td>89%</td><td>0.89</td><td>[315, 98, 58, 24, 13]</td></tr><tr><td></td><td>CDS-br-text</td><td>LG-E-clean</td><td>dALWEd</td><td>ward</td><td>euclidean</td><td>none</td><td>---</td><td>300</td><td>---</td><td>0.0</td><td>99%</td><td>97%</td><td>0.98</td><td>[437, 34, 29, 17, 15]</td></tr><tr><td>7.1</td><td>CDS-br-text</td><td>LG-E-clean</td><td>dALWEd</td><td>ward</td><td>euclidean</td><td>rules</td><td>0.05</td><td>107</td><td>---</td><td>0.0</td><td>99%</td><td>83%</td><td>0.83</td><td>[748, 35, 22, 17, 11]</td></tr><tr><td>7.2</td><td>CDS-br-text</td><td>LG-E-clean</td><td>dALWEd</td><td>ward</td><td>euclidean</td><td>updated</td><td>0.05</td><td>36</td><td>---</td><td>0.0</td><td>99%</td><td>74%</td><td>0.75</td><td>[961, 16, 9, 5, 4]</td></tr><tr><td>7.3</td><td>CDS-br-text</td><td>LG-E-clean</td><td>dALWEd</td><td>ward</td><td>euclidean</td><td>new</td><td>0.05</td><td>73</td><td>---</td><td>0.0</td><td>99%</td><td>78%</td><td>0.79</td><td>[514, 437, 8, 2, 1]</td></tr><tr><td></td><td>CDS-br-text</td><td>LG-E-clean</td><td>dALCEd</td><td>complete</td><td>euclidean</td><td>none</td><td>---</td><td>300</td><td>---</td><td>0.0</td><td>99%</td><td>96%</td><td>0.97</td><td>[607, 23, 12, 11, 10]</td></tr><tr><td>8.1</td><td>CDS-br-text</td><td>LG-E-clean</td><td>dALCEd</td><td>complete</td><td>euclidean</td><td>rules</td><td>0.05</td><td>112</td><td>---</td><td>0.0</td><td>99%</td><td>87%</td><td>0.88</td><td>[742, 32, 25, 20, 19]</td></tr><tr><td>8.2</td><td>CDS-br-text</td><td>LG-E-clean</td><td>dALCEd</td><td>complete</td><td>euclidean</td><td>updated</td><td>0.05</td><td>19</td><td>---</td><td>0.0</td><td>99%</td><td>72%</td><td>0.73</td><td>[1014, 2, 1, 0]</td></tr><tr><td>8.3</td><td>CDS-br-text</td><td>LG-E-clean</td><td>dALCEd</td><td>complete</td><td>euclidean</td><td>new</td><td>0.05</td><td>76</td><td>---</td><td>0.0</td><td>99%</td><td>79%</td><td>0.80</td><td>[607, 332, 8, 7, 3]</td></tr><tr><td></td><td>CDS-br-text</td><td>LG-E-clean</td><td>dALCMd</td><td>complete</td><td>manhattan</td><td>none</td><td>---</td><td>300</td><td>---</td><td>0.0</td><td>99%</td><td>96%</td><td>0.97</td><td>[607, 23, 12, 11, 10]</td></tr><tr><td>8.4</td><td>CDS-br-text</td><td>LG-E-clean</td><td>dALCMd</td><td>complete</td><td>manhattan</td><td>rules</td><td>0.05</td><td>112</td><td>---</td><td>0.0</td><td>99%</td><td>87%</td><td>0.88</td><td>[742, 32, 25, 20, 19]</td></tr><tr><td>8.5</td><td>CDS-br-text</td><td>LG-E-clean</td><td>dALCMd</td><td>complete</td><td>manhattan</td><td>updated</td><td>0.05</td><td>19</td><td>---</td><td>0.0</td><td>99%</td><td>72%</td><td>0.73</td><td>[1014, 2, 1, 0]</td></tr><tr><td>8.6</td><td>CDS-br-text</td><td>LG-E-clean</td><td>dALCMd</td><td>complete</td><td>manhattan</td><td>new</td><td>0.05</td><td>76</td><td>---</td><td>0.0</td><td>99%</td><td>79%</td><td>0.80</td><td>[607, 332, 8, 7, 3]</td></tr><tr><td></td><td>CDS-br-text</td><td>LG-E-clean</td><td>dALCCd</td><td>complete</td><td>cosine</td><td>none</td><td>---</td><td>300</td><td>---</td><td>0.0</td><td>99%</td><td>84%</td><td>0.84</td><td>[295, 53, 43, 21, 14]</td></tr><tr><td>8.7</td><td>CDS-br-text</td><td>LG-E-clean</td><td>dALCCd</td><td>complete</td><td>cosine</td><td>rules</td><td>0.05</td><td>124</td><td>---</td><td>0.0</td><td>99%</td><td>73%</td><td>0.74</td><td>[822, 42, 8, 6, 5]</td></tr><tr><td>8.8</td><td>CDS-br-text</td><td>LG-E-clean</td><td>dALCCd</td><td>complete</td><td>cosine</td><td>updated</td><td>0.05</td><td>45</td><td>---</td><td>0.0</td><td>99%</td><td>71%</td><td>0.72</td><td>[981, 3, 2, 1, 0]</td></tr><tr><td>8.9</td><td>CDS-br-text</td><td>LG-E-clean</td><td>dALCCd</td><td>complete</td><td>cosine</td><td>new</td><td>0.05</td><td>215</td><td>---</td><td>0.0</td><td>99%</td><td>77%</td><td>0.78</td><td>[429, 295, 12, 10, 7]</td></tr><tr><td></td><td>CDS-br-text</td><td>LG-E-clean</td><td>dALAEd</td><td>average</td><td>euclidean</td><td>none</td><td>---</td><td>300</td><td>---</td><td>0.0</td><td>99%</td><td>96%</td><td>0.97</td><td>[733, 3, 1, 0]</td></tr><tr><td>9.1</td><td>CDS-br-text</td><td>LG-E-clean</td><td>dALAEd</td><td>average</td><td>euclidean</td><td>rules</td><td>0.05</td><td>112</td><td>---</td><td>0.0</td><td>99%</td><td>87%</td><td>0.88</td><td>[801, 33, 22, 6, 5]</td></tr><tr><td>9.2</td><td>CDS-br-text</td><td>LG-E-clean</td><td>dALAEd</td><td>average</td><td>euclidean</td><td>updated</td><td>0.05</td><td>27</td><td>---</td><td>0.0</td><td>99%</td><td>72%</td><td>0.73</td><td>[991, 5, 4, 3, 2]</td></tr><tr><td>9.3</td><td>CDS-br-text</td><td>LG-E-clean</td><td>dALAEd</td><td>average</td><td>euclidean</td><td>new</td><td>0.05</td><td>76</td><td>---</td><td>0.0</td><td>99%</td><td>79%</td><td>0.80</td><td>[733, 212, 8, 3, 2]</td></tr><tr><td></td><td>CDS-br-text</td><td>LG-E-clean</td><td>dALAMd</td><td>average</td><td>manhattan</td><td>none</td><td>---</td><td>300</td><td>---</td><td>0.0</td><td>99%</td><td>96%</td><td>0.97</td><td>[733, 3, 1, 0]</td></tr><tr><td>9.4</td><td>CDS-br-text</td><td>LG-E-clean</td><td>dALAMd</td><td>average</td><td>manhattan</td><td>rules</td><td>0.05</td><td>112</td><td>---</td><td>0.0</td><td>99%</td><td>87%</td><td>0.88</td><td>[801, 33, 22, 6, 5]</td></tr><tr><td>9.5</td><td>CDS-br-text</td><td>LG-E-clean</td><td>dALAMd</td><td>average</td><td>manhattan</td><td>updated</td><td>0.05</td><td>27</td><td>---</td><td>0.0</td><td>99%</td><td>72%</td><td>0.73</td><td>[991, 5, 4, 3, 2]</td></tr><tr><td>9.6</td><td>CDS-br-text</td><td>LG-E-clean</td><td>dALAMd</td><td>average</td><td>manhattan</td><td>new</td><td>0.05</td><td>76</td><td>---</td><td>0.0</td><td>99%</td><td>79%</td><td>0.80</td><td>[733, 212, 8, 3, 2]</td></tr><tr><td></td><td>CDS-br-text</td><td>LG-E-clean</td><td>dALACd</td><td>average</td><td>cosine</td><td>none</td><td>---</td><td>300</td><td>---</td><td>0.0</td><td>99%</td><td>83%</td><td>0.84</td><td>[298, 188, 26, 25, 21]</td></tr><tr><td>9.7</td><td>CDS-br-text</td><td>LG-E-clean</td><td>dALACd</td><td>average</td><td>cosine</td><td>rules</td><td>0.05</td><td>300</td><td>---</td><td>0.0</td><td>99%</td><td>84%</td><td>0.84</td><td>[298, 188, 26, 25, 21]</td></tr><tr><td>9.8</td><td>CDS-br-text</td><td>LG-E-clean</td><td>dALACd</td><td>average</td><td>cosine</td><td>updated</td><td>0.05</td><td>300</td><td>---</td><td>0.0</td><td>99%</td><td>84%</td><td>0.84</td><td>[298, 188, 26, 25, 21]</td></tr><tr><td>9.9</td><td>CDS-br-text</td><td>LG-E-clean</td><td>dALACd</td><td>average</td><td>cosine</td><td>new</td><td>0.05</td><td>299</td><td>---</td><td>0.0</td><td>99%</td><td>82%</td><td>0.83</td><td>[486, 26, 25, 21, 20]</td></tr><tr><td></td><td>CDS-br-text</td><td>LG-E-clean</td><td>dALWEd</td><td>ward</td><td>euclidean</td><td>none</td><td>---</td><td>200</td><td>---</td><td>0.0</td><td>99%</td><td>98%</td><td>0.98</td><td>[569, 34, 32, 26, 20]</td></tr><tr><td>10.1</td><td>CDS-br-text</td><td>LG-E-clean</td><td>dALWEd</td><td>ward</td><td>euclidean</td><td>rules</td><td>0.1</td><td>128</td><td>---</td><td>0.0</td><td>99%</td><td>96%</td><td>0.96</td><td>[569, 38, 34, 32, 27]</td></tr><tr><td>10.2</td><td>CDS-br-text</td><td>LG-E-clean</td><td>dALWEd</td><td>ward</td><td>euclidean</td><td>updated</td><td>0.1</td><td>108</td><td>---</td><td>0.0</td><td>99%</td><td>95%</td><td>0.95</td><td>[569, 104, 57, 34, 32]</td></tr><tr><td>10.3</td><td>CDS-br-text</td><td>LG-E-clean</td><td>dALWEd</td><td>ward</td><td>euclidean</td><td>new</td><td>0.1</td><td>130</td><td>---</td><td>0.0</td><td>99%</td><td>96%</td><td>0.96</td><td>[569, 66, 34, 32, 26]</td></tr><tr><td></td><td>CDS-br-text</td><td>LG-E-clean</td><td>dALCEd</td><td>complete</td><td>euclidean</td><td>none</td><td>---</td><td>200</td><td>---</td><td>0.0</td><td>99%</td><td>96%</td><td>0.97</td><td>[817, 4, 3, 2, 1]</td></tr><tr><td>11.1</td><td>CDS-br-text</td><td>LG-E-clean</td><td>dALCEd</td><td>complete</td><td>euclidean</td><td>rules</td><td>0.1</td><td>124</td><td>---</td><td>0.0</td><td>99%</td><td>93%</td><td>0.93</td><td>[817, 38, 17, 7, 6]</td></tr><tr><td>11.2</td><td>CDS-br-text</td><td>LG-E-clean</td><td>dALCEd</td><td>complete</td><td>euclidean</td><td>updated</td><td>0.1</td><td>102</td><td>---</td><td>0.0</td><td>99%</td><td>91%</td><td>0.92</td><td>[817, 58, 36, 6, 5]</td></tr><tr><td>11.3</td><td>CDS-br-text</td><td>LG-E-clean</td><td>dALCEd</td><td>complete</td><td>euclidean</td><td>new</td><td>0.1</td><td>131</td><td>---</td><td>0.0</td><td>99%</td><td>92%</td><td>0.93</td><td>[817, 33, 24, 11, 4]</td></tr><tr><td></td><td>CDS-br-text</td><td>LG-E-clean</td><td>dALCMd</td><td>complete</td><td>manhattan</td><td>none</td><td>---</td><td>200</td><td>---</td><td>0.0</td><td>99%</td><td>96%</td><td>0.97</td><td>[817, 4, 3, 2, 1]</td></tr><tr><td>11.4</td><td>CDS-br-text</td><td>LG-E-clean</td><td>dALCMd</td><td>complete</td><td>manhattan</td><td>rules</td><td>0.1</td><td>124</td><td>---</td><td>0.0</td><td>99%</td><td>93%</td><td>0.93</td><td>[817, 38, 17, 7, 6]</td></tr><tr><td>11.5</td><td>CDS-br-text</td><td>LG-E-clean</td><td>dALCMd</td><td>complete</td><td>manhattan</td><td>updated</td><td>0.1</td><td>102</td><td>---</td><td>0.0</td><td>99%</td><td>91%</td><td>0.92</td><td>[817, 58, 36, 6, 5]</td></tr><tr><td>11.6</td><td>CDS-br-text</td><td>LG-E-clean</td><td>dALCMd</td><td>complete</td><td>manhattan</td><td>new</td><td>0.1</td><td>131</td><td>---</td><td>0.0</td><td>99%</td><td>92%</td><td>0.93</td><td>[817, 33, 24, 11, 4]</td></tr><tr><td></td><td>CDS-br-text</td><td>LG-E-clean</td><td>dALCCd</td><td>complete</td><td>cosine</td><td>none</td><td>---</td><td>200</td><td>---</td><td>0.0</td><td>99%</td><td>79%</td><td>0.80</td><td>[452, 53, 43, 21, 14]</td></tr><tr><td>11.7</td><td>CDS-br-text</td><td>LG-E-clean</td><td>dALCCd</td><td>complete</td><td>cosine</td><td>rules</td><td>0.1</td><td>69</td><td>---</td><td>0.0</td><td>99%</td><td>73%</td><td>0.74</td><td>[859, 43, 37, 5, 4]</td></tr><tr><td>11.8</td><td>CDS-br-text</td><td>LG-E-clean</td><td>dALCCd</td><td>complete</td><td>cosine</td><td>updated</td><td>0.1</td><td>41</td><td>---</td><td>0.0</td><td>99%</td><td>71%</td><td>0.72</td><td>[967, 20, 3, 2, 1]</td></tr><tr><td>11.9</td><td>CDS-br-text</td><td>LG-E-clean</td><td>dALCCd</td><td>complete</td><td>cosine</td><td>new</td><td>0.1</td><td>188</td><td>---</td><td>0.0</td><td>99%</td><td>78%</td><td>0.79</td><td>[452, 53, 43, 21, 14]</td></tr><tr><td></td><td>CDS-br-text</td><td>LG-E-clean</td><td>dALAEd</td><td>average</td><td>euclidean</td><td>none</td><td>---</td><td>200</td><td>---</td><td>0.0</td><td>99%</td><td>96%</td><td>0.97</td><td>[835, 1, 0]</td></tr><tr><td>12.1</td><td>CDS-br-text</td><td>LG-E-clean</td><td>dALAEd</td><td>average</td><td>euclidean</td><td>rules</td><td>0.1</td><td>121</td><td>---</td><td>0.0</td><td>99%</td><td>93%</td><td>0.93</td><td>[835, 39, 12, 5, 4]</td></tr><tr><td>12.2</td><td>CDS-br-text</td><td>LG-E-clean</td><td>dALAEd</td><td>average</td><td>euclidean</td><td>updated</td><td>0.1</td><td>108</td><td>---</td><td>0.0</td><td>99%</td><td>93%</td><td>0.94</td><td>[835, 23, 21, 9, 7]</td></tr><tr><td>12.3</td><td>CDS-br-text</td><td>LG-E-clean</td><td>dALAEd</td><td>average</td><td>euclidean</td><td>new</td><td>0.1</td><td>126</td><td>---</td><td>0.0</td><td>99%</td><td>93%</td><td>0.93</td><td>[835, 30, 24, 8, 6]</td></tr><tr><td></td><td>CDS-br-text</td><td>LG-E-clean</td><td>dALAMd</td><td>average</td><td>manhattan</td><td>none</td><td>---</td><td>200</td><td>---</td><td>0.0</td><td>99%</td><td>96%</td><td>0.97</td><td>[835, 1, 0]</td></tr><tr><td>12.4</td><td>CDS-br-text</td><td>LG-E-clean</td><td>dALAMd</td><td>average</td><td>manhattan</td><td>rules</td><td>0.1</td><td>121</td><td>---</td><td>0.0</td><td>99%</td><td>93%</td><td>0.93</td><td>[835, 39, 12, 5, 4]</td></tr><tr><td>12.5</td><td>CDS-br-text</td><td>LG-E-clean</td><td>dALAMd</td><td>average</td><td>manhattan</td><td>updated</td><td>0.1</td><td>108</td><td>---</td><td>0.0</td><td>99%</td><td>93%</td><td>0.94</td><td>[835, 23, 21, 9, 7]</td></tr><tr><td>12.6</td><td>CDS-br-text</td><td>LG-E-clean</td><td>dALAMd</td><td>average</td><td>manhattan</td><td>new</td><td>0.1</td><td>126</td><td>---</td><td>0.0</td><td>99%</td><td>93%</td><td>0.93</td><td>[835, 30, 24, 8, 6]</td></tr><tr><td></td><td>CDS-br-text</td><td>LG-E-clean</td><td>dALACd</td><td>average</td><td>cosine</td><td>none</td><td>---</td><td>200</td><td>---</td><td>0.0</td><td>99%</td><td>72%</td><td>0.73</td><td>[821, 10, 2, 1, 0]</td></tr><tr><td>12.7</td><td>CDS-br-text</td><td>LG-E-clean</td><td>dALACd</td><td>average</td><td>cosine</td><td>rules</td><td>0.1</td><td>200</td><td>---</td><td>0.0</td><td>99%</td><td>73%</td><td>0.74</td><td>[821, 10, 2, 1, 0]</td></tr><tr><td>12.8</td><td>CDS-br-text</td><td>LG-E-clean</td><td>dALACd</td><td>average</td><td>cosine</td><td>updated</td><td>0.1</td><td>200</td><td>---</td><td>0.0</td><td>99%</td><td>73%</td><td>0.74</td><td>[821, 10, 2, 1, 0]</td></tr><tr><td>12.9</td><td>CDS-br-text</td><td>LG-E-clean</td><td>dALACd</td><td>average</td><td>cosine</td><td>new</td><td>0.1</td><td>200</td><td>---</td><td>0.0</td><td>99%</td><td>73%</td><td>0.74</td><td>[821, 10, 2, 1, 0]</td></tr></table>"
      ],
      "text/plain": [
       "<IPython.core.display.HTML object>"
      ]
     },
     "metadata": {},
     "output_type": "display_data"
    }
   ],
   "source": [
    "display(html_table([header] + table))"
   ]
  },
  {
   "cell_type": "code",
   "execution_count": 22,
   "metadata": {
    "ExecuteTime": {
     "end_time": "2018-11-26T11:36:11.931059Z",
     "start_time": "2018-11-26T11:36:11.848290Z"
    }
   },
   "outputs": [
    {
     "name": "stdout",
     "output_type": "stream",
     "text": [
      "2018-11-26 11:36:11 UTC :: finished, elapsed 0.7 hours\n",
      "Results saved to /home/obaskov/94/language-learning/output/Grammar-Rules-Generalization-2018-11-26/table.txt\n"
     ]
    }
   ],
   "source": [
    "print(UTC(), ':: finished, elapsed', str(round((time.time()-start)/3600.0, 1)), 'hours')\n",
    "table_str = list2file(table, out_dir + '/table.txt')\n",
    "print('Results saved to', out_dir + '/table.txt')"
   ]
  },
  {
   "cell_type": "code",
   "execution_count": null,
   "metadata": {},
   "outputs": [],
   "source": []
  }
 ],
 "metadata": {
  "kernelspec": {
   "display_name": "Python [default]",
   "language": "python",
   "name": "python3"
  },
  "language_info": {
   "codemirror_mode": {
    "name": "ipython",
    "version": 3
   },
   "file_extension": ".py",
   "mimetype": "text/x-python",
   "name": "python",
   "nbconvert_exporter": "python",
   "pygments_lexer": "ipython3",
   "version": "3.6.6"
  },
  "toc": {
   "base_numbering": 1,
   "nav_menu": {},
   "number_sections": true,
   "sideBar": true,
   "skip_h1_title": false,
   "title_cell": "Table of Contents",
   "title_sidebar": "Contents",
   "toc_cell": false,
   "toc_position": {},
   "toc_section_display": true,
   "toc_window_display": false
  }
 },
 "nbformat": 4,
 "nbformat_minor": 2
}
