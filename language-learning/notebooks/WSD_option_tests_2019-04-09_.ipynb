{
 "cells": [
  {
   "cell_type": "markdown",
   "metadata": {},
   "source": [
    "# WSD_option_tests `2019-04-09_`\n",
    "\n",
    "**\"Gutenberg Children Books\" corpus, new \"LG-E-noQuotes\" dataset (GC_LGEnglish_noQuotes_fullyParsed.ull),  \n",
    "trash filter off: `min_word_count = 1`, `max_sentence_length = 24`, Link Grammar 5.5.1.**  \n",
    "\n",
    "This notebook is shared as static [WSD_option_tests_2019-04-09_.html](http://langlearn.singularitynet.io/data/clustering_2019/html/WSD_option_tests_2019-04-09_.html), \n",
    "Output data shared via [WSD_option_tests_2019-04-09_](http://langlearn.singularitynet.io/data/clustering_2019/WSD_option_tests_2019-04-09_) directory.  "
   ]
  },
  {
   "cell_type": "markdown",
   "metadata": {},
   "source": [
    "## Basic settings"
   ]
  },
  {
   "cell_type": "code",
   "execution_count": 1,
   "metadata": {
    "ExecuteTime": {
     "end_time": "2019-04-09T16:05:28.279352Z",
     "start_time": "2019-04-09T16:05:27.353959Z"
    }
   },
   "outputs": [
    {
     "name": "stdout",
     "output_type": "stream",
     "text": [
      "2019-04-09 16:05:28 UTC :: module_path: /home/obaskov/94/ULL\n"
     ]
    }
   ],
   "source": [
    "import os, sys, time, pandas as pd\n",
    "module_path = os.path.abspath(os.path.join('..'))\n",
    "if module_path not in sys.path: sys.path.append(module_path)\n",
    "from src.grammar_learner.utl import UTC, test_stats\n",
    "from src.grammar_learner.read_files import check_dir, check_corpus\n",
    "from src.grammar_learner.write_files import list2file\n",
    "from src.grammar_learner.widgets import html_table\n",
    "from src.grammar_learner.pqa_table import table_rows, params, wide_rows\n",
    "tmpath = module_path + '/tmp/'\n",
    "check_dir(tmpath, True, 'none')\n",
    "start = time.time()\n",
    "runs = (1,1)\n",
    "print(UTC(), ':: module_path:', module_path)"
   ]
  },
  {
   "cell_type": "markdown",
   "metadata": {},
   "source": [
    "## Corpus test settings"
   ]
  },
  {
   "cell_type": "code",
   "execution_count": 2,
   "metadata": {
    "ExecuteTime": {
     "end_time": "2019-04-09T16:05:28.293987Z",
     "start_time": "2019-04-09T16:05:28.282164Z"
    }
   },
   "outputs": [
    {
     "name": "stdout",
     "output_type": "stream",
     "text": [
      "2019-04-09 16:05:28 UTC \n",
      " /home/obaskov/94/ULL/output/WSD_option_tests_2019-04-09_\n"
     ]
    }
   ],
   "source": [
    "corpus = 'POC-English-disAmb'\n",
    "dataset = 'LG-ANY-all-parses-agm-100'\n",
    "kwargs = {\n",
    "    'max_sentence_length':  24      ,\n",
    "    'max_unparsed_words' :   1      ,   # dataset: .@e\n",
    "    'left_wall'     :   ''          ,\n",
    "    'period'        :   False       ,\n",
    "    'context'       :   2           ,\n",
    "    'min_word_count':   1           ,\n",
    "    'word_space'    :   'sparse'    ,\n",
    "    'clustering'    :   ['agglomerative', 'ward'],\n",
    "    'clustering_metric' : ['silhouette', 'cosine'],\n",
    "    'cluster_range' :   [20]        ,\n",
    "    'top_level'     :   0.01        ,\n",
    "    'grammar_rules' :   2           ,\n",
    "    'max_disjuncts' :   1000000     ,   # off\n",
    "    'stop_words'    :   []          ,\n",
    "    'tmpath'        :   tmpath      ,\n",
    "    'verbose'       :   'log+'      ,\n",
    "    'template_path' :   'poc-turtle',\n",
    "    'linkage_limit' :   1000        }\n",
    "rp = module_path + '/data/' + corpus + '/poc-english_ex-parses-gold.txt'\n",
    "cp = rp  # corpus path = reference_path\n",
    "runs = (1,1)\n",
    "out_dir = module_path + '/output/' + 'WSD_option_tests_' + str(UTC())[:10] + '_'\n",
    "print(UTC(), '\\n', out_dir)"
   ]
  },
  {
   "cell_type": "markdown",
   "metadata": {},
   "source": [
    "# Tests: ALE, ILE with and without disambiquation"
   ]
  },
  {
   "cell_type": "markdown",
   "metadata": {},
   "source": [
    "## ALE without disambiquation: `kwargs['wsd_symbol'] = ''`"
   ]
  },
  {
   "cell_type": "code",
   "execution_count": 3,
   "metadata": {
    "ExecuteTime": {
     "end_time": "2019-04-09T16:05:28.698572Z",
     "start_time": "2019-04-09T16:05:28.296812Z"
    }
   },
   "outputs": [],
   "source": [
    "%%capture\n",
    "kwargs['wsd_symbol'] = ''\n",
    "table = []\n",
    "line = [['no WSD', corpus, dataset, 0, 0, 'none']]\n",
    "a, _, header, log, rules = wide_rows(line, out_dir, cp, rp, runs, **kwargs)\n",
    "header[0] = 'WSD'\n",
    "table.extend(a)"
   ]
  },
  {
   "cell_type": "code",
   "execution_count": 4,
   "metadata": {
    "ExecuteTime": {
     "end_time": "2019-04-09T16:05:28.704972Z",
     "start_time": "2019-04-09T16:05:28.700655Z"
    }
   },
   "outputs": [
    {
     "data": {
      "text/html": [
       "<table><tr><td>WSD</td><td>Corpus</td><td>Parsing</td><td>Space</td><td>Linkage</td><td>Affinity</td><td>G12n</td><td>Threshold</td><td>Rules</td><td>MWC</td><td>NN</td><td>SI</td><td>PA</td><td>PQ</td><td>F1</td><td>Top 5 cluster sizes</td></tr><tr><td>no WSD</td><td>POC-English-disAmb</td><td>LG-ANY-all-parses-agm-100</td><td>dALWEd</td><td>ward</td><td>euclidean</td><td>none</td><td>---</td><td>20</td><td>1</td><td>---</td><td>0.0</td><td>1%</td><td>1%</td><td>0.01</td><td>[33, 4, 3, 2, 1]</td></tr></table>"
      ],
      "text/plain": [
       "<IPython.core.display.HTML object>"
      ]
     },
     "metadata": {},
     "output_type": "display_data"
    }
   ],
   "source": [
    "display(html_table([header] + a))"
   ]
  },
  {
   "cell_type": "code",
   "execution_count": 5,
   "metadata": {
    "ExecuteTime": {
     "end_time": "2019-04-09T16:05:28.777211Z",
     "start_time": "2019-04-09T16:05:28.706373Z"
    }
   },
   "outputs": [
    {
     "name": "stdout",
     "output_type": "stream",
     "text": [
      "No disamiguation: \"@\" not replaced with \".\":\n",
      " \n",
      "% B\n",
      "\"are\" \"be\" \"before@b\" \"binoculars\" \"board@a\" \"board@b\" \"cake@a\" \"chalk\" \"child\" \"directors\" \"food@a\" \"has@a\" \"has@b\" \"her\" \"his\" \"human\" \"liked\" \"likes@a\" \"likes@b\" \"not\" \"of\" \"on@a\" \"on@b\" \"parent@a\" \"parent@b\" \"sausage@a\" \"the@b\" \"the@e\" \"tool\" \"was@a\" \"with@a\" \"with@b\" \"wood\":\n"
     ]
    }
   ],
   "source": [
    "with open(out_dir + '/POC-English-disAmb_LG-ANY-all-parses-agm-100_dALWEd_no-gen/dict_20C_2019-04-09_0007.4.0.dict') as f:\n",
    "    rules = f.read(); print('No disamiguation: \"@\" not replaced with \".\":\\n', rules[115:400])"
   ]
  },
  {
   "cell_type": "markdown",
   "metadata": {},
   "source": [
    "## ALE with disambiquation: `kwargs['wsd_symbol'] = '@'`"
   ]
  },
  {
   "cell_type": "code",
   "execution_count": 6,
   "metadata": {
    "ExecuteTime": {
     "end_time": "2019-04-09T16:05:29.062926Z",
     "start_time": "2019-04-09T16:05:28.779237Z"
    }
   },
   "outputs": [],
   "source": [
    "%%capture\n",
    "kwargs['wsd_symbol'] = '@'\n",
    "line = [['\"@\"', corpus, dataset, 0, 0, 'none']]\n",
    "a, _, _, log, rules = wide_rows(line, out_dir, cp, rp, runs, **kwargs)\n",
    "table.extend(a)"
   ]
  },
  {
   "cell_type": "code",
   "execution_count": 7,
   "metadata": {
    "ExecuteTime": {
     "end_time": "2019-04-09T16:05:29.069635Z",
     "start_time": "2019-04-09T16:05:29.065232Z"
    }
   },
   "outputs": [
    {
     "data": {
      "text/html": [
       "<table><tr><td>WSD</td><td>Corpus</td><td>Parsing</td><td>Space</td><td>Linkage</td><td>Affinity</td><td>G12n</td><td>Threshold</td><td>Rules</td><td>MWC</td><td>NN</td><td>SI</td><td>PA</td><td>PQ</td><td>F1</td><td>Top 5 cluster sizes</td></tr><tr><td>\"@\"</td><td>POC-English-disAmb</td><td>LG-ANY-all-parses-agm-100</td><td>dALWEd</td><td>ward</td><td>euclidean</td><td>none</td><td>---</td><td>20</td><td>1</td><td>---</td><td>0.0</td><td>100%</td><td>70%</td><td>0.7</td><td>[33, 4, 3, 2, 1]</td></tr></table>"
      ],
      "text/plain": [
       "<IPython.core.display.HTML object>"
      ]
     },
     "metadata": {},
     "output_type": "display_data"
    }
   ],
   "source": [
    "display(html_table([header] + a))"
   ]
  },
  {
   "cell_type": "code",
   "execution_count": 8,
   "metadata": {
    "ExecuteTime": {
     "end_time": "2019-04-09T16:05:29.143420Z",
     "start_time": "2019-04-09T16:05:29.071411Z"
    }
   },
   "outputs": [
    {
     "name": "stdout",
     "output_type": "stream",
     "text": [
      "Disamiguation: \"@\" replaced with \".\":\n",
      " \n",
      "% B\n",
      "\"are\" \"be\" \"before.b\" \"binoculars\" \"board.a\" \"board.b\" \"cake.a\" \"chalk\" \"child\" \"directors\" \"food.a\" \"has.a\" \"has.b\" \"her\" \"his\" \"human\" \"liked\" \"likes.a\" \"likes.b\" \"not\" \"of\" \"on.a\" \"on.b\" \"parent.a\" \"parent.b\" \"sausage.a\" \"the.b\" \"the.e\" \"tool\" \"was.a\" \"with.a\" \"with.b\" \"wood\":\n"
     ]
    }
   ],
   "source": [
    "with open(out_dir + '/POC-English-disAmb_LG-ANY-all-parses-agm-100_dALWEd_no-gen/dict_20C_2019-04-09_0007.4.0.dict') as f:\n",
    "    rules = f.read(); print('Disamiguation: \"@\" replaced with \".\":\\n', rules[115:400])"
   ]
  },
  {
   "cell_type": "markdown",
   "metadata": {},
   "source": [
    "## ILE with disambiquation: `kwargs['wsd_symbol'] = '@'`"
   ]
  },
  {
   "cell_type": "code",
   "execution_count": 9,
   "metadata": {
    "ExecuteTime": {
     "end_time": "2019-04-09T16:05:29.617211Z",
     "start_time": "2019-04-09T16:05:29.145785Z"
    }
   },
   "outputs": [],
   "source": [
    "%%capture\n",
    "kwargs['wsd_symbol'] = '@'\n",
    "kwargs['word_space'] = 'discrete'\n",
    "kwargs['clustering'] = 'group'\n",
    "kwargs['cluster_range'] = [0]\n",
    "line = [['\"@\"', corpus, dataset, 0, 0, 'none']]\n",
    "a, _, _, log, rules = wide_rows(line, out_dir, cp, rp, runs, **kwargs)\n",
    "table.extend(a)"
   ]
  },
  {
   "cell_type": "code",
   "execution_count": 10,
   "metadata": {
    "ExecuteTime": {
     "end_time": "2019-04-09T16:05:29.623517Z",
     "start_time": "2019-04-09T16:05:29.619256Z"
    }
   },
   "outputs": [
    {
     "data": {
      "text/html": [
       "<table><tr><td>WSD</td><td>Corpus</td><td>Parsing</td><td>Space</td><td>Linkage</td><td>Affinity</td><td>G12n</td><td>Threshold</td><td>Rules</td><td>MWC</td><td>NN</td><td>SI</td><td>PA</td><td>PQ</td><td>F1</td><td>Top 5 cluster sizes</td></tr><tr><td>\"@\"</td><td>POC-English-disAmb</td><td>LG-ANY-all-parses-agm-100</td><td>dILEd</td><td>ward</td><td>euclidean</td><td>none</td><td>---</td><td>61</td><td>1</td><td>---</td><td>0.0</td><td>100%</td><td>72%</td><td>0.72</td><td>[2, 1, 0]</td></tr></table>"
      ],
      "text/plain": [
       "<IPython.core.display.HTML object>"
      ]
     },
     "metadata": {},
     "output_type": "display_data"
    }
   ],
   "source": [
    "display(html_table([header] + a))"
   ]
  },
  {
   "cell_type": "code",
   "execution_count": 11,
   "metadata": {
    "ExecuteTime": {
     "end_time": "2019-04-09T16:05:29.702713Z",
     "start_time": "2019-04-09T16:05:29.626155Z"
    }
   },
   "outputs": [
    {
     "name": "stdout",
     "output_type": "stream",
     "text": [
      "Disamiguation: \"@\" replaced with \".\":\n",
      " \n",
      "% AB\n",
      "\"a.a\":\n",
      "(ABAV+) or (ANAB- & ABAW+) or (BUAB- & ABAW+) or (CHAB- & ABAT+ & ABAG+) or (CHAB- & ABBZ+ & ABAG+);\n",
      "\n",
      "% AC\n",
      "\"a.c\":\n",
      "(ACAP+) or (ACAQ+) or (ACAT+) or (ACBC+) or (ACBS+) or (ACBZ+) or (AEAC-) or (BDAC- & ACBC+)\n"
     ]
    }
   ],
   "source": [
    "with open(out_dir + '/POC-English-disAmb_LG-ANY-all-parses-agm-100_dILEd_no-gen/dict_61C_2019-04-09_0007.4.0.dict') as f:\n",
    "    rules = f.read(); print('Disamiguation: \"@\" replaced with \".\":\\n', rules[115:334])"
   ]
  },
  {
   "cell_type": "markdown",
   "metadata": {},
   "source": [
    "## ILE without disambiquation: `kwargs['wsd_symbol'] = ''`"
   ]
  },
  {
   "cell_type": "code",
   "execution_count": 12,
   "metadata": {
    "ExecuteTime": {
     "end_time": "2019-04-09T16:05:30.212499Z",
     "start_time": "2019-04-09T16:05:29.706680Z"
    }
   },
   "outputs": [],
   "source": [
    "%%capture\n",
    "kwargs['wsd_symbol'] = ''\n",
    "line = [['no WSD', corpus, dataset, 0, 0, 'none']]\n",
    "a, _, _, log, rules = wide_rows(line, out_dir, cp, rp, runs, **kwargs)\n",
    "table.extend(a)"
   ]
  },
  {
   "cell_type": "code",
   "execution_count": 13,
   "metadata": {
    "ExecuteTime": {
     "end_time": "2019-04-09T16:05:30.219763Z",
     "start_time": "2019-04-09T16:05:30.215714Z"
    }
   },
   "outputs": [
    {
     "data": {
      "text/html": [
       "<table><tr><td>WSD</td><td>Corpus</td><td>Parsing</td><td>Space</td><td>Linkage</td><td>Affinity</td><td>G12n</td><td>Threshold</td><td>Rules</td><td>MWC</td><td>NN</td><td>SI</td><td>PA</td><td>PQ</td><td>F1</td><td>Top 5 cluster sizes</td></tr><tr><td>no WSD</td><td>POC-English-disAmb</td><td>LG-ANY-all-parses-agm-100</td><td>dILEd</td><td>ward</td><td>euclidean</td><td>none</td><td>---</td><td>61</td><td>1</td><td>---</td><td>0.0</td><td>0%</td><td>0%</td><td>0.0</td><td>[2, 1, 0]</td></tr></table>"
      ],
      "text/plain": [
       "<IPython.core.display.HTML object>"
      ]
     },
     "metadata": {},
     "output_type": "display_data"
    }
   ],
   "source": [
    "display(html_table([header] + a))"
   ]
  },
  {
   "cell_type": "code",
   "execution_count": 14,
   "metadata": {
    "ExecuteTime": {
     "end_time": "2019-04-09T16:05:30.303067Z",
     "start_time": "2019-04-09T16:05:30.221884Z"
    }
   },
   "outputs": [
    {
     "name": "stdout",
     "output_type": "stream",
     "text": [
      "No disamiguation: \"@\" not replaced with \".\":\n",
      " \n",
      "% AB\n",
      "\"a@a\":\n",
      "(ABAV+) or (ANAB- & ABAW+) or (BUAB- & ABAW+) or (CHAB- & ABAT+ & ABAG+) or (CHAB- & ABBZ+ & ABAG+);\n",
      "\n",
      "% AC\n",
      "\"a@c\":\n",
      "(ACAP+) or (ACAQ+) or (ACAT+) or (ACBC+) or (ACBS+) or (ACBZ+) or (AEAC-) or (BDAC- & ACBC+)\n"
     ]
    }
   ],
   "source": [
    "with open(out_dir + '/POC-English-disAmb_LG-ANY-all-parses-agm-100_dILEd_no-gen/dict_61C_2019-04-09_0007.4.0.dict') as f:\n",
    "    rules = f.read(); print('No disamiguation: \"@\" not replaced with \".\":\\n', rules[115:334])"
   ]
  }
 ],
 "metadata": {
  "anaconda-cloud": {},
  "kernelspec": {
   "display_name": "Python [default]",
   "language": "python",
   "name": "python3"
  },
  "language_info": {
   "codemirror_mode": {
    "name": "ipython",
    "version": 3
   },
   "file_extension": ".py",
   "mimetype": "text/x-python",
   "name": "python",
   "nbconvert_exporter": "python",
   "pygments_lexer": "ipython3",
   "version": "3.6.6"
  },
  "toc": {
   "base_numbering": 1,
   "nav_menu": {},
   "number_sections": true,
   "sideBar": true,
   "skip_h1_title": false,
   "title_cell": "Table of Contents",
   "title_sidebar": "Contents",
   "toc_cell": false,
   "toc_position": {},
   "toc_section_display": true,
   "toc_window_display": false
  }
 },
 "nbformat": 4,
 "nbformat_minor": 2
}
