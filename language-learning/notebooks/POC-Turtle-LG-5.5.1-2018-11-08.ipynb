{
 "cells": [
  {
   "cell_type": "markdown",
   "metadata": {},
   "source": [
    "# POC-Turtle baseline test `2018-11-08`, Link Grammar 5.5.1.\n",
    "\n",
    "Agglomerative clustering, test_grammar updated 2018-10-19, Link Grammar 5.5.1; server `88.99.210.144`.  \n",
    "`poc-turtle-parses-gold.txt` updated 2018-10-24.\n",
    "This notebook is shared as [POC-Turtle-2018-11-08.html](http://langlearn.singularitynet.io/data/clustering_2018/html/POC-Turtle-2018-11-08.html).  \n",
    "The \"All tests\" table is shared as 'short_table.txt' in [POC-Turtle-2018-11-08](http://langlearn.singularitynet.io/data/clustering_2018/POC-Turtle-2018-11-08/) folder.  \n",
    "Previous (reference) tests: \n",
    "[POC-Turtle-2018-10-24.html](http://langlearn.singularitynet.io/data/clustering_2018/html/POC-Turtle-2018-10-24.html), \n",
    "[POC-Turtle-2018-10-21.html](http://langlearn.singularitynet.io/data/clustering_2018/html/POC-Turtle-2018-10-21.html), \n",
    "[POC-Turtle-2018-08-05.html](http://langlearn.singularitynet.io/data/clustering_2018/html/POC-Turtle-2018-08-05.html)."
   ]
  },
  {
   "cell_type": "markdown",
   "metadata": {},
   "source": [
    "## Basic settings"
   ]
  },
  {
   "cell_type": "code",
   "execution_count": 1,
   "metadata": {
    "ExecuteTime": {
     "end_time": "2019-02-22T06:19:07.905049Z",
     "start_time": "2019-02-22T06:19:07.281176Z"
    },
    "scrolled": true
   },
   "outputs": [
    {
     "name": "stdout",
     "output_type": "stream",
     "text": [
      "2019-02-22 06:19:07 UTC :: module_path = /home/obaskov/py/language-learning\n"
     ]
    }
   ],
   "source": [
    "import os, sys, time\n",
    "module_path = os.path.abspath(os.path.join('..'))\n",
    "if module_path not in sys.path: sys.path.append(module_path)\n",
    "from src.grammar_learner.utl import UTC\n",
    "from src.grammar_learner.read_files import check_dir\n",
    "from src.grammar_learner.write_files import list2file\n",
    "from src.grammar_learner.widgets import html_table\n",
    "from src.grammar_learner.pqa_table import table_rows\n",
    "tmpath = module_path + '/tmp/'\n",
    "check_dir(tmpath, True, 'none')\n",
    "table = []\n",
    "start = time.time()\n",
    "print(UTC(), ':: module_path =', module_path)"
   ]
  },
  {
   "cell_type": "markdown",
   "metadata": {},
   "source": [
    "## Grammar Learner corpus-specific parameters"
   ]
  },
  {
   "cell_type": "code",
   "execution_count": 2,
   "metadata": {
    "ExecuteTime": {
     "end_time": "2019-02-22T06:19:09.496958Z",
     "start_time": "2019-02-22T06:19:09.471361Z"
    }
   },
   "outputs": [
    {
     "name": "stdout",
     "output_type": "stream",
     "text": [
      "2019-02-22 06:19:09 UTC :: out_dir:\n",
      " /home/obaskov/py/language-learning/output/POC-Turtle-2019-02-22\n"
     ]
    }
   ],
   "source": [
    "corpus = 'POC-Turtle'\n",
    "out_dir = module_path + '/output/'+ corpus + '-' + str(UTC())[:10]\n",
    "runs = (1,1)\n",
    "if runs != (1,1): out_dir += '-multi'\n",
    "kwargs = {\n",
    "    'left_wall'     :   ''          ,\n",
    "    'period'        :   False       ,\n",
    "    'context'       :   1           ,\n",
    "    'word_space'    :   'vectors'   ,\n",
    "    'clustering'    :   ('kmeans', 'kmeans++', 10),\n",
    "    'cluster_range' :   (2,9,1,5),\n",
    "    'grammar_rules' :   1           ,\n",
    "    'tmpath'        :   tmpath      , \n",
    "    'template_path' :   'poc-turtle',\n",
    "    'linkage_limit' :   1000        ,\n",
    "    'verbose'       :   'min'       }\n",
    "lines = [\n",
    "    [5, 'POC-Turtle'    , 'MST-fixed-manually'              , 0  , 0 , 'none'  ],\n",
    "    [6, 'POC-Turtle'    , 'R=6-Weight=6:R-mst-weight=+1:R'  , 0  , 0 , 'none'  ],\n",
    "    [7, 'POC-Turtle'    , 'R=6-Weight=1-no-mst-weighting'   , 0  , 0 , 'none'  ],\n",
    "    [8, 'POC-Turtle'    , 'LG-ANY-all-parses'               , 0  , 0 , 'none'  ]]\n",
    "# cp,rp :: (test) corpus_path and reference_path:\n",
    "# cp = module_path + '/data/POC-Turtle/poc-turtle-corpus.txt'\n",
    "# rp = module_path + '/data/POC-Turtle/MST-fixed-2018-05-05/poc-turtle-parses-gold.txt'\n",
    "rp = module_path + '/data/POC-Turtle/MST-fixed-manually/poc-turtle-parses-gold.txt'\n",
    "cp = rp  # corpus_path = reference_path\n",
    "print(UTC(), ':: out_dir:\\n', out_dir)"
   ]
  },
  {
   "cell_type": "markdown",
   "metadata": {},
   "source": [
    "# ULL Project Plan ⇒ Parses ⇒ lines 5-8"
   ]
  },
  {
   "cell_type": "markdown",
   "metadata": {},
   "source": [
    "## Connectors-DRK-Connectors"
   ]
  },
  {
   "cell_type": "code",
   "execution_count": 3,
   "metadata": {
    "ExecuteTime": {
     "end_time": "2018-11-08T09:35:46.620643Z",
     "start_time": "2018-11-08T09:35:44.621839Z"
    }
   },
   "outputs": [],
   "source": [
    "%%capture\n",
    "kwargs['context'] = 1\n",
    "kwargs['grammar_rules'] = 1\n",
    "average21, _, header = table_rows(lines, out_dir, cp, rp, runs, **kwargs)\n",
    "table.extend(average21)"
   ]
  },
  {
   "cell_type": "code",
   "execution_count": 4,
   "metadata": {
    "ExecuteTime": {
     "end_time": "2018-11-08T09:35:46.625459Z",
     "start_time": "2018-11-08T09:35:46.621922Z"
    }
   },
   "outputs": [
    {
     "data": {
      "text/html": [
       "<table><tr><td>Line</td><td>Corpus</td><td>Parsing</td><td>LW</td><td>RW</td><td>Gen.</td><td>Space</td><td>Rules</td><td>Silhouette</td><td>PA</td><td>PQ</td><td>F1</td></tr><tr><td>5</td><td>POC-Turtle</td><td>MST-fixed-manually</td><td> --- </td><td> --- </td><td>none</td><td>cDRKc</td><td>4</td><td>0.75</td><td>100%</td><td>100%</td><td>1.00</td></tr><tr><td>6</td><td>POC-Turtle</td><td>R=6-Weight=6:R-mst-weight=+1:R</td><td> --- </td><td> --- </td><td>none</td><td>cDRKc</td><td>4</td><td>0.56</td><td>100%</td><td>100%</td><td>1.00</td></tr><tr><td>7</td><td>POC-Turtle</td><td>R=6-Weight=1-no-mst-weighting</td><td> --- </td><td> --- </td><td>none</td><td>cDRKc</td><td>7</td><td>0.4</td><td>67%</td><td>0%</td><td>0.00</td></tr><tr><td>8</td><td>POC-Turtle</td><td>LG-ANY-all-parses</td><td> --- </td><td> --- </td><td>none</td><td>cDRKc</td><td>4</td><td>0.59</td><td>100%</td><td>100%</td><td>1.00</td></tr></table>"
      ],
      "text/plain": [
       "<IPython.core.display.HTML object>"
      ]
     },
     "metadata": {},
     "output_type": "display_data"
    }
   ],
   "source": [
    "display(html_table([header]+average21))"
   ]
  },
  {
   "cell_type": "markdown",
   "metadata": {},
   "source": [
    "## Connectors-DRK-Disjuncts"
   ]
  },
  {
   "cell_type": "code",
   "execution_count": 5,
   "metadata": {
    "ExecuteTime": {
     "end_time": "2018-11-08T09:35:48.639503Z",
     "start_time": "2018-11-08T09:35:46.626604Z"
    }
   },
   "outputs": [],
   "source": [
    "%%capture\n",
    "kwargs['grammar_rules'] = 2\n",
    "average22, _, header = table_rows(lines, out_dir, cp, rp, runs, **kwargs)\n",
    "table.extend(average22)"
   ]
  },
  {
   "cell_type": "code",
   "execution_count": 6,
   "metadata": {
    "ExecuteTime": {
     "end_time": "2018-11-08T09:35:48.643200Z",
     "start_time": "2018-11-08T09:35:48.640782Z"
    },
    "scrolled": true
   },
   "outputs": [
    {
     "data": {
      "text/html": [
       "<table><tr><td>Line</td><td>Corpus</td><td>Parsing</td><td>LW</td><td>RW</td><td>Gen.</td><td>Space</td><td>Rules</td><td>Silhouette</td><td>PA</td><td>PQ</td><td>F1</td></tr><tr><td>5</td><td>POC-Turtle</td><td>MST-fixed-manually</td><td> --- </td><td> --- </td><td>none</td><td>cDRKd</td><td>4</td><td>0.75</td><td>100%</td><td>100%</td><td>1.00</td></tr><tr><td>6</td><td>POC-Turtle</td><td>R=6-Weight=6:R-mst-weight=+1:R</td><td> --- </td><td> --- </td><td>none</td><td>cDRKd</td><td>4</td><td>0.56</td><td>100%</td><td>92%</td><td>0.92</td></tr><tr><td>7</td><td>POC-Turtle</td><td>R=6-Weight=1-no-mst-weighting</td><td> --- </td><td> --- </td><td>none</td><td>cDRKd</td><td>7</td><td>0.4</td><td>100%</td><td>50%</td><td>0.50</td></tr><tr><td>8</td><td>POC-Turtle</td><td>LG-ANY-all-parses</td><td> --- </td><td> --- </td><td>none</td><td>cDRKd</td><td>4</td><td>0.59</td><td>100%</td><td>100%</td><td>1.00</td></tr></table>"
      ],
      "text/plain": [
       "<IPython.core.display.HTML object>"
      ]
     },
     "metadata": {},
     "output_type": "display_data"
    }
   ],
   "source": [
    "display(html_table([header]+average22))"
   ]
  },
  {
   "cell_type": "markdown",
   "metadata": {},
   "source": [
    "## Disjuncts-DRK-Disjuncts"
   ]
  },
  {
   "cell_type": "code",
   "execution_count": 7,
   "metadata": {
    "ExecuteTime": {
     "end_time": "2018-11-08T09:35:49.851919Z",
     "start_time": "2018-11-08T09:35:48.644360Z"
    }
   },
   "outputs": [],
   "source": [
    "%%capture\n",
    "kwargs['context'] = 2\n",
    "average23, _, header = table_rows(lines, out_dir, cp, rp, runs, **kwargs)\n",
    "table.extend(average23)"
   ]
  },
  {
   "cell_type": "code",
   "execution_count": 8,
   "metadata": {
    "ExecuteTime": {
     "end_time": "2018-11-08T09:35:49.856721Z",
     "start_time": "2018-11-08T09:35:49.853460Z"
    }
   },
   "outputs": [
    {
     "data": {
      "text/html": [
       "<table><tr><td>Line</td><td>Corpus</td><td>Parsing</td><td>LW</td><td>RW</td><td>Gen.</td><td>Space</td><td>Rules</td><td>Silhouette</td><td>PA</td><td>PQ</td><td>F1</td></tr><tr><td>5</td><td>POC-Turtle</td><td>MST-fixed-manually</td><td> --- </td><td> --- </td><td>none</td><td>dDRKd</td><td>4</td><td>0.9</td><td>100%</td><td>100%</td><td>1.00</td></tr><tr><td>6</td><td>POC-Turtle</td><td>R=6-Weight=6:R-mst-weight=+1:R</td><td> --- </td><td> --- </td><td>none</td><td>dDRKd</td><td>6</td><td>0.55</td><td>100%</td><td>92%</td><td>0.92</td></tr><tr><td>7</td><td>POC-Turtle</td><td>R=6-Weight=1-no-mst-weighting</td><td> --- </td><td> --- </td><td>none</td><td>dDRKd</td><td>fail</td><td> --- </td><td>0%</td><td>0%</td><td> --- </td></tr><tr><td>8</td><td>POC-Turtle</td><td>LG-ANY-all-parses</td><td> --- </td><td> --- </td><td>none</td><td>dDRKd</td><td>4</td><td>0.61</td><td>100%</td><td>96%</td><td>0.96</td></tr></table>"
      ],
      "text/plain": [
       "<IPython.core.display.HTML object>"
      ]
     },
     "metadata": {},
     "output_type": "display_data"
    }
   ],
   "source": [
    "display(html_table([header]+average23))"
   ]
  },
  {
   "cell_type": "markdown",
   "metadata": {},
   "source": [
    "## Disjuncts-ILE-Disjuncts"
   ]
  },
  {
   "cell_type": "code",
   "execution_count": 9,
   "metadata": {
    "ExecuteTime": {
     "end_time": "2018-11-08T09:35:50.126591Z",
     "start_time": "2018-11-08T09:35:49.858131Z"
    }
   },
   "outputs": [],
   "source": [
    "%%capture\n",
    "kwargs['word_space'] = 'discrete'\n",
    "kwargs['clustering'] = 'group'\n",
    "average24, _, header = table_rows(lines, out_dir, cp, rp, runs, **kwargs)\n",
    "table.extend(average24)"
   ]
  },
  {
   "cell_type": "code",
   "execution_count": 10,
   "metadata": {
    "ExecuteTime": {
     "end_time": "2018-11-08T09:35:50.131062Z",
     "start_time": "2018-11-08T09:35:50.127954Z"
    }
   },
   "outputs": [
    {
     "data": {
      "text/html": [
       "<table><tr><td>Line</td><td>Corpus</td><td>Parsing</td><td>LW</td><td>RW</td><td>Gen.</td><td>Space</td><td>Rules</td><td>Silhouette</td><td>PA</td><td>PQ</td><td>F1</td></tr><tr><td>5</td><td>POC-Turtle</td><td>MST-fixed-manually</td><td> --- </td><td> --- </td><td>none</td><td>dILEd</td><td>6</td><td> --- </td><td>100%</td><td>100%</td><td>1.00</td></tr><tr><td>6</td><td>POC-Turtle</td><td>R=6-Weight=6:R-mst-weight=+1:R</td><td> --- </td><td> --- </td><td>none</td><td>dILEd</td><td>8</td><td> --- </td><td>100%</td><td>92%</td><td>0.92</td></tr><tr><td>7</td><td>POC-Turtle</td><td>R=6-Weight=1-no-mst-weighting</td><td> --- </td><td> --- </td><td>none</td><td>dILEd</td><td>11</td><td> --- </td><td>100%</td><td>50%</td><td>0.50</td></tr><tr><td>8</td><td>POC-Turtle</td><td>LG-ANY-all-parses</td><td> --- </td><td> --- </td><td>none</td><td>dILEd</td><td>8</td><td> --- </td><td>100%</td><td>96%</td><td>0.96</td></tr></table>"
      ],
      "text/plain": [
       "<IPython.core.display.HTML object>"
      ]
     },
     "metadata": {},
     "output_type": "display_data"
    }
   ],
   "source": [
    "display(html_table([header]+average24))"
   ]
  },
  {
   "cell_type": "markdown",
   "metadata": {},
   "source": [
    "## Disjuncts-ALE-disjuncts"
   ]
  },
  {
   "cell_type": "code",
   "execution_count": 11,
   "metadata": {
    "ExecuteTime": {
     "end_time": "2018-11-08T09:35:50.445989Z",
     "start_time": "2018-11-08T09:35:50.132238Z"
    }
   },
   "outputs": [],
   "source": [
    "%%capture\n",
    "kwargs['word_space'] = 'sparse'\n",
    "kwargs['clustering'] = ('agglomerative', 'ward')\n",
    "kwargs['cluster_range'] = (2,12,1,1)\n",
    "kwargs['clustering_metric'] = ('silhouette', 'cosine')\n",
    "average25, _, header = table_rows(lines, out_dir, cp, rp, runs, **kwargs)\n",
    "table.extend(average25)"
   ]
  },
  {
   "cell_type": "code",
   "execution_count": 12,
   "metadata": {
    "ExecuteTime": {
     "end_time": "2018-11-08T09:35:50.449880Z",
     "start_time": "2018-11-08T09:35:50.447276Z"
    }
   },
   "outputs": [
    {
     "data": {
      "text/html": [
       "<table><tr><td>Line</td><td>Corpus</td><td>Parsing</td><td>LW</td><td>RW</td><td>Gen.</td><td>Space</td><td>Rules</td><td>Silhouette</td><td>PA</td><td>PQ</td><td>F1</td></tr><tr><td>5</td><td>POC-Turtle</td><td>MST-fixed-manually</td><td> --- </td><td> --- </td><td>none</td><td>dALEd</td><td>6</td><td>0.85</td><td>100%</td><td>100%</td><td>1.00</td></tr><tr><td>6</td><td>POC-Turtle</td><td>R=6-Weight=6:R-mst-weight=+1:R</td><td> --- </td><td> --- </td><td>none</td><td>dALEd</td><td>7</td><td>0.61</td><td>100%</td><td>92%</td><td>0.92</td></tr><tr><td>7</td><td>POC-Turtle</td><td>R=6-Weight=1-no-mst-weighting</td><td> --- </td><td> --- </td><td>none</td><td>dALEd</td><td>7</td><td>0.31</td><td>100%</td><td>50%</td><td>0.50</td></tr><tr><td>8</td><td>POC-Turtle</td><td>LG-ANY-all-parses</td><td> --- </td><td> --- </td><td>none</td><td>dALEd</td><td>6</td><td>0.62</td><td>100%</td><td>96%</td><td>0.96</td></tr></table>"
      ],
      "text/plain": [
       "<IPython.core.display.HTML object>"
      ]
     },
     "metadata": {},
     "output_type": "display_data"
    }
   ],
   "source": [
    "display(html_table([header]+average25))"
   ]
  },
  {
   "cell_type": "markdown",
   "metadata": {},
   "source": [
    "## Connectors-ALE-disjuncts"
   ]
  },
  {
   "cell_type": "code",
   "execution_count": 13,
   "metadata": {
    "ExecuteTime": {
     "end_time": "2018-11-08T09:35:50.818506Z",
     "start_time": "2018-11-08T09:35:50.450795Z"
    }
   },
   "outputs": [],
   "source": [
    "%%capture\n",
    "kwargs['context'] = 1\n",
    "average26, _, header = table_rows(lines, out_dir, cp, rp, runs, **kwargs)\n",
    "table.extend(average26)"
   ]
  },
  {
   "cell_type": "code",
   "execution_count": 14,
   "metadata": {
    "ExecuteTime": {
     "end_time": "2018-11-08T09:35:50.822223Z",
     "start_time": "2018-11-08T09:35:50.819836Z"
    }
   },
   "outputs": [
    {
     "data": {
      "text/html": [
       "<table><tr><td>Line</td><td>Corpus</td><td>Parsing</td><td>LW</td><td>RW</td><td>Gen.</td><td>Space</td><td>Rules</td><td>Silhouette</td><td>PA</td><td>PQ</td><td>F1</td></tr><tr><td>5</td><td>POC-Turtle</td><td>MST-fixed-manually</td><td> --- </td><td> --- </td><td>none</td><td>cALEd</td><td>6</td><td>0.85</td><td>100%</td><td>100%</td><td>1.00</td></tr><tr><td>6</td><td>POC-Turtle</td><td>R=6-Weight=6:R-mst-weight=+1:R</td><td> --- </td><td> --- </td><td>none</td><td>cALEd</td><td>6</td><td>0.63</td><td>100%</td><td>92%</td><td>0.92</td></tr><tr><td>7</td><td>POC-Turtle</td><td>R=6-Weight=1-no-mst-weighting</td><td> --- </td><td> --- </td><td>none</td><td>cALEd</td><td>6</td><td>0.44</td><td>100%</td><td>50%</td><td>0.50</td></tr><tr><td>8</td><td>POC-Turtle</td><td>LG-ANY-all-parses</td><td> --- </td><td> --- </td><td>none</td><td>cALEd</td><td>5</td><td>0.65</td><td>100%</td><td>96%</td><td>0.96</td></tr></table>"
      ],
      "text/plain": [
       "<IPython.core.display.HTML object>"
      ]
     },
     "metadata": {},
     "output_type": "display_data"
    }
   ],
   "source": [
    "display(html_table([header]+average26))"
   ]
  },
  {
   "cell_type": "markdown",
   "metadata": {},
   "source": [
    "# All tests"
   ]
  },
  {
   "cell_type": "code",
   "execution_count": 15,
   "metadata": {
    "ExecuteTime": {
     "end_time": "2018-11-08T09:35:50.827127Z",
     "start_time": "2018-11-08T09:35:50.823151Z"
    }
   },
   "outputs": [
    {
     "data": {
      "text/html": [
       "<table><tr><td>Line</td><td>Corpus</td><td>Parsing</td><td>LW</td><td>RW</td><td>Gen.</td><td>Space</td><td>Rules</td><td>Silhouette</td><td>PA</td><td>PQ</td><td>F1</td></tr><tr><td>5</td><td>POC-Turtle</td><td>MST-fixed-manually</td><td> --- </td><td> --- </td><td>none</td><td>cDRKc</td><td>4</td><td>0.75</td><td>100%</td><td>100%</td><td>1.00</td></tr><tr><td>6</td><td>POC-Turtle</td><td>R=6-Weight=6:R-mst-weight=+1:R</td><td> --- </td><td> --- </td><td>none</td><td>cDRKc</td><td>4</td><td>0.56</td><td>100%</td><td>100%</td><td>1.00</td></tr><tr><td>7</td><td>POC-Turtle</td><td>R=6-Weight=1-no-mst-weighting</td><td> --- </td><td> --- </td><td>none</td><td>cDRKc</td><td>7</td><td>0.4</td><td>67%</td><td>0%</td><td>0.00</td></tr><tr><td>8</td><td>POC-Turtle</td><td>LG-ANY-all-parses</td><td> --- </td><td> --- </td><td>none</td><td>cDRKc</td><td>4</td><td>0.59</td><td>100%</td><td>100%</td><td>1.00</td></tr><tr><td>5</td><td>POC-Turtle</td><td>MST-fixed-manually</td><td> --- </td><td> --- </td><td>none</td><td>cDRKd</td><td>4</td><td>0.75</td><td>100%</td><td>100%</td><td>1.00</td></tr><tr><td>6</td><td>POC-Turtle</td><td>R=6-Weight=6:R-mst-weight=+1:R</td><td> --- </td><td> --- </td><td>none</td><td>cDRKd</td><td>4</td><td>0.56</td><td>100%</td><td>92%</td><td>0.92</td></tr><tr><td>7</td><td>POC-Turtle</td><td>R=6-Weight=1-no-mst-weighting</td><td> --- </td><td> --- </td><td>none</td><td>cDRKd</td><td>7</td><td>0.4</td><td>100%</td><td>50%</td><td>0.50</td></tr><tr><td>8</td><td>POC-Turtle</td><td>LG-ANY-all-parses</td><td> --- </td><td> --- </td><td>none</td><td>cDRKd</td><td>4</td><td>0.59</td><td>100%</td><td>100%</td><td>1.00</td></tr><tr><td>5</td><td>POC-Turtle</td><td>MST-fixed-manually</td><td> --- </td><td> --- </td><td>none</td><td>dDRKd</td><td>4</td><td>0.9</td><td>100%</td><td>100%</td><td>1.00</td></tr><tr><td>6</td><td>POC-Turtle</td><td>R=6-Weight=6:R-mst-weight=+1:R</td><td> --- </td><td> --- </td><td>none</td><td>dDRKd</td><td>6</td><td>0.55</td><td>100%</td><td>92%</td><td>0.92</td></tr><tr><td>7</td><td>POC-Turtle</td><td>R=6-Weight=1-no-mst-weighting</td><td> --- </td><td> --- </td><td>none</td><td>dDRKd</td><td>fail</td><td> --- </td><td>0%</td><td>0%</td><td> --- </td></tr><tr><td>8</td><td>POC-Turtle</td><td>LG-ANY-all-parses</td><td> --- </td><td> --- </td><td>none</td><td>dDRKd</td><td>4</td><td>0.61</td><td>100%</td><td>96%</td><td>0.96</td></tr><tr><td>5</td><td>POC-Turtle</td><td>MST-fixed-manually</td><td> --- </td><td> --- </td><td>none</td><td>dILEd</td><td>6</td><td> --- </td><td>100%</td><td>100%</td><td>1.00</td></tr><tr><td>6</td><td>POC-Turtle</td><td>R=6-Weight=6:R-mst-weight=+1:R</td><td> --- </td><td> --- </td><td>none</td><td>dILEd</td><td>8</td><td> --- </td><td>100%</td><td>92%</td><td>0.92</td></tr><tr><td>7</td><td>POC-Turtle</td><td>R=6-Weight=1-no-mst-weighting</td><td> --- </td><td> --- </td><td>none</td><td>dILEd</td><td>11</td><td> --- </td><td>100%</td><td>50%</td><td>0.50</td></tr><tr><td>8</td><td>POC-Turtle</td><td>LG-ANY-all-parses</td><td> --- </td><td> --- </td><td>none</td><td>dILEd</td><td>8</td><td> --- </td><td>100%</td><td>96%</td><td>0.96</td></tr><tr><td>5</td><td>POC-Turtle</td><td>MST-fixed-manually</td><td> --- </td><td> --- </td><td>none</td><td>dALEd</td><td>6</td><td>0.85</td><td>100%</td><td>100%</td><td>1.00</td></tr><tr><td>6</td><td>POC-Turtle</td><td>R=6-Weight=6:R-mst-weight=+1:R</td><td> --- </td><td> --- </td><td>none</td><td>dALEd</td><td>7</td><td>0.61</td><td>100%</td><td>92%</td><td>0.92</td></tr><tr><td>7</td><td>POC-Turtle</td><td>R=6-Weight=1-no-mst-weighting</td><td> --- </td><td> --- </td><td>none</td><td>dALEd</td><td>7</td><td>0.31</td><td>100%</td><td>50%</td><td>0.50</td></tr><tr><td>8</td><td>POC-Turtle</td><td>LG-ANY-all-parses</td><td> --- </td><td> --- </td><td>none</td><td>dALEd</td><td>6</td><td>0.62</td><td>100%</td><td>96%</td><td>0.96</td></tr><tr><td>5</td><td>POC-Turtle</td><td>MST-fixed-manually</td><td> --- </td><td> --- </td><td>none</td><td>cALEd</td><td>6</td><td>0.85</td><td>100%</td><td>100%</td><td>1.00</td></tr><tr><td>6</td><td>POC-Turtle</td><td>R=6-Weight=6:R-mst-weight=+1:R</td><td> --- </td><td> --- </td><td>none</td><td>cALEd</td><td>6</td><td>0.63</td><td>100%</td><td>92%</td><td>0.92</td></tr><tr><td>7</td><td>POC-Turtle</td><td>R=6-Weight=1-no-mst-weighting</td><td> --- </td><td> --- </td><td>none</td><td>cALEd</td><td>6</td><td>0.44</td><td>100%</td><td>50%</td><td>0.50</td></tr><tr><td>8</td><td>POC-Turtle</td><td>LG-ANY-all-parses</td><td> --- </td><td> --- </td><td>none</td><td>cALEd</td><td>5</td><td>0.65</td><td>100%</td><td>96%</td><td>0.96</td></tr></table>"
      ],
      "text/plain": [
       "<IPython.core.display.HTML object>"
      ]
     },
     "metadata": {},
     "output_type": "display_data"
    }
   ],
   "source": [
    "display(html_table([header] + table))"
   ]
  },
  {
   "cell_type": "code",
   "execution_count": 16,
   "metadata": {
    "ExecuteTime": {
     "end_time": "2018-11-08T09:35:50.831931Z",
     "start_time": "2018-11-08T09:35:50.828094Z"
    }
   },
   "outputs": [
    {
     "name": "stdout",
     "output_type": "stream",
     "text": [
      "2018-11-08 09:35:50 UTC :: finished, elapsed 6 seconds.  Results saved to\n",
      " /home/obaskov/language-learning/output/POC-Turtle-2018-11-08/all_tests_table.txt\n"
     ]
    }
   ],
   "source": [
    "table_str = list2file(table, out_dir+'/all_tests_table.txt')\n",
    "print(UTC(), ':: finished, elapsed', str(round((time.time()-start))), \n",
    "      'seconds.  Results saved to\\n', out_dir + '/all_tests_table.txt')"
   ]
  },
  {
   "cell_type": "code",
   "execution_count": null,
   "metadata": {},
   "outputs": [],
   "source": []
  }
 ],
 "metadata": {
  "anaconda-cloud": {},
  "kernelspec": {
   "display_name": "Python [default]",
   "language": "python",
   "name": "python3"
  },
  "language_info": {
   "codemirror_mode": {
    "name": "ipython",
    "version": 3
   },
   "file_extension": ".py",
   "mimetype": "text/x-python",
   "name": "python",
   "nbconvert_exporter": "python",
   "pygments_lexer": "ipython3",
   "version": "3.6.6"
  },
  "toc": {
   "base_numbering": 1,
   "nav_menu": {},
   "number_sections": true,
   "sideBar": true,
   "skip_h1_title": false,
   "title_cell": "Table of Contents",
   "title_sidebar": "Contents",
   "toc_cell": false,
   "toc_position": {},
   "toc_section_display": true,
   "toc_window_display": false
  }
 },
 "nbformat": 4,
 "nbformat_minor": 2
}
