{
 "cells": [
  {
   "cell_type": "markdown",
   "metadata": {
    "toc": true
   },
   "source": [
    "<h1>Table of Contents<span class=\"tocSkip\"></span></h1>\n",
    "<div class=\"toc\"><ul class=\"toc-item\"><li><span><a href=\"#Settings\" data-toc-modified-id=\"Settings-1\"><span class=\"toc-item-num\">1&nbsp;&nbsp;</span>Settings</a></span></li><li><span><a href=\"#Tests:-&quot;POC-English&quot;-corpus\" data-toc-modified-id=\"Tests:-&quot;POC-English&quot;-corpus-2\"><span class=\"toc-item-num\">2&nbsp;&nbsp;</span>Tests: \"POC-English\" corpus</a></span><ul class=\"toc-item\"><li><span><a href=\"#&quot;POC-English&quot;,-ILE,-no-generalization\" data-toc-modified-id=\"&quot;POC-English&quot;,-ILE,-no-generalization-2.1\"><span class=\"toc-item-num\">2.1&nbsp;&nbsp;</span>\"POC-English\", ILE, no generalization</a></span></li><li><span><a href=\"#&quot;POC-English&quot;,-ILE-+-generalization\" data-toc-modified-id=\"&quot;POC-English&quot;,-ILE-+-generalization-2.2\"><span class=\"toc-item-num\">2.2&nbsp;&nbsp;</span>\"POC-English\", ILE + generalization</a></span></li></ul></li><li><span><a href=\"#Tests:-&quot;Child-Directed-Speech&quot;-corpus-(&quot;CDS&quot;)\" data-toc-modified-id=\"Tests:-&quot;Child-Directed-Speech&quot;-corpus-(&quot;CDS&quot;)-3\"><span class=\"toc-item-num\">3&nbsp;&nbsp;</span>Tests: \"Child Directed Speech\" corpus (\"CDS\")</a></span><ul class=\"toc-item\"><li><span><a href=\"#CDS-&quot;LG-E-clean&quot;\" data-toc-modified-id=\"CDS-&quot;LG-E-clean&quot;-3.1\"><span class=\"toc-item-num\">3.1&nbsp;&nbsp;</span>CDS \"LG-E-clean\"</a></span></li><li><span><a href=\"#CDS-LG-E-551\" data-toc-modified-id=\"CDS-LG-E-551-3.2\"><span class=\"toc-item-num\">3.2&nbsp;&nbsp;</span>CDS LG-E-551</a></span></li></ul></li><li><span><a href=\"#&quot;Gutenberg-Children-Books&quot;--corpus\" data-toc-modified-id=\"&quot;Gutenberg-Children-Books&quot;--corpus-4\"><span class=\"toc-item-num\">4&nbsp;&nbsp;</span>\"Gutenberg Children Books\"  corpus</a></span></li></ul></div>"
   ]
  },
  {
   "cell_type": "markdown",
   "metadata": {},
   "source": [
    "# Iterative ILE Clustering `2018-02-28` check\n",
    "This notebook is shared as [Iterative-clustering-ILE-POCE-CDS-2019-02-27.html](http://langlearn.singularitynet.io/data/clustering_2019/html/Iterative-clustering-ILE-POCE-CDS-2019-02-27.html),  \n",
    "output data -- [Iterative-clustering-ILE-POCE-CDS-2019-02-27](http://langlearn.singularitynet.io/data/clustering_2019/Iterative-clustering-ILE-POCE-CDS-2019-02-27)\n",
    "\n",
    "**Looks like a tagging or parsing processing issue, OR input parses issues leading to wrong reading and tagging...***"
   ]
  },
  {
   "cell_type": "markdown",
   "metadata": {},
   "source": [
    "## Settings"
   ]
  },
  {
   "cell_type": "code",
   "execution_count": 1,
   "metadata": {
    "ExecuteTime": {
     "end_time": "2019-02-27T17:18:19.433499Z",
     "start_time": "2019-02-27T17:18:18.791776Z"
    }
   },
   "outputs": [
    {
     "name": "stdout",
     "output_type": "stream",
     "text": [
      "2019-02-27 17:18:19 UTC :: out_dir:\n",
      " /home/obaskov/94/language-learning/output/Iterative-Clustering-ILE-2019-02-27\n"
     ]
    }
   ],
   "source": [
    "import os, sys, time\n",
    "module_path = os.path.abspath(os.path.join('..'))\n",
    "if module_path not in sys.path: sys.path.append(module_path)\n",
    "from src.grammar_learner.utl import UTC, kwa\n",
    "from src.grammar_learner.read_files import check_dir\n",
    "from src.grammar_learner.widgets import html_table\n",
    "from src.grammar_learner.pqa_table import params\n",
    "from src.grammar_learner.incremental_clustering import iterate\n",
    "tmpath = module_path + '/tmp/'\n",
    "check_dir(tmpath, True, 'none')\n",
    "table = []\n",
    "start = time.time()\n",
    "out_dir = module_path + \\\n",
    "    '/output/Iterative-Clustering-ILE-' + str(UTC())[:10]\n",
    "print(UTC(), ':: out_dir:\\n', out_dir)"
   ]
  },
  {
   "cell_type": "code",
   "execution_count": 2,
   "metadata": {
    "ExecuteTime": {
     "end_time": "2019-02-27T17:18:19.446641Z",
     "start_time": "2019-02-27T17:18:19.435102Z"
    },
    "scrolled": true
   },
   "outputs": [
    {
     "name": "stdout",
     "output_type": "stream",
     "text": [
      "2019-02-27 17:18:19 UTC :: input_path:\n",
      " /home/obaskov/94/language-learning/data/GCB/LG-E-clean\n"
     ]
    }
   ],
   "source": [
    "corpus = 'GCB'\n",
    "dataset = 'LG-E-clean'\n",
    "input_path = module_path +'/data/'+ corpus +'/'+ dataset\n",
    "ref_corpus = input_path\n",
    "kwargs = {\n",
    "    # Corpora: \n",
    "    'corpus'        : 'GCB'         ,\n",
    "    'dataset'       : 'LG-E-clean'  ,\n",
    "    'max_sentence_length':  10      ,\n",
    "    # 'input_parses': input_path    , # paths are set by 'corpus' and 'dataset'\n",
    "    'reference_path': ref_corpus    ,\n",
    "    # 'corpus_path' : ref_corpus    , # corpus path = reference path \n",
    "    'module_path'   : module_path   , # language-learning dir (default)\n",
    "    # Word space:\n",
    "    'stop_words'    :   []          , # trash filter off\n",
    "    'min_word_count':   1           ,\n",
    "    'left_wall'     :   ''          ,\n",
    "    'period'        :   False       ,\n",
    "    'context'       :   2           , # disjunct-based word vector space\n",
    "    'word_space'    :   'discrete'  , # \"ILE\"\n",
    "    # Category learning:\n",
    "    'clustering'    :   'group'     , # \"ILE\"\n",
    "    'cluster_range' :   0           ,\n",
    "    'cluster_criteria'  : 'silhouette',\n",
    "    'clustering_metric' : ('silhouette', 'cosine'),\n",
    "    'categories_generalization' : 'off',\n",
    "    # Grammar rules induction:\n",
    "    'grammar_rules'         : 2     , # disjunct-based link grammar rules\n",
    "    'rules_generalization'  : 'off' ,\n",
    "    'rules_merge'           : 0.8   ,\n",
    "    'rules_aggregation'     : 0.2   ,\n",
    "    'top_level'             : 0.01  ,\n",
    "    # Etc...:\n",
    "    'out_path'      :   out_dir     ,\n",
    "    'output_grammar':   out_dir     ,\n",
    "    'tmpath'        :   tmpath      , \n",
    "    'verbose'       :   'min'       ,\n",
    "    'template_path' :   'poc-turtle',\n",
    "    'linkage_limit' :   1000        ,\n",
    "    'iterations'    :   12\n",
    "}\n",
    "if check_dir(input_path): print(UTC(), ':: input_path:\\n', input_path)"
   ]
  },
  {
   "cell_type": "markdown",
   "metadata": {},
   "source": [
    "## Tests: \"POC-English\" corpus"
   ]
  },
  {
   "cell_type": "markdown",
   "metadata": {},
   "source": [
    "### \"POC-English\", ILE, no generalization"
   ]
  },
  {
   "cell_type": "code",
   "execution_count": 3,
   "metadata": {
    "ExecuteTime": {
     "end_time": "2019-02-27T17:18:19.996358Z",
     "start_time": "2019-02-27T17:18:19.447850Z"
    }
   },
   "outputs": [],
   "source": [
    "%%capture\n",
    "kwargs['corpus'] = 'POC-English-Amb'\n",
    "kwargs['dataset'] = 'MST-fixed-manually'\n",
    "kwargs['reference_path'] = module_path + \\\n",
    "    '/data/POC-English-Amb/MST-fixed-manually/poc-english_ex-parses-gold.txt'\n",
    "if 'corpus_path' in kwargs: del kwargs['corpus_path']\n",
    "kwargs['rules_generalization'] = 'off'\n",
    "kwargs['cluster_range']        =  0  # just numbering directories\n",
    "if 'min_word_count' in kwargs: del kwargs['min_word_count']\n",
    "t21, re21 = iterate(**kwargs)"
   ]
  },
  {
   "cell_type": "code",
   "execution_count": 4,
   "metadata": {
    "ExecuteTime": {
     "end_time": "2019-02-27T17:18:20.002176Z",
     "start_time": "2019-02-27T17:18:19.997946Z"
    }
   },
   "outputs": [
    {
     "data": {
      "text/html": [
       "<table><tr><td>Iteration</td><td>N clusters</td><td>PA</td><td>F1</td></tr><tr><td>1</td><td>34</td><td>98%,</td><td>0.98</td></tr><tr><td>2</td><td>34</td><td>98%,</td><td>0.98</td></tr></table>"
      ],
      "text/plain": [
       "<IPython.core.display.HTML object>"
      ]
     },
     "metadata": {},
     "output_type": "display_data"
    },
    {
     "name": "stdout",
     "output_type": "stream",
     "text": [
      "Iterative-Clustering-ILE-2019-02-27/POC-English-Amb_MST-fixed-manually_dILEd_no-gen_0c\n"
     ]
    }
   ],
   "source": [
    "display(html_table(t21))\n",
    "print(re21['project_directory'][42:-12])"
   ]
  },
  {
   "cell_type": "markdown",
   "metadata": {},
   "source": [
    "### \"POC-English\", ILE + generalization"
   ]
  },
  {
   "cell_type": "code",
   "execution_count": 5,
   "metadata": {
    "ExecuteTime": {
     "end_time": "2019-02-27T17:18:20.437820Z",
     "start_time": "2019-02-27T17:18:20.003388Z"
    }
   },
   "outputs": [],
   "source": [
    "%%capture\n",
    "kwargs['rules_generalization'] = 'fast'\n",
    "kwargs['rules_aggregation'] = 0.2\n",
    "kwargs['cluster_range']     =   2  # just numbering directories\n",
    "t22, re22 = iterate(**kwargs)"
   ]
  },
  {
   "cell_type": "code",
   "execution_count": 6,
   "metadata": {
    "ExecuteTime": {
     "end_time": "2019-02-27T17:18:20.442611Z",
     "start_time": "2019-02-27T17:18:20.439417Z"
    }
   },
   "outputs": [
    {
     "data": {
      "text/html": [
       "<table><tr><td>Iteration</td><td>N clusters</td><td>PA</td><td>F1</td></tr><tr><td>1</td><td>26</td><td>100%,</td><td>0.99</td></tr><tr><td>2</td><td>26</td><td>100%,</td><td>0.99</td></tr></table>"
      ],
      "text/plain": [
       "<IPython.core.display.HTML object>"
      ]
     },
     "metadata": {},
     "output_type": "display_data"
    },
    {
     "name": "stdout",
     "output_type": "stream",
     "text": [
      "Iterative-Clustering-ILE-2019-02-27/POC-English-Amb_MST-fixed-manually_dILEd_gen-rules_2c\n"
     ]
    }
   ],
   "source": [
    "display(html_table(t22))\n",
    "print(re22['project_directory'][42:-12])"
   ]
  },
  {
   "cell_type": "code",
   "execution_count": 7,
   "metadata": {
    "ExecuteTime": {
     "end_time": "2019-02-27T17:18:21.126226Z",
     "start_time": "2019-02-27T17:18:20.444004Z"
    }
   },
   "outputs": [],
   "source": [
    "%%capture\n",
    "kwargs['rules_aggregation'] = 0.1\n",
    "kwargs['cluster_range']     =   1  # just numbering directories\n",
    "t23, re23 = iterate(**kwargs)"
   ]
  },
  {
   "cell_type": "code",
   "execution_count": 8,
   "metadata": {
    "ExecuteTime": {
     "end_time": "2019-02-27T17:18:21.131021Z",
     "start_time": "2019-02-27T17:18:21.127884Z"
    }
   },
   "outputs": [
    {
     "data": {
      "text/html": [
       "<table><tr><td>Iteration</td><td>N clusters</td><td>PA</td><td>F1</td></tr><tr><td>1</td><td>23</td><td>100%,</td><td>0.99</td></tr><tr><td>2</td><td>18</td><td>100%,</td><td>0.97</td></tr><tr><td>3</td><td>17</td><td>100%,</td><td>0.97</td></tr><tr><td>4</td><td>17</td><td>100%,</td><td>0.97</td></tr></table>"
      ],
      "text/plain": [
       "<IPython.core.display.HTML object>"
      ]
     },
     "metadata": {},
     "output_type": "display_data"
    },
    {
     "name": "stdout",
     "output_type": "stream",
     "text": [
      "Iterative-Clustering-ILE-2019-02-27/POC-English-Amb_MST-fixed-manually_dILEd_gen-rules_1c\n"
     ]
    }
   ],
   "source": [
    "display(html_table(t23)); print(re23['project_directory'][42:-12])"
   ]
  },
  {
   "cell_type": "markdown",
   "metadata": {},
   "source": [
    "## Tests: \"Child Directed Speech\" corpus (\"CDS\")"
   ]
  },
  {
   "cell_type": "code",
   "execution_count": 9,
   "metadata": {
    "ExecuteTime": {
     "end_time": "2019-02-27T17:18:21.219160Z",
     "start_time": "2019-02-27T17:18:21.132192Z"
    }
   },
   "outputs": [],
   "source": [
    "kwargs['corpus'] = 'CDS'\n",
    "kwargs['reference_path'] = module_path + '/data/CDS/LG-E-clean'\n",
    "if 'corpus_path' in kwargs: del kwargs['corpus_path']"
   ]
  },
  {
   "cell_type": "markdown",
   "metadata": {},
   "source": [
    "### CDS \"LG-E-clean\""
   ]
  },
  {
   "cell_type": "code",
   "execution_count": 10,
   "metadata": {
    "ExecuteTime": {
     "end_time": "2019-02-27T17:18:35.082244Z",
     "start_time": "2019-02-27T17:18:21.220759Z"
    }
   },
   "outputs": [],
   "source": [
    "%%capture\n",
    "kwargs['dataset'] = 'LG-E-clean'\n",
    "kwargs['rules_generalization'] = 'off'\n",
    "kwargs['cluster_range']        =  0  # just numbering directories\n",
    "t31, re31 = iterate(**kwargs)"
   ]
  },
  {
   "cell_type": "code",
   "execution_count": 11,
   "metadata": {
    "ExecuteTime": {
     "end_time": "2019-02-27T17:18:35.087212Z",
     "start_time": "2019-02-27T17:18:35.083900Z"
    }
   },
   "outputs": [
    {
     "data": {
      "text/html": [
       "<table><tr><td>Iteration</td><td>N clusters</td><td>PA</td><td>F1</td></tr><tr><td>1</td><td>301</td><td>99%,</td><td>0.99</td></tr><tr><td>2</td><td>301</td><td>99%,</td><td>0.99</td></tr></table>"
      ],
      "text/plain": [
       "<IPython.core.display.HTML object>"
      ]
     },
     "metadata": {},
     "output_type": "display_data"
    },
    {
     "name": "stdout",
     "output_type": "stream",
     "text": [
      "Iterative-Clustering-ILE-2019-02-27/CDS_LG-E-clean_dILEd_no-gen_0c\n"
     ]
    }
   ],
   "source": [
    "display(html_table(t31)); print(re31['project_directory'][42:-12])"
   ]
  },
  {
   "cell_type": "code",
   "execution_count": 12,
   "metadata": {
    "ExecuteTime": {
     "end_time": "2019-02-27T17:18:50.865150Z",
     "start_time": "2019-02-27T17:18:35.088506Z"
    }
   },
   "outputs": [],
   "source": [
    "%%capture\n",
    "kwargs['rules_generalization'] = 'fast'\n",
    "kwargs['rules_aggregation'] = 0.2\n",
    "kwargs['cluster_range']     =   2  # just numbering directories\n",
    "t32, re32 = iterate(**kwargs)"
   ]
  },
  {
   "cell_type": "code",
   "execution_count": 13,
   "metadata": {
    "ExecuteTime": {
     "end_time": "2019-02-27T17:18:50.870330Z",
     "start_time": "2019-02-27T17:18:50.867055Z"
    }
   },
   "outputs": [
    {
     "data": {
      "text/html": [
       "<table><tr><td>Iteration</td><td>N clusters</td><td>PA</td><td>F1</td></tr><tr><td>1</td><td>239</td><td>100%,</td><td>0.99</td></tr><tr><td>2</td><td>230</td><td>100%,</td><td>0.99</td></tr><tr><td>3</td><td>227</td><td>100%,</td><td>0.99</td></tr><tr><td>4</td><td>227</td><td>100%,</td><td>0.99</td></tr></table>"
      ],
      "text/plain": [
       "<IPython.core.display.HTML object>"
      ]
     },
     "metadata": {},
     "output_type": "display_data"
    },
    {
     "name": "stdout",
     "output_type": "stream",
     "text": [
      "Iterative-Clustering-ILE-2019-02-27/CDS_LG-E-clean_dILEd_gen-rules_2c\n"
     ]
    }
   ],
   "source": [
    "display(html_table(t32)); print(re32['project_directory'][42:-12])"
   ]
  },
  {
   "cell_type": "code",
   "execution_count": 14,
   "metadata": {
    "ExecuteTime": {
     "end_time": "2019-02-27T17:19:25.794526Z",
     "start_time": "2019-02-27T17:18:50.871459Z"
    }
   },
   "outputs": [],
   "source": [
    "%%capture\n",
    "kwargs['rules_aggregation'] = 0.1\n",
    "kwargs['cluster_range']     =   1  # just numbering directories\n",
    "t33, re33 = iterate(**kwargs)"
   ]
  },
  {
   "cell_type": "code",
   "execution_count": 15,
   "metadata": {
    "ExecuteTime": {
     "end_time": "2019-02-27T17:19:25.800294Z",
     "start_time": "2019-02-27T17:19:25.796470Z"
    }
   },
   "outputs": [
    {
     "data": {
      "text/html": [
       "<table><tr><td>Iteration</td><td>N clusters</td><td>PA</td><td>F1</td></tr><tr><td>1</td><td>137</td><td>100%,</td><td>0.9</td></tr><tr><td>2</td><td>45</td><td>100%,</td><td>0.8</td></tr><tr><td>3</td><td>14</td><td>100%,</td><td>0.76</td></tr><tr><td>4</td><td>8</td><td>100%,</td><td>0.76</td></tr><tr><td>5</td><td>4</td><td>100%,</td><td>0.76</td></tr><tr><td>6</td><td>3</td><td>100%,</td><td>0.76</td></tr></table>"
      ],
      "text/plain": [
       "<IPython.core.display.HTML object>"
      ]
     },
     "metadata": {},
     "output_type": "display_data"
    },
    {
     "name": "stdout",
     "output_type": "stream",
     "text": [
      "Iterative-Clustering-ILE-2019-02-27/CDS_LG-E-clean_dILEd_gen-rules_1c\n"
     ]
    }
   ],
   "source": [
    "display(html_table(t33)); print(re33['project_directory'][42:-12])"
   ]
  },
  {
   "cell_type": "markdown",
   "metadata": {
    "ExecuteTime": {
     "end_time": "2019-02-05T13:53:13.332897Z",
     "start_time": "2019-02-05T13:53:12.126Z"
    },
    "scrolled": true
   },
   "source": [
    "### CDS LG-E-551"
   ]
  },
  {
   "cell_type": "code",
   "execution_count": 16,
   "metadata": {
    "ExecuteTime": {
     "end_time": "2019-02-27T17:28:14.844685Z",
     "start_time": "2019-02-27T17:19:25.801658Z"
    }
   },
   "outputs": [],
   "source": [
    "%%capture\n",
    "kwargs['dataset'] = 'LG-E-551'\n",
    "kwargs['rules_generalization'] = 'off'\n",
    "kwargs['cluster_range']        =  0  # just numbering directories\n",
    "t35, re35 = iterate(**kwargs)"
   ]
  },
  {
   "cell_type": "code",
   "execution_count": 17,
   "metadata": {
    "ExecuteTime": {
     "end_time": "2019-02-27T17:28:14.849824Z",
     "start_time": "2019-02-27T17:28:14.846354Z"
    }
   },
   "outputs": [
    {
     "data": {
      "text/html": [
       "<table><tr><td>Iteration</td><td>N clusters</td><td>PA</td><td>F1</td></tr><tr><td>1</td><td>2578</td><td>100%,</td><td>0.98</td></tr><tr><td>2</td><td>2578</td><td>100%,</td><td>0.98</td></tr></table>"
      ],
      "text/plain": [
       "<IPython.core.display.HTML object>"
      ]
     },
     "metadata": {},
     "output_type": "display_data"
    },
    {
     "name": "stdout",
     "output_type": "stream",
     "text": [
      "Iterative-Clustering-ILE-2019-02-27/CDS_LG-E-551_dILEd_no-gen_0c\n"
     ]
    }
   ],
   "source": [
    "display(html_table(t35)); print(re35['project_directory'][42:-12])"
   ]
  },
  {
   "cell_type": "code",
   "execution_count": 18,
   "metadata": {
    "ExecuteTime": {
     "end_time": "2019-02-27T17:38:15.285768Z",
     "start_time": "2019-02-27T17:28:14.851807Z"
    }
   },
   "outputs": [],
   "source": [
    "%%capture\n",
    "kwargs['rules_generalization'] = 'fast'\n",
    "kwargs['rules_aggregation'] = 0.2  # 0.2: 2148⇒2091, 0.98⇒0.91\n",
    "kwargs['cluster_range']     =   2  # just numbering directories\n",
    "t36, re36 = iterate(**kwargs)"
   ]
  },
  {
   "cell_type": "code",
   "execution_count": 19,
   "metadata": {
    "ExecuteTime": {
     "end_time": "2019-02-27T17:38:15.291060Z",
     "start_time": "2019-02-27T17:38:15.287434Z"
    }
   },
   "outputs": [
    {
     "data": {
      "text/html": [
       "<table><tr><td>Iteration</td><td>N clusters</td><td>PA</td><td>F1</td></tr><tr><td>1</td><td>1823</td><td>100%,</td><td>0.98</td></tr><tr><td>2</td><td>1769</td><td>100%,</td><td>0.98</td></tr><tr><td>3</td><td>1761</td><td>100%,</td><td>0.97</td></tr><tr><td>4</td><td>1761</td><td>100%,</td><td>0.97</td></tr></table>"
      ],
      "text/plain": [
       "<IPython.core.display.HTML object>"
      ]
     },
     "metadata": {},
     "output_type": "display_data"
    },
    {
     "name": "stdout",
     "output_type": "stream",
     "text": [
      "Iterative-Clustering-ILE-2019-02-27/CDS_LG-E-551_dILEd_gen-rules_2c\n"
     ]
    }
   ],
   "source": [
    "display(html_table(t36)); print(re36['project_directory'][42:-12])"
   ]
  },
  {
   "cell_type": "code",
   "execution_count": 20,
   "metadata": {
    "ExecuteTime": {
     "end_time": "2019-02-27T21:26:40.037142Z",
     "start_time": "2019-02-27T17:38:15.292309Z"
    }
   },
   "outputs": [],
   "source": [
    "%%capture\n",
    "kwargs['rules_generalization'] = 'fast'\n",
    "kwargs['rules_aggregation'] = 0.1\n",
    "kwargs['cluster_range']     =   1  # just numbering directories\n",
    "t37, re37 = iterate(**kwargs)"
   ]
  },
  {
   "cell_type": "code",
   "execution_count": 21,
   "metadata": {
    "ExecuteTime": {
     "end_time": "2019-02-27T21:26:40.041998Z",
     "start_time": "2019-02-27T21:26:40.038742Z"
    }
   },
   "outputs": [
    {
     "data": {
      "text/html": [
       "<table><tr><td>Iteration</td><td>N clusters</td><td>PA</td><td>F1</td></tr><tr><td>1</td><td>1125</td><td>100%,</td><td>0.87</td></tr><tr><td>2</td><td>631</td><td>100%,</td><td>0.83</td></tr><tr><td>3</td><td>446</td><td>100%,</td><td>0.77</td></tr><tr><td>4</td><td>343</td><td>100%,</td><td>0.76</td></tr><tr><td>5</td><td>213</td><td>100%,</td><td>0.76</td></tr><tr><td>6</td><td>181</td><td>100%,</td><td>0.76</td></tr><tr><td>7</td><td>165</td><td>100%,</td><td>0.76</td></tr><tr><td>8</td><td>165</td><td>100%,</td><td>0.76</td></tr></table>"
      ],
      "text/plain": [
       "<IPython.core.display.HTML object>"
      ]
     },
     "metadata": {},
     "output_type": "display_data"
    },
    {
     "name": "stdout",
     "output_type": "stream",
     "text": [
      "Iterative-Clustering-ILE-2019-02-27/CDS_LG-E-551_dILEd_gen-rules_1c\n"
     ]
    }
   ],
   "source": [
    "display(html_table(t37)); print(re37['project_directory'][42:-12])"
   ]
  },
  {
   "cell_type": "markdown",
   "metadata": {},
   "source": [
    "## \"Gutenberg Children Books\"  corpus"
   ]
  },
  {
   "cell_type": "code",
   "execution_count": 27,
   "metadata": {
    "ExecuteTime": {
     "end_time": "2019-02-28T07:24:23.163522Z",
     "start_time": "2019-02-28T06:50:24.862126Z"
    }
   },
   "outputs": [],
   "source": [
    "%%capture\n",
    "kwargs['corpus'] = 'GCB'\n",
    "kwargs['dataset'] = 'LG-E-clean'\n",
    "if 'reference_path' in kwargs: del kwargs['reference_path']\n",
    "if 'corpus_path' in kwargs: del kwargs['corpus_path']\n",
    "kwargs['word_space'] = 'discrete'\n",
    "kwargs['clustering'] = 'group'\n",
    "kwargs['rules_generalization'] = 'off'\n",
    "kwargs['cluster_range'] =  0  # just numbering directories\n",
    "kwargs['min_word_count'] = 21\n",
    "t40, r40 = iterate(**kwargs)"
   ]
  },
  {
   "cell_type": "code",
   "execution_count": 28,
   "metadata": {
    "ExecuteTime": {
     "end_time": "2019-02-28T07:24:23.168280Z",
     "start_time": "2019-02-28T07:24:23.165144Z"
    }
   },
   "outputs": [
    {
     "data": {
      "text/html": [
       "<table><tr><td>Iteration</td><td>N clusters</td><td>PA</td><td>F1</td></tr><tr><td>1</td><td>1127</td><td>24%,</td><td>0.26</td></tr><tr><td>2</td><td>277</td><td>10%,</td><td>0.09</td></tr><tr><td>3</td><td>299</td><td>10%,</td><td>0.09</td></tr><tr><td>4</td><td>277</td><td>10%,</td><td>0.09</td></tr><tr><td>5</td><td>299</td><td>10%,</td><td>0.09</td></tr><tr><td>6</td><td>277</td><td>10%,</td><td>0.09</td></tr><tr><td>7</td><td>299</td><td>10%,</td><td>0.09</td></tr><tr><td>8</td><td>277</td><td>10%,</td><td>0.09</td></tr><tr><td>9</td><td>299</td><td>10%,</td><td>0.09</td></tr><tr><td>10</td><td>277</td><td>10%,</td><td>0.09</td></tr><tr><td>11</td><td>299</td><td>10%,</td><td>0.09</td></tr><tr><td>12</td><td>277</td><td>10%,</td><td>0.09</td></tr></table>"
      ],
      "text/plain": [
       "<IPython.core.display.HTML object>"
      ]
     },
     "metadata": {},
     "output_type": "display_data"
    },
    {
     "name": "stdout",
     "output_type": "stream",
     "text": [
      "Iterative-Clustering-ILE-2019-02-27/GCB_LG-E-clean_dILEd_no-gen_0c_mwc=21/\n"
     ]
    }
   ],
   "source": [
    "display(html_table(t40)); print(r40['project_directory'][42:-12])"
   ]
  },
  {
   "cell_type": "markdown",
   "metadata": {},
   "source": [
    "_Looks like a tagging or corpus processing issue... OR some issue in input parses leading to wrong reading and tagging?_"
   ]
  },
  {
   "cell_type": "code",
   "execution_count": 33,
   "metadata": {
    "ExecuteTime": {
     "end_time": "2019-02-28T09:53:24.592106Z",
     "start_time": "2019-02-28T09:10:39.296046Z"
    }
   },
   "outputs": [],
   "source": [
    "%%capture\n",
    "kwargs['corpus'] = 'GCB'\n",
    "kwargs['dataset'] = 'LG-E-clean'  # 'LG-E-551-pq24878'\n",
    "if 'reference_path' in kwargs: del kwargs['reference_path']\n",
    "if 'corpus_path' in kwargs: del kwargs['corpus_path']\n",
    "kwargs['word_space'] = 'discrete'\n",
    "kwargs['clustering'] = 'group'\n",
    "kwargs['rules_generalization'] = 'fast'\n",
    "kwargs['cluster_range']     =   3  # just numbering directories\n",
    "kwargs['min_word_count'] = 11\n",
    "kwargs['rules_aggregation'] = 0.2\n",
    "t43, r43 = iterate(**kwargs)"
   ]
  },
  {
   "cell_type": "code",
   "execution_count": 34,
   "metadata": {
    "ExecuteTime": {
     "end_time": "2019-02-28T09:53:24.596721Z",
     "start_time": "2019-02-28T09:53:24.593603Z"
    }
   },
   "outputs": [
    {
     "data": {
      "text/html": [
       "<table><tr><td>Iteration</td><td>N clusters</td><td>PA</td><td>F1</td></tr><tr><td>1</td><td>1795</td><td>26%,</td><td>0.28</td></tr><tr><td>2</td><td>488</td><td>10%,</td><td>0.1</td></tr><tr><td>3</td><td>549</td><td>10%,</td><td>0.1</td></tr><tr><td>4</td><td>489</td><td>10%,</td><td>0.09</td></tr><tr><td>5</td><td>549</td><td>10%,</td><td>0.1</td></tr><tr><td>6</td><td>489</td><td>10%,</td><td>0.09</td></tr><tr><td>7</td><td>549</td><td>10%,</td><td>0.1</td></tr><tr><td>8</td><td>489</td><td>10%,</td><td>0.09</td></tr><tr><td>9</td><td>549</td><td>10%,</td><td>0.1</td></tr><tr><td>10</td><td>489</td><td>10%,</td><td>0.09</td></tr><tr><td>11</td><td>549</td><td>10%,</td><td>0.1</td></tr><tr><td>12</td><td>489</td><td>10%,</td><td>0.09</td></tr></table>"
      ],
      "text/plain": [
       "<IPython.core.display.HTML object>"
      ]
     },
     "metadata": {},
     "output_type": "display_data"
    },
    {
     "name": "stdout",
     "output_type": "stream",
     "text": [
      "Iterative-Clustering-ILE-2019-02-27/GCB_LG-E-clean_dILEd_gen-rules_3c_mwc=11/\n"
     ]
    }
   ],
   "source": [
    "display(html_table(t43)); print(r43['project_directory'][42:-12])"
   ]
  },
  {
   "cell_type": "code",
   "execution_count": 35,
   "metadata": {
    "ExecuteTime": {
     "end_time": "2019-02-28T11:11:29.974091Z",
     "start_time": "2019-02-28T10:27:06.725902Z"
    }
   },
   "outputs": [],
   "source": [
    "%%capture\n",
    "kwargs['corpus'] = 'GCB'\n",
    "kwargs['dataset'] = 'LG-E-clean'  # 'LG-E-551-pq24878'\n",
    "if 'reference_path' in kwargs: del kwargs['reference_path']\n",
    "if 'corpus_path' in kwargs: del kwargs['corpus_path']\n",
    "kwargs['word_space'] = 'discrete'\n",
    "kwargs['clustering'] = 'group'\n",
    "kwargs['rules_generalization'] = 'fast'\n",
    "kwargs['cluster_range']     =   4  # just numbering directories\n",
    "kwargs['min_word_count'] = 11\n",
    "kwargs['rules_aggregation'] = 0.3\n",
    "t44, r44 = iterate(**kwargs)"
   ]
  },
  {
   "cell_type": "code",
   "execution_count": 36,
   "metadata": {
    "ExecuteTime": {
     "end_time": "2019-02-28T11:11:29.978544Z",
     "start_time": "2019-02-28T11:11:29.975570Z"
    }
   },
   "outputs": [
    {
     "data": {
      "text/html": [
       "<table><tr><td>Iteration</td><td>N clusters</td><td>PA</td><td>F1</td></tr><tr><td>1</td><td>1849</td><td>26%,</td><td>0.28</td></tr><tr><td>2</td><td>490</td><td>10%,</td><td>0.09</td></tr><tr><td>3</td><td>550</td><td>10%,</td><td>0.1</td></tr><tr><td>4</td><td>490</td><td>10%,</td><td>0.09</td></tr><tr><td>5</td><td>550</td><td>10%,</td><td>0.1</td></tr><tr><td>6</td><td>490</td><td>10%,</td><td>0.09</td></tr><tr><td>7</td><td>550</td><td>10%,</td><td>0.1</td></tr><tr><td>8</td><td>490</td><td>10%,</td><td>0.09</td></tr><tr><td>9</td><td>550</td><td>10%,</td><td>0.1</td></tr><tr><td>10</td><td>490</td><td>10%,</td><td>0.09</td></tr><tr><td>11</td><td>550</td><td>10%,</td><td>0.1</td></tr><tr><td>12</td><td>490</td><td>10%,</td><td>0.09</td></tr></table>"
      ],
      "text/plain": [
       "<IPython.core.display.HTML object>"
      ]
     },
     "metadata": {},
     "output_type": "display_data"
    },
    {
     "name": "stdout",
     "output_type": "stream",
     "text": [
      "Iterative-Clustering-ILE-2019-02-27/GCB_LG-E-clean_dILEd_gen-rules_4c_mwc=11/\n"
     ]
    }
   ],
   "source": [
    "display(html_table(t44)); print(r44['project_directory'][42:-12])"
   ]
  },
  {
   "cell_type": "code",
   "execution_count": null,
   "metadata": {},
   "outputs": [],
   "source": []
  }
 ],
 "metadata": {
  "anaconda-cloud": {},
  "kernelspec": {
   "display_name": "Python [conda env:ull]",
   "language": "python",
   "name": "conda-env-ull-py"
  },
  "language_info": {
   "codemirror_mode": {
    "name": "ipython",
    "version": 3
   },
   "file_extension": ".py",
   "mimetype": "text/x-python",
   "name": "python",
   "nbconvert_exporter": "python",
   "pygments_lexer": "ipython3",
   "version": "3.6.6"
  },
  "toc": {
   "base_numbering": 1,
   "nav_menu": {},
   "number_sections": true,
   "sideBar": true,
   "skip_h1_title": true,
   "title_cell": "Table of Contents",
   "title_sidebar": "Contents",
   "toc_cell": true,
   "toc_position": {},
   "toc_section_display": true,
   "toc_window_display": true
  }
 },
 "nbformat": 4,
 "nbformat_minor": 2
}
