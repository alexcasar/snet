{
 "cells": [
  {
   "cell_type": "markdown",
   "metadata": {},
   "source": [
    "# Gutenberg Children Books `2018-12-08`\n",
    "\n",
    "**Tests: \"LG English\", agglomerative clustering, 2000/1000/500/50/20 clusters**.  \n",
    "\n",
    "Link Grammar 5.4.4., `test_grammar` updated 2018-10-19.  \n",
    "This notebook is shared as static [Gutenberg-Children-Books-2018-12-08.html](http://langlearn.singularitynet.io/data/clustering_2018/html/Gutenberg-Children-Books-2018-12-08.html).  \n",
    "The \"All tests\" table is shared as 'all_tests_table.txt' in [Gutenberg-Children-Books-2018-12-08](http://langlearn.singularitynet.io/data/clustering_2018/Gutenberg-Children-Books-2018-12-08) directory.  "
   ]
  },
  {
   "cell_type": "markdown",
   "metadata": {},
   "source": [
    "## Basic settings"
   ]
  },
  {
   "cell_type": "code",
   "execution_count": 1,
   "metadata": {
    "ExecuteTime": {
     "end_time": "2018-12-08T07:02:03.568761Z",
     "start_time": "2018-12-08T07:02:02.870925Z"
    }
   },
   "outputs": [],
   "source": [
    "import os, sys, time\n",
    "module_path = os.path.abspath(os.path.join('..'))\n",
    "if module_path not in sys.path: sys.path.append(module_path)\n",
    "from src.grammar_learner.utl import UTC\n",
    "from src.grammar_learner.read_files import check_dir, check_corpus\n",
    "from src.grammar_learner.write_files import list2file\n",
    "from src.grammar_learner.widgets import html_table\n",
    "from src.grammar_learner.pqa_table import table_rows, params, wide_rows\n",
    "tmpath = module_path + '/tmp/'\n",
    "check_dir(tmpath, True, 'none')\n",
    "start = time.time()\n",
    "runs = (1,1)"
   ]
  },
  {
   "cell_type": "markdown",
   "metadata": {},
   "source": [
    "## Corpus test settings"
   ]
  },
  {
   "cell_type": "code",
   "execution_count": 2,
   "metadata": {
    "ExecuteTime": {
     "end_time": "2018-12-08T07:02:03.575579Z",
     "start_time": "2018-12-08T07:02:03.570189Z"
    }
   },
   "outputs": [],
   "source": [
    "corpus = 'Gutenberg-Children-Books-Caps'\n",
    "dataset = 'LG-English'\n",
    "kwargs = {\n",
    "    'left_wall'     :   ''          ,\n",
    "    'period'        :   False       ,\n",
    "    'context'       :   1           ,\n",
    "    'min_word_count':   31          ,   # ~7K words\n",
    "    'word_space'    :   'sparse'    ,\n",
    "    'clustering'    :   ['agglomerative', 'ward'],\n",
    "    'clustering_metric' : ['silhouette', 'cosine'],\n",
    "    'cluster_range' :   1000        ,\n",
    "    'top_level'     :   0.01        ,\n",
    "    'grammar_rules' :   2           ,\n",
    "    'max_disjuncts' :   1000000     ,   # off\n",
    "    'tmpath'        :   tmpath      , \n",
    "    'verbose'       :   'min'       ,\n",
    "    'template_path' :   'poc-turtle',\n",
    "    'linkage_limit' :   1000        }   # no tests\n",
    "lines = [\n",
    "    [45, corpus , 'LG-English'                 ,0,0, 'none'  ], \n",
    "    [46, corpus , 'LG-ANY-all-parses-agm-opt'  ,0,0, 'none'  ]]\n",
    "rp = module_path + '/data/' + corpus + '/LG-E-clean/GCB-LG-English-clean.ull'\n",
    "cp = rp  # corpus path = reference_path :: use 'gold' parses as test corpus\n",
    "runs = (1,1)\n",
    "out_dir = module_path + '/output/' + corpus + '-' + str(UTC())[:10]"
   ]
  },
  {
   "cell_type": "markdown",
   "metadata": {},
   "source": [
    "# Tests: \"LG English\", no limits, 10/50/500/1000/2000 clusters"
   ]
  },
  {
   "cell_type": "code",
   "execution_count": 3,
   "metadata": {
    "ExecuteTime": {
     "end_time": "2018-12-08T09:06:13.255110Z",
     "start_time": "2018-12-08T07:02:03.576983Z"
    }
   },
   "outputs": [],
   "source": [
    "%%capture\n",
    "table = []\n",
    "kwargs['cluster_range'] = 2000\n",
    "line = [[2.1, corpus, dataset, 0, 0, 'none']]\n",
    "a, _, header, log, rules = wide_rows(line, out_dir, cp, rp, runs, **kwargs)\n",
    "table.extend(a)"
   ]
  },
  {
   "cell_type": "code",
   "execution_count": 4,
   "metadata": {
    "ExecuteTime": {
     "end_time": "2018-12-08T09:06:13.266618Z",
     "start_time": "2018-12-08T09:06:13.258897Z"
    }
   },
   "outputs": [
    {
     "data": {
      "text/html": [
       "<table><tr><td>Line</td><td>Corpus</td><td>Parsing</td><td>Space</td><td>Linkage</td><td>Affinity</td><td>G12n</td><td>Threshold</td><td>Rules</td><td>NN</td><td>SI</td><td>PA</td><td>PQ</td><td>F1</td><td>Top 5 cluster sizes</td></tr><tr><td>2.1</td><td>Gutenberg-Children-Books-Caps</td><td>LG-English</td><td>cALWEd</td><td>ward</td><td>euclidean</td><td>none</td><td>---</td><td>2000</td><td>---</td><td>0.0</td><td>47%</td><td>43%</td><td>0.50</td><td>[145, 138, 137, 126, 117]</td></tr></table>"
      ],
      "text/plain": [
       "<IPython.core.display.HTML object>"
      ]
     },
     "metadata": {},
     "output_type": "display_data"
    }
   ],
   "source": [
    "display(html_table([header] + a))"
   ]
  },
  {
   "cell_type": "code",
   "execution_count": 5,
   "metadata": {
    "ExecuteTime": {
     "end_time": "2018-12-08T10:37:13.204198Z",
     "start_time": "2018-12-08T09:06:13.269064Z"
    }
   },
   "outputs": [],
   "source": [
    "%%capture\n",
    "kwargs['cluster_range'] = 1000\n",
    "line = [[2.2, corpus, dataset, 0, 0, 'none']]\n",
    "a, _, header, log, rules = wide_rows(line, out_dir, cp, rp, runs, **kwargs)\n",
    "table.extend(a)"
   ]
  },
  {
   "cell_type": "code",
   "execution_count": 6,
   "metadata": {
    "ExecuteTime": {
     "end_time": "2018-12-08T10:37:13.209507Z",
     "start_time": "2018-12-08T10:37:13.206046Z"
    }
   },
   "outputs": [
    {
     "data": {
      "text/html": [
       "<table><tr><td>Line</td><td>Corpus</td><td>Parsing</td><td>Space</td><td>Linkage</td><td>Affinity</td><td>G12n</td><td>Threshold</td><td>Rules</td><td>NN</td><td>SI</td><td>PA</td><td>PQ</td><td>F1</td><td>Top 5 cluster sizes</td></tr><tr><td>2.2</td><td>Gutenberg-Children-Books-Caps</td><td>LG-English</td><td>cALWEd</td><td>ward</td><td>euclidean</td><td>none</td><td>---</td><td>1000</td><td>---</td><td>0.0</td><td>48%</td><td>43%</td><td>0.50</td><td>[384, 325, 286, 241, 236]</td></tr></table>"
      ],
      "text/plain": [
       "<IPython.core.display.HTML object>"
      ]
     },
     "metadata": {},
     "output_type": "display_data"
    }
   ],
   "source": [
    "display(html_table([header] + a))"
   ]
  },
  {
   "cell_type": "code",
   "execution_count": 7,
   "metadata": {
    "ExecuteTime": {
     "end_time": "2018-12-08T11:56:11.690270Z",
     "start_time": "2018-12-08T10:37:13.210950Z"
    }
   },
   "outputs": [],
   "source": [
    "%%capture\n",
    "kwargs['cluster_range'] = 500\n",
    "line = [[2.3, corpus, dataset, 0, 0, 'none']]\n",
    "a, _, header, log, rules = wide_rows(line, out_dir, cp, rp, runs, **kwargs)\n",
    "table.extend(a)"
   ]
  },
  {
   "cell_type": "code",
   "execution_count": 8,
   "metadata": {
    "ExecuteTime": {
     "end_time": "2018-12-08T11:56:11.695502Z",
     "start_time": "2018-12-08T11:56:11.692125Z"
    }
   },
   "outputs": [
    {
     "data": {
      "text/html": [
       "<table><tr><td>Line</td><td>Corpus</td><td>Parsing</td><td>Space</td><td>Linkage</td><td>Affinity</td><td>G12n</td><td>Threshold</td><td>Rules</td><td>NN</td><td>SI</td><td>PA</td><td>PQ</td><td>F1</td><td>Top 5 cluster sizes</td></tr><tr><td>2.3</td><td>Gutenberg-Children-Books-Caps</td><td>LG-English</td><td>cALWEd</td><td>ward</td><td>euclidean</td><td>none</td><td>---</td><td>500</td><td>---</td><td>0.0</td><td>50%</td><td>44%</td><td>0.51</td><td>[1002, 466, 437, 384, 381]</td></tr></table>"
      ],
      "text/plain": [
       "<IPython.core.display.HTML object>"
      ]
     },
     "metadata": {},
     "output_type": "display_data"
    }
   ],
   "source": [
    "display(html_table([header] + a))"
   ]
  },
  {
   "cell_type": "code",
   "execution_count": 9,
   "metadata": {
    "ExecuteTime": {
     "end_time": "2018-12-08T13:58:51.408391Z",
     "start_time": "2018-12-08T11:56:11.696836Z"
    }
   },
   "outputs": [],
   "source": [
    "%%capture\n",
    "kwargs['cluster_range'] = 100\n",
    "line = [[2.4, corpus, dataset, 0, 0, 'none']]\n",
    "a, _, header, log, rules = wide_rows(line, out_dir, cp, rp, runs, **kwargs)\n",
    "table.extend(a)"
   ]
  },
  {
   "cell_type": "code",
   "execution_count": 10,
   "metadata": {
    "ExecuteTime": {
     "end_time": "2018-12-08T13:58:51.413676Z",
     "start_time": "2018-12-08T13:58:51.410137Z"
    }
   },
   "outputs": [
    {
     "data": {
      "text/html": [
       "<table><tr><td>Line</td><td>Corpus</td><td>Parsing</td><td>Space</td><td>Linkage</td><td>Affinity</td><td>G12n</td><td>Threshold</td><td>Rules</td><td>NN</td><td>SI</td><td>PA</td><td>PQ</td><td>F1</td><td>Top 5 cluster sizes</td></tr><tr><td>2.4</td><td>Gutenberg-Children-Books-Caps</td><td>LG-English</td><td>cALWEd</td><td>ward</td><td>euclidean</td><td>none</td><td>---</td><td>100</td><td>---</td><td>0.0</td><td>60%</td><td>44%</td><td>0.46</td><td>[1414, 1094, 978, 824, 721]</td></tr></table>"
      ],
      "text/plain": [
       "<IPython.core.display.HTML object>"
      ]
     },
     "metadata": {},
     "output_type": "display_data"
    }
   ],
   "source": [
    "display(html_table([header] + a))"
   ]
  },
  {
   "cell_type": "code",
   "execution_count": 12,
   "metadata": {
    "ExecuteTime": {
     "end_time": "2018-12-08T16:47:40.102365Z",
     "start_time": "2018-12-08T13:58:51.509853Z"
    }
   },
   "outputs": [],
   "source": [
    "%%capture\n",
    "kwargs['cluster_range'] = 50\n",
    "line = [[2.5, corpus, dataset, 0, 0, 'none']]\n",
    "a, _, header, log, rules = wide_rows(line, out_dir, cp, rp, runs, **kwargs)\n",
    "table.extend(a)"
   ]
  },
  {
   "cell_type": "code",
   "execution_count": 13,
   "metadata": {
    "ExecuteTime": {
     "end_time": "2018-12-08T16:47:40.108271Z",
     "start_time": "2018-12-08T16:47:40.104627Z"
    }
   },
   "outputs": [
    {
     "data": {
      "text/html": [
       "<table><tr><td>Line</td><td>Corpus</td><td>Parsing</td><td>Space</td><td>Linkage</td><td>Affinity</td><td>G12n</td><td>Threshold</td><td>Rules</td><td>NN</td><td>SI</td><td>PA</td><td>PQ</td><td>F1</td><td>Top 5 cluster sizes</td></tr><tr><td>2.5</td><td>Gutenberg-Children-Books-Caps</td><td>LG-English</td><td>cALWEd</td><td>ward</td><td>euclidean</td><td>none</td><td>---</td><td>50</td><td>---</td><td>0.0</td><td>62%</td><td>40%</td><td>0.42</td><td>[1414, 1350, 1146, 1116, 721]</td></tr></table>"
      ],
      "text/plain": [
       "<IPython.core.display.HTML object>"
      ]
     },
     "metadata": {},
     "output_type": "display_data"
    }
   ],
   "source": [
    "display(html_table([header] + a))"
   ]
  },
  {
   "cell_type": "code",
   "execution_count": 15,
   "metadata": {
    "ExecuteTime": {
     "end_time": "2018-12-09T04:12:02.893521Z",
     "start_time": "2018-12-08T16:47:40.202380Z"
    }
   },
   "outputs": [],
   "source": [
    "%%capture\n",
    "kwargs['cluster_range'] = 20\n",
    "line = [[2.6, corpus, dataset, 0, 0, 'none']]\n",
    "a, _, header, log, rules = wide_rows(line, out_dir, cp, rp, runs, **kwargs)\n",
    "table.extend(a)"
   ]
  },
  {
   "cell_type": "code",
   "execution_count": 16,
   "metadata": {
    "ExecuteTime": {
     "end_time": "2018-12-09T04:12:02.898376Z",
     "start_time": "2018-12-09T04:12:02.895286Z"
    }
   },
   "outputs": [
    {
     "data": {
      "text/html": [
       "<table><tr><td>Line</td><td>Corpus</td><td>Parsing</td><td>Space</td><td>Linkage</td><td>Affinity</td><td>G12n</td><td>Threshold</td><td>Rules</td><td>NN</td><td>SI</td><td>PA</td><td>PQ</td><td>F1</td><td>Top 5 cluster sizes</td></tr><tr><td>2.6</td><td>Gutenberg-Children-Books-Caps</td><td>LG-English</td><td>cALWEd</td><td>ward</td><td>euclidean</td><td>none</td><td>---</td><td>20</td><td>---</td><td>0.0</td><td>62%</td><td>35%</td><td>0.36</td><td>[3281, 2466, 437, 371, 261]</td></tr></table>"
      ],
      "text/plain": [
       "<IPython.core.display.HTML object>"
      ]
     },
     "metadata": {},
     "output_type": "display_data"
    }
   ],
   "source": [
    "display(html_table([header] + a))"
   ]
  },
  {
   "cell_type": "code",
   "execution_count": 18,
   "metadata": {
    "ExecuteTime": {
     "end_time": "2018-12-11T07:48:56.027086Z",
     "start_time": "2018-12-09T04:12:02.983129Z"
    }
   },
   "outputs": [],
   "source": [
    "%%capture\n",
    "kwargs['cluster_range'] = 10\n",
    "line = [[2.7, corpus, dataset, 0, 0, 'none']]\n",
    "a, _, header, log, rules = wide_rows(line, out_dir, cp, rp, runs, **kwargs)\n",
    "table.extend(a)"
   ]
  },
  {
   "cell_type": "code",
   "execution_count": 19,
   "metadata": {
    "ExecuteTime": {
     "end_time": "2018-12-11T07:48:56.033780Z",
     "start_time": "2018-12-11T07:48:56.029578Z"
    }
   },
   "outputs": [
    {
     "data": {
      "text/html": [
       "<table><tr><td>Line</td><td>Corpus</td><td>Parsing</td><td>Space</td><td>Linkage</td><td>Affinity</td><td>G12n</td><td>Threshold</td><td>Rules</td><td>NN</td><td>SI</td><td>PA</td><td>PQ</td><td>F1</td><td>Top 5 cluster sizes</td></tr><tr><td>2.7</td><td>Gutenberg-Children-Books-Caps</td><td>LG-English</td><td>cALWEd</td><td>ward</td><td>euclidean</td><td>none</td><td>---</td><td>10</td><td>---</td><td>0.0</td><td>0%</td><td>0%</td><td>0.00</td><td>[3281, 2466, 632, 498, 72]</td></tr></table>"
      ],
      "text/plain": [
       "<IPython.core.display.HTML object>"
      ]
     },
     "metadata": {},
     "output_type": "display_data"
    }
   ],
   "source": [
    "display(html_table([header] + a))"
   ]
  },
  {
   "cell_type": "markdown",
   "metadata": {},
   "source": [
    "# All tests"
   ]
  },
  {
   "cell_type": "code",
   "execution_count": 20,
   "metadata": {
    "ExecuteTime": {
     "end_time": "2018-12-11T07:48:56.126345Z",
     "start_time": "2018-12-11T07:48:56.035938Z"
    }
   },
   "outputs": [
    {
     "data": {
      "text/html": [
       "<table><tr><td>Line</td><td>Corpus</td><td>Parsing</td><td>Space</td><td>Linkage</td><td>Affinity</td><td>G12n</td><td>Threshold</td><td>Rules</td><td>NN</td><td>SI</td><td>PA</td><td>PQ</td><td>F1</td><td>Top 5 cluster sizes</td></tr><tr><td>2.1</td><td>Gutenberg-Children-Books-Caps</td><td>LG-English</td><td>cALWEd</td><td>ward</td><td>euclidean</td><td>none</td><td>---</td><td>2000</td><td>---</td><td>0.0</td><td>47%</td><td>43%</td><td>0.50</td><td>[145, 138, 137, 126, 117]</td></tr><tr><td>2.2</td><td>Gutenberg-Children-Books-Caps</td><td>LG-English</td><td>cALWEd</td><td>ward</td><td>euclidean</td><td>none</td><td>---</td><td>1000</td><td>---</td><td>0.0</td><td>48%</td><td>43%</td><td>0.50</td><td>[384, 325, 286, 241, 236]</td></tr><tr><td>2.3</td><td>Gutenberg-Children-Books-Caps</td><td>LG-English</td><td>cALWEd</td><td>ward</td><td>euclidean</td><td>none</td><td>---</td><td>500</td><td>---</td><td>0.0</td><td>50%</td><td>44%</td><td>0.51</td><td>[1002, 466, 437, 384, 381]</td></tr><tr><td>2.4</td><td>Gutenberg-Children-Books-Caps</td><td>LG-English</td><td>cALWEd</td><td>ward</td><td>euclidean</td><td>none</td><td>---</td><td>100</td><td>---</td><td>0.0</td><td>60%</td><td>44%</td><td>0.46</td><td>[1414, 1094, 978, 824, 721]</td></tr><tr><td>2.5</td><td>Gutenberg-Children-Books-Caps</td><td>LG-English</td><td>cALWEd</td><td>ward</td><td>euclidean</td><td>none</td><td>---</td><td>50</td><td>---</td><td>0.0</td><td>62%</td><td>40%</td><td>0.42</td><td>[1414, 1350, 1146, 1116, 721]</td></tr><tr><td>2.6</td><td>Gutenberg-Children-Books-Caps</td><td>LG-English</td><td>cALWEd</td><td>ward</td><td>euclidean</td><td>none</td><td>---</td><td>20</td><td>---</td><td>0.0</td><td>62%</td><td>35%</td><td>0.36</td><td>[3281, 2466, 437, 371, 261]</td></tr><tr><td>2.7</td><td>Gutenberg-Children-Books-Caps</td><td>LG-English</td><td>cALWEd</td><td>ward</td><td>euclidean</td><td>none</td><td>---</td><td>10</td><td>---</td><td>0.0</td><td>0%</td><td>0%</td><td>0.00</td><td>[3281, 2466, 632, 498, 72]</td></tr></table>"
      ],
      "text/plain": [
       "<IPython.core.display.HTML object>"
      ]
     },
     "metadata": {},
     "output_type": "display_data"
    }
   ],
   "source": [
    "display(html_table([header] + table))"
   ]
  },
  {
   "cell_type": "markdown",
   "metadata": {
    "ExecuteTime": {
     "end_time": "2018-12-11T07:48:56.213010Z",
     "start_time": "2018-12-11T07:48:56.129692Z"
    }
   },
   "source": [
    "_Interrupted after 51+ hours run with 10 clusters setting_"
   ]
  },
  {
   "cell_type": "code",
   "execution_count": 22,
   "metadata": {
    "ExecuteTime": {
     "end_time": "2018-12-11T07:49:15.567146Z",
     "start_time": "2018-12-11T07:49:15.560516Z"
    }
   },
   "outputs": [
    {
     "name": "stdout",
     "output_type": "stream",
     "text": [
      "2018-12-11 07:49:15 UTC :: finished, elapsed 72.8 hours\n",
      "Results saved to /home/obaskov/94/language-learning/output/Gutenberg-Children-Books-Caps-2018-12-08/all_tests_table.txt\n"
     ]
    }
   ],
   "source": [
    "print(UTC(), ':: finished, elapsed', str(round((time.time()-start)/3600.0, 1)), 'hours')\n",
    "table_str = list2file(table, out_dir + '/all_tests_table.txt')\n",
    "print('Results saved to', out_dir + '/all_tests_table.txt')"
   ]
  },
  {
   "cell_type": "code",
   "execution_count": null,
   "metadata": {},
   "outputs": [],
   "source": []
  }
 ],
 "metadata": {
  "anaconda-cloud": {},
  "kernelspec": {
   "display_name": "Python [default]",
   "language": "python",
   "name": "python3"
  },
  "language_info": {
   "codemirror_mode": {
    "name": "ipython",
    "version": 3
   },
   "file_extension": ".py",
   "mimetype": "text/x-python",
   "name": "python",
   "nbconvert_exporter": "python",
   "pygments_lexer": "ipython3",
   "version": "3.6.6"
  },
  "toc": {
   "base_numbering": 1,
   "nav_menu": {},
   "number_sections": true,
   "sideBar": true,
   "skip_h1_title": false,
   "title_cell": "Table of Contents",
   "title_sidebar": "Contents",
   "toc_cell": false,
   "toc_position": {},
   "toc_section_display": true,
   "toc_window_display": false
  }
 },
 "nbformat": 4,
 "nbformat_minor": 2
}
