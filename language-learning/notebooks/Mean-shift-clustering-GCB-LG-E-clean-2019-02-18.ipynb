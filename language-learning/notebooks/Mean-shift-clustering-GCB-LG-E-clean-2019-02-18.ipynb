{
 "cells": [
  {
   "cell_type": "markdown",
   "metadata": {},
   "source": [
    "# Mean shift clustering \"Gutenberg Children Books\" `2019-02-18`\n",
    "\n",
    "**\"Gutenberg Children Books\" corpus \"LG-English-clean\" dataset, ,  \n",
    "trash filter off: `min_word_count = 31,21,11,6,2`, `max_sentence_length` off, Link Grammar 5.5.1**.  \n",
    "\n",
    "This notebook is shared as static [Mean-shift-clustering-GCB-LG-E-clean-2019-02-18.html](http://langlearn.singularitynet.io/data/clustering_2019/html/Mean-shift-clustering-GCB-LG-E-clean-2019-02-18.html).  \n",
    "Output data shared via [Mean-shift-clustering-GCB-LG-E-clean-2019-02-18](http://langlearn.singularitynet.io/data/clustering_2019/Mean-shift-clustering-GCB-LG-E-clean-2019-02-18) directory. "
   ]
  },
  {
   "cell_type": "markdown",
   "metadata": {},
   "source": [
    "## Basic settings"
   ]
  },
  {
   "cell_type": "code",
   "execution_count": 1,
   "metadata": {
    "ExecuteTime": {
     "end_time": "2019-02-18T12:28:36.951080Z",
     "start_time": "2019-02-18T12:28:36.236152Z"
    }
   },
   "outputs": [
    {
     "name": "stdout",
     "output_type": "stream",
     "text": [
      "2019-02-18 12:28:36 UTC :: module_path: /home/obaskov/94/language-learning\n"
     ]
    }
   ],
   "source": [
    "import os, sys, time\n",
    "module_path = os.path.abspath(os.path.join('..'))\n",
    "if module_path not in sys.path: sys.path.append(module_path)\n",
    "from src.grammar_learner.utl import UTC, test_stats\n",
    "from src.grammar_learner.read_files import check_dir, check_corpus\n",
    "from src.grammar_learner.write_files import list2file\n",
    "from src.grammar_learner.widgets import html_table\n",
    "from src.grammar_learner.pqa_table import table_rows, params, wide_rows\n",
    "tmpath = module_path + '/tmp/'\n",
    "check_dir(tmpath, True, 'none')\n",
    "start = time.time()\n",
    "runs = (1,1)\n",
    "print(UTC(), ':: module_path:', module_path)"
   ]
  },
  {
   "cell_type": "markdown",
   "metadata": {},
   "source": [
    "## Corpus test settings"
   ]
  },
  {
   "cell_type": "code",
   "execution_count": null,
   "metadata": {
    "ExecuteTime": {
     "end_time": "2019-02-27T13:00:57.083957Z",
     "start_time": "2019-02-27T13:00:57.005641Z"
    }
   },
   "outputs": [],
   "source": [
    "corpus = 'GCB' # 'Gutenberg-Children-Books-Caps' \n",
    "dataset = 'LG-E-clean'\n",
    "kwargs = {\n",
    "    'corpus'        :   corpus      ,\n",
    "    'dataset'       :   dataset     ,\n",
    "    'left_wall'     :   ''          ,\n",
    "    'period'        :   False       ,\n",
    "    'context'       :   1           ,\n",
    "    'min_word_count':   1           ,\n",
    "    'min_link_count':   1           ,\n",
    "    'word_space'    :   'sparse'    ,\n",
    "    'clustering'    :   ('mean_shift', 2),\n",
    "    'clustering_metric' : ['silhouette', 'cosine'],\n",
    "    'cluster_range' :   [0]         ,   # auto\n",
    "    'top_level'     :   0.01        ,\n",
    "    'grammar_rules' :   2           ,\n",
    "    'max_disjuncts' :   1000000     ,   # off\n",
    "    'stop_words'    :   []          ,\n",
    "    'tmpath'        :   tmpath      ,\n",
    "    'verbose'       :   'log+'      ,\n",
    "    'template_path' :   'poc-turtle',\n",
    "    'linkage_limit' :   1000        }\n",
    "rp = module_path + '/data/' + corpus + '/LG-E-clean/GCB-LG-English-clean.ull'\n",
    "cp = rp  # corpus path = reference_path\n",
    "out_dir = module_path + '/output/' + 'Mean-shift-clustering-GCB-LG-E-clean-' + str(UTC())[:10]\n",
    "print(UTC(), '\\n', out_dir)"
   ]
  },
  {
   "cell_type": "markdown",
   "metadata": {},
   "source": [
    "# Tests: \"Child Directed Speech\", \"Gutenberg Children Boooks\""
   ]
  },
  {
   "cell_type": "markdown",
   "metadata": {},
   "source": [
    "## \"Child Directed Speech\" corpus"
   ]
  },
  {
   "cell_type": "code",
   "execution_count": 3,
   "metadata": {
    "ExecuteTime": {
     "end_time": "2019-02-18T12:28:37.101602Z",
     "start_time": "2019-02-18T12:28:36.960632Z"
    }
   },
   "outputs": [],
   "source": [
    "corpus  = 'CDS' # 'Child Directed Speech'\n",
    "dataset = 'LG-E-clean'\n",
    "kwargs['corpus']  = corpus\n",
    "kwargs['dataset'] = dataset\n",
    "kwargs['context']        = 2\n",
    "kwargs['grammar_rules']  = 2\n",
    "kwargs['min_word_count'] = 2\n",
    "kwargs['min_link_count'] = 2\n",
    "rp = module_path + '/data/' + corpus + '/' + dataset\n",
    "cp = rp  # corpus path = reference_path"
   ]
  },
  {
   "cell_type": "code",
   "execution_count": 4,
   "metadata": {
    "ExecuteTime": {
     "end_time": "2019-02-18T12:28:44.743695Z",
     "start_time": "2019-02-18T12:28:37.104799Z"
    }
   },
   "outputs": [],
   "source": [
    "%%capture\n",
    "kwargs['context'] = 1\n",
    "kwargs['grammar_rules'] = 2\n",
    "kwargs['cluster_range']  = [0]\n",
    "kwargs['min_word_count'] = 1\n",
    "kwargs['min_link_count'] = 1\n",
    "line = [['1.1', corpus, dataset, 0, 0, 'none']]\n",
    "a, _, header, log, rules = wide_rows(line, out_dir, cp, rp, runs, **kwargs)\n",
    "header[0] = 'CDS'\n",
    "display(html_table([header] + a)); print(test_stats(log))"
   ]
  },
  {
   "cell_type": "code",
   "execution_count": 5,
   "metadata": {
    "ExecuteTime": {
     "end_time": "2019-02-18T12:28:44.749942Z",
     "start_time": "2019-02-18T12:28:44.745340Z"
    }
   },
   "outputs": [
    {
     "data": {
      "text/html": [
       "<table><tr><td>CDS</td><td>Corpus</td><td>Parsing</td><td>Space</td><td>Linkage</td><td>Affinity</td><td>G12n</td><td>Threshold</td><td>Rules</td><td>MWC</td><td>NN</td><td>SI</td><td>PA</td><td>PQ</td><td>F1</td><td>Top 5 cluster sizes</td></tr><tr><td>1.1</td><td>CDS</td><td>LG-E-clean</td><td>cMLEd</td><td>mean_shift</td><td>---</td><td>none</td><td>---</td><td>245</td><td>1</td><td>---</td><td>0.0</td><td>100%</td><td>99%</td><td>0.99</td><td>[56, 2, 1, 0]</td></tr></table>"
      ],
      "text/plain": [
       "<IPython.core.display.HTML object>"
      ]
     },
     "metadata": {},
     "output_type": "display_data"
    },
    {
     "name": "stdout",
     "output_type": "stream",
     "text": [
      "Cleaned dictionary: 301 words, grammar learn time: 00:00:06, grammar test time: 00:00:01\n"
     ]
    }
   ],
   "source": [
    "display(html_table([header] + a)); print(test_stats(log))"
   ]
  },
  {
   "cell_type": "code",
   "execution_count": 6,
   "metadata": {
    "ExecuteTime": {
     "end_time": "2019-02-18T12:28:54.122052Z",
     "start_time": "2019-02-18T12:28:44.751665Z"
    }
   },
   "outputs": [],
   "source": [
    "%%capture\n",
    "kwargs['context'] = 2\n",
    "line = [['1.2', corpus, dataset, 0, 0, 'none']]\n",
    "a, _, header, log, rules = wide_rows(line, out_dir, cp, rp, runs, **kwargs)\n",
    "display(html_table([header] + a)); print(test_stats(log))"
   ]
  },
  {
   "cell_type": "code",
   "execution_count": 7,
   "metadata": {
    "ExecuteTime": {
     "end_time": "2019-02-18T12:28:54.127229Z",
     "start_time": "2019-02-18T12:28:54.123799Z"
    }
   },
   "outputs": [
    {
     "data": {
      "text/html": [
       "<table><tr><td>Line</td><td>Corpus</td><td>Parsing</td><td>Space</td><td>Linkage</td><td>Affinity</td><td>G12n</td><td>Threshold</td><td>Rules</td><td>MWC</td><td>NN</td><td>SI</td><td>PA</td><td>PQ</td><td>F1</td><td>Top 5 cluster sizes</td></tr><tr><td>1.2</td><td>CDS</td><td>LG-E-clean</td><td>dMLEd</td><td>mean_shift</td><td>---</td><td>none</td><td>---</td><td>234</td><td>1</td><td>---</td><td>0.0</td><td>100%</td><td>98%</td><td>0.99</td><td>[68, 1, 0]</td></tr></table>"
      ],
      "text/plain": [
       "<IPython.core.display.HTML object>"
      ]
     },
     "metadata": {},
     "output_type": "display_data"
    },
    {
     "name": "stdout",
     "output_type": "stream",
     "text": [
      "Cleaned dictionary: 301 words, grammar learn time: 00:00:07, grammar test time: 00:00:01\n"
     ]
    }
   ],
   "source": [
    "display(html_table([header] + a)); print(test_stats(log))"
   ]
  },
  {
   "cell_type": "code",
   "execution_count": 8,
   "metadata": {
    "ExecuteTime": {
     "end_time": "2019-02-18T12:30:31.767698Z",
     "start_time": "2019-02-18T12:28:54.128709Z"
    }
   },
   "outputs": [],
   "source": [
    "%%capture\n",
    "dataset = 'LG-E-551'\n",
    "kwargs['dataset'] = dataset\n",
    "kwargs['context']        = 2\n",
    "kwargs['grammar_rules']  = 2\n",
    "kwargs['min_word_count'] = 11\n",
    "kwargs['min_link_count'] = 2\n",
    "line = [['1.3', corpus, dataset, 0, 0, 'none']]\n",
    "a, _, header, log, rules = wide_rows(line, out_dir, cp, rp, runs, **kwargs)\n",
    "display(html_table([header] + a)); print(test_stats(log))"
   ]
  },
  {
   "cell_type": "code",
   "execution_count": 9,
   "metadata": {
    "ExecuteTime": {
     "end_time": "2019-02-18T12:30:31.774814Z",
     "start_time": "2019-02-18T12:30:31.769658Z"
    }
   },
   "outputs": [
    {
     "data": {
      "text/html": [
       "<table><tr><td>Line</td><td>Corpus</td><td>Parsing</td><td>Space</td><td>Linkage</td><td>Affinity</td><td>G12n</td><td>Threshold</td><td>Rules</td><td>MWC</td><td>NN</td><td>SI</td><td>PA</td><td>PQ</td><td>F1</td><td>Top 5 cluster sizes</td></tr><tr><td>1.3</td><td>CDS</td><td>LG-E-551</td><td>dMLEd</td><td>mean_shift</td><td>---</td><td>none</td><td>---</td><td>778</td><td>11</td><td>---</td><td>0.0</td><td>99%</td><td>97%</td><td>0.97</td><td>[39, 1, 0]</td></tr></table>"
      ],
      "text/plain": [
       "<IPython.core.display.HTML object>"
      ]
     },
     "metadata": {},
     "output_type": "display_data"
    },
    {
     "name": "stdout",
     "output_type": "stream",
     "text": [
      "Cleaned dictionary: 816 words, grammar learn time: 00:01:34, grammar test time: 00:00:03\n"
     ]
    }
   ],
   "source": [
    "display(html_table([header] + a)); print(test_stats(log))"
   ]
  },
  {
   "cell_type": "code",
   "execution_count": 10,
   "metadata": {
    "ExecuteTime": {
     "end_time": "2019-02-18T14:25:02.298896Z",
     "start_time": "2019-02-18T12:30:31.776920Z"
    }
   },
   "outputs": [],
   "source": [
    "%%capture\n",
    "kwargs['min_word_count'] = 1\n",
    "kwargs['min_link_count'] = 1\n",
    "line = [['1.4', corpus, dataset, 0, 0, 'none']]\n",
    "a, _, header, log, rules = wide_rows(line, out_dir, cp, rp, runs, **kwargs)"
   ]
  },
  {
   "cell_type": "code",
   "execution_count": 11,
   "metadata": {
    "ExecuteTime": {
     "end_time": "2019-02-18T14:25:02.303900Z",
     "start_time": "2019-02-18T14:25:02.300507Z"
    }
   },
   "outputs": [
    {
     "data": {
      "text/html": [
       "<table><tr><td>Line</td><td>Corpus</td><td>Parsing</td><td>Space</td><td>Linkage</td><td>Affinity</td><td>G12n</td><td>Threshold</td><td>Rules</td><td>MWC</td><td>NN</td><td>SI</td><td>PA</td><td>PQ</td><td>F1</td><td>Top 5 cluster sizes</td></tr><tr><td>1.4</td><td>CDS</td><td>LG-E-551</td><td>dMLEd</td><td>mean_shift</td><td>---</td><td>none</td><td>---</td><td>1075</td><td>1</td><td>---</td><td>0.0</td><td>100%</td><td>97%</td><td>0.97</td><td>[2237, 1, 0]</td></tr></table>"
      ],
      "text/plain": [
       "<IPython.core.display.HTML object>"
      ]
     },
     "metadata": {},
     "output_type": "display_data"
    },
    {
     "name": "stdout",
     "output_type": "stream",
     "text": [
      "Cleaned dictionary: 3311 words, grammar learn time: 01:54:26, grammar test time: 00:00:04\n"
     ]
    }
   ],
   "source": [
    "display(html_table([header] + a)); print(test_stats(log))"
   ]
  },
  {
   "cell_type": "markdown",
   "metadata": {},
   "source": [
    "## \"Gutenberg Children Books\" corpus, `min_word_count = 51,11,1`"
   ]
  },
  {
   "cell_type": "code",
   "execution_count": 12,
   "metadata": {
    "ExecuteTime": {
     "end_time": "2019-02-18T14:25:02.396925Z",
     "start_time": "2019-02-18T14:25:02.305217Z"
    }
   },
   "outputs": [],
   "source": [
    "corpus  = 'GCB' # 'Gutenberg-Children-Books' \n",
    "dataset = 'LG-E-clean'\n",
    "kwargs['corpus']  = corpus\n",
    "kwargs['dataset'] = dataset\n",
    "kwargs['context']        = 1\n",
    "kwargs['grammar_rules']  = 2\n",
    "kwargs['min_word_count'] = 1  # final objective - cell 18, line 2.3 \n",
    "kwargs['min_link_count'] = 1\n",
    "rp = module_path + '/data/' + corpus + '/LG-E-clean/GCB-LG-English-clean.ull'\n",
    "cp = rp  # corpus path = reference_path\n",
    "kwargs['reference_path'] = rp\n",
    "table = []"
   ]
  },
  {
   "cell_type": "code",
   "execution_count": 13,
   "metadata": {
    "ExecuteTime": {
     "end_time": "2019-02-18T15:28:20.024379Z",
     "start_time": "2019-02-18T14:25:02.399705Z"
    }
   },
   "outputs": [],
   "source": [
    "%%capture\n",
    "kwargs['min_word_count'] = 51\n",
    "kwargs['min_link_count'] = 5\n",
    "line = [['2.1', corpus, dataset, 0, 0, 'none']]\n",
    "a, _, header, log, rules = wide_rows(line, out_dir, cp, rp, runs, **kwargs)\n",
    "header[0] = 'GCB'\n",
    "table.extend(a)"
   ]
  },
  {
   "cell_type": "code",
   "execution_count": 14,
   "metadata": {
    "ExecuteTime": {
     "end_time": "2019-02-18T15:28:20.032657Z",
     "start_time": "2019-02-18T15:28:20.027207Z"
    }
   },
   "outputs": [
    {
     "data": {
      "text/html": [
       "<table><tr><td>GCB</td><td>Corpus</td><td>Parsing</td><td>Space</td><td>Linkage</td><td>Affinity</td><td>G12n</td><td>Threshold</td><td>Rules</td><td>MWC</td><td>NN</td><td>SI</td><td>PA</td><td>PQ</td><td>F1</td><td>Top 5 cluster sizes</td></tr><tr><td>2.1</td><td>GCB</td><td>LG-E-clean</td><td>cMLEd</td><td>mean_shift</td><td>---</td><td>none</td><td>---</td><td>2836</td><td>51</td><td>---</td><td>0.0</td><td>47%</td><td>40%</td><td>0.47</td><td>[1, 0]</td></tr></table>"
      ],
      "text/plain": [
       "<IPython.core.display.HTML object>"
      ]
     },
     "metadata": {},
     "output_type": "display_data"
    },
    {
     "name": "stdout",
     "output_type": "stream",
     "text": [
      "Cleaned dictionary: 2836 words, grammar learn time: 00:32:39, grammar test time: 00:30:37\n"
     ]
    }
   ],
   "source": [
    "display(html_table([header] + a)); print(test_stats(log))"
   ]
  },
  {
   "cell_type": "code",
   "execution_count": 15,
   "metadata": {
    "ExecuteTime": {
     "end_time": "2019-02-18T20:52:42.441247Z",
     "start_time": "2019-02-18T15:28:20.034949Z"
    },
    "scrolled": true
   },
   "outputs": [],
   "source": [
    "%%capture\n",
    "kwargs['min_word_count'] = 11\n",
    "kwargs['min_link_count'] = 3\n",
    "line = [['2.2', corpus, dataset, 0, 0, 'none']]\n",
    "a, _, h, log, rules = wide_rows(line, out_dir, cp, rp, runs, **kwargs)\n",
    "table.extend(a)"
   ]
  },
  {
   "cell_type": "code",
   "execution_count": 16,
   "metadata": {
    "ExecuteTime": {
     "end_time": "2019-02-18T20:52:42.449923Z",
     "start_time": "2019-02-18T20:52:42.444186Z"
    }
   },
   "outputs": [
    {
     "data": {
      "text/html": [
       "<table><tr><td>GCB</td><td>Corpus</td><td>Parsing</td><td>Space</td><td>Linkage</td><td>Affinity</td><td>G12n</td><td>Threshold</td><td>Rules</td><td>MWC</td><td>NN</td><td>SI</td><td>PA</td><td>PQ</td><td>F1</td><td>Top 5 cluster sizes</td></tr><tr><td>2.2</td><td>GCB</td><td>LG-E-clean</td><td>cMLEd</td><td>mean_shift</td><td>---</td><td>none</td><td>---</td><td>7937</td><td>11</td><td>---</td><td>0.0</td><td>51%</td><td>45%</td><td>0.52</td><td>[78, 6, 4, 3, 2]</td></tr></table>"
      ],
      "text/plain": [
       "<IPython.core.display.HTML object>"
      ]
     },
     "metadata": {},
     "output_type": "display_data"
    },
    {
     "name": "stdout",
     "output_type": "stream",
     "text": [
      "Cleaned dictionary: 8035 words, grammar learn time: 04:46:14, grammar test time: 00:38:07\n"
     ]
    }
   ],
   "source": [
    "display(html_table([header] + a)); print(test_stats(log))"
   ]
  },
  {
   "cell_type": "code",
   "execution_count": 17,
   "metadata": {
    "ExecuteTime": {
     "end_time": "2019-02-25T00:35:10.267611Z",
     "start_time": "2019-02-18T20:52:42.452036Z"
    }
   },
   "outputs": [],
   "source": [
    "%%capture\n",
    "kwargs['min_word_count'] = 1\n",
    "kwargs['min_link_count'] = 1\n",
    "line = [['2.3', corpus, dataset, 0, 0, 'none']]\n",
    "a, _, header, log, rules = wide_rows(line, out_dir, cp, rp, runs, **kwargs)\n",
    "table.extend(a)"
   ]
  },
  {
   "cell_type": "code",
   "execution_count": 18,
   "metadata": {
    "ExecuteTime": {
     "end_time": "2019-02-25T00:35:10.273593Z",
     "start_time": "2019-02-25T00:35:10.269563Z"
    }
   },
   "outputs": [
    {
     "data": {
      "text/html": [
       "<table><tr><td>Line</td><td>Corpus</td><td>Parsing</td><td>Space</td><td>Linkage</td><td>Affinity</td><td>G12n</td><td>Threshold</td><td>Rules</td><td>MWC</td><td>NN</td><td>SI</td><td>PA</td><td>PQ</td><td>F1</td><td>Top 5 cluster sizes</td></tr><tr><td>2.3</td><td>GCB</td><td>LG-E-clean</td><td>cMLEd</td><td>mean_shift</td><td>---</td><td>none</td><td>---</td><td>9353</td><td>1</td><td>---</td><td>0.0</td><td>51%</td><td>47%</td><td>0.52</td><td>[16121, 4, 3, 2, 1]</td></tr></table>"
      ],
      "text/plain": [
       "<IPython.core.display.HTML object>"
      ]
     },
     "metadata": {},
     "output_type": "display_data"
    },
    {
     "name": "stdout",
     "output_type": "stream",
     "text": [
      "Cleaned dictionary: 25528 words, grammar learn time: 147:01:00, grammar test time: 00:41:26\n"
     ]
    }
   ],
   "source": [
    "display(html_table([header] + a)); print(test_stats(log))"
   ]
  },
  {
   "cell_type": "markdown",
   "metadata": {},
   "source": [
    "# Save results for \"Gutengerg Children Books\" corpus"
   ]
  },
  {
   "cell_type": "code",
   "execution_count": 19,
   "metadata": {
    "ExecuteTime": {
     "end_time": "2019-02-25T00:35:10.351673Z",
     "start_time": "2019-02-25T00:35:10.275207Z"
    }
   },
   "outputs": [
    {
     "data": {
      "text/html": [
       "<table><tr><td>Line</td><td>Corpus</td><td>Parsing</td><td>Space</td><td>Linkage</td><td>Affinity</td><td>G12n</td><td>Threshold</td><td>Rules</td><td>MWC</td><td>NN</td><td>SI</td><td>PA</td><td>PQ</td><td>F1</td><td>Top 5 cluster sizes</td></tr><tr><td>2.1</td><td>GCB</td><td>LG-E-clean</td><td>cMLEd</td><td>mean_shift</td><td>---</td><td>none</td><td>---</td><td>2836</td><td>51</td><td>---</td><td>0.0</td><td>47%</td><td>40%</td><td>0.47</td><td>[1, 0]</td></tr><tr><td>2.2</td><td>GCB</td><td>LG-E-clean</td><td>cMLEd</td><td>mean_shift</td><td>---</td><td>none</td><td>---</td><td>7937</td><td>11</td><td>---</td><td>0.0</td><td>51%</td><td>45%</td><td>0.52</td><td>[78, 6, 4, 3, 2]</td></tr><tr><td>2.3</td><td>GCB</td><td>LG-E-clean</td><td>cMLEd</td><td>mean_shift</td><td>---</td><td>none</td><td>---</td><td>9353</td><td>1</td><td>---</td><td>0.0</td><td>51%</td><td>47%</td><td>0.52</td><td>[16121, 4, 3, 2, 1]</td></tr></table>"
      ],
      "text/plain": [
       "<IPython.core.display.HTML object>"
      ]
     },
     "metadata": {},
     "output_type": "display_data"
    }
   ],
   "source": [
    "display(html_table([header] + table))"
   ]
  },
  {
   "cell_type": "code",
   "execution_count": 20,
   "metadata": {
    "ExecuteTime": {
     "end_time": "2019-02-25T00:35:10.436567Z",
     "start_time": "2019-02-25T00:35:10.353134Z"
    }
   },
   "outputs": [
    {
     "name": "stdout",
     "output_type": "stream",
     "text": [
      "2019-02-25 00:35:10 UTC :: finished, elapsed 156.1 hours\n",
      "Results saved to /home/obaskov/94/language-learning/output/MeanShift-GCB-LG-E-clean-2019-02-18_/all_tests_table.txt\n"
     ]
    }
   ],
   "source": [
    "print(UTC(), ':: finished, elapsed', str(round((time.time()-start)/3600.0, 1)), 'hours')\n",
    "table_str = list2file(table, out_dir + '/all_tests_table.txt')\n",
    "print('Results saved to', out_dir + '/all_tests_table.txt')"
   ]
  },
  {
   "cell_type": "markdown",
   "metadata": {},
   "source": [
    "Results for \"Gutenberg Children Books\" corpus with `min_word_count = 31, 21, 11, 6, 2` are shared as static [Mean-shift-clustering-GCB-LG-E-clean-2019-02-20.html](http://langlearn.singularitynet.io/data/clustering_2019/html/Mean-shift-clustering-GCB-LG-E-clean-2019-02-20.html).  "
   ]
  },
  {
   "cell_type": "code",
   "execution_count": null,
   "metadata": {},
   "outputs": [],
   "source": []
  }
 ],
 "metadata": {
  "anaconda-cloud": {},
  "kernelspec": {
   "display_name": "Python [default]",
   "language": "python",
   "name": "python3"
  },
  "language_info": {
   "codemirror_mode": {
    "name": "ipython",
    "version": 3
   },
   "file_extension": ".py",
   "mimetype": "text/x-python",
   "name": "python",
   "nbconvert_exporter": "python",
   "pygments_lexer": "ipython3",
   "version": "3.6.6"
  },
  "toc": {
   "base_numbering": 1,
   "nav_menu": {},
   "number_sections": true,
   "sideBar": true,
   "skip_h1_title": false,
   "title_cell": "Table of Contents",
   "title_sidebar": "Contents",
   "toc_cell": false,
   "toc_position": {},
   "toc_section_display": true,
   "toc_window_display": false
  }
 },
 "nbformat": 4,
 "nbformat_minor": 2
}
