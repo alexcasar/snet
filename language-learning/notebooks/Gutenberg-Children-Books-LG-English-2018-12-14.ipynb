{
 "cells": [
  {
   "cell_type": "markdown",
   "metadata": {},
   "source": [
    "# Gutenberg Children Books `2018-12-14`\n",
    "\n",
    "**LG-English,  agglomerative clustering, 500 clusters, min_word_count = 31/21/11/2/1**\n",
    "\n",
    "Link Grammar 5.5.1, `test_grammar` updated 2018-10-19.  \n",
    "This notebook is shared as static [Gutenberg-Children-Books-2018-12-14.html](http://langlearn.singularitynet.io/data/clustering_2018/html/Gutenberg-Children-Books-2018-12-14.html).  \n",
    "Output data shared via [Gutenberg-Children-Books-2018-12-14](http://langlearn.singularitynet.io/data/clustering_2018/Gutenberg-Children-Books-2018-12-14) directory.  "
   ]
  },
  {
   "cell_type": "markdown",
   "metadata": {},
   "source": [
    "## Basic settings"
   ]
  },
  {
   "cell_type": "code",
   "execution_count": 1,
   "metadata": {
    "ExecuteTime": {
     "end_time": "2018-12-14T10:33:00.798871Z",
     "start_time": "2018-12-14T10:33:00.087072Z"
    }
   },
   "outputs": [],
   "source": [
    "import os, sys, time\n",
    "module_path = os.path.abspath(os.path.join('..'))\n",
    "if module_path not in sys.path: sys.path.append(module_path)\n",
    "from src.grammar_learner.utl import UTC, test_stats\n",
    "from src.grammar_learner.read_files import check_dir, check_corpus\n",
    "from src.grammar_learner.write_files import list2file\n",
    "from src.grammar_learner.widgets import html_table\n",
    "from src.grammar_learner.pqa_table import table_rows, params, wide_rows\n",
    "tmpath = module_path + '/tmp/'\n",
    "check_dir(tmpath, True, 'none')\n",
    "start = time.time()\n",
    "runs = (1,1)"
   ]
  },
  {
   "cell_type": "markdown",
   "metadata": {},
   "source": [
    "## Corpus test settings"
   ]
  },
  {
   "cell_type": "code",
   "execution_count": 2,
   "metadata": {
    "ExecuteTime": {
     "end_time": "2018-12-14T10:33:00.814170Z",
     "start_time": "2018-12-14T10:33:00.802065Z"
    }
   },
   "outputs": [
    {
     "name": "stdout",
     "output_type": "stream",
     "text": [
      "2018-12-14 10:33:00 UTC /home/obaskov/94/language-learning/output/Gutenberg-Children-Books-2018-12-14\n"
     ]
    }
   ],
   "source": [
    "corpus = 'GCB' # 'Gutenberg-Children-Books-Caps' \n",
    "dataset = 'LG-English'\n",
    "kwargs = {\n",
    "    'left_wall'     :   ''          ,\n",
    "    'period'        :   False       ,\n",
    "    'context'       :   1           ,\n",
    "    'min_word_count':   31          ,   # 31/21/11/2/1\n",
    "    'word_space'    :   'sparse'    ,\n",
    "    'clustering'    :   ['agglomerative', 'ward'],\n",
    "    'clustering_metric' : ['silhouette', 'cosine'],\n",
    "    'cluster_range' :   500        ,\n",
    "    'top_level'     :   0.01        ,\n",
    "    'grammar_rules' :   2           ,\n",
    "    'max_disjuncts' :   1000000     ,   # off\n",
    "    'tmpath'        :   tmpath      , \n",
    "    'verbose'       :   'min'       ,\n",
    "    'template_path' :   'poc-turtle',\n",
    "    'linkage_limit' :   1000        }\n",
    "rp = module_path + '/data/' + corpus + '/LG-E-clean/GCB-LG-English-clean.ull'\n",
    "cp = rp  # corpus path = reference_path\n",
    "runs = (1,1)\n",
    "out_dir = module_path + '/output/' + 'Gutenberg-Children-Books-' + str(UTC())[:10]\n",
    "if check_corpus(rp, 'min'): print(UTC(), out_dir)"
   ]
  },
  {
   "cell_type": "markdown",
   "metadata": {},
   "source": [
    "# Tests: \"LG English\", 500 clusters, min_word_count = 31/21/11/2/1"
   ]
  },
  {
   "cell_type": "code",
   "execution_count": 3,
   "metadata": {
    "ExecuteTime": {
     "end_time": "2018-12-14T11:55:47.809536Z",
     "start_time": "2018-12-14T10:33:00.817303Z"
    }
   },
   "outputs": [],
   "source": [
    "%%capture\n",
    "table = []\n",
    "kwargs['min_word_count'] = 31\n",
    "line = [[45, corpus, dataset, 0, 0, 'none']]\n",
    "a, _, header, log, rules = wide_rows(line, out_dir, cp, rp, runs, **kwargs)\n",
    "table.extend(a)"
   ]
  },
  {
   "cell_type": "code",
   "execution_count": 4,
   "metadata": {
    "ExecuteTime": {
     "end_time": "2018-12-14T11:55:47.822753Z",
     "start_time": "2018-12-14T11:55:47.813261Z"
    }
   },
   "outputs": [
    {
     "data": {
      "text/html": [
       "<table><tr><td>Line</td><td>Corpus</td><td>Parsing</td><td>Space</td><td>Linkage</td><td>Affinity</td><td>G12n</td><td>Threshold</td><td>Rules</td><td>MWC</td><td>NN</td><td>SI</td><td>PA</td><td>PQ</td><td>F1</td><td>Top 5 cluster sizes</td></tr><tr><td>45</td><td>GCB</td><td>LG-English</td><td>cALWEd</td><td>ward</td><td>euclidean</td><td>none</td><td>---</td><td>500</td><td>31</td><td>---</td><td>0.0</td><td>50%</td><td>44%</td><td>0.51</td><td>[1002, 466, 437, 384, 381]</td></tr></table>"
      ],
      "text/plain": [
       "<IPython.core.display.HTML object>"
      ]
     },
     "metadata": {},
     "output_type": "display_data"
    },
    {
     "name": "stdout",
     "output_type": "stream",
     "text": [
      "Cleaned dictionary: 7057 words, grammar learn time: 00:19:28, test time: 01:03:17 (h:m:s)\n"
     ]
    }
   ],
   "source": [
    "display(html_table([header] + a)); print(test_stats(log))"
   ]
  },
  {
   "cell_type": "code",
   "execution_count": 5,
   "metadata": {
    "ExecuteTime": {
     "end_time": "2018-12-14T13:21:38.585349Z",
     "start_time": "2018-12-14T11:55:47.825752Z"
    }
   },
   "outputs": [],
   "source": [
    "%%capture\n",
    "kwargs['min_word_count'] = 21\n",
    "line = [[46, corpus, dataset, 0, 0, 'none']]\n",
    "a, _, header, log, rules = wide_rows(line, out_dir, cp, rp, runs, **kwargs)\n",
    "table.extend(a)"
   ]
  },
  {
   "cell_type": "code",
   "execution_count": 6,
   "metadata": {
    "ExecuteTime": {
     "end_time": "2018-12-14T13:21:38.592945Z",
     "start_time": "2018-12-14T13:21:38.587424Z"
    }
   },
   "outputs": [
    {
     "data": {
      "text/html": [
       "<table><tr><td>Line</td><td>Corpus</td><td>Parsing</td><td>Space</td><td>Linkage</td><td>Affinity</td><td>G12n</td><td>Threshold</td><td>Rules</td><td>MWC</td><td>NN</td><td>SI</td><td>PA</td><td>PQ</td><td>F1</td><td>Top 5 cluster sizes</td></tr><tr><td>46</td><td>GCB</td><td>LG-English</td><td>cALWEd</td><td>ward</td><td>euclidean</td><td>none</td><td>---</td><td>500</td><td>21</td><td>---</td><td>0.0</td><td>51%</td><td>46%</td><td>0.52</td><td>[1028, 625, 620, 584, 551]</td></tr></table>"
      ],
      "text/plain": [
       "<IPython.core.display.HTML object>"
      ]
     },
     "metadata": {},
     "output_type": "display_data"
    },
    {
     "name": "stdout",
     "output_type": "stream",
     "text": [
      "Cleaned dictionary: 8929 words, grammar learn time: 00:22:09, test time: 01:03:40 (h:m:s)\n"
     ]
    }
   ],
   "source": [
    "display(html_table([header] + a)); print(test_stats(log))"
   ]
  },
  {
   "cell_type": "code",
   "execution_count": 7,
   "metadata": {
    "ExecuteTime": {
     "end_time": "2018-12-14T15:15:09.052195Z",
     "start_time": "2018-12-14T13:21:38.594898Z"
    }
   },
   "outputs": [],
   "source": [
    "%%capture\n",
    "kwargs['min_word_count'] = 11\n",
    "line = [[47, corpus, dataset, 0, 0, 'none']]\n",
    "a, _, header, log, rules = wide_rows(line, out_dir, cp, rp, runs, **kwargs)\n",
    "table.extend(a)"
   ]
  },
  {
   "cell_type": "code",
   "execution_count": 8,
   "metadata": {
    "ExecuteTime": {
     "end_time": "2018-12-14T15:15:09.058201Z",
     "start_time": "2018-12-14T15:15:09.054230Z"
    }
   },
   "outputs": [
    {
     "data": {
      "text/html": [
       "<table><tr><td>Line</td><td>Corpus</td><td>Parsing</td><td>Space</td><td>Linkage</td><td>Affinity</td><td>G12n</td><td>Threshold</td><td>Rules</td><td>MWC</td><td>NN</td><td>SI</td><td>PA</td><td>PQ</td><td>F1</td><td>Top 5 cluster sizes</td></tr><tr><td>47</td><td>GCB</td><td>LG-English</td><td>cALWEd</td><td>ward</td><td>euclidean</td><td>none</td><td>---</td><td>500</td><td>11</td><td>---</td><td>0.0</td><td>52%</td><td>47%</td><td>0.53</td><td>[1096, 1028, 907, 848, 716]</td></tr></table>"
      ],
      "text/plain": [
       "<IPython.core.display.HTML object>"
      ]
     },
     "metadata": {},
     "output_type": "display_data"
    },
    {
     "name": "stdout",
     "output_type": "stream",
     "text": [
      "Cleaned dictionary: 12790 words, grammar learn time: 00:44:23, test time: 01:09:05 (h:m:s)\n"
     ]
    }
   ],
   "source": [
    "display(html_table([header] + a)); print(test_stats(log))"
   ]
  },
  {
   "cell_type": "code",
   "execution_count": 9,
   "metadata": {
    "ExecuteTime": {
     "end_time": "2018-12-14T15:15:09.148732Z",
     "start_time": "2018-12-14T15:15:09.059665Z"
    }
   },
   "outputs": [
    {
     "data": {
      "text/html": [
       "<table><tr><td>Line</td><td>Corpus</td><td>Parsing</td><td>Space</td><td>Linkage</td><td>Affinity</td><td>G12n</td><td>Threshold</td><td>Rules</td><td>MWC</td><td>NN</td><td>SI</td><td>PA</td><td>PQ</td><td>F1</td><td>Top 5 cluster sizes</td></tr><tr><td>45</td><td>GCB</td><td>LG-English</td><td>cALWEd</td><td>ward</td><td>euclidean</td><td>none</td><td>---</td><td>500</td><td>31</td><td>---</td><td>0.0</td><td>50%</td><td>44%</td><td>0.51</td><td>[1002, 466, 437, 384, 381]</td></tr><tr><td>46</td><td>GCB</td><td>LG-English</td><td>cALWEd</td><td>ward</td><td>euclidean</td><td>none</td><td>---</td><td>500</td><td>21</td><td>---</td><td>0.0</td><td>51%</td><td>46%</td><td>0.52</td><td>[1028, 625, 620, 584, 551]</td></tr><tr><td>47</td><td>GCB</td><td>LG-English</td><td>cALWEd</td><td>ward</td><td>euclidean</td><td>none</td><td>---</td><td>500</td><td>11</td><td>---</td><td>0.0</td><td>52%</td><td>47%</td><td>0.53</td><td>[1096, 1028, 907, 848, 716]</td></tr></table>"
      ],
      "text/plain": [
       "<IPython.core.display.HTML object>"
      ]
     },
     "metadata": {},
     "output_type": "display_data"
    }
   ],
   "source": [
    "display(html_table([header] + table))"
   ]
  },
  {
   "cell_type": "code",
   "execution_count": 10,
   "metadata": {
    "ExecuteTime": {
     "end_time": "2018-12-14T22:43:52.121986Z",
     "start_time": "2018-12-14T15:15:09.151518Z"
    }
   },
   "outputs": [],
   "source": [
    "%%capture\n",
    "kwargs['min_word_count'] = 2\n",
    "line = [[48, corpus, dataset, 0, 0, 'none']]\n",
    "a, _, header, log, rules = wide_rows(line, out_dir, cp, rp, runs, **kwargs)\n",
    "table.extend(a)"
   ]
  },
  {
   "cell_type": "code",
   "execution_count": 11,
   "metadata": {
    "ExecuteTime": {
     "end_time": "2018-12-14T22:43:52.127401Z",
     "start_time": "2018-12-14T22:43:52.123823Z"
    }
   },
   "outputs": [
    {
     "data": {
      "text/html": [
       "<table><tr><td>Line</td><td>Corpus</td><td>Parsing</td><td>Space</td><td>Linkage</td><td>Affinity</td><td>G12n</td><td>Threshold</td><td>Rules</td><td>MWC</td><td>NN</td><td>SI</td><td>PA</td><td>PQ</td><td>F1</td><td>Top 5 cluster sizes</td></tr><tr><td>48</td><td>GCB</td><td>LG-English</td><td>cALWEd</td><td>ward</td><td>euclidean</td><td>none</td><td>---</td><td>500</td><td>2</td><td>---</td><td>0.0</td><td>54%</td><td>48%</td><td>0.54</td><td>[5491, 3805, 3098, 1724, 964]</td></tr></table>"
      ],
      "text/plain": [
       "<IPython.core.display.HTML object>"
      ]
     },
     "metadata": {},
     "output_type": "display_data"
    },
    {
     "name": "stdout",
     "output_type": "stream",
     "text": [
      "Cleaned dictionary: 31700 words, grammar learn time: 06:19:28, test time: 01:09:13 (h:m:s)\n"
     ]
    }
   ],
   "source": [
    "display(html_table([header] + a)); print(test_stats(log))"
   ]
  },
  {
   "cell_type": "code",
   "execution_count": 12,
   "metadata": {
    "ExecuteTime": {
     "end_time": "2018-12-14T22:43:52.228709Z",
     "start_time": "2018-12-14T22:43:52.128944Z"
    }
   },
   "outputs": [
    {
     "data": {
      "text/html": [
       "<table><tr><td>Line</td><td>Corpus</td><td>Parsing</td><td>Space</td><td>Linkage</td><td>Affinity</td><td>G12n</td><td>Threshold</td><td>Rules</td><td>MWC</td><td>NN</td><td>SI</td><td>PA</td><td>PQ</td><td>F1</td><td>Top 5 cluster sizes</td></tr><tr><td>45</td><td>GCB</td><td>LG-English</td><td>cALWEd</td><td>ward</td><td>euclidean</td><td>none</td><td>---</td><td>500</td><td>31</td><td>---</td><td>0.0</td><td>50%</td><td>44%</td><td>0.51</td><td>[1002, 466, 437, 384, 381]</td></tr><tr><td>46</td><td>GCB</td><td>LG-English</td><td>cALWEd</td><td>ward</td><td>euclidean</td><td>none</td><td>---</td><td>500</td><td>21</td><td>---</td><td>0.0</td><td>51%</td><td>46%</td><td>0.52</td><td>[1028, 625, 620, 584, 551]</td></tr><tr><td>47</td><td>GCB</td><td>LG-English</td><td>cALWEd</td><td>ward</td><td>euclidean</td><td>none</td><td>---</td><td>500</td><td>11</td><td>---</td><td>0.0</td><td>52%</td><td>47%</td><td>0.53</td><td>[1096, 1028, 907, 848, 716]</td></tr><tr><td>48</td><td>GCB</td><td>LG-English</td><td>cALWEd</td><td>ward</td><td>euclidean</td><td>none</td><td>---</td><td>500</td><td>2</td><td>---</td><td>0.0</td><td>54%</td><td>48%</td><td>0.54</td><td>[5491, 3805, 3098, 1724, 964]</td></tr></table>"
      ],
      "text/plain": [
       "<IPython.core.display.HTML object>"
      ]
     },
     "metadata": {},
     "output_type": "display_data"
    }
   ],
   "source": [
    "display(html_table([header] + table))"
   ]
  },
  {
   "cell_type": "code",
   "execution_count": 13,
   "metadata": {
    "ExecuteTime": {
     "end_time": "2018-12-15T09:14:01.110159Z",
     "start_time": "2018-12-14T22:43:52.231523Z"
    }
   },
   "outputs": [],
   "source": [
    "%%capture\n",
    "kwargs['min_word_count'] = 1\n",
    "line = [[49, corpus, dataset, 0, 0, 'none']]\n",
    "a, _, header, log, rules = wide_rows(line, out_dir, cp, rp, runs, **kwargs)\n",
    "table.extend(a)"
   ]
  },
  {
   "cell_type": "code",
   "execution_count": 14,
   "metadata": {
    "ExecuteTime": {
     "end_time": "2018-12-15T09:14:01.120282Z",
     "start_time": "2018-12-15T09:14:01.113306Z"
    }
   },
   "outputs": [
    {
     "data": {
      "text/html": [
       "<table><tr><td>Line</td><td>Corpus</td><td>Parsing</td><td>Space</td><td>Linkage</td><td>Affinity</td><td>G12n</td><td>Threshold</td><td>Rules</td><td>MWC</td><td>NN</td><td>SI</td><td>PA</td><td>PQ</td><td>F1</td><td>Top 5 cluster sizes</td></tr><tr><td>49</td><td>GCB</td><td>LG-English</td><td>cALWEd</td><td>ward</td><td>euclidean</td><td>none</td><td>---</td><td>500</td><td>1</td><td>---</td><td>0.0</td><td>53%</td><td>48%</td><td>0.54</td><td>[7303, 4580, 2802, 2159, 1486]</td></tr></table>"
      ],
      "text/plain": [
       "<IPython.core.display.HTML object>"
      ]
     },
     "metadata": {},
     "output_type": "display_data"
    },
    {
     "name": "stdout",
     "output_type": "stream",
     "text": [
      "Cleaned dictionary: 37087 words, grammar learn time: 09:11:22, test time: 01:18:45 (h:m:s)\n"
     ]
    }
   ],
   "source": [
    "display(html_table([header] + a)); print(test_stats(log))"
   ]
  },
  {
   "cell_type": "markdown",
   "metadata": {},
   "source": [
    "# Save results"
   ]
  },
  {
   "cell_type": "code",
   "execution_count": 15,
   "metadata": {
    "ExecuteTime": {
     "end_time": "2018-12-15T09:14:01.216156Z",
     "start_time": "2018-12-15T09:14:01.123846Z"
    }
   },
   "outputs": [
    {
     "data": {
      "text/html": [
       "<table><tr><td>Line</td><td>Corpus</td><td>Parsing</td><td>Space</td><td>Linkage</td><td>Affinity</td><td>G12n</td><td>Threshold</td><td>Rules</td><td>MWC</td><td>NN</td><td>SI</td><td>PA</td><td>PQ</td><td>F1</td><td>Top 5 cluster sizes</td></tr><tr><td>45</td><td>GCB</td><td>LG-English</td><td>cALWEd</td><td>ward</td><td>euclidean</td><td>none</td><td>---</td><td>500</td><td>31</td><td>---</td><td>0.0</td><td>50%</td><td>44%</td><td>0.51</td><td>[1002, 466, 437, 384, 381]</td></tr><tr><td>46</td><td>GCB</td><td>LG-English</td><td>cALWEd</td><td>ward</td><td>euclidean</td><td>none</td><td>---</td><td>500</td><td>21</td><td>---</td><td>0.0</td><td>51%</td><td>46%</td><td>0.52</td><td>[1028, 625, 620, 584, 551]</td></tr><tr><td>47</td><td>GCB</td><td>LG-English</td><td>cALWEd</td><td>ward</td><td>euclidean</td><td>none</td><td>---</td><td>500</td><td>11</td><td>---</td><td>0.0</td><td>52%</td><td>47%</td><td>0.53</td><td>[1096, 1028, 907, 848, 716]</td></tr><tr><td>48</td><td>GCB</td><td>LG-English</td><td>cALWEd</td><td>ward</td><td>euclidean</td><td>none</td><td>---</td><td>500</td><td>2</td><td>---</td><td>0.0</td><td>54%</td><td>48%</td><td>0.54</td><td>[5491, 3805, 3098, 1724, 964]</td></tr><tr><td>49</td><td>GCB</td><td>LG-English</td><td>cALWEd</td><td>ward</td><td>euclidean</td><td>none</td><td>---</td><td>500</td><td>1</td><td>---</td><td>0.0</td><td>53%</td><td>48%</td><td>0.54</td><td>[7303, 4580, 2802, 2159, 1486]</td></tr></table>"
      ],
      "text/plain": [
       "<IPython.core.display.HTML object>"
      ]
     },
     "metadata": {},
     "output_type": "display_data"
    }
   ],
   "source": [
    "display(html_table([header] + table))"
   ]
  },
  {
   "cell_type": "code",
   "execution_count": 16,
   "metadata": {
    "ExecuteTime": {
     "end_time": "2018-12-15T09:14:01.275009Z",
     "start_time": "2018-12-15T09:14:01.218919Z"
    }
   },
   "outputs": [
    {
     "name": "stdout",
     "output_type": "stream",
     "text": [
      "2018-12-15 09:14:01 UTC :: finished, elapsed 22.7 hours\n",
      "Results saved to /home/obaskov/94/language-learning/output/Gutenberg-Children-Books-2018-12-14/all_tests_table.txt\n"
     ]
    }
   ],
   "source": [
    "print(UTC(), ':: finished, elapsed', str(round((time.time()-start)/3600.0, 1)), 'hours')\n",
    "table_str = list2file(table, out_dir + '/all_tests_table.txt')\n",
    "print('Results saved to', out_dir + '/all_tests_table.txt')"
   ]
  }
 ],
 "metadata": {
  "anaconda-cloud": {},
  "kernelspec": {
   "display_name": "Python [default]",
   "language": "python",
   "name": "python3"
  },
  "language_info": {
   "codemirror_mode": {
    "name": "ipython",
    "version": 3
   },
   "file_extension": ".py",
   "mimetype": "text/x-python",
   "name": "python",
   "nbconvert_exporter": "python",
   "pygments_lexer": "ipython3",
   "version": "3.6.6"
  },
  "toc": {
   "base_numbering": 1,
   "nav_menu": {},
   "number_sections": true,
   "sideBar": true,
   "skip_h1_title": false,
   "title_cell": "Table of Contents",
   "title_sidebar": "Contents",
   "toc_cell": false,
   "toc_position": {},
   "toc_section_display": true,
   "toc_window_display": false
  }
 },
 "nbformat": 4,
 "nbformat_minor": 2
}
