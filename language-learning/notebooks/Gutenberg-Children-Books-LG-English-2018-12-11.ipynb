{
 "cells": [
  {
   "cell_type": "markdown",
   "metadata": {},
   "source": [
    "# Gutenberg Children Books `2018-12-11`\n",
    "\n",
    "**Tests: \"LG English\", agglomerative clustering, min_word_count = 11, 3/5/7/10 Kclusters**. \n",
    "\n",
    "Link Grammar 5.5.1, `test_grammar` updated 2018-10-19.  \n",
    "This notebook **not** is shared as static [Gutenberg-Children-Books-2018-12-11.html](http://langlearn.singularitynet.io/data/clustering_2018/html/Gutenberg-Children-Books-2018-12-11.html).  \n",
    "Output data shared via [Gutenberg-Children-Books-2018-12-11](http://langlearn.singularitynet.io/data/clustering_2018/Gutenberg-Children-Books-2018-12-11) directory."
   ]
  },
  {
   "cell_type": "markdown",
   "metadata": {},
   "source": [
    "## Basic settings"
   ]
  },
  {
   "cell_type": "code",
   "execution_count": 1,
   "metadata": {
    "ExecuteTime": {
     "end_time": "2018-12-11T07:44:07.649474Z",
     "start_time": "2018-12-11T07:44:06.926286Z"
    }
   },
   "outputs": [],
   "source": [
    "import os, sys, time\n",
    "module_path = os.path.abspath(os.path.join('..'))\n",
    "if module_path not in sys.path: sys.path.append(module_path)\n",
    "from src.grammar_learner.utl import UTC\n",
    "from src.grammar_learner.read_files import check_dir, check_corpus\n",
    "from src.grammar_learner.write_files import list2file\n",
    "from src.grammar_learner.widgets import html_table\n",
    "from src.grammar_learner.pqa_table import table_rows, params, wide_rows\n",
    "tmpath = module_path + '/tmp/'\n",
    "check_dir(tmpath, True, 'none')\n",
    "start = time.time()\n",
    "runs = (1,1)"
   ]
  },
  {
   "cell_type": "markdown",
   "metadata": {},
   "source": [
    "## Corpus test settings"
   ]
  },
  {
   "cell_type": "code",
   "execution_count": 2,
   "metadata": {
    "ExecuteTime": {
     "end_time": "2018-12-11T07:44:07.657150Z",
     "start_time": "2018-12-11T07:44:07.650930Z"
    }
   },
   "outputs": [
    {
     "name": "stdout",
     "output_type": "stream",
     "text": [
      "2018-12-11 07:44:07 UTC /home/obaskov/94/language-learning/output/GCB-2018-12-11\n"
     ]
    }
   ],
   "source": [
    "corpus = 'GCB' # 2018-12-11 copy of 'Gutenberg-Children-Books-Caps'\n",
    "dataset = 'LG-English'\n",
    "kwargs = {\n",
    "    'left_wall'     :   ''          ,\n",
    "    'period'        :   False       ,\n",
    "    'context'       :   1           ,\n",
    "    'min_word_count':   11          ,\n",
    "    'word_space'    :   'sparse'    ,\n",
    "    'clustering'    :   ['agglomerative', 'ward'],\n",
    "    'clustering_metric' : ['silhouette', 'cosine'],\n",
    "    'cluster_range' :   3000        ,   # 3000, 5000, 7000, 10000\n",
    "    'top_level'     :   0.01        ,\n",
    "    'grammar_rules' :   2           ,\n",
    "    'max_disjuncts' :   1000000     ,   # off\n",
    "    'tmpath'        :   tmpath      , \n",
    "    'verbose'       :   'min'       ,\n",
    "    'template_path' :   'poc-turtle',\n",
    "    'linkage_limit' :   1000        }\n",
    "rp = module_path + '/data/' + corpus + '/LG-E-clean/GCB-LG-English-clean.ull'\n",
    "cp = rp  # corpus path = reference_path\n",
    "runs = (1,1)\n",
    "out_dir = module_path + '/output/' + corpus + '-' + str(UTC())[:10]\n",
    "if check_corpus(rp, 'min'): print(UTC(), out_dir)"
   ]
  },
  {
   "cell_type": "markdown",
   "metadata": {},
   "source": [
    "# Tests: \"LG English\", min_word_count = 11, 3/5/7/10 Kclusters"
   ]
  },
  {
   "cell_type": "code",
   "execution_count": 3,
   "metadata": {
    "ExecuteTime": {
     "end_time": "2018-12-11T10:52:42.241485Z",
     "start_time": "2018-12-11T07:44:07.659337Z"
    }
   },
   "outputs": [],
   "source": [
    "%%capture\n",
    "table = []\n",
    "kwargs['cluster_range'] = 3000\n",
    "line = [[2.1, corpus, dataset, 0, 0, 'none']]\n",
    "a, _, header, log, rules = wide_rows(line, out_dir, cp, rp, runs, **kwargs)\n",
    "table.extend(a)"
   ]
  },
  {
   "cell_type": "code",
   "execution_count": 4,
   "metadata": {
    "ExecuteTime": {
     "end_time": "2018-12-11T10:52:42.254470Z",
     "start_time": "2018-12-11T10:52:42.245243Z"
    }
   },
   "outputs": [
    {
     "data": {
      "text/html": [
       "<table><tr><td>Line</td><td>Corpus</td><td>Parsing</td><td>Space</td><td>Linkage</td><td>Affinity</td><td>G12n</td><td>Threshold</td><td>Rules</td><td>MWC</td><td>NN</td><td>SI</td><td>PA</td><td>PQ</td><td>F1</td><td>Top 5 cluster sizes</td></tr><tr><td>2.1</td><td>GCB</td><td>LG-English</td><td>cALWEd</td><td>ward</td><td>euclidean</td><td>none</td><td>---</td><td>3000</td><td>11</td><td>---</td><td>0.0</td><td>48%</td><td>45%</td><td>0.51</td><td>[180, 161, 158, 148, 134]</td></tr></table>"
      ],
      "text/plain": [
       "<IPython.core.display.HTML object>"
      ]
     },
     "metadata": {},
     "output_type": "display_data"
    },
    {
     "name": "stdout",
     "output_type": "stream",
     "text": [
      "2018-12-11 10:52:42 UTC\n"
     ]
    }
   ],
   "source": [
    "display(html_table([header] + table)); print(UTC())"
   ]
  },
  {
   "cell_type": "code",
   "execution_count": 5,
   "metadata": {
    "ExecuteTime": {
     "end_time": "2018-12-11T16:39:04.183301Z",
     "start_time": "2018-12-11T10:52:42.257815Z"
    }
   },
   "outputs": [],
   "source": [
    "%%capture\n",
    "kwargs['cluster_range'] = 5000\n",
    "line = [[2.2, corpus, dataset, 0, 0, 'none']]\n",
    "a, _, header, log, rules = wide_rows(line, out_dir, cp, rp, runs, **kwargs)\n",
    "table.extend(a)"
   ]
  },
  {
   "cell_type": "code",
   "execution_count": 6,
   "metadata": {
    "ExecuteTime": {
     "end_time": "2018-12-11T16:39:04.192718Z",
     "start_time": "2018-12-11T16:39:04.186048Z"
    }
   },
   "outputs": [
    {
     "data": {
      "text/html": [
       "<table><tr><td>Line</td><td>Corpus</td><td>Parsing</td><td>Space</td><td>Linkage</td><td>Affinity</td><td>G12n</td><td>Threshold</td><td>Rules</td><td>MWC</td><td>NN</td><td>SI</td><td>PA</td><td>PQ</td><td>F1</td><td>Top 5 cluster sizes</td></tr><tr><td>2.1</td><td>GCB</td><td>LG-English</td><td>cALWEd</td><td>ward</td><td>euclidean</td><td>none</td><td>---</td><td>3000</td><td>11</td><td>---</td><td>0.0</td><td>48%</td><td>45%</td><td>0.51</td><td>[180, 161, 158, 148, 134]</td></tr><tr><td>2.2</td><td>GCB</td><td>LG-English</td><td>cALWEd</td><td>ward</td><td>euclidean</td><td>none</td><td>---</td><td>5000</td><td>11</td><td>---</td><td>0.0</td><td>48%</td><td>45%</td><td>0.51</td><td>[132, 104, 77, 75, 74]</td></tr></table>"
      ],
      "text/plain": [
       "<IPython.core.display.HTML object>"
      ]
     },
     "metadata": {},
     "output_type": "display_data"
    },
    {
     "name": "stdout",
     "output_type": "stream",
     "text": [
      "2018-12-11 16:39:04 UTC\n"
     ]
    }
   ],
   "source": [
    "display(html_table([header] + table)); print(UTC())"
   ]
  },
  {
   "cell_type": "code",
   "execution_count": 7,
   "metadata": {
    "ExecuteTime": {
     "end_time": "2018-12-12T00:05:51.244641Z",
     "start_time": "2018-12-11T16:39:04.196179Z"
    }
   },
   "outputs": [],
   "source": [
    "%%capture\n",
    "kwargs['cluster_range'] = 7000\n",
    "line = [[2.3, corpus, dataset, 0, 0, 'none']]\n",
    "a, _, header, log, rules = wide_rows(line, out_dir, cp, rp, runs, **kwargs)\n",
    "table.extend(a)"
   ]
  },
  {
   "cell_type": "code",
   "execution_count": 8,
   "metadata": {
    "ExecuteTime": {
     "end_time": "2018-12-12T00:05:51.251418Z",
     "start_time": "2018-12-12T00:05:51.246368Z"
    }
   },
   "outputs": [
    {
     "data": {
      "text/html": [
       "<table><tr><td>Line</td><td>Corpus</td><td>Parsing</td><td>Space</td><td>Linkage</td><td>Affinity</td><td>G12n</td><td>Threshold</td><td>Rules</td><td>MWC</td><td>NN</td><td>SI</td><td>PA</td><td>PQ</td><td>F1</td><td>Top 5 cluster sizes</td></tr><tr><td>2.1</td><td>GCB</td><td>LG-English</td><td>cALWEd</td><td>ward</td><td>euclidean</td><td>none</td><td>---</td><td>3000</td><td>11</td><td>---</td><td>0.0</td><td>48%</td><td>45%</td><td>0.51</td><td>[180, 161, 158, 148, 134]</td></tr><tr><td>2.2</td><td>GCB</td><td>LG-English</td><td>cALWEd</td><td>ward</td><td>euclidean</td><td>none</td><td>---</td><td>5000</td><td>11</td><td>---</td><td>0.0</td><td>48%</td><td>45%</td><td>0.51</td><td>[132, 104, 77, 75, 74]</td></tr><tr><td>2.3</td><td>GCB</td><td>LG-English</td><td>cALWEd</td><td>ward</td><td>euclidean</td><td>none</td><td>---</td><td>7000</td><td>11</td><td>---</td><td>0.0</td><td>47%</td><td>44%</td><td>0.51</td><td>[96, 45, 38, 37, 36]</td></tr></table>"
      ],
      "text/plain": [
       "<IPython.core.display.HTML object>"
      ]
     },
     "metadata": {},
     "output_type": "display_data"
    },
    {
     "name": "stdout",
     "output_type": "stream",
     "text": [
      "2018-12-12 00:05:51 UTC\n"
     ]
    }
   ],
   "source": [
    "display(html_table([header] + table)); print(UTC())"
   ]
  },
  {
   "cell_type": "code",
   "execution_count": 9,
   "metadata": {
    "ExecuteTime": {
     "end_time": "2018-12-12T10:28:02.484715Z",
     "start_time": "2018-12-12T00:05:51.254018Z"
    }
   },
   "outputs": [],
   "source": [
    "%%capture\n",
    "kwargs['cluster_range'] = 10000\n",
    "line = [[2.3, corpus, dataset, 0, 0, 'none']]\n",
    "a, _, header, log, rules = wide_rows(line, out_dir, cp, rp, runs, **kwargs)\n",
    "table.extend(a)"
   ]
  },
  {
   "cell_type": "code",
   "execution_count": 10,
   "metadata": {
    "ExecuteTime": {
     "end_time": "2018-12-12T10:28:02.491261Z",
     "start_time": "2018-12-12T10:28:02.486462Z"
    }
   },
   "outputs": [
    {
     "data": {
      "text/html": [
       "<table><tr><td>Line</td><td>Corpus</td><td>Parsing</td><td>Space</td><td>Linkage</td><td>Affinity</td><td>G12n</td><td>Threshold</td><td>Rules</td><td>MWC</td><td>NN</td><td>SI</td><td>PA</td><td>PQ</td><td>F1</td><td>Top 5 cluster sizes</td></tr><tr><td>2.3</td><td>GCB</td><td>LG-English</td><td>cALWEd</td><td>ward</td><td>euclidean</td><td>none</td><td>---</td><td>10000</td><td>11</td><td>---</td><td>0.0</td><td>47%</td><td>44%</td><td>0.51</td><td>[69, 20, 19, 17, 16]</td></tr></table>"
      ],
      "text/plain": [
       "<IPython.core.display.HTML object>"
      ]
     },
     "metadata": {},
     "output_type": "display_data"
    },
    {
     "name": "stdout",
     "output_type": "stream",
     "text": [
      "2018-12-12 10:28:02 UTC\n"
     ]
    }
   ],
   "source": [
    "display(html_table([header] + a)); print(UTC())"
   ]
  },
  {
   "cell_type": "markdown",
   "metadata": {},
   "source": [
    "# All tests"
   ]
  },
  {
   "cell_type": "code",
   "execution_count": 11,
   "metadata": {
    "ExecuteTime": {
     "end_time": "2018-12-12T10:28:02.635852Z",
     "start_time": "2018-12-12T10:28:02.493812Z"
    }
   },
   "outputs": [
    {
     "data": {
      "text/html": [
       "<table><tr><td>Line</td><td>Corpus</td><td>Parsing</td><td>Space</td><td>Linkage</td><td>Affinity</td><td>G12n</td><td>Threshold</td><td>Rules</td><td>MWC</td><td>NN</td><td>SI</td><td>PA</td><td>PQ</td><td>F1</td><td>Top 5 cluster sizes</td></tr><tr><td>2.1</td><td>GCB</td><td>LG-English</td><td>cALWEd</td><td>ward</td><td>euclidean</td><td>none</td><td>---</td><td>3000</td><td>11</td><td>---</td><td>0.0</td><td>48%</td><td>45%</td><td>0.51</td><td>[180, 161, 158, 148, 134]</td></tr><tr><td>2.2</td><td>GCB</td><td>LG-English</td><td>cALWEd</td><td>ward</td><td>euclidean</td><td>none</td><td>---</td><td>5000</td><td>11</td><td>---</td><td>0.0</td><td>48%</td><td>45%</td><td>0.51</td><td>[132, 104, 77, 75, 74]</td></tr><tr><td>2.3</td><td>GCB</td><td>LG-English</td><td>cALWEd</td><td>ward</td><td>euclidean</td><td>none</td><td>---</td><td>7000</td><td>11</td><td>---</td><td>0.0</td><td>47%</td><td>44%</td><td>0.51</td><td>[96, 45, 38, 37, 36]</td></tr><tr><td>2.3</td><td>GCB</td><td>LG-English</td><td>cALWEd</td><td>ward</td><td>euclidean</td><td>none</td><td>---</td><td>10000</td><td>11</td><td>---</td><td>0.0</td><td>47%</td><td>44%</td><td>0.51</td><td>[69, 20, 19, 17, 16]</td></tr></table>"
      ],
      "text/plain": [
       "<IPython.core.display.HTML object>"
      ]
     },
     "metadata": {},
     "output_type": "display_data"
    },
    {
     "name": "stdout",
     "output_type": "stream",
     "text": [
      "2018-12-12 10:28:02 UTC\n"
     ]
    }
   ],
   "source": [
    "display(html_table([header] + table)); print(UTC())"
   ]
  },
  {
   "cell_type": "code",
   "execution_count": 12,
   "metadata": {
    "ExecuteTime": {
     "end_time": "2018-12-12T10:28:02.718442Z",
     "start_time": "2018-12-12T10:28:02.639096Z"
    }
   },
   "outputs": [
    {
     "name": "stdout",
     "output_type": "stream",
     "text": [
      "2018-12-12 10:28:02 UTC :: finished, elapsed 26.7 hours\n",
      "Results saved to /home/obaskov/94/language-learning/output/GCB-2018-12-11/all_tests_table.txt\n"
     ]
    }
   ],
   "source": [
    "print(UTC(), ':: finished, elapsed', str(round((time.time()-start)/3600.0, 1)), 'hours')\n",
    "table_str = list2file(table, out_dir + '/all_tests_table.txt')\n",
    "print('Results saved to', out_dir + '/all_tests_table.txt')"
   ]
  }
 ],
 "metadata": {
  "anaconda-cloud": {},
  "kernelspec": {
   "display_name": "Python [default]",
   "language": "python",
   "name": "python3"
  },
  "language_info": {
   "codemirror_mode": {
    "name": "ipython",
    "version": 3
   },
   "file_extension": ".py",
   "mimetype": "text/x-python",
   "name": "python",
   "nbconvert_exporter": "python",
   "pygments_lexer": "ipython3",
   "version": "3.6.6"
  },
  "toc": {
   "base_numbering": 1,
   "nav_menu": {},
   "number_sections": true,
   "sideBar": true,
   "skip_h1_title": false,
   "title_cell": "Table of Contents",
   "title_sidebar": "Contents",
   "toc_cell": false,
   "toc_position": {},
   "toc_section_display": true,
   "toc_window_display": false
  }
 },
 "nbformat": 4,
 "nbformat_minor": 2
}
