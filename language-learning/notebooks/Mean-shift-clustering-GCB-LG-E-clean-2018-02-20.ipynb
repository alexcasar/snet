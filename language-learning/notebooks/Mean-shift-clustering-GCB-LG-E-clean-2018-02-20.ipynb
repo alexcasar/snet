{
 "cells": [
  {
   "cell_type": "markdown",
   "metadata": {},
   "source": [
    "# Mean shift clustering \"Gutenberg Children Books\" `2019-02-20`\n",
    "\n",
    "**\"Gutenberg Children Books\" corpus \"LG-English-clean\" dataset, ,  \n",
    "trash filter off: `min_word_count = 31,21,11,6,2`, `max_sentence_length` off, Link Grammar 5.5.1**.  \n",
    "\n",
    "This notebook is shared as static [Mean-shift-clustering-GCB-LG-E-clean-2019-02-20.html](http://langlearn.singularitynet.io/data/clustering_2019/html/Mean-shift-clustering-GCB-LG-E-clean-2019-02-20.html).  \n",
    "Output data shared via [Mean-shift-clustering-GCB-LG-E-clean-2019-02-20](http://langlearn.singularitynet.io/data/clustering_2019/Mean-shift-clustering-GCB-LG-E-clean-2019-02-20) directory."
   ]
  },
  {
   "cell_type": "markdown",
   "metadata": {},
   "source": [
    "## Basic settings"
   ]
  },
  {
   "cell_type": "code",
   "execution_count": 19,
   "metadata": {
    "ExecuteTime": {
     "end_time": "2019-02-22T02:21:30.934749Z",
     "start_time": "2019-02-22T02:21:30.803467Z"
    }
   },
   "outputs": [
    {
     "name": "stdout",
     "output_type": "stream",
     "text": [
      "2019-02-22 02:21:30 UTC :: module_path: /home/obaskov/94/language-learning\n"
     ]
    }
   ],
   "source": [
    "import os, sys, time\n",
    "module_path = os.path.abspath(os.path.join('..'))\n",
    "if module_path not in sys.path: sys.path.append(module_path)\n",
    "from src.grammar_learner.utl import UTC, test_stats\n",
    "from src.grammar_learner.read_files import check_dir, check_corpus\n",
    "from src.grammar_learner.write_files import list2file\n",
    "from src.grammar_learner.widgets import html_table\n",
    "from src.grammar_learner.pqa_table import table_rows, params, wide_rows\n",
    "tmpath = module_path + '/tmp/'\n",
    "check_dir(tmpath, True, 'none')\n",
    "start = time.time()\n",
    "runs = (1,1)\n",
    "print(UTC(), ':: module_path:', module_path)"
   ]
  },
  {
   "cell_type": "markdown",
   "metadata": {},
   "source": [
    "## Corpus test settings"
   ]
  },
  {
   "cell_type": "code",
   "execution_count": null,
   "metadata": {
    "ExecuteTime": {
     "end_time": "2019-02-20T10:18:46.921632Z",
     "start_time": "2019-02-20T10:18:46.913056Z"
    }
   },
   "outputs": [],
   "source": [
    "corpus = 'GCB' # 'Gutenberg-Children-Books-Caps' \n",
    "dataset = 'LG-E-clean'\n",
    "kwargs = {\n",
    "    'left_wall'     :   ''          ,\n",
    "    'period'        :   False       ,\n",
    "    'context'       :   1           ,\n",
    "    'min_word_count':   1           ,  # 11, 1\n",
    "    'word_space'    :   'sparse'    ,\n",
    "    'clustering'    :   ('mean_shift', 2),\n",
    "    'clustering_metric' : ['silhouette', 'cosine'],\n",
    "    'cluster_range' :   [0]         ,   # auto\n",
    "    'top_level'     :   0.01        ,\n",
    "    'grammar_rules' :   2           ,\n",
    "    'max_disjuncts' :   1000000     ,   # off\n",
    "    'stop_words'    :   []          ,\n",
    "    'tmpath'        :   tmpath      ,\n",
    "    'verbose'       :   'log+'      ,\n",
    "    'template_path' :   'poc-turtle',\n",
    "    'linkage_limit' :   1000        }\n",
    "rp = module_path + '/data/' + corpus + '/LG-E-clean/GCB-LG-English-clean.ull'\n",
    "cp = rp  # corpus path = reference_path\n",
    "out_dir = module_path + '/output/' + 'Mean-shift-clustering-GCB-LG-E-clean-' + str(UTC())[:10]\n",
    "print(UTC(), '\\n', out_dir)"
   ]
  },
  {
   "cell_type": "markdown",
   "metadata": {},
   "source": [
    "# Tests: `min_word_count = 31, 21, 11, 6, 2`"
   ]
  },
  {
   "cell_type": "code",
   "execution_count": 3,
   "metadata": {
    "ExecuteTime": {
     "end_time": "2019-02-20T11:59:42.938036Z",
     "start_time": "2019-02-20T10:21:08.891038Z"
    }
   },
   "outputs": [],
   "source": [
    "%%capture\n",
    "table = []\n",
    "line = [['', corpus, dataset, 0, 0, 'none']]\n",
    "kwargs['min_word_count'] = 31\n",
    "a, _, header, log, rules = wide_rows(line, out_dir, cp, rp, runs, **kwargs)\n",
    "#header[0] = 'Cell'\n",
    "table.extend(a)"
   ]
  },
  {
   "cell_type": "code",
   "execution_count": 4,
   "metadata": {
    "ExecuteTime": {
     "end_time": "2019-02-20T11:59:42.950917Z",
     "start_time": "2019-02-20T11:59:42.941814Z"
    }
   },
   "outputs": [
    {
     "data": {
      "text/html": [
       "<table><tr><td>Line</td><td>Corpus</td><td>Parsing</td><td>Space</td><td>Linkage</td><td>Affinity</td><td>G12n</td><td>Threshold</td><td>Rules</td><td>MWC</td><td>NN</td><td>SI</td><td>PA</td><td>PQ</td><td>F1</td><td>Top 5 cluster sizes</td></tr><tr><td></td><td>GCB</td><td>LG-E-clean</td><td>cMLEd</td><td>mean_shift</td><td>---</td><td>none</td><td>---</td><td>4070</td><td>31</td><td>---</td><td>0.0</td><td>49%</td><td>42%</td><td>0.49</td><td>[1, 0]</td></tr></table>"
      ],
      "text/plain": [
       "<IPython.core.display.HTML object>"
      ]
     },
     "metadata": {},
     "output_type": "display_data"
    },
    {
     "name": "stdout",
     "output_type": "stream",
     "text": [
      "Cleaned dictionary: 4070 words, grammar learn time: 01:03:48, grammar test time: 00:34:45\n"
     ]
    }
   ],
   "source": [
    "display(html_table([header] + a)); print(test_stats(log))"
   ]
  },
  {
   "cell_type": "code",
   "execution_count": 5,
   "metadata": {
    "ExecuteTime": {
     "end_time": "2019-02-20T14:37:46.237729Z",
     "start_time": "2019-02-20T11:59:42.953212Z"
    },
    "scrolled": true
   },
   "outputs": [],
   "source": [
    "%%capture\n",
    "kwargs['min_word_count'] = 21\n",
    "a, _, h, log, rules = wide_rows(line, out_dir, cp, rp, runs, **kwargs)\n",
    "table.extend(a)"
   ]
  },
  {
   "cell_type": "code",
   "execution_count": 6,
   "metadata": {
    "ExecuteTime": {
     "end_time": "2019-02-20T14:37:46.243409Z",
     "start_time": "2019-02-20T14:37:46.239760Z"
    }
   },
   "outputs": [
    {
     "data": {
      "text/html": [
       "<table><tr><td>Line</td><td>Corpus</td><td>Parsing</td><td>Space</td><td>Linkage</td><td>Affinity</td><td>G12n</td><td>Threshold</td><td>Rules</td><td>MWC</td><td>NN</td><td>SI</td><td>PA</td><td>PQ</td><td>F1</td><td>Top 5 cluster sizes</td></tr><tr><td></td><td>GCB</td><td>LG-E-clean</td><td>cMLEd</td><td>mean_shift</td><td>---</td><td>none</td><td>---</td><td>5316</td><td>21</td><td>---</td><td>0.0</td><td>50%</td><td>43%</td><td>0.5</td><td>[2, 1, 0]</td></tr></table>"
      ],
      "text/plain": [
       "<IPython.core.display.HTML object>"
      ]
     },
     "metadata": {},
     "output_type": "display_data"
    },
    {
     "name": "stdout",
     "output_type": "stream",
     "text": [
      "Cleaned dictionary: 5317 words, grammar learn time: 02:01:58, grammar test time: 00:36:04\n"
     ]
    }
   ],
   "source": [
    "display(html_table([header] + a)); print(test_stats(log))"
   ]
  },
  {
   "cell_type": "code",
   "execution_count": 7,
   "metadata": {
    "ExecuteTime": {
     "end_time": "2019-02-20T22:26:11.565005Z",
     "start_time": "2019-02-20T17:02:10.881121Z"
    }
   },
   "outputs": [],
   "source": [
    "%%capture\n",
    "kwargs['min_word_count'] = 11\n",
    "a, _, h, log, rules = wide_rows(line, out_dir, cp, rp, runs, **kwargs)\n",
    "table.extend(a)"
   ]
  },
  {
   "cell_type": "code",
   "execution_count": 8,
   "metadata": {
    "ExecuteTime": {
     "end_time": "2019-02-20T22:26:11.573938Z",
     "start_time": "2019-02-20T22:26:11.567824Z"
    }
   },
   "outputs": [
    {
     "data": {
      "text/html": [
       "<table><tr><td>Line</td><td>Corpus</td><td>Parsing</td><td>Space</td><td>Linkage</td><td>Affinity</td><td>G12n</td><td>Threshold</td><td>Rules</td><td>MWC</td><td>NN</td><td>SI</td><td>PA</td><td>PQ</td><td>F1</td><td>Top 5 cluster sizes</td></tr><tr><td></td><td>GCB</td><td>LG-E-clean</td><td>cMLEd</td><td>mean_shift</td><td>---</td><td>none</td><td>---</td><td>7938</td><td>11</td><td>---</td><td>0.0</td><td>51%</td><td>45%</td><td>0.52</td><td>[78, 6, 3, 2, 1]</td></tr></table>"
      ],
      "text/plain": [
       "<IPython.core.display.HTML object>"
      ]
     },
     "metadata": {},
     "output_type": "display_data"
    },
    {
     "name": "stdout",
     "output_type": "stream",
     "text": [
      "Cleaned dictionary: 8035 words, grammar learn time: 04:46:25, grammar test time: 00:37:35\n"
     ]
    }
   ],
   "source": [
    "display(html_table([header] + a)); print(test_stats(log))"
   ]
  },
  {
   "cell_type": "code",
   "execution_count": 11,
   "metadata": {
    "ExecuteTime": {
     "end_time": "2019-02-21T12:19:49.875831Z",
     "start_time": "2019-02-20T22:26:11.733100Z"
    }
   },
   "outputs": [],
   "source": [
    "%%capture\n",
    "kwargs['min_word_count'] = 6\n",
    "a, _, h, log, rules = wide_rows(line, out_dir, cp, rp, runs, **kwargs)\n",
    "table.extend(a)"
   ]
  },
  {
   "cell_type": "code",
   "execution_count": 12,
   "metadata": {
    "ExecuteTime": {
     "end_time": "2019-02-21T12:19:49.881067Z",
     "start_time": "2019-02-21T12:19:49.877454Z"
    }
   },
   "outputs": [
    {
     "data": {
      "text/html": [
       "<table><tr><td>Line</td><td>Corpus</td><td>Parsing</td><td>Space</td><td>Linkage</td><td>Affinity</td><td>G12n</td><td>Threshold</td><td>Rules</td><td>MWC</td><td>NN</td><td>SI</td><td>PA</td><td>PQ</td><td>F1</td><td>Top 5 cluster sizes</td></tr><tr><td></td><td>GCB</td><td>LG-E-clean</td><td>cMLEd</td><td>mean_shift</td><td>---</td><td>none</td><td>---</td><td>10095</td><td>6</td><td>---</td><td>0.0</td><td>51%</td><td>46%</td><td>0.52</td><td>[1426, 6, 5, 4, 3]</td></tr></table>"
      ],
      "text/plain": [
       "<IPython.core.display.HTML object>"
      ]
     },
     "metadata": {},
     "output_type": "display_data"
    },
    {
     "name": "stdout",
     "output_type": "stream",
     "text": [
      "Cleaned dictionary: 11625 words, grammar learn time: 13:14:25, grammar test time: 00:39:12\n"
     ]
    }
   ],
   "source": [
    "display(html_table([header] + a)); print(test_stats(log))"
   ]
  },
  {
   "cell_type": "code",
   "execution_count": 26,
   "metadata": {
    "ExecuteTime": {
     "end_time": "2019-02-26T15:10:55.971227Z",
     "start_time": "2019-02-22T11:45:02.555349Z"
    }
   },
   "outputs": [],
   "source": [
    "%%capture\n",
    "kwargs['min_word_count'] = 2\n",
    "a, _, h, log, rules = wide_rows(line, out_dir, cp, rp, runs, **kwargs)\n",
    "table.extend(a)"
   ]
  },
  {
   "cell_type": "code",
   "execution_count": 27,
   "metadata": {
    "ExecuteTime": {
     "end_time": "2019-02-26T15:10:55.977161Z",
     "start_time": "2019-02-26T15:10:55.973350Z"
    }
   },
   "outputs": [
    {
     "data": {
      "text/html": [
       "<table><tr><td>Line</td><td>Corpus</td><td>Parsing</td><td>Space</td><td>Linkage</td><td>Affinity</td><td>G12n</td><td>Threshold</td><td>Rules</td><td>MWC</td><td>NN</td><td>SI</td><td>PA</td><td>PQ</td><td>F1</td><td>Top 5 cluster sizes</td></tr><tr><td></td><td>GCB</td><td>LG-E-clean</td><td>cMLEd</td><td>mean_shift</td><td>---</td><td>none</td><td>---</td><td>9367</td><td>2</td><td>---</td><td>0.0</td><td>52%</td><td>47%</td><td>0.52</td><td>[12452, 3, 2, 1, 0]</td></tr></table>"
      ],
      "text/plain": [
       "<IPython.core.display.HTML object>"
      ]
     },
     "metadata": {},
     "output_type": "display_data"
    },
    {
     "name": "stdout",
     "output_type": "stream",
     "text": [
      "Cleaned dictionary: 21872 words, grammar learn time: 98:48:41, grammar test time: 00:37:11\n"
     ]
    }
   ],
   "source": [
    "display(html_table([header] + a)); print(test_stats(log))"
   ]
  },
  {
   "cell_type": "markdown",
   "metadata": {},
   "source": [
    "# Save results"
   ]
  },
  {
   "cell_type": "code",
   "execution_count": 28,
   "metadata": {
    "ExecuteTime": {
     "end_time": "2019-02-26T15:10:56.078190Z",
     "start_time": "2019-02-26T15:10:55.978655Z"
    }
   },
   "outputs": [
    {
     "data": {
      "text/html": [
       "<table><tr><td>Line</td><td>Corpus</td><td>Parsing</td><td>Space</td><td>Linkage</td><td>Affinity</td><td>G12n</td><td>Threshold</td><td>Rules</td><td>MWC</td><td>NN</td><td>SI</td><td>PA</td><td>PQ</td><td>F1</td><td>Top 5 cluster sizes</td></tr><tr><td></td><td>GCB</td><td>LG-E-clean</td><td>cMLEd</td><td>mean_shift</td><td>---</td><td>none</td><td>---</td><td>4070</td><td>31</td><td>---</td><td>0.0</td><td>49%</td><td>42%</td><td>0.49</td><td>[1, 0]</td></tr><tr><td></td><td>GCB</td><td>LG-E-clean</td><td>cMLEd</td><td>mean_shift</td><td>---</td><td>none</td><td>---</td><td>5316</td><td>21</td><td>---</td><td>0.0</td><td>50%</td><td>43%</td><td>0.5</td><td>[2, 1, 0]</td></tr><tr><td></td><td>GCB</td><td>LG-E-clean</td><td>cMLEd</td><td>mean_shift</td><td>---</td><td>none</td><td>---</td><td>7938</td><td>11</td><td>---</td><td>0.0</td><td>51%</td><td>45%</td><td>0.52</td><td>[78, 6, 3, 2, 1]</td></tr><tr><td></td><td>GCB</td><td>LG-E-clean</td><td>cMLEd</td><td>mean_shift</td><td>---</td><td>none</td><td>---</td><td>10095</td><td>6</td><td>---</td><td>0.0</td><td>51%</td><td>46%</td><td>0.52</td><td>[1426, 6, 5, 4, 3]</td></tr><tr><td></td><td>GCB</td><td>LG-E-clean</td><td>cMLEd</td><td>mean_shift</td><td>---</td><td>none</td><td>---</td><td>9367</td><td>2</td><td>---</td><td>0.0</td><td>52%</td><td>47%</td><td>0.52</td><td>[12452, 3, 2, 1, 0]</td></tr></table>"
      ],
      "text/plain": [
       "<IPython.core.display.HTML object>"
      ]
     },
     "metadata": {},
     "output_type": "display_data"
    }
   ],
   "source": [
    "display(html_table([header] + table))"
   ]
  },
  {
   "cell_type": "code",
   "execution_count": 29,
   "metadata": {
    "ExecuteTime": {
     "end_time": "2019-02-26T15:10:56.171938Z",
     "start_time": "2019-02-26T15:10:56.080793Z"
    }
   },
   "outputs": [
    {
     "name": "stdout",
     "output_type": "stream",
     "text": [
      "2019-02-26 15:10:56 UTC :: finished, elapsed 108.8 hours\n",
      "Results saved to /home/obaskov/94/language-learning/output/Mean-shift-clustering-GCB-LG-E-clean-2018-02-202019-02-20/all_tests_table.txt\n"
     ]
    }
   ],
   "source": [
    "print(UTC(), ':: finished, elapsed', str(round((time.time()-start)/3600.0, 1)), 'hours')\n",
    "table_str = list2file(table, out_dir + '/all_tests_table.txt')\n",
    "print('Results saved to', out_dir + '/all_tests_table.txt')"
   ]
  },
  {
   "cell_type": "markdown",
   "metadata": {},
   "source": [
    "Results for \"Gutenberg Children Books\" corpus with `min_word_count = 51, 11, 1` are shared as static [Mean-shift-clustering-GCB-LG-E-clean-2019-02-18.html](http://langlearn.singularitynet.io/data/clustering_2019/html/Mean-shift-clustering-GCB-LG-E-clean-2019-02-18.html).  "
   ]
  }
 ],
 "metadata": {
  "anaconda-cloud": {},
  "kernelspec": {
   "display_name": "Python [default]",
   "language": "python",
   "name": "python3"
  },
  "language_info": {
   "codemirror_mode": {
    "name": "ipython",
    "version": 3
   },
   "file_extension": ".py",
   "mimetype": "text/x-python",
   "name": "python",
   "nbconvert_exporter": "python",
   "pygments_lexer": "ipython3",
   "version": "3.6.6"
  },
  "toc": {
   "base_numbering": 1,
   "nav_menu": {},
   "number_sections": true,
   "sideBar": true,
   "skip_h1_title": false,
   "title_cell": "Table of Contents",
   "title_sidebar": "Contents",
   "toc_cell": false,
   "toc_position": {},
   "toc_section_display": true,
   "toc_window_display": false
  }
 },
 "nbformat": 4,
 "nbformat_minor": 2
}
