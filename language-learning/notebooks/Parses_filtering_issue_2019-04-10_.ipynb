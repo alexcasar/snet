{
 "cells": [
  {
   "cell_type": "markdown",
   "metadata": {},
   "source": [
    "# Parses filtering issue `2019-04-10_`\n",
    "\n",
    "**Filtering issue for \"disabiquated\" period `\".@a\"**  \n",
    "Parses do not contain links between words and period (last '.' in a sentence).\n",
    "Links from ##LEFT-WALL### are ignored.  \n",
    "In case of @disambiguated period like `\".@a\"` this token is not parsed.  \n",
    "If all sentences end with a \"disambiguated\" period, the filtered dataset in `kwargs['max_unparsed_words'] = 0` setting contains no parses."
   ]
  },
  {
   "cell_type": "markdown",
   "metadata": {},
   "source": [
    "## Basic imports"
   ]
  },
  {
   "cell_type": "code",
   "execution_count": 1,
   "metadata": {
    "ExecuteTime": {
     "end_time": "2019-04-10T17:54:06.951338Z",
     "start_time": "2019-04-10T17:54:06.219926Z"
    }
   },
   "outputs": [
    {
     "name": "stdout",
     "output_type": "stream",
     "text": [
      "2019-04-10 17:54:06 UTC :: module_path: /home/obaskov/94/ULL\n"
     ]
    }
   ],
   "source": [
    "import os, sys, time  #, pandas as pd\n",
    "module_path = os.path.abspath(os.path.join('..'))\n",
    "if module_path not in sys.path: sys.path.append(module_path)\n",
    "from src.grammar_learner.utl import UTC #, test_stats\n",
    "from src.grammar_learner.read_files import check_dir #, check_corpus\n",
    "from src.grammar_learner.widgets import html_table\n",
    "from src.grammar_learner.pqa_table import wide_rows # params,\n",
    "tmpath = module_path + '/tmp/'\n",
    "check_dir(tmpath, True, 'none')\n",
    "start = time.time()\n",
    "runs = (1,1)\n",
    "print(UTC(), ':: module_path:', module_path)"
   ]
  },
  {
   "cell_type": "markdown",
   "metadata": {},
   "source": [
    "## Test settings"
   ]
  },
  {
   "cell_type": "code",
   "execution_count": 2,
   "metadata": {
    "ExecuteTime": {
     "end_time": "2019-04-10T17:54:06.959468Z",
     "start_time": "2019-04-10T17:54:06.952863Z"
    }
   },
   "outputs": [
    {
     "name": "stdout",
     "output_type": "stream",
     "text": [
      "2019-04-10 17:54:06 UTC \n",
      " /home/obaskov/94/ULL/output/Parses_filtering_issue_2019-04-10_\n"
     ]
    }
   ],
   "source": [
    "corpus = 'POC-English-disAmb'\n",
    "dataset = 'LG-ANY-all-parses-agm-100'\n",
    "kwargs = {\n",
    "    'wsd_symbol'        :   '@'         ,\n",
    "    'max_sentence_length':  24          ,\n",
    "    'max_unparsed_words':   1           ,   # dataset: .@e\n",
    "    'left_wall'         :   ''          ,\n",
    "    'period'            :   False       ,\n",
    "    'context'           :   2           ,\n",
    "    'min_word_count'    :   1           ,\n",
    "    'word_space'        :   'discrete'  ,\n",
    "    'clustering'        :   'group'     ,\n",
    "    'clustering_metric' :  ['silhouette', 'cosine'],\n",
    "    'cluster_range'     :   [0]         ,\n",
    "    'top_level'         :   0.01        ,\n",
    "    'grammar_rules'     :   2           ,\n",
    "    'max_disjuncts'     :   1000000     ,   # off\n",
    "    'stop_words'        :   []          ,\n",
    "    'tmpath'            :   tmpath      ,\n",
    "    'verbose'           :   '+'         ,\n",
    "    'template_path'     :   'poc-turtle',\n",
    "    'linkage_limit'     :   1000        }\n",
    "rp = module_path + '/data/' + corpus + '/poc-english_ex-parses-gold.txt'\n",
    "cp = rp  # corpus path = reference_path\n",
    "runs = (1,1)\n",
    "out_dir = module_path + '/output/' + 'Parses_filtering_issue_' + str(UTC())[:10] + '_'\n",
    "print(UTC(), '\\n', out_dir)"
   ]
  },
  {
   "cell_type": "markdown",
   "metadata": {},
   "source": [
    "## No error with `kwargs['max_unparsed_words'] = 0`"
   ]
  },
  {
   "cell_type": "code",
   "execution_count": 3,
   "metadata": {
    "ExecuteTime": {
     "end_time": "2019-04-10T17:54:07.549395Z",
     "start_time": "2019-04-10T17:54:06.960703Z"
    }
   },
   "outputs": [],
   "source": [
    "%%capture\n",
    "kwargs['max_unparsed_words'] = 1\n",
    "line = [['\"@\"', corpus, dataset, 0, 0, 'none']]\n",
    "a, _, header, log, rules = wide_rows(line, out_dir, cp, rp, runs, **kwargs)\n",
    "header[0] = 'WSD'"
   ]
  },
  {
   "cell_type": "code",
   "execution_count": 4,
   "metadata": {
    "ExecuteTime": {
     "end_time": "2019-04-10T17:54:07.563225Z",
     "start_time": "2019-04-10T17:54:07.553661Z"
    }
   },
   "outputs": [
    {
     "data": {
      "text/html": [
       "<table><tr><td>WSD</td><td>Corpus</td><td>Parsing</td><td>Space</td><td>Linkage</td><td>Affinity</td><td>G12n</td><td>Threshold</td><td>Rules</td><td>MWC</td><td>NN</td><td>SI</td><td>PA</td><td>PQ</td><td>F1</td></tr><tr><td>\"@\"</td><td>POC-English-disAmb</td><td>LG-ANY-all-parses-agm-100</td><td>dILEd</td><td>ward</td><td>euclidean</td><td>none</td><td>---</td><td>61</td><td>1</td><td>---</td><td>0.0</td><td>100%</td><td>72%</td><td>0.72</td><td>[2, 1, 0]</td></tr></table>"
      ],
      "text/plain": [
       "<IPython.core.display.HTML object>"
      ]
     },
     "metadata": {},
     "output_type": "display_data"
    }
   ],
   "source": [
    "display(html_table([header] + a))"
   ]
  },
  {
   "cell_type": "markdown",
   "metadata": {},
   "source": [
    "## Error with `kwargs['max_unparsed_words'] = 0`**: no crash"
   ]
  },
  {
   "cell_type": "code",
   "execution_count": 5,
   "metadata": {
    "ExecuteTime": {
     "end_time": "2019-04-10T17:54:07.651233Z",
     "start_time": "2019-04-10T17:54:07.566619Z"
    }
   },
   "outputs": [],
   "source": [
    "%%capture\n",
    "kwargs['max_unparsed_words'] = 0\n",
    "line = [['', corpus, dataset, 0, 0, 'none']]\n",
    "a, _, _, log, rules = wide_rows(line, out_dir, cp, rp, runs, **kwargs)"
   ]
  },
  {
   "cell_type": "code",
   "execution_count": 6,
   "metadata": {
    "ExecuteTime": {
     "end_time": "2019-04-10T17:54:07.743259Z",
     "start_time": "2019-04-10T17:54:07.654340Z"
    }
   },
   "outputs": [
    {
     "data": {
      "text/html": [
       "<table><tr><td>WSD</td><td>Corpus</td><td>Parsing</td><td>Space</td><td>Linkage</td><td>Affinity</td><td>G12n</td><td>Threshold</td><td>Rules</td><td>MWC</td><td>NN</td><td>SI</td><td>PA</td><td>PQ</td><td>F1</td></tr><tr><td>Error:</td><td>empty</td><td>filtered</td><td>parses</td><td>dataset</td><td>⇒</td><td>check</td><td>max_unparsed_words</td><td>in</td><td>kwargs</td></tr></table>"
      ],
      "text/plain": [
       "<IPython.core.display.HTML object>"
      ]
     },
     "metadata": {},
     "output_type": "display_data"
    }
   ],
   "source": [
    "display(html_table([header] + a))"
   ]
  },
  {
   "cell_type": "code",
   "execution_count": null,
   "metadata": {},
   "outputs": [],
   "source": []
  }
 ],
 "metadata": {
  "anaconda-cloud": {},
  "kernelspec": {
   "display_name": "Python [default]",
   "language": "python",
   "name": "python3"
  },
  "language_info": {
   "codemirror_mode": {
    "name": "ipython",
    "version": 3
   },
   "file_extension": ".py",
   "mimetype": "text/x-python",
   "name": "python",
   "nbconvert_exporter": "python",
   "pygments_lexer": "ipython3",
   "version": "3.6.6"
  },
  "toc": {
   "base_numbering": 1,
   "nav_menu": {},
   "number_sections": true,
   "sideBar": true,
   "skip_h1_title": false,
   "title_cell": "Table of Contents",
   "title_sidebar": "Contents",
   "toc_cell": false,
   "toc_position": {},
   "toc_section_display": true,
   "toc_window_display": false
  }
 },
 "nbformat": 4,
 "nbformat_minor": 2
}
