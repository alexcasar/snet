{
 "cells": [
  {
   "cell_type": "markdown",
   "metadata": {},
   "source": [
    "# Gutenberg Children Books `2019-01-03`\n",
    "\n",
    "**ULLPP Line 54: LG-E-clean corpus, trash filter off, `min_word_count = 2`;  2000/1000/500/50/20 clusters**  \n",
    "\n",
    "Link Grammar 5.5.1, `test_grammar` updated 2018-10-19.  \n",
    "This notebook is shared as static [Gutenberg-Children-Books-2019-01-03.html](http://langlearn.singularitynet.io/data/clustering_2019/html/Gutenberg-Children-Books-2019-01-03.html).  \n",
    "Output data shared via [Gutenberg-Children-Books-2019-01-03](http://langlearn.singularitynet.io/data/clustering_2019/Gutenberg-Children-Books-2019-01-03) directory.  "
   ]
  },
  {
   "cell_type": "markdown",
   "metadata": {},
   "source": [
    "## Basic settings"
   ]
  },
  {
   "cell_type": "code",
   "execution_count": 1,
   "metadata": {
    "ExecuteTime": {
     "end_time": "2019-01-03T08:42:47.315907Z",
     "start_time": "2019-01-03T08:42:46.422683Z"
    }
   },
   "outputs": [
    {
     "name": "stdout",
     "output_type": "stream",
     "text": [
      "2019-01-03 08:42:47 UTC :: module_path: /home/obaskov/94/language-learning\n"
     ]
    }
   ],
   "source": [
    "import os, sys, time\n",
    "module_path = os.path.abspath(os.path.join('..'))\n",
    "if module_path not in sys.path: sys.path.append(module_path)\n",
    "from src.grammar_learner.utl import UTC, test_stats\n",
    "from src.grammar_learner.read_files import check_dir, check_corpus\n",
    "from src.grammar_learner.write_files import list2file\n",
    "from src.grammar_learner.widgets import html_table\n",
    "from src.grammar_learner.pqa_table import table_rows, params, wide_rows\n",
    "tmpath = module_path + '/tmp/'\n",
    "check_dir(tmpath, True, 'none')\n",
    "start = time.time()\n",
    "runs = (1,1)\n",
    "print(UTC(), ':: module_path:', module_path)"
   ]
  },
  {
   "cell_type": "markdown",
   "metadata": {},
   "source": [
    "## Corpus test settings"
   ]
  },
  {
   "cell_type": "code",
   "execution_count": 2,
   "metadata": {
    "ExecuteTime": {
     "end_time": "2019-01-03T08:42:49.027519Z",
     "start_time": "2019-01-03T08:42:47.317173Z"
    }
   },
   "outputs": [
    {
     "name": "stdout",
     "output_type": "stream",
     "text": [
      "2019-01-03 08:42:49 UTC \n",
      " /home/obaskov/94/language-learning/output/Gutenberg-Children-LG-E-clean-trash-2019-01-03\n"
     ]
    }
   ],
   "source": [
    "corpus = 'GCB' # 'Gutenberg-Children-Books-Caps' \n",
    "dataset = 'LG-E-clean'\n",
    "kwargs = {\n",
    "    'left_wall'     :   ''          ,\n",
    "    'period'        :   False       ,\n",
    "    'context'       :   1           ,\n",
    "    'min_word_count':   2           ,\n",
    "    'word_space'    :   'sparse'    ,\n",
    "    'clustering'    :   ['agglomerative', 'ward'],\n",
    "    'clustering_metric' : ['silhouette', 'cosine'],\n",
    "    'cluster_range' :   2000        ,   # 2000/1000/500/50/20\n",
    "    'top_level'     :   0.01        ,\n",
    "    'grammar_rules' :   2           ,\n",
    "    'max_disjuncts' :   1000000     ,   # off\n",
    "    'stop_words'    :   []          ,\n",
    "    'tmpath'        :   tmpath      ,\n",
    "    'verbose'       :   'log+'      ,\n",
    "    'template_path' :   'poc-turtle',\n",
    "    'linkage_limit' :   1000        }\n",
    "# 2018-12-26 'stop_words' = [] :: allow any token\n",
    "rp = module_path + '/data/' + corpus + '/LG-E-clean/GCB-LG-English-clean.ull'\n",
    "cp = rp  # corpus path = reference_path\n",
    "runs = (1,1)\n",
    "out_dir = module_path + '/output/' + 'Gutenberg-Children-LG-E-clean-trash-' + str(UTC())[:10]\n",
    "if check_corpus(rp, 'min'): print(UTC(), '\\n', out_dir)"
   ]
  },
  {
   "cell_type": "markdown",
   "metadata": {},
   "source": [
    "# Tests: `min_word_count = 2`;  2000/1000/500/50/20 clusters"
   ]
  },
  {
   "cell_type": "code",
   "execution_count": 3,
   "metadata": {
    "ExecuteTime": {
     "end_time": "2019-01-03T11:51:56.291601Z",
     "start_time": "2019-01-03T08:42:49.028821Z"
    }
   },
   "outputs": [],
   "source": [
    "%%capture\n",
    "table = []\n",
    "kwargs['cluster_range'] = 2000\n",
    "line = [['ALE2000', corpus, dataset, 0, 0, 'none']]\n",
    "a, _, header, log, rules = wide_rows(line, out_dir, cp, rp, runs, **kwargs)\n",
    "header[0] = 'Cell'\n",
    "table.extend(a)"
   ]
  },
  {
   "cell_type": "code",
   "execution_count": 4,
   "metadata": {
    "ExecuteTime": {
     "end_time": "2019-01-03T11:51:56.303994Z",
     "start_time": "2019-01-03T11:51:56.295248Z"
    }
   },
   "outputs": [
    {
     "data": {
      "text/html": [
       "<table><tr><td>Cell</td><td>Corpus</td><td>Parsing</td><td>Space</td><td>Linkage</td><td>Affinity</td><td>G12n</td><td>Threshold</td><td>Rules</td><td>MWC</td><td>NN</td><td>SI</td><td>PA</td><td>PQ</td><td>F1</td><td>Top 5 cluster sizes</td></tr><tr><td>ALE2000</td><td>GCB</td><td>LG-E-clean</td><td>cALWEd</td><td>ward</td><td>euclidean</td><td>none</td><td>---</td><td>2000</td><td>2</td><td>---</td><td>0.0</td><td>52%</td><td>47%</td><td>0.53</td><td>[2117, 467, 450, 409, 342]</td></tr></table>"
      ],
      "text/plain": [
       "<IPython.core.display.HTML object>"
      ]
     },
     "metadata": {},
     "output_type": "display_data"
    },
    {
     "name": "stdout",
     "output_type": "stream",
     "text": [
      "Cleaned dictionary: 21872 words, grammar learn time: 02:32:36, test time: 00:36:30 (hh:mm:ss)\n"
     ]
    }
   ],
   "source": [
    "display(html_table([header] + a)); print(test_stats(log))"
   ]
  },
  {
   "cell_type": "code",
   "execution_count": 5,
   "metadata": {
    "ExecuteTime": {
     "end_time": "2019-01-03T14:34:21.394451Z",
     "start_time": "2019-01-03T11:51:56.306841Z"
    }
   },
   "outputs": [],
   "source": [
    "%%capture\n",
    "kwargs['cluster_range'] = 1000\n",
    "line = [['ALE1000', corpus, dataset, 0, 0, 'none']]\n",
    "a, _, h, log, rules = wide_rows(line, out_dir, cp, rp, runs, **kwargs)\n",
    "table.extend(a)"
   ]
  },
  {
   "cell_type": "code",
   "execution_count": 6,
   "metadata": {
    "ExecuteTime": {
     "end_time": "2019-01-03T14:34:21.402625Z",
     "start_time": "2019-01-03T14:34:21.397180Z"
    }
   },
   "outputs": [
    {
     "data": {
      "text/html": [
       "<table><tr><td>Cell</td><td>Corpus</td><td>Parsing</td><td>Space</td><td>Linkage</td><td>Affinity</td><td>G12n</td><td>Threshold</td><td>Rules</td><td>MWC</td><td>NN</td><td>SI</td><td>PA</td><td>PQ</td><td>F1</td><td>Top 5 cluster sizes</td></tr><tr><td>ALE1000</td><td>GCB</td><td>LG-E-clean</td><td>cALWEd</td><td>ward</td><td>euclidean</td><td>none</td><td>---</td><td>1000</td><td>2</td><td>---</td><td>0.0</td><td>53%</td><td>48%</td><td>0.54</td><td>[3299, 665, 495, 432, 409]</td></tr></table>"
      ],
      "text/plain": [
       "<IPython.core.display.HTML object>"
      ]
     },
     "metadata": {},
     "output_type": "display_data"
    },
    {
     "name": "stdout",
     "output_type": "stream",
     "text": [
      "Cleaned dictionary: 21872 words, grammar learn time: 02:06:25, test time: 00:35:59 (hh:mm:ss)\n"
     ]
    }
   ],
   "source": [
    "display(html_table([header] + a)); print(test_stats(log))"
   ]
  },
  {
   "cell_type": "code",
   "execution_count": 7,
   "metadata": {
    "ExecuteTime": {
     "end_time": "2019-01-03T17:11:21.963443Z",
     "start_time": "2019-01-03T14:34:21.404943Z"
    }
   },
   "outputs": [],
   "source": [
    "%%capture\n",
    "kwargs['cluster_range'] = 500\n",
    "line = [['ALE500', corpus, dataset, 0, 0, 'none']]\n",
    "a, _, header, log, rules = wide_rows(line, out_dir, cp, rp, runs, **kwargs)\n",
    "header[0] = 'Cell'\n",
    "table.extend(a)"
   ]
  },
  {
   "cell_type": "code",
   "execution_count": 8,
   "metadata": {
    "ExecuteTime": {
     "end_time": "2019-01-03T17:11:21.972751Z",
     "start_time": "2019-01-03T17:11:21.966749Z"
    }
   },
   "outputs": [
    {
     "data": {
      "text/html": [
       "<table><tr><td>Cell</td><td>Corpus</td><td>Parsing</td><td>Space</td><td>Linkage</td><td>Affinity</td><td>G12n</td><td>Threshold</td><td>Rules</td><td>MWC</td><td>NN</td><td>SI</td><td>PA</td><td>PQ</td><td>F1</td><td>Top 5 cluster sizes</td></tr><tr><td>ALE500</td><td>GCB</td><td>LG-E-clean</td><td>cALWEd</td><td>ward</td><td>euclidean</td><td>none</td><td>---</td><td>500</td><td>2</td><td>---</td><td>0.0</td><td>56%</td><td>50%</td><td>0.55</td><td>[3299, 1573, 1339, 706, 643]</td></tr></table>"
      ],
      "text/plain": [
       "<IPython.core.display.HTML object>"
      ]
     },
     "metadata": {},
     "output_type": "display_data"
    },
    {
     "name": "stdout",
     "output_type": "stream",
     "text": [
      "Cleaned dictionary: 21872 words, grammar learn time: 01:59:30, test time: 00:37:29 (hh:mm:ss)\n"
     ]
    }
   ],
   "source": [
    "display(html_table([header] + a)); print(test_stats(log))"
   ]
  },
  {
   "cell_type": "code",
   "execution_count": 11,
   "metadata": {
    "ExecuteTime": {
     "end_time": "2019-01-03T21:51:36.977119Z",
     "start_time": "2019-01-03T17:11:22.220755Z"
    }
   },
   "outputs": [],
   "source": [
    "%%capture\n",
    "kwargs['cluster_range'] = 50\n",
    "line = [['ALE50', corpus, dataset, 0, 0, 'none']]\n",
    "a, _, h, log, rules = wide_rows(line, out_dir, cp, rp, runs, **kwargs)\n",
    "table.extend(a)"
   ]
  },
  {
   "cell_type": "code",
   "execution_count": 12,
   "metadata": {
    "ExecuteTime": {
     "end_time": "2019-01-03T21:51:36.984440Z",
     "start_time": "2019-01-03T21:51:36.979598Z"
    }
   },
   "outputs": [
    {
     "data": {
      "text/html": [
       "<table><tr><td>Cell</td><td>Corpus</td><td>Parsing</td><td>Space</td><td>Linkage</td><td>Affinity</td><td>G12n</td><td>Threshold</td><td>Rules</td><td>MWC</td><td>NN</td><td>SI</td><td>PA</td><td>PQ</td><td>F1</td><td>Top 5 cluster sizes</td></tr><tr><td>ALE50</td><td>GCB</td><td>LG-E-clean</td><td>cALWEd</td><td>ward</td><td>euclidean</td><td>none</td><td>---</td><td>50</td><td>2</td><td>---</td><td>0.0</td><td>90%</td><td>60%</td><td>0.60</td><td>[17223, 1480, 830, 705, 546]</td></tr></table>"
      ],
      "text/plain": [
       "<IPython.core.display.HTML object>"
      ]
     },
     "metadata": {},
     "output_type": "display_data"
    },
    {
     "name": "stdout",
     "output_type": "stream",
     "text": [
      "Cleaned dictionary: 21872 words, grammar learn time: 01:53:54, test time: 02:46:19 (hh:mm:ss)\n"
     ]
    }
   ],
   "source": [
    "display(html_table([header] + a)); print(test_stats(log))"
   ]
  },
  {
   "cell_type": "markdown",
   "metadata": {},
   "source": [
    "# Save results"
   ]
  },
  {
   "cell_type": "code",
   "execution_count": 13,
   "metadata": {
    "ExecuteTime": {
     "end_time": "2019-01-03T21:51:37.075639Z",
     "start_time": "2019-01-03T21:51:36.986470Z"
    }
   },
   "outputs": [
    {
     "data": {
      "text/html": [
       "<table><tr><td>Cell</td><td>Corpus</td><td>Parsing</td><td>Space</td><td>Linkage</td><td>Affinity</td><td>G12n</td><td>Threshold</td><td>Rules</td><td>MWC</td><td>NN</td><td>SI</td><td>PA</td><td>PQ</td><td>F1</td><td>Top 5 cluster sizes</td></tr><tr><td>ALE2000</td><td>GCB</td><td>LG-E-clean</td><td>cALWEd</td><td>ward</td><td>euclidean</td><td>none</td><td>---</td><td>2000</td><td>2</td><td>---</td><td>0.0</td><td>52%</td><td>47%</td><td>0.53</td><td>[2117, 467, 450, 409, 342]</td></tr><tr><td>ALE1000</td><td>GCB</td><td>LG-E-clean</td><td>cALWEd</td><td>ward</td><td>euclidean</td><td>none</td><td>---</td><td>1000</td><td>2</td><td>---</td><td>0.0</td><td>53%</td><td>48%</td><td>0.54</td><td>[3299, 665, 495, 432, 409]</td></tr><tr><td>ALE500</td><td>GCB</td><td>LG-E-clean</td><td>cALWEd</td><td>ward</td><td>euclidean</td><td>none</td><td>---</td><td>500</td><td>2</td><td>---</td><td>0.0</td><td>56%</td><td>50%</td><td>0.55</td><td>[3299, 1573, 1339, 706, 643]</td></tr><tr><td>ALE50</td><td>GCB</td><td>LG-E-clean</td><td>cALWEd</td><td>ward</td><td>euclidean</td><td>none</td><td>---</td><td>50</td><td>2</td><td>---</td><td>0.0</td><td>90%</td><td>60%</td><td>0.60</td><td>[17223, 1480, 830, 705, 546]</td></tr></table>"
      ],
      "text/plain": [
       "<IPython.core.display.HTML object>"
      ]
     },
     "metadata": {},
     "output_type": "display_data"
    }
   ],
   "source": [
    "display(html_table([header] + table))"
   ]
  },
  {
   "cell_type": "code",
   "execution_count": 14,
   "metadata": {
    "ExecuteTime": {
     "end_time": "2019-01-03T21:51:37.172384Z",
     "start_time": "2019-01-03T21:51:37.079997Z"
    }
   },
   "outputs": [
    {
     "name": "stdout",
     "output_type": "stream",
     "text": [
      "2019-01-03 21:51:37 UTC :: 2000/1000/500/50 finished, elapsed 13.1 hours\n",
      "Results saved to /home/obaskov/94/language-learning/output/Gutenberg-Children-LG-E-clean-trash-2019-01-03/all_tests_table.txt\n"
     ]
    }
   ],
   "source": [
    "print(UTC(), ':: 2000/1000/500/50 finished, elapsed', str(round((time.time()-start)/3600.0, 1)), 'hours')\n",
    "table_str = list2file(table, out_dir + '/all_tests_table.txt')\n",
    "print('Results saved to', out_dir + '/all_tests_table.txt')"
   ]
  },
  {
   "cell_type": "code",
   "execution_count": null,
   "metadata": {
    "ExecuteTime": {
     "start_time": "2019-01-03T08:42:46.420Z"
    }
   },
   "outputs": [],
   "source": [
    "%%capture\n",
    "kwargs['cluster_range'] = 20\n",
    "line = [['ALE20', corpus, dataset, 0, 0, 'none']]\n",
    "a, _, h, log, rules = wide_rows(line, out_dir, cp, rp, runs, **kwargs)\n",
    "table.extend(a)"
   ]
  },
  {
   "cell_type": "markdown",
   "metadata": {
    "ExecuteTime": {
     "start_time": "2019-01-03T08:42:46.423Z"
    }
   },
   "source": [
    "*Grammar test may take 50+ hours for the 20-rule grammar. Results will be updated in the [data folder](http://langlearn.singularitynet.io/data/clustering_2019/Gutenberg-Children-Books-2019-01-03/GCB_LG-E-clean_cALWEd_no-gen_20c_mwc=2/) upon completion.*"
   ]
  },
  {
   "cell_type": "code",
   "execution_count": null,
   "metadata": {
    "ExecuteTime": {
     "start_time": "2019-01-03T08:42:46.426Z"
    }
   },
   "outputs": [],
   "source": [
    "display(html_table([header] + table))"
   ]
  }
 ],
 "metadata": {
  "anaconda-cloud": {},
  "kernelspec": {
   "display_name": "Python [default]",
   "language": "python",
   "name": "python3"
  },
  "language_info": {
   "codemirror_mode": {
    "name": "ipython",
    "version": 3
   },
   "file_extension": ".py",
   "mimetype": "text/x-python",
   "name": "python",
   "nbconvert_exporter": "python",
   "pygments_lexer": "ipython3",
   "version": "3.6.6"
  },
  "toc": {
   "base_numbering": 1,
   "nav_menu": {},
   "number_sections": true,
   "sideBar": true,
   "skip_h1_title": false,
   "title_cell": "Table of Contents",
   "title_sidebar": "Contents",
   "toc_cell": false,
   "toc_position": {},
   "toc_section_display": true,
   "toc_window_display": false
  }
 },
 "nbformat": 4,
 "nbformat_minor": 2
}
