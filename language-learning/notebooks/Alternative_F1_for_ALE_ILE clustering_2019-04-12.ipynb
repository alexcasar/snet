{
 "cells": [
  {
   "cell_type": "markdown",
   "metadata": {
    "toc": true
   },
   "source": [
    "<h1>Table of Contents<span class=\"tocSkip\"></span></h1>\n",
    "<div class=\"toc\"><ul class=\"toc-item\"><li><span><a href=\"#Basic-settings\" data-toc-modified-id=\"Basic-settings-1\"><span class=\"toc-item-num\">1&nbsp;&nbsp;</span>Basic settings</a></span></li><li><span><a href=\"#Reference-dataset\" data-toc-modified-id=\"Reference-dataset-2\"><span class=\"toc-item-num\">2&nbsp;&nbsp;</span>Reference dataset</a></span></li><li><span><a href=\"#ILE-clustering\" data-toc-modified-id=\"ILE-clustering-3\"><span class=\"toc-item-num\">3&nbsp;&nbsp;</span>ILE clustering</a></span><ul class=\"toc-item\"><li><span><a href=\"#Min_word_count-=-1----cell-U52\" data-toc-modified-id=\"Min_word_count-=-1----cell-U52-3.1\"><span class=\"toc-item-num\">3.1&nbsp;&nbsp;</span><code>Min_word_count = 1</code> -- <a href=\"https://docs.google.com/spreadsheets/d/1TPbtGrqZ7saUHhOIi5yYmQ9c-cvVlAGqY14ATMPVCq4/edit#gid=963717716&amp;range=U52\" target=\"_blank\">cell U52</a></a></span></li><li><span><a href=\"#Grammar-Tester-results-2019-04-02\" data-toc-modified-id=\"Grammar-Tester-results-2019-04-02-3.2\"><span class=\"toc-item-num\">3.2&nbsp;&nbsp;</span>Grammar Tester results <a href=\"http://langlearn.singularitynet.io/data/clustering_2019/ILE-GCB-LG-E-noQuotes-LG_551-S94-2019-04-02/GCB_LG-E-noQuotes_dILEd_no-gen/GC_LGEnglish_noQuotes_fullyParsed.ull.stat\" target=\"_blank\">2019-04-02</a></a></span></li><li><span><a href=\"#ILE-clustering,-min_word_count-=-[31,21,11,6,1]----lines-57-52,-column-U\" data-toc-modified-id=\"ILE-clustering,-min_word_count-=-[31,21,11,6,1]----lines-57-52,-column-U-3.3\"><span class=\"toc-item-num\">3.3&nbsp;&nbsp;</span>ILE clustering, <code>min_word_count = [31,21,11,6,1]</code> -- <a href=\"https://docs.google.com/spreadsheets/d/1TPbtGrqZ7saUHhOIi5yYmQ9c-cvVlAGqY14ATMPVCq4/edit#gid=963717716&amp;range=U47:U52\" target=\"_blank\">lines 57-52, column U</a></a></span></li></ul></li><li><span><a href=\"#ALE-clustering----lines-57-52,-colums-Q:T\" data-toc-modified-id=\"ALE-clustering----lines-57-52,-colums-Q:T-4\"><span class=\"toc-item-num\">4&nbsp;&nbsp;</span>ALE clustering -- <a href=\"https://docs.google.com/spreadsheets/d/1TPbtGrqZ7saUHhOIi5yYmQ9c-cvVlAGqY14ATMPVCq4/edit#gid=963717716&amp;range=Q47:T52\" target=\"_blank\">lines 57-52, colums Q:T</a></a></span></li><li><span><a href=\"#Save-results\" data-toc-modified-id=\"Save-results-5\"><span class=\"toc-item-num\">5&nbsp;&nbsp;</span>Save results</a></span></li></ul></div>"
   ]
  },
  {
   "cell_type": "markdown",
   "metadata": {},
   "source": [
    "# Alternative F1 estimations for ALE and ILE clustering\n",
    "[ULL Project Plan ⇒ Parses ⇒ lines 47-52](https://docs.google.com/spreadsheets/d/1TPbtGrqZ7saUHhOIi5yYmQ9c-cvVlAGqY14ATMPVCq4/edit#gid=963717716&range=Q47:U52)  "
   ]
  },
  {
   "cell_type": "markdown",
   "metadata": {},
   "source": [
    "## Basic settings"
   ]
  },
  {
   "cell_type": "code",
   "execution_count": 1,
   "metadata": {
    "ExecuteTime": {
     "end_time": "2019-04-12T16:49:16.928218Z",
     "start_time": "2019-04-12T16:49:16.141162Z"
    }
   },
   "outputs": [
    {
     "name": "stdout",
     "output_type": "stream",
     "text": [
      "/home/obaskov/94/ULL/output/Alternative_F1_ALE_ILE_2019-04-12\n"
     ]
    }
   ],
   "source": [
    "import os, sys, time, itertools, operator, numpy as np\n",
    "from collections import Counter, OrderedDict\n",
    "mod_pth = os.path.abspath(os.path.join('..'))\n",
    "if mod_pth not in sys.path: sys.path.append(mod_pth)\n",
    "from src.grammar_learner.utl import UTC, kwa\n",
    "from src.grammar_learner.read_files import check_dir, check_mst_files\n",
    "from src.grammar_learner.widgets import html_table\n",
    "from src.grammar_learner.write_files import list2file\n",
    "from src.grammar_learner.grammar_checker import _compare_lg_dicts_\n",
    "out_dir = mod_pth + '/output/Alternative_F1_ALE_ILE_' + str(UTC())[:10]\n",
    "if check_dir(out_dir, True): print(out_dir)"
   ]
  },
  {
   "cell_type": "markdown",
   "metadata": {},
   "source": [
    "## Reference dataset"
   ]
  },
  {
   "cell_type": "code",
   "execution_count": 2,
   "metadata": {
    "ExecuteTime": {
     "end_time": "2019-04-12T16:23:23.671660Z",
     "start_time": "2019-04-12T16:23:23.666970Z"
    }
   },
   "outputs": [
    {
     "data": {
      "text/plain": [
       "['/home/obaskov/94/ULL/data/GCB/LG-E-noQuotes/GC_LGEnglish_noQuotes_fullyParsed.ull']"
      ]
     },
     "execution_count": 2,
     "metadata": {},
     "output_type": "execute_result"
    }
   ],
   "source": [
    "corpus = 'GCB'; dataset = 'LG-E-noQuotes'\n",
    "kwargs = {'mod_pth': mod_pth, \n",
    "          'reference_path': mod_pth + '/data/' + corpus + '/' + dataset}\n",
    "files, re = check_mst_files(kwargs['reference_path']); files"
   ]
  },
  {
   "cell_type": "markdown",
   "metadata": {},
   "source": [
    "## ILE clustering"
   ]
  },
  {
   "cell_type": "markdown",
   "metadata": {},
   "source": [
    "### `Min_word_count = 1` -- [cell U52](https://docs.google.com/spreadsheets/d/1TPbtGrqZ7saUHhOIi5yYmQ9c-cvVlAGqY14ATMPVCq4/edit#gid=963717716&range=U52) "
   ]
  },
  {
   "cell_type": "code",
   "execution_count": 3,
   "metadata": {
    "ExecuteTime": {
     "end_time": "2019-04-12T16:23:27.211644Z",
     "start_time": "2019-04-12T16:23:23.672972Z"
    }
   },
   "outputs": [
    {
     "name": "stdout",
     "output_type": "stream",
     "text": [
      "Recall:\t\t 56.14% \n",
      "Precision:\t 97.76% \n",
      "F1:\t\t  0.71 \n",
      "Reference:\t 68826 sentences \n",
      "Test set:\t 68826 sentences\n"
     ]
    }
   ],
   "source": [
    "mwc = 1\n",
    "test_path = 'ILE-GCB-LG-E-noQuotes-LG-551-S94-2019-04-02'\n",
    "test = '/GCB_LG-E-noQuotes_dILEd_no-gen'\n",
    "kwargs['test_path'] = mod_pth + '/output/' + test_path + test\n",
    "if mwc > 1: kwargs['test_path'] += '_mwc=' + str(mwc)\n",
    "kwargs['test_path'] += '/GC_LGEnglish_noQuotes_fullyParsed.ull.ull'\n",
    "precision, recall, f1, re = _compare_lg_dicts_(**kwargs)\n",
    "print('Recall:\\t\\t', str(round(recall*100, 2)) + '%',\n",
    "      '\\nPrecision:\\t', str(round(precision*100, 2)) + '%',\n",
    "      '\\nF1:\\t\\t ', round(f1,2),\n",
    "      '\\nReference:\\t', re['reference_sentences'], 'sentences',\n",
    "      '\\nTest set:\\t', re['test_ull_sentences'], 'sentences')"
   ]
  },
  {
   "cell_type": "markdown",
   "metadata": {
    "ExecuteTime": {
     "end_time": "2019-04-12T15:04:53.978797Z",
     "start_time": "2019-04-12T15:04:50.673652Z"
    }
   },
   "source": [
    "### Grammar Tester results [2019-04-02](http://langlearn.singularitynet.io/data/clustering_2019/ILE-GCB-LG-E-noQuotes-LG_551-S94-2019-04-02/GCB_LG-E-noQuotes_dILEd_no-gen/GC_LGEnglish_noQuotes_fullyParsed.ull.stat)"
   ]
  },
  {
   "cell_type": "code",
   "execution_count": 4,
   "metadata": {
    "ExecuteTime": {
     "end_time": "2019-04-12T16:23:27.216290Z",
     "start_time": "2019-04-12T16:23:27.213001Z"
    }
   },
   "outputs": [
    {
     "name": "stdout",
     "output_type": "stream",
     "text": [
      "Average sentence parse:\t\t\t 61.69%\n",
      "Parse quality:\t 59.61%\n",
      "Recall:\t\t 59.61%\n",
      "Precision:\t 72.32%\n",
      "F1:\t\t  0.65\n",
      "Total sentences: 68826.00\n"
     ]
    }
   ],
   "source": [
    "with open(kwargs['test_path'][:-3] + 'stat', 'r') as f: stat = f.read()  #; print(stat)\n",
    "for i in [2,7,14,15,16,18]: print(stat.splitlines()[i])"
   ]
  },
  {
   "cell_type": "code",
   "execution_count": 5,
   "metadata": {
    "ExecuteTime": {
     "end_time": "2019-04-12T16:23:27.327399Z",
     "start_time": "2019-04-12T16:23:27.217390Z"
    }
   },
   "outputs": [
    {
     "name": "stdout",
     "output_type": "stream",
     "text": [
      "Alternative precision estimation ~ 96.63%, F1 ~ 0.74\n"
     ]
    }
   ],
   "source": [
    "# Check Grammar Tester results: precision ~ recall / PA: (approximation)\n",
    "pa = 0.6169\n",
    "recall = 0.5961\n",
    "alt_precision = recall / pa\n",
    "alt_f1 = 2 * alt_precision * recall / (alt_precision + recall);\n",
    "print('Alternative precision estimation ~', str(round(alt_precision*100, 2)) \n",
    "      + '%, F1 ~', round(alt_f1, 2))"
   ]
  },
  {
   "cell_type": "markdown",
   "metadata": {},
   "source": [
    "### ILE clustering, `min_word_count = [31,21,11,6,1]` -- [lines 57-52, column U](https://docs.google.com/spreadsheets/d/1TPbtGrqZ7saUHhOIi5yYmQ9c-cvVlAGqY14ATMPVCq4/edit#gid=963717716&range=U47:U52)"
   ]
  },
  {
   "cell_type": "code",
   "execution_count": 15,
   "metadata": {
    "ExecuteTime": {
     "end_time": "2019-04-12T16:27:08.544763Z",
     "start_time": "2019-04-12T16:26:53.088567Z"
    }
   },
   "outputs": [
    {
     "data": {
      "text/html": [
       "<table><tr><td>Clustering</td><td>MWC</td><td>F1</td></tr><tr><td>ILE</td><td>31</td><td>0.59</td></tr><tr><td>ILE</td><td>21</td><td>0.62</td></tr><tr><td>ILE</td><td>11</td><td>0.66</td></tr><tr><td>ILE</td><td>6</td><td>0.69</td></tr><tr><td>ILE</td><td>2</td><td>err</td></tr><tr><td>ILE</td><td>1</td><td>0.71</td></tr></table>"
      ],
      "text/plain": [
       "<IPython.core.display.HTML object>"
      ]
     },
     "metadata": {},
     "output_type": "display_data"
    }
   ],
   "source": [
    "ile = []\n",
    "for mwc in [31,21,11,6,1]:\n",
    "    kwargs['test_path'] = mod_pth + '/output/' + test_path + test\n",
    "    if mwc > 1: kwargs['test_path'] += '_mwc=' + str(mwc)\n",
    "    kwargs['test_path'] += '/GC_LGEnglish_noQuotes_fullyParsed.ull.ull'\n",
    "    precision, recall, f1, r_ = _compare_lg_dicts_(**kwargs)\n",
    "    if 'error' in r_: print(r_)\n",
    "    if mwc == 1: ile.append(('ILE', 2, 'err'))\n",
    "    ile.append(('ILE', mwc, round(f1,2))) \n",
    "display(html_table([['Clustering', 'MWC', 'F1']] + ile))"
   ]
  },
  {
   "cell_type": "markdown",
   "metadata": {},
   "source": [
    "## ALE clustering -- [lines 57-52, colums Q:T](https://docs.google.com/spreadsheets/d/1TPbtGrqZ7saUHhOIi5yYmQ9c-cvVlAGqY14ATMPVCq4/edit#gid=963717716&range=Q47:T52)"
   ]
  },
  {
   "cell_type": "code",
   "execution_count": 7,
   "metadata": {
    "ExecuteTime": {
     "end_time": "2019-04-12T16:23:42.942263Z",
     "start_time": "2019-04-12T16:23:42.938865Z"
    }
   },
   "outputs": [],
   "source": [
    "def f1_set(clusters, **kwargs):\n",
    "    tp = kwargs['mod_pth'] + '/output/' + kwargs['test_path'] \\\n",
    "        + '/GCB_LG-E-noQuotes_cALWEd_no-gen'\n",
    "    results = []\n",
    "    for mwc in [31,21,11,6,2,1]:\n",
    "        kwargs['test_path'] = tp\n",
    "        if mwc > 1: kwargs['test_path'] += '_mwc=' + str(mwc)\n",
    "        kwargs['test_path'] += '/GC_LGEnglish_noQuotes_fullyParsed.ull.ull'\n",
    "        precision, recall, f1, r_ = _compare_lg_dicts_(**kwargs)\n",
    "        if 'error' in r_: print(r_)\n",
    "        results.append((clusters, mwc, round(f1,2)))\n",
    "    return(results)"
   ]
  },
  {
   "cell_type": "code",
   "execution_count": 8,
   "metadata": {
    "ExecuteTime": {
     "end_time": "2019-04-12T16:25:01.184167Z",
     "start_time": "2019-04-12T16:23:42.943593Z"
    }
   },
   "outputs": [],
   "source": [
    "tests = []\n",
    "kwargs['test_path'] = 'cALEd-50-GCB-LG-E-noQuotes-2019-04-04'\n",
    "tests.extend(f1_set(50, **kwargs))\n",
    "kwargs['test_path'] = 'cALEd-500-GCB-LG-E-noQuotes-S94-2019-04-02'\n",
    "tests.extend(f1_set(500, **kwargs))\n",
    "kwargs['test_path'] = 'cALEd-1000-GCB-LG-E-noQuotes-2019-04-03'\n",
    "tests.extend(f1_set(1000, **kwargs))\n",
    "kwargs['test_path'] = 'cALEd-2000-GCB-LG-E-noQuotes-2019-04-03'\n",
    "tests.extend(f1_set(2000, **kwargs))\n",
    "tests.extend(ile)"
   ]
  },
  {
   "cell_type": "markdown",
   "metadata": {},
   "source": [
    "## Save results"
   ]
  },
  {
   "cell_type": "code",
   "execution_count": 9,
   "metadata": {
    "ExecuteTime": {
     "end_time": "2019-04-12T16:25:01.244799Z",
     "start_time": "2019-04-12T16:25:01.185599Z"
    }
   },
   "outputs": [
    {
     "name": "stdout",
     "output_type": "stream",
     "text": [
      "MWC\tALE50\tALE500\tALE1000\tALE2000\t ILE \n",
      "31\t0.57\t0.66\t0.65\t0.65\t0.59\n",
      "21\t0.59\t0.68\t0.68\t0.67\t0.62\n",
      "11\t0.6\t0.71\t0.71\t0.7\t0.66\n",
      "6\t0.6\t0.73\t0.72\t0.72\t0.69\n",
      "2\t0.61\t0.74\t0.73\t0.72\terr\n",
      "1\t0.62\t0.74\t0.73\t0.72\t0.71\n"
     ]
    }
   ],
   "source": [
    "table = [['MWC', 'ALE50', 'ALE500', 'ALE1000', 'ALE2000', ' ILE ']]\n",
    "for mwc in [31,21,11,6,2,1]:\n",
    "    table.append([str(mwc)] + [str(t[2]) for t in tests if t[1]==mwc])\n",
    "print(list2file(table, out_dir + '/Alternative_F1_lines_47-52.txt'))"
   ]
  }
 ],
 "metadata": {
  "kernelspec": {
   "display_name": "Python [conda env:ull]",
   "language": "python",
   "name": "conda-env-ull-py"
  },
  "language_info": {
   "codemirror_mode": {
    "name": "ipython",
    "version": 3
   },
   "file_extension": ".py",
   "mimetype": "text/x-python",
   "name": "python",
   "nbconvert_exporter": "python",
   "pygments_lexer": "ipython3",
   "version": "3.6.6"
  },
  "toc": {
   "base_numbering": 1,
   "nav_menu": {},
   "number_sections": true,
   "sideBar": true,
   "skip_h1_title": true,
   "title_cell": "Table of Contents",
   "title_sidebar": "Contents",
   "toc_cell": true,
   "toc_position": {
    "height": "calc(100% - 180px)",
    "left": "10px",
    "top": "150px",
    "width": "250.333px"
   },
   "toc_section_display": true,
   "toc_window_display": true
  }
 },
 "nbformat": 4,
 "nbformat_minor": 2
}
