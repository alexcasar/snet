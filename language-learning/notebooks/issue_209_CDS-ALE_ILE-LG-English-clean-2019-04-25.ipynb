{
 "cells": [
  {
   "cell_type": "markdown",
   "metadata": {},
   "source": [
    "# Issue 209 ALE \"CDS LG-E-clean\" `2019-04-24` 400 clusters MWC=1\n",
    "\n",
    "[Issue 209](https://github.com/singnet/language-learning/issues/209) GL exception 'list index out of range'\n",
    "\n",
    "**\"Child Directed Speech\" corpus, \"LG-E-clean\" dataset,  \n",
    "trash filter off: `min_word_count = 1`, `max_sentence_length` off, Link Grammar 5.5.1**.  \n",
    "_Server 94, fresh clone of singnet repository `2019-04-03`, fresh `ull` environment ~ 2018-03-18_"
   ]
  },
  {
   "cell_type": "markdown",
   "metadata": {},
   "source": [
    "## Basic settings"
   ]
  },
  {
   "cell_type": "code",
   "execution_count": 1,
   "metadata": {
    "ExecuteTime": {
     "end_time": "2019-04-25T15:11:28.187843Z",
     "start_time": "2019-04-25T15:11:27.453586Z"
    }
   },
   "outputs": [
    {
     "name": "stdout",
     "output_type": "stream",
     "text": [
      "2019-04-25 15:11:28 UTC :: module_path: /home/obaskov/94/ULL\n"
     ]
    }
   ],
   "source": [
    "import os, sys, time\n",
    "module_path = os.path.abspath(os.path.join('..'))\n",
    "if module_path not in sys.path: sys.path.append(module_path)\n",
    "from src.grammar_learner.utl import UTC, test_stats\n",
    "from src.grammar_learner.read_files import check_dir, check_corpus\n",
    "from src.grammar_learner.write_files import list2file\n",
    "from src.grammar_learner.widgets import html_table\n",
    "from src.grammar_learner.pqa_table import table_rows, params, wide_rows\n",
    "tmpath = module_path + '/tmp/'\n",
    "check_dir(tmpath, True, 'none')\n",
    "start = time.time()\n",
    "runs = (1,1)\n",
    "print(UTC(), ':: module_path:', module_path)"
   ]
  },
  {
   "cell_type": "markdown",
   "metadata": {},
   "source": [
    "## Corpus test settings"
   ]
  },
  {
   "cell_type": "code",
   "execution_count": 2,
   "metadata": {
    "ExecuteTime": {
     "end_time": "2019-04-25T15:11:28.195555Z",
     "start_time": "2019-04-25T15:11:28.189354Z"
    }
   },
   "outputs": [
    {
     "name": "stdout",
     "output_type": "stream",
     "text": [
      "2019-04-25 15:11:28 UTC \n",
      " /home/obaskov/94/ULL/output/_issue_209_CDS-ALE-ILE-2019-04-25_\n"
     ]
    }
   ],
   "source": [
    "corpus = 'CDS' # 'Child Directed Speech' \n",
    "dataset = 'LG-E-clean'\n",
    "kwargs = {\n",
    "    'max_sentence_length':  99      ,\n",
    "    'max_unparsed_words' :  10      ,\n",
    "    'left_wall'     :   ''          ,\n",
    "    'period'        :   False       ,\n",
    "    'context'       :   1           ,   # 1: connector-based word space\n",
    "    'min_word_count':   1           ,   # 31,21,11,6,1\n",
    "    'word_space'    :   'sparse'    ,\n",
    "    'clustering'    :   ['agglomerative', 'ward'],\n",
    "    'clustering_metric' : ['silhouette', 'cosine'],\n",
    "    'cluster_range' :   [400]       ,\n",
    "    'top_level'     :   0.01        ,\n",
    "    'grammar_rules' :   2           ,   # disjunct-based grammar rules\n",
    "    'max_disjuncts' :   1000000     ,   # off\n",
    "    'stop_words'    :   []          ,\n",
    "    'tmpath'        :   tmpath      ,\n",
    "    'verbose'       :   '+'      ,\n",
    "    'template_path' :   'poc-turtle',\n",
    "    'linkage_limit' :   1000        }\n",
    "rp = module_path + '/data/CDS/LG-E-clean'\n",
    "cp = rp  # corpus path = reference_path\n",
    "out_dir = module_path + '/output/' + '_issue_209_CDS-ALE-ILE-' + str(UTC())[:10] +'_'\n",
    "print(UTC(), '\\n', out_dir)"
   ]
  },
  {
   "cell_type": "markdown",
   "metadata": {},
   "source": [
    "# Check IndexError"
   ]
  },
  {
   "cell_type": "code",
   "execution_count": 3,
   "metadata": {
    "ExecuteTime": {
     "end_time": "2019-04-25T15:11:35.397853Z",
     "start_time": "2019-04-25T15:11:28.196839Z"
    }
   },
   "outputs": [],
   "source": [
    "%%capture\n",
    "table = []\n",
    "line = [['', corpus, dataset, 0, 0, 'none']]\n",
    "kwargs['min_word_count'] = 1 # 31\n",
    "a, _, header, log, rules = wide_rows(line, out_dir, cp, rp, runs, **kwargs)\n",
    "header[0] = ''\n",
    "table.extend(a)"
   ]
  },
  {
   "cell_type": "code",
   "execution_count": 4,
   "metadata": {
    "ExecuteTime": {
     "end_time": "2019-04-25T15:11:35.410621Z",
     "start_time": "2019-04-25T15:11:35.401548Z"
    }
   },
   "outputs": [
    {
     "data": {
      "text/html": [
       "<table><tr><td></td><td>Corpus</td><td>Parsing</td><td>Space</td><td>Linkage</td><td>Affinity</td><td>G12n</td><td>Threshold</td><td>Rules</td><td>MWC</td><td>NN</td><td>SI</td><td>PA</td><td>PQ</td><td>F1</td><td>Top 5 cluster sizes</td></tr><tr><td></td><td>CDS</td><td>LG-E-clean</td><td>cALWEd</td><td>ward</td><td>euclidean</td><td>none</td><td>---</td><td>301</td><td>1</td><td>---</td><td>0.0</td><td>100%</td><td>99%</td><td>0.99</td><td>[1, 0]</td></tr></table>"
      ],
      "text/plain": [
       "<IPython.core.display.HTML object>"
      ]
     },
     "metadata": {},
     "output_type": "display_data"
    },
    {
     "name": "stdout",
     "output_type": "stream",
     "text": [
      "Cleaned dictionary: 301 words, grammar learn time: 00:00:05, grammar test time: 00:00:01\n"
     ]
    }
   ],
   "source": [
    "display(html_table([header] + a)); print(test_stats(log))"
   ]
  }
 ],
 "metadata": {
  "anaconda-cloud": {},
  "kernelspec": {
   "display_name": "Python [default]",
   "language": "python",
   "name": "python3"
  },
  "language_info": {
   "codemirror_mode": {
    "name": "ipython",
    "version": 3
   },
   "file_extension": ".py",
   "mimetype": "text/x-python",
   "name": "python",
   "nbconvert_exporter": "python",
   "pygments_lexer": "ipython3",
   "version": "3.6.6"
  },
  "toc": {
   "base_numbering": 1,
   "nav_menu": {},
   "number_sections": true,
   "sideBar": true,
   "skip_h1_title": false,
   "title_cell": "Table of Contents",
   "title_sidebar": "Contents",
   "toc_cell": false,
   "toc_position": {},
   "toc_section_display": true,
   "toc_window_display": false
  }
 },
 "nbformat": 4,
 "nbformat_minor": 2
}
