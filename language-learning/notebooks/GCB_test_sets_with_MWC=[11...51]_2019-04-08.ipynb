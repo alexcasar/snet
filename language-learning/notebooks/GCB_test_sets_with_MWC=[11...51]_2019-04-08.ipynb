{
 "cells": [
  {
   "cell_type": "markdown",
   "metadata": {
    "toc": true
   },
   "source": [
    "<h1>Table of Contents<span class=\"tocSkip\"></span></h1>\n",
    "<div class=\"toc\"><ul class=\"toc-item\"></ul></div>"
   ]
  },
  {
   "cell_type": "markdown",
   "metadata": {},
   "source": [
    "# Test sets\n",
    "Creating tests sets of parses containing only high-frequency words"
   ]
  },
  {
   "cell_type": "code",
   "execution_count": 1,
   "metadata": {
    "ExecuteTime": {
     "end_time": "2019-04-08T10:47:42.838471Z",
     "start_time": "2019-04-08T10:47:42.128273Z"
    }
   },
   "outputs": [],
   "source": [
    "import os, sys, time, itertools, operator, numpy as np\n",
    "from collections import Counter, OrderedDict\n",
    "mod_pth = os.path.abspath(os.path.join('..'))\n",
    "if mod_pth not in sys.path: sys.path.append(mod_pth)\n",
    "from src.grammar_learner.utl import UTC, kwa, _filter_parses_\n",
    "from src.grammar_learner.read_files import check_dir, check_mst_files\n",
    "from src.grammar_learner.write_files import list2file\n",
    "start = time.time()\n",
    "#print(UTC(), ':: mod_pth =', mod_pth)"
   ]
  },
  {
   "cell_type": "code",
   "execution_count": 2,
   "metadata": {
    "ExecuteTime": {
     "end_time": "2019-04-08T10:47:42.846173Z",
     "start_time": "2019-04-08T10:47:42.840135Z"
    }
   },
   "outputs": [
    {
     "name": "stdout",
     "output_type": "stream",
     "text": [
      "/home/obaskov/94/ULL/output/GCB-LG-E-noQuotes-filtered-2019-04-08\n"
     ]
    },
    {
     "data": {
      "text/plain": [
       "['/home/obaskov/94/ULL/data/GCB/LG-E-noQuotes/GC_LGEnglish_noQuotes_fullyParsed.ull']"
      ]
     },
     "execution_count": 2,
     "metadata": {},
     "output_type": "execute_result"
    }
   ],
   "source": [
    "corpus = 'GCB'; dataset = 'LG-E-noQuotes'\n",
    "out_dir = mod_pth + '/output/GCB-LG-E-noQuotes-filtered-' + str(UTC())[:10]\n",
    "if check_dir(out_dir, True): print(out_dir)\n",
    "kwargs = {'input_parses': mod_pth + '/data/' + corpus + '/' + dataset}\n",
    "files, re = check_mst_files(kwargs['input_parses'], 'none'); re['input files']"
   ]
  },
  {
   "cell_type": "code",
   "execution_count": 3,
   "metadata": {
    "ExecuteTime": {
     "end_time": "2019-04-08T10:48:02.141802Z",
     "start_time": "2019-04-08T10:47:42.847378Z"
    }
   },
   "outputs": [
    {
     "name": "stdout",
     "output_type": "stream",
     "text": [
      "34710 filtered sentences /GCB-LG-E-noQuotes-filtered-2019-04-08/GCB-LG-E-noQuotes-MWC=11.ull\n",
      "26231 filtered sentences /GCB-LG-E-noQuotes-filtered-2019-04-08/GCB-LG-E-noQuotes-MWC=21.ull\n",
      "21304 filtered sentences /GCB-LG-E-noQuotes-filtered-2019-04-08/GCB-LG-E-noQuotes-MWC=31.ull\n",
      "18396 filtered sentences /GCB-LG-E-noQuotes-filtered-2019-04-08/GCB-LG-E-noQuotes-MWC=41.ull\n",
      "16019 filtered sentences /GCB-LG-E-noQuotes-filtered-2019-04-08/GCB-LG-E-noQuotes-MWC=51.ull\n",
      "9454 filtered sentences /GCB-LG-E-noQuotes-filtered-2019-04-08/GCB-LG-E-noQuotes-MWC=101.ull\n",
      "1323 filtered sentences /GCB-LG-E-noQuotes-filtered-2019-04-08/GCB-LG-E-noQuotes-MWC=501.ull\n",
      "414 filtered sentences /GCB-LG-E-noQuotes-filtered-2019-04-08/GCB-LG-E-noQuotes-MWC=1001.ull\n"
     ]
    }
   ],
   "source": [
    "for kwargs['min_word_count'] in [11,21,31,41,51,101,501,1001]:\n",
    "    out = '/GCB-LG-E-noQuotes-MWC=' + str(kwargs['min_word_count'])\n",
    "    kwargs['output_filtered_ull'] = out_dir + out + '.ull'\n",
    "    _, re_ = _filter_parses_(**kwargs)\n",
    "    print(re_['filtered_sentences'], 'filtered sentences', re_['filtered_ull_path'][27:])"
   ]
  },
  {
   "cell_type": "code",
   "execution_count": 4,
   "metadata": {
    "ExecuteTime": {
     "end_time": "2019-04-08T10:48:02.147319Z",
     "start_time": "2019-04-08T10:48:02.143301Z"
    }
   },
   "outputs": [
    {
     "data": {
      "text/plain": [
       "OrderedDict([('filter_parses', '2019-04-08 10:48:00 UTC'),\n",
       "             ('input files',\n",
       "              ['/home/obaskov/94/ULL/data/GCB/LG-E-noQuotes/GC_LGEnglish_noQuotes_fullyParsed.ull']),\n",
       "             ('read_files', 1),\n",
       "             ('read_parses_lines', 992976),\n",
       "             ('parsed_sentences', 68825),\n",
       "             ('parsed_links', 68825),\n",
       "             ('words_in_sentences', 26133),\n",
       "             ('removed_word_ids', [0]),\n",
       "             ('filtered_sentences', 414),\n",
       "             ('filtered_parses_lines', 992976),\n",
       "             ('filtered_ull_path',\n",
       "              '/home/obaskov/94/ULL/output/GCB-LG-E-noQuotes-filtered-2019-04-08/GCB-LG-E-noQuotes-MWC=1001.ull')])"
      ]
     },
     "execution_count": 4,
     "metadata": {},
     "output_type": "execute_result"
    }
   ],
   "source": [
    "re_"
   ]
  },
  {
   "cell_type": "code",
   "execution_count": null,
   "metadata": {},
   "outputs": [],
   "source": []
  }
 ],
 "metadata": {
  "kernelspec": {
   "display_name": "Python [conda env:ull]",
   "language": "python",
   "name": "conda-env-ull-py"
  },
  "language_info": {
   "codemirror_mode": {
    "name": "ipython",
    "version": 3
   },
   "file_extension": ".py",
   "mimetype": "text/x-python",
   "name": "python",
   "nbconvert_exporter": "python",
   "pygments_lexer": "ipython3",
   "version": "3.6.6"
  },
  "toc": {
   "base_numbering": 1,
   "nav_menu": {},
   "number_sections": true,
   "sideBar": true,
   "skip_h1_title": true,
   "title_cell": "Table of Contents",
   "title_sidebar": "Contents",
   "toc_cell": true,
   "toc_position": {},
   "toc_section_display": true,
   "toc_window_display": true
  }
 },
 "nbformat": 4,
 "nbformat_minor": 2
}
